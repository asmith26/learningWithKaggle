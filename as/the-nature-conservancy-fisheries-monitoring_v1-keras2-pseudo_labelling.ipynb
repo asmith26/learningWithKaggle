{
 "cells": [
  {
   "cell_type": "code",
   "execution_count": 1,
   "metadata": {
    "collapsed": false,
    "deletable": true,
    "editable": true
   },
   "outputs": [
    {
     "name": "stderr",
     "output_type": "stream",
     "text": [
      "Using TensorFlow backend.\n"
     ]
    },
    {
     "name": "stdout",
     "output_type": "stream",
     "text": [
      "2.0.4\n"
     ]
    }
   ],
   "source": [
    "import os\n",
    "from glob import glob\n",
    "import copy\n",
    "from datetime import datetime\n",
    "import distutils.dir_util\n",
    "from shutil import copyfile\n",
    "import ujson as json\n",
    "import PIL\n",
    "\n",
    "\n",
    "from matplotlib import pyplot as plt\n",
    "%matplotlib inline\n",
    "import bcolz\n",
    "import numpy as np\n",
    "\n",
    "from keras.utils.np_utils import to_categorical as one_hot\n",
    "\n",
    "from keras.layers import Dense, Input, Lambda, BatchNormalization, Conv2D, ZeroPadding2D, MaxPooling2D, AveragePooling2D, Activation, Flatten, Dropout\n",
    "from keras.models import Model\n",
    "from keras.applications.resnet50 import ResNet50, identity_block, conv_block\n",
    "from keras.applications.imagenet_utils import preprocess_input\n",
    "from keras.regularizers import l2\n",
    "\n",
    "from keras.optimizers import Adam\n",
    "from keras import backend as K\n",
    "\n",
    "from keras.callbacks import CSVLogger\n",
    "from keras.preprocessing.image import ImageDataGenerator\n",
    "\n",
    "from keras import __version__\n",
    "print(__version__)"
   ]
  },
  {
   "cell_type": "code",
   "execution_count": 2,
   "metadata": {
    "collapsed": true,
    "deletable": true,
    "editable": true
   },
   "outputs": [],
   "source": [
    "DATA_ROOT_DIR = \"/home/ubuntu/data/the-nature-conservancy-fisheries-monitoring/\"\n",
    "TEST_STG1_DIR = DATA_ROOT_DIR + '/test_stg1/'\n",
    "TEST_STG2_DIR = DATA_ROOT_DIR + '/test_stg2/'\n",
    "RESULTS_DIR = DATA_ROOT_DIR + '/results/'\n",
    "\n",
    "SAMPLE_ROOT_DIR = DATA_ROOT_DIR + \"/sample/\"\n",
    "TRAIN_SAMPLE_DIR = SAMPLE_ROOT_DIR + '/train/'\n",
    "VALID_SAMPLE_DIR = SAMPLE_ROOT_DIR + '/valid/'\n",
    "TRAIN_DIR = DATA_ROOT_DIR + '/train/'\n",
    "VALID_DIR = DATA_ROOT_DIR + '/valid/'"
   ]
  },
  {
   "cell_type": "markdown",
   "metadata": {
    "deletable": true,
    "editable": true
   },
   "source": [
    "# 1. Prepare Data (create validation/sample sets, rearrange images by class dir)"
   ]
  },
  {
   "cell_type": "markdown",
   "metadata": {
    "deletable": true,
    "editable": true
   },
   "source": [
    "See the-nature-conservancy-fisheries-monitoring_v1-keras2.ipynb"
   ]
  },
  {
   "cell_type": "markdown",
   "metadata": {
    "deletable": true,
    "editable": true
   },
   "source": [
    "# 2. Finetune model on full data (not sample as small data)"
   ]
  },
  {
   "cell_type": "code",
   "execution_count": 3,
   "metadata": {
    "collapsed": false,
    "deletable": true,
    "editable": true
   },
   "outputs": [],
   "source": [
    "def fit_generator_helper(model, result_dir_name, batch_size=32, lr=0.1, nb_epoch=1):\n",
    "    K.set_value(model.optimizer.lr, lr)\n",
    "    \n",
    "    now = datetime.now().strftime(\"%Y%m%d_%H%M%S.h5\")\n",
    "    results_dir = RESULTS_DIR + \"/\" + result_dir_name + \"/\"\n",
    "    distutils.dir_util.mkpath(results_dir)\n",
    "    \n",
    "    model.fit_generator(trn_batches,\n",
    "                        samples_per_epoch=trn_batches.nb_sample,\n",
    "                        nb_epoch=nb_epoch,\n",
    "                        validation_data=val_batches,\n",
    "                        nb_val_samples=val_batches.nb_sample,\n",
    "                        callbacks=[CSVLogger(results_dir+\"epoch_results.csv\", separator=',', append=True)])\n",
    "    model.save_weights(results_dir + now )\n",
    "    return model\n",
    "\n",
    "def fit_precomputed_helper(model, result_dir_name, batch_size=32, lr=0.1, nb_epoch=1):  \n",
    "    K.set_value(model.optimizer.lr, lr)\n",
    "    \n",
    "    now = datetime.now().strftime(\"%Y%m%d_%H%M%S.h5\")\n",
    "    results_dir = RESULTS_DIR + \"/\" + result_dir_name + \"/\"\n",
    "    distutils.dir_util.mkpath(results_dir)\n",
    "    \n",
    "    model.fit(trn_conv_features, trn_labels,\n",
    "              batch_size=batch_size, \n",
    "              nb_epoch=nb_epoch,\n",
    "              validation_data=(val_conv_features, val_labels),\n",
    "              shuffle=True, \n",
    "              callbacks=[CSVLogger(results_dir+\"epoch_results.csv\", separator=',', append=True)])\n",
    "    model.save_weights(results_dir + now)\n",
    "    return model\n",
    "\n",
    "def predict_generator_helper(model, batches, batch_size, num_batch_samples):\n",
    "    # Be sure get_batches has used shuffle=False\n",
    "    return model.predict_generator(batches,\n",
    "                                   num_batch_samples // batch_size)\n",
    "                                   #num_batch_samples)\n",
    "\n",
    "def save_array(fname, arr):\n",
    "    c=bcolz.carray(arr, rootdir=fname, mode='w')\n",
    "    c.flush()"
   ]
  },
  {
   "cell_type": "code",
   "execution_count": 4,
   "metadata": {
    "collapsed": false,
    "deletable": true,
    "editable": true
   },
   "outputs": [],
   "source": [
    "# Create base model\n",
    "resnet_base = ResNet50(include_top=False, weights='imagenet')\n",
    "\n",
    "#classifier_input_shape = resnet_base.layers[-1].output_shape[1:] # i.e. shape of conv features (produces (None, None, None, 2048))\n",
    "classifier_input_shape = (1, 1, 2048)\n",
    "classifier_input = Input(shape=classifier_input_shape)"
   ]
  },
  {
   "cell_type": "markdown",
   "metadata": {
    "deletable": true,
    "editable": true
   },
   "source": [
    "### Precompute convolutional output (to save training time)"
   ]
  },
  {
   "cell_type": "markdown",
   "metadata": {
    "deletable": true,
    "editable": true
   },
   "source": [
    "### Run finetuning - classifier_model_v2"
   ]
  },
  {
   "cell_type": "code",
   "execution_count": 5,
   "metadata": {
    "collapsed": false,
    "deletable": true,
    "editable": true
   },
   "outputs": [],
   "source": [
    "def load_array(fname):\n",
    "    return bcolz.open(fname)[:]\n",
    "\n",
    "def load_precomputed_data(features_base_name=\"ResNet50_conv_feats/trn_\"):\n",
    "    filenames = load_array(RESULTS_DIR+\"/\"+features_base_name+'filenames.dat').tolist()\n",
    "    conv_feats = load_array(RESULTS_DIR+\"/\"+features_base_name+'conv_feats.dat')\n",
    "    labels = load_array(RESULTS_DIR+\"/\"+features_base_name+'labels.dat')\n",
    "    return filenames, conv_feats, labels\n",
    "                          \n",
    "trn_filenames, trn_conv_features, trn_labels = load_precomputed_data(\"ResNet50_conv_feats/trn_\")\n",
    "val_filenames, val_conv_features, val_labels = load_precomputed_data(\"ResNet50_conv_feats/val_\")"
   ]
  },
  {
   "cell_type": "code",
   "execution_count": 6,
   "metadata": {
    "collapsed": false,
    "deletable": true,
    "editable": true
   },
   "outputs": [],
   "source": [
    "assert len(trn_filenames) == 3397, \"trn_filenames not as expected\"\n",
    "assert trn_conv_features.shape == (3397, 1, 1, 2048), \"trn_conv_features not as expected\"\n",
    "assert trn_labels.shape == (3397, 8), \"trn_labels not as expected\"\n",
    "\n",
    "assert len(val_filenames) == 380, \"val_filenames not as expected\"\n",
    "assert val_conv_features.shape == (380, 1, 1, 2048), \"val_conv_features not as expected\"\n",
    "assert val_labels.shape == (380, 8), \"val_labels not as expected\""
   ]
  },
  {
   "cell_type": "markdown",
   "metadata": {
    "deletable": true,
    "editable": true
   },
   "source": [
    ">\"Intially overfit befor worrying about reducing it (helping to ensure you have a model complex enough for the orignal data).\""
   ]
  },
  {
   "cell_type": "code",
   "execution_count": 7,
   "metadata": {
    "collapsed": false,
    "deletable": true,
    "editable": true
   },
   "outputs": [],
   "source": [
    "# Create classifier model\n",
    "# (base on `In [23]` https://github.com/asmith26/courses/blob/master/deeplearning1/nbs/lesson7.ipynb)\n",
    "\n",
    "p = 0.6\n",
    "\n",
    "x = Flatten()(classifier_input)\n",
    "x = Dense(512, activation='relu')(x)\n",
    "x = BatchNormalization()(x)\n",
    "x = Dropout(p)(x)\n",
    "x = Dense(512, activation='relu')(x)\n",
    "x = BatchNormalization()(x)\n",
    "x = Dropout(p/2)(x)\n",
    "x = Dense(8, activation='softmax')(x)\n",
    "                                                     \n",
    "classifier_model_v2 = Model(classifier_input, x)\n",
    "\n",
    "classifier_model_v2.compile(Adam(lr=0.01), loss='categorical_crossentropy', metrics=['accuracy'])"
   ]
  },
  {
   "cell_type": "code",
   "execution_count": 59,
   "metadata": {
    "collapsed": false,
    "deletable": true,
    "editable": true
   },
   "outputs": [
    {
     "name": "stdout",
     "output_type": "stream",
     "text": [
      "Train on 3397 samples, validate on 380 samples\n",
      "Epoch 1/4\n",
      " 160/3397 [>.............................] - ETA: 3s - loss: 0.4668 - acc: 0.8875\b\b\b\b\b\b\b\b\b\b\b\b\b\b\b\b\b\b\b\b\b\b\b\b\b\b\b\b\b\b\b\b\b\b\b\b\b\b\b\b\b\b\b\b\b\b\b\b\b\b\b\b\b\b\b\b\b\b\b\b\b\b\b\b\b\b\b\b\b\b\b\b\b\b\b\b\b\b\b\b\b\b\b\b\b\b\b\b\b\b\b\b\b\b\b\b\b\b\b\b\b\b\b\b\b\b\b\b\b\b\b\b\b\b\b\b\b\b\b\b\b\b\b\b\b\b\b\b\b\b\b\b\b\b\b\b\b\b\b\b\b\b\b\b\b\b\b\b\b\b\b\b\b\b\b\b\b\b\b\b\b\b"
     ]
    },
    {
     "name": "stderr",
     "output_type": "stream",
     "text": [
      "/usr/local/lib/python3.4/dist-packages/ipykernel/__main__.py:29: UserWarning:\n",
      "\n",
      "The `nb_epoch` argument in `fit` has been renamed `epochs`.\n",
      "\n"
     ]
    },
    {
     "name": "stdout",
     "output_type": "stream",
     "text": [
      "3397/3397 [==============================] - 3s - loss: 0.3821 - acc: 0.8681 - val_loss: 0.2702 - val_acc: 0.9211\b\b\b\b\b\b\b\b\b\b\b\b\b\b\b\b\b\b\b\b\b\b\b\b\b\b\b\b\b\b\b\b\b\b\b\b\b\b\b\b\b\b\b\b\b\b\b\b\b\b\b\b\b\b\b\b\b\b\b\b\b\b\b\b\b\b\b\b\b\b\b\b\b\b\b\b\b\b\b\b\b\b\b\b\b\b\b\b\b\b\b\b\b\b\b\b\b\b\b\b\b\b\b\b\b\b\b\b\b\b\b\b\b\b\b\b\b\b\b\b\b\b\b\b\b\b\b\b\b\b\b\b\b\b\b\b\b\b\b\b\b\b\b\b\b\b\b\b\b\b\b\b\b\b\b\b\b\b\b\b\b\b\b\b\b\b\b\b\b\b\b\b\b\b\b\b\b\b\b\b\b\b\b\b\b\b\b\b\b\b\b\b\b\b\b\b\b\b\b\b\b\b\b\b\b\b\b\b\b\b\b\b\b\b\b\b\b\b\b\b\b\b\b\b\b\b\b\b\b\b\b\b\b\b\b\b\b\b\b\b\b\b\b\b\b\b\b\b\b\b\b\b\b\b\b\b\b\b\b\b\b\b\b\b\b\b\b\b\b\b\b\b\b\b\b\b\b\b\b\b\b\b\b\b\b\b\b\b\b\b\b\b\b\b\b\b\b\b\b\b\b\b\b\b\b\b\b\b\b\b\b\b\b\b\b\b\b\b\b\b\b\b\b\b\b\b\b\b\b\b\b\b\b\b\b\b\b\b\b\b\b\b\b\b\b\b\b\b\b\b\b\b\b\b\b\b\b\b\b\b\b\b\b\b\b\b\b\b\b\b\b\b\b\b\b\b\b\b\b\b\b\b\b\b\b\b\b\b\b\b\b\b\b\b\b\b\b\b\b\b\b\b\b\b\b\b\b\b\b\b\b\b\b\b\b\b\b\b\b\b\b\b\b\b\b\b\b\b\b\b\b\b\b\b\b\b\b\b\b\b\b\b\b\b\b\b\b\b\b\b\b\b\b\b\b\b\b\b\b\b\b\b\b\b\b\b\b\b\b\b\b\b\b\b\b\b\b\b\b\b\b\b\b\b\b\b\b\b\b\b\b\b\b\b\b\b\b\b\b\b\b\b\b\b\b\b\b\b\b\b\b\b\b\b\b\b\b\b\b\b\b\b\b\b\b\b\b\b\b\b\b\b\b\b\b\b\b\b\b\b\b\b\b\b\b\b\b\b\b\b\b\b\b\b\b\b\b\b\b\b\b\b\b\b\b\b\b\b\b\b\b\b\b\b\b\b\b\b\b\b\b\b\b\b\b\b\b\b\b\b\b\b\b\b\b\b\b\b\b\b\b\b\b\b\b\b\b\b\b\b\b\b\b\b\b\b\b\b\b\b\b\b\b\b\b\b\b\b\b\b\b\b\b\b\b\b\b\b\b\b\b\b\b\b\b\b\b\b\b\b\b\b\b\b\b\b\b\b\b\b\b\b\b\b\b\b\b\b\b\b\b\b\b\b\b\b\b\b\b\b\b\b\b\b\b\b\b\b\b\b\b\b\b\b\b\b\b\b\b\b\b\b\b\b\b\b\b\b\b\b\b\b\b\b\b\b\b\b\b\b\b\b\b\b\b\b\b\b\b\b\b\b\b\b\b\b\b\b\b\b\b\b\b\b\b\b\b\b\b\b\b\b\b\b\b\b\b\b\b\b\b\b\b\b\b\b\b\b\b\b\b\b\b\b\b\b\b\b\b\b\b\b\b\b\b\b\b\b\b\b\b\b\b\b\b\b\b\b\b\b\b\b\b\b\b\b\b\b\b\b\b\b\b\b\b\b\b\b\b\b\b\b\b\b\b\b\b\b\b\b\b\b\b\b\b\b\b\b\b\b\b\b\b\b\b\b\b\b\b\b\b\b\b\b\b\b\b\b\b\b\b\b\b\b\b\b\b\b\b\b\b\b\b\b\b\b\b\b\b\b\b\b\b\b\b\b\b\b\b\b\b\b\b\b\b\b\b\b\b\b\b\b\b\b\b\b\b\b\b\b\b\b\b\b\b\b\b\b\b\b\b\b\b\b\b\b\b\b\b\b\b\b\b\b\b\b\b\b\b\b\b\b\b\b\b\b\b\b\b\b\b\b\b\b\b\b\b\b\b\b\b\b\b\b\b\b\b\b\b\b\b\b\b\b\b\b\b\b\b\b\b\b\b\b\b\b\b\b\b\b\b\b\b\b\b\b\b\b\b\b\b\b\b\b\b\b\b\b\b\b\b\b\b\b\b\b\b\b\b\b\b\b\b\b\b\b\b\b\b\b\b\b\b\b\b\b\b\b\b\b\b\b\b\b\b\b\b\b\b\b\b\b\b\b\b\b\b\b\b\b\b\b\b\b\b\b\b\b\b\b\b\b\b\b\b\b\b\b\b\b\b\b\b\b\b\b\b\b\b\b\b\b\b\b\b\b\b\b\b\b\b\b\b\b\b\b\b\b\b\b\b\b\b\b\b\b\b\b\b\b\b\b\b\b\b\b\b\b\b\b\b\b\b\b\b\b\b\b\b\b\b\b\b\b\b\b\b\b\b\b\b\b\b\b\b\b\b\b\b\b\b\b\b\b\b\b\b\b\b\b\b\b\b\b\b\b\b\b\b\b\b\b\b\b\b\b\b\b\b\b\b\b\b\b\b\b\b\b\b\b\b\b\b\b\b\b\b\b\b\b\b\b\b\b\b\b\b\b\b\b\b\b\b\b\b\b\b\b\b\b\b\b\b\b\b\b\b\b\b\b\b\b\b\b\b\b\b\b\b\b\b\b\b\b\b\b\b\b\b\b\b\b\b\b\b\b\b\b\b\b\b\b\b\b\b\b\b\b\b\b\b\b\b\b\b\b\b\b\b\b\b\b\b\b\b\b\b\b\b\b\b\b\b\b\b\b\b\b\b\b\b\b\b\b\b\b\b\b\b\b\b\b\b\b\b\b\b\b\b\b\b\b\b\b\b\b\b\b\b\b\b\b\b\b\b\b\b\b\b\b\b\b\b\b\b\b\b\b\b\b\b\b\b\b\b\b\b\b\b\b\b\b\b\b\b\b\b\b\b\b\b\b\b\b\b\b\b\b\b\b\b\b\b\b\b\b\b\b\b\b\b\b\b\b\b\b\b\b\b\b\b\b\b\b\b\b\b\b\b\b\b\b\b\b\b\b\b\b\b\b\b\b\b\b\b\b\b\b\b\b\b\b\b\b\b\b\b\b\b\b\b\b\b\b\b\b\b\b\b\b\b\b\b\b\b\b\b\b\b\b\b\b\b\b\b\b\b\b\b\b\b\b\b\b\b\b\b\b\b\b\b\b\b\b\b\b\b\b\b\b\b\b\b\b\b\b\b\b\b\b\b\b\b\b\b\b\b\b\b\b\b\b\b\b\b\b\b\b\b\b\b\b\b\b\b\b\b\b\b\b\b\b\b\b\b\b\b\b\b\b\b\b\b\b\b\b\b\b\b\b\b\b\b\b\b\b\b\b\b\b\b\b\b\b\b\b\b\b\b\b\b\b\b\b\b\b\b\b\b\b\b\b\b\b\b\b\b\b\b\b\b\b\b\b\b\b\b\b\b\b\b\b\b\b\b\b\b\b\b\b\b\b\b\b\b\b\b\b\b\b\b\b\b\b\b\b\b\b\b\b\b\b\b\b\b\b\b\b\b\b\b\b\b\b\b\b\b\b\b\b\b\b\b\b\b\b\b\b\b\b\b\b\b\b\b\b\b\b\b\b\b\b\b\b\b\b\b\b\b\b\b\b\b\b\b\b\b\b\b\b\b\b\b\b\b\b\b\b\b\b\b\b\b\b\b\b\b\b\b\b\b\b\b\b\b\b\b\b\b\b\b\b\b\b\b\b\b\b\b\b\b\b\b\b\b\b\b\b\b\b\b\b\b\b\b\b\b\b\b\b\b\b\b\b\b\b\b\b\b\b\b\b\b\b\b\b\b\b\b\b\b\b\b\b\b\b\b\b\b\b\b\b\b\b\b\b\b\b\b\b\b\b\b\b\b\b\b\b\b\b\b\b\b\b\b\b\b\b\b\b\b\b\b\b\b\b\b\b\b\b\b\b\b\b\b\b\b\b\b\b\b\b\b\b\b\b\b\b\b\b\b\b\b\b\b\b\b\b\b\b\b\b\b\b\b\b\b\b\b\b\b\b\b\b\b\b\b\b\b\b\b\b\b\b\b\b\b\b\b\b\b\b\b\b\b\b\b\b\b\b\b\b\b\b\b\b\b\b\b\b\b\b\b\b\b\b\b\b\b\b\b\b\b\b\b\b\b\b\b\b\b\b\b\b\b\b\b\b\b\b\b\b\b\b\b\b\b\b\b\b\b\b\b\b\b\b\b\b\b\b\b\b\b\b\b\b\b\b\b\b\b\b\b\b\b\b\b\b\b\b\b\b\b\b\b\b\b\b\b\b\b\b\b\b\b\b\b\b\b\b\b\b\b\b\b\b\b\b\b\b\b\b\b\b\b\b\b\b\b\b\b\b\b\b\b\b\b\b\b\b\b\b\b\b\b\b\b\b\b\b\b\b\b\b\b\b\b\b\b\b\b\b\b\b\b\b\b\b\b\b\b\b\b\b\b\b\b\b\b\b\b\b\b\b\b\b\b\b\b\b\b\b\b\b\b\b\b\b\b\b\b\b\b\b\b\b\b\b\b\b\b\b\b\b\b\b\b\b\b\b\b\b\b\b\b\b\b\b\b\b\b\b\b\b\b\b\b\b\b\b\b\b\b\b\b\b\b\b\b\b\b\b\b\b\b\b\b\b\b\b\b\b\b\b\b\b\b\b\b\b\b\b\b\b\b\b\b\b\b\b\b\b\b\b\b\b\b\b\b\b\b\b\b\b\b\b\b\b\b\b\b\b\b\b\b\b\b\b\b\b\b\b\b\b\b\b\b\b\b\b\b\b\b\b\b\b\b\b\b\b\b\b\b\b\b\b\b\b\b\b\b\b\b\b\b\b\b\b\b\b\b\b\b\b\b\b\b\b\b\b\b\b\b\b\b\b\b\b\b\b\b\b\b\b\b\b\b\b\b\b\b\b\b\b\b\b\b\b\b\b\b\b\b\b\b\b\b\b\b\b\b\b\b\b\b\b\b\b\b\b\b\b\b\b\b\b\b\b\b\b\b\b\b\b\b\b\b\b\b\b\b\b\b\b\b\b\b\b\b\b\b\b\b\b\b\b\b\b\b\b\b\b\b\b\b\b\b\b\b\b\b\b\b\b\b\b\b\b\b\b\b\b\b\b\b\b\b\b\b\b\b\b\b\b\b\b\b\b\b\b\b\b\b\b\b\b\b\b\b\b\b\b\b\b\b\b\b\b\b\b\b\b\b\b\b\b\b\b\b\b\b\b\b\b\b\b\b\b\b\b\b\b\b\b\b\b\b\b\b\b\b\b\b\b\b\b\b\b\b\b\b\b\b\b\b\b\b\b\b\b\b\b\b\b\b\b\b\b\b\b\b\b\b\b\b\b\b\b\b\b\b\b\b\b\b\b\b\b\b\b\b\b\b\b\b\b\b\b\b\b\b\b\b\b\b\b\b\b\b\b\b\b\b\b\b\b\b\b\b\b\b\b\b\b\b\b\b\b\b\b\b\b\b\b\b\b\b\b\b\b\b\b\b\b\b\b\b\b\b\b\b\b\b\b\b\b\b\b\b\b\b\b\b\b\b\b\b\b\b\b\b\b\b\b\b\b\b\b\b\b\b\b\b\b\b\b\b\b\b\b\b\b\b\b\b\b\b\b\b\b\b\b\b\b\b\b\b\b\b\b\b\b\b\b\b\b\b\b\b\b\b\b\b\b\b\b\b\b\b\b\b\b\b\b\b\b\b\b\b\b\b\b\b\b\b\b\b\b\b\b\b\b\b\b\b\b\b\b\b\b\b\b\b\b\b\b\b\b\b\b\b\b\b\b\b\b\b\b\b\b\b\b\b\b\b\b\b\b\b\b\b\b\b\b\b\b\b\b\b\b\b\b\b\b\b\b\b\b\b\b\b\b\b\b\b\b\b\b\b\b\b\b\b\b\b\b\b\b\b\b\b\b\b\b\b\b\b\b\b\b\b\b\b\b\b\b\b\b\b\b\b\b\b\b\b\b\b\b\b\b\b\b\b\b\b\b\b\b\b\b\b\b\b\b\b\b\b\b\b\b\b\b\b\b\b\b\b\b\b\b\b\b\b\b\b\b\b\b\b\b\b\b\b\b\b\b\b\b\b\b\b\b\b\b\b\b\b\b\b\b\b\b\b\b\b\b\b\b\b\b\b\b\b\b\b\b\b\b\b\b\b\b\b\b\b\b\b\b\b\b\b\b\b\b\b\b\b\b\b\b\b\b\b\b\b\b\b\b\b\b\b\b\b\b\b\b\b\b\b\b\b\b\b\b\b\b\b\b\b\b\b\b\b\b - ETA: 0s - loss: 0.3876 - acc: 0.8663\b\b\b\b\b\b\b\b\b\b\b\b\b\b\b\b\b\b\b\b\b\b\b\b\b\b\b\b\b\b\b\b\b\b\b\b\b\b\b\b\b\b\b\b\b\b\b\b\b\b\b\b\b\b\b\b\b\b\b\b\b\b\b\b\b\b\b\b\b\b\b\b\b\b\b\b\b\b\b\b\b\b\b\b\b\b\b\b\b\b\b\b\b\b\b\b\b\b\b\b\b\b\b\b\b\b\b\b\b\b\b\b\b\b\b\b\b\b\b\b\b\b\b\b\b\b\b\b\b\b\b\b\b\b\b\b\b\b\b\b\b\b\b\b\b\b\b\b\b\b\b\b\b\b\b\b\b\b\b\b\b\b\b\b\b\b\b\b\b\b\b\b\b\b\b\b\b\b\b\b\b\b\b\b\b\b\b\b\b\b\b\b\b\b\b\b\b\b\b\b\b\b\b\b\b\b\b\b\b\b\b\b\b\b\b\b\b\b\b\b\b\b\b\b\b\b\b\b\b\b\b\b\b\b\b\b\b\b\b\b\b\b\b\b\b\b\b\b\b\b\b\b\b\b\b\b\b\b\b\b\b\b\b\b\b\b\b\b\b\b\b\b\b\b\b\b\b\b\b\b\b\b\b\b\b\b\b\b\b\b\b\b\b\b\b\b\b\b\b\b\b\b\b\b\b\b\b\b\b\b\b\b\b\b\b\b\b\b\b\b\b\b\b\b\b\b\b\b\b\b\b\b\b\b\b\b\b\b\b\b\b\b\b\b\b\b\b\b\b\b\b\b\b\b\b\b\b\b\b\b\b\b\b\b\b\b\b\b\b\b\b\b\b\b\b\b\b\b\b\b\b\b\b\b\b\b\b\b\b\b\b\b\b\b\b\b\b\b\b\b\b\b\b\b\b\b\b\b\b\b\b\b\b\b\b\b\b\b\b\b\b\b\b\b\b\b\b\b\b\b\b\b\b\b\b\b\b\b\b\b\b\b\b\b\b\b\b\b\b\b\b\b\b\b\b\b\b\b\b\b\b\b\b\b\b\b\b\b\b\b\b\b\b\b\b\b\b\b\b\b\b\b\b\b\b\b\b\b\b\b\b\b\b\b\b\b\b\b\b\b\b\b\b\b\b\b\b\b\b\b\b\b\b\b\b\b\b\b\b\b\b\b\b\b\b\b\b\b\b\b\b\b\b\b\b\b\b\b\b\b\b\b\b\b\b\b\b\b\b\b\b\b\b\b\b\b\b\b\b\b\b\b\b\b\b\b\b\b\b\b\b\b\b\b\b\b\b\b\b\b\b\b\b\b\b\b\b\b\b\b\b\b\b\b\b\b\b\b\b\b\b\b\b\b\b\b\b\b\b\b\b\b\b\b\b\b\b\b\b\b\b\b\b\b\b\b\b\b\b\b\b\b\b\b\b\b\b\b\b\b\b\b\b\b\b\b\b\b\b\b\b\b\b\b\b\b\b\b\b\b\b\b\b\b\b\b\b\b\b\b\b\b\b\b\b\b\b\b\b\b\b\b\b\b\b\b\b\b\b\b\b\b\b\b\b\b\b\b\b\b\b\b\b\b\b\b\b\b\b\b\b\b\b\b\b\b\b\b\b\b\b\b\b\b\b\b\b\b\b\b\b\b\b\b\b\b\b\b\b\b\b\b\b\b\b\b\b\b\b\b\b\b\b\b\b\b\b\b\b\b\b\b\b\b\b\b\b\b\b\b\b\b\b\b\b\b\b\b\b\b\b\b\b\b\b\b\b\b\b\b\b\b\b\b\b\b\b\b\b\b\b\b\b\b\b\b\b\b\b\b\b\b\b\b\b\b\b\b\b\b\b\b\b\b\b\b\b\b\b\b\b\b\b\b\b\b\b\b\b\b\b\b\b\b\b\b\b\b\b\b\b\b\b\b\b\b\b\b\b\b\b\b\b\b\b\b\b\b\b\b\b\b\b\b\b\b\b\b\b\b\b\b\b\b\b\b\b\b\b\b\b\b\b\b\b\b\b\b\b\b\b\b\b\b\b\b\b\b\b\b\b\b\b\b\b\b\b\b\b\b\b\b\b\b\b\b\b\b\b\b\b\b\b\b\b\b\b\b\b\b\b\b\b\b\b\b\b\b\b\b\b\b\b\b\b\b\b\b\b\b\b\b\b\b\b\b\b\b\b\b\b\b\b\b\b\b\b\b\b\b\b\b\b\b\b\b\b\b\b\b\b\b\b\b\b\b\b\b\b\b\b\b\b\b\b\b\b\b\b\b\b\b\b\b\b\b\b\b\b\b\b\b\b\b\b\b\b\b\b\b\b\b\b\b\b\b\b\b\b\b\b\b\b\b\b\b\b\b\b\b\b\b\b\b\b\b\b\b\b\b\b\b\b\b\b\b\b\b\b\b\b\b\b\b\b\b\b\b\b\b\b\b\b\b\b\b\b\b\b\b\b\b\b\b\b\b\b\b\b\b\b\b\b\b\b\b\b\b\b\b\b\b\b\b\b\b\b\b\b\b\b\b\b\b\b\b\b\b\b\b\b\b\b\b\n",
      "Epoch 2/4\n",
      "3397/3397 [==============================] - 3s - loss: 0.3610 - acc: 0.8793 - val_loss: 0.2755 - val_acc: 0.9289\b\b\b\b\b\b\b\b\b\b\b\b\b\b\b\b\b\b\b\b\b\b\b\b\b\b\b\b\b\b\b\b\b\b\b\b\b\b\b\b\b\b\b\b\b\b\b\b\b\b\b\b\b\b\b\b\b\b\b\b\b\b\b\b\b\b\b\b\b\b\b\b\b\b\b\b\b\b\b\b\b\b\b\b\b\b\b\b\b\b\b\b\b\b\b\b\b\b\b\b\b\b\b\b\b\b\b\b\b\b\b\b\b\b\b\b\b\b\b\b\b\b\b\b\b\b\b\b\b\b\b\b\b\b\b\b\b\b\b\b\b\b\b\b\b\b\b\b\b\b\b\b\b\b\b\b\b\b\b\b\b\b\b\b\b\b\b\b\b\b\b\b\b\b\b\b\b\b\b\b\b\b\b\b\b\b\b\b\b\b\b\b\b\b\b\b\b\b\b\b\b\b\b\b\b\b\b\b\b\b\b\b\b\b\b\b\b\b\b\b\b\b\b\b\b\b\b\b\b\b\b\b\b\b\b\b\b\b\b\b\b\b\b\b\b\b\b\b\b\b\b\b\b\b\b\b\b\b\b\b\b\b\b\b\b\b\b\b\b\b\b\b\b\b\b\b\b\b\b\b\b\b\b\b\b\b\b\b\b\b\b\b\b\b\b\b\b\b\b\b\b\b\b\b\b\b\b\b\b\b\b\b\b\b\b\b\b\b\b\b\b\b\b\b\b\b\b\b\b\b\b\b\b\b\b\b\b\b\b\b\b\b\b\b\b\b\b\b\b\b\b\b\b\b\b\b\b\b\b\b\b\b\b\b\b\b\b\b\b\b\b\b\b\b\b\b\b\b\b\b\b\b\b\b\b\b\b\b\b\b\b\b\b\b\b\b\b\b\b\b\b\b\b\b\b\b\b\b\b\b\b\b\b\b\b\b\b\b\b\b\b\b\b\b\b\b\b\b\b\b\b\b\b\b\b\b\b\b\b\b\b\b\b\b\b\b\b\b\b\b\b\b\b\b\b\b\b\b\b\b\b\b\b\b\b\b\b\b\b\b\b\b\b\b\b\b\b\b\b\b\b\b\b\b\b\b\b\b\b\b\b\b\b\b\b\b\b\b\b\b\b\b\b\b\b\b\b\b\b\b\b\b\b\b\b\b\b\b\b\b\b\b\b\b\b\b\b\b\b\b\b\b\b\b\b\b\b\b\b\b\b\b\b\b\b\b\b\b\b\b\b\b\b\b\b\b\b\b\b\b\b\b\b\b\b\b\b\b\b\b\b\b\b\b\b\b\b\b\b\b\b\b\b\b\b\b\b\b\b\b\b\b\b\b\b\b\b\b\b\b\b\b\b\b\b\b\b\b\b\b\b\b\b\b\b\b\b\b\b\b\b\b\b\b\b\b\b\b\b\b\b\b\b\b\b\b\b\b\b\b\b\b\b\b\b\b\b\b\b\b\b\b\b\b\b\b\b\b\b\b\b\b\b\b\b\b\b\b\b\b\b\b\b\b\b\b\b\b\b\b\b\b\b\b\b\b\b\b\b\b\b\b\b\b\b\b\b\b\b\b\b\b\b\b\b\b\b\b\b\b\b\b\b\b\b\b\b\b\b\b\b\b\b\b\b\b\b\b\b\b\b\b\b\b\b\b\b\b\b\b\b\b\b\b\b\b\b\b\b\b\b\b\b\b\b\b\b\b\b\b\b\b\b\b\b\b\b\b\b\b\b\b\b\b\b\b\b\b\b\b\b\b\b\b\b\b\b\b\b\b\b\b\b\b\b\b\b\b\b\b\b\b\b\b\b\b\b\b\b\b\b\b\b\b\b\b\b\b\b\b\b\b\b\b\b\b\b\b\b\b\b\b\b\b\b\b\b\b\b\b\b\b\b\b\b\b\b\b\b\b\b\b\b\b\b\b\b\b\b\b\b\b\b\b\b\b\b\b\b\b\b\b\b\b\b\b\b\b\b\b\b\b\b\b\b\b\b\b\b\b\b\b\b\b\b\b\b\b\b\b\b\b\b\b\b\b\b\b\b\b\b\b\b\b\b\b\b\b\b\b\b\b\b\b\b\b\b\b\b\b\b\b\b\b\b\b\b\b\b\b\b\b\b\b\b\b\b\b\b\b\b\b\b\b\b\b\b\b\b\b\b\b\b\b\b\b\b\b\b\b\b\b\b\b\b\b\b\b\b\b\b\b\b\b\b\b\b\b\b\b\b\b\b\b\b\b\b\b\b\b\b\b\b\b\b\b\b\b\b\b\b\b\b\b\b\b\b\b\b\b\b\b\b\b\b\b\b\b\b\b\b\b\b\b\b\b\b\b\b\b\b\b\b\b\b\b\b\b\b\b\b\b\b\b\b\b\b\b\b\b\b\b\b\b\b\b\b\b\b\b\b\b\b\b\b\b\b\b\b\b\b\b\b\b\b\b\b\b\b\b\b\b\b\b\b\b\b\b\b\b\b\b\b\b\b\b\b\b\b\b\b\b\b\b\b\b\b\b\b\b\b\b\b\b\b\b\b\b\b\b\b\b\b\b\b\b\b\b\b\b\b\b\b\b\b\b\b\b\b\b\b\b\b\b\b\b\b\b\b\b\b\b\b\b\b\b\b\b\b\b\b\b\b\b\b\b\b\b\b\b\b\b\b\b\b\b\b\b\b\b\b\b\b\b\b\b\b\b\b\b\b\b\b\b\b\b\b\b\b\b\b\b\b\b\b\b\b\b\b\b\b\b\b\b\b\b\b\b\b\b\b\b\b\b\b\b\b\b\b\b\b\b\b\b\b\b\b\b\b\b\b\b\b\b\b\b\b\b\b\b\b\b\b\b\b\b\b\b\b\b\b\b\b\b\b\b\b\b\b\b\b\b\b\b\b\b\b\b\b\b\b\b\b\b\b\b\b\b\b\b\b\b\b\b\b\b\b\b\b\b\b\b\b\b\b\b\b\b\b\b\b\b\b\b\b\b\b\b\b\b\b\b\b\b\b\b\b\b\b\b\b\b\b\b\b\b\b\b\b\b\b\b\b\b\b\b\b\b\b\b\b\b\b\b\b\b\b\b\b\b\b\b\b\b\b\b\b\b\b\b\b\b\b\b\b\b\b\b\b\b\b\b\b\b\b\b\b\b\b\b\b\b\b\b\b\b\b\b\b\b\b\b\b\b\b\b\b\b\b\b\b\b\b\b\b\b\b\b\b\b\b\b\b\b\b\b\b\b\b\b\b\b\b\b\b\b\b\b\b\b\b\b\b\b\b\b\b\b\b\b\b\b\b\b\b\b\b\b\b\b\b\b\b\b\b\b\b\b\b\b\b\b\b\b\b\b\b\b\b\b\b\b\b\b\b\b\b\b\b\b\b\b\b\b\b\b\b\b\b\b\b\b\b\b\b\b\b\b\b\b\b\b\b\b\b\b\b\b\b\b\b\b\b\b\b\b\b\b\b\b\b\b\b\b\b\b\b\b\b\b\b\b\b\b\b\b\b\b\b\b\b\b\b\b\b\b\b\b\b\b\b\b\b\b\b\b\b\b\b\b\b\b\b\b\b\b\b\b\b\b\b\b\b\b\b\b\b\b\b\b\b\b\b\b\b\b\b\b\b\b\b\b\b\b\b\b\b\b\b\b\b\b\b\b\b\b\b\b\b\b\b\b\b\b\b\b\b\b\b\b\b\b\b\b\b\b\b\b\b\b\b\b\b\b\b\b\b\b\b\b\b\b\b\b\b\b\b\b\b\b\b\b\b\b\b\b\b\b\b\b\b\b\b\b\b\b\b\b\b\b\b\b\b\b\b\b\b\b\b\b\b\b\b\b\b\b\b\b\b\b\b\b\b\b\b\b\b\b\b\b\b\b\b\b\b\b\b\b\b\b\b\b\b\b\b\b\b\b\b\b\b\b\b\b\b\b\b\b\b\b\b\b\b\b\b\b\b\b\b\b\b\b\b\b\b\b\b\b\b\b\b\b\b\b\b\b\b\b\b\b\b\b\b\b\b\b\b\b\b\b\b\b\b\b\b\b\b\b\b\b\b\b\b\b\b\b\b\b\b\b\b\b\b\b\b\b\b\b\b\b\b\b\b\b\b\b\b\b\b\b\b\b\b\b\b\b\b\b\b\b\b\b\b\b\b\b\b\b\b\b\b\b\b\b\b\b\b\b\b\b\b\b\b\b\b\b\b\b\b\b\b\b\b\b\b\b\b\b\b\b\b\b\b\b\b\b\b\b\b\b\b\b\b\b\b\b\b\b\b\b\b\b\b\b\b\b\b\b\b\b\b\b\b\b\b\b\b\b\b\b\b\b\b\b\b\b\b\b\b\b\b\b\b\b\b\b\b\b\b\b\b\b\b\b\b\b\b\b\b\b\b\b\b\b\b\b\b\b\b\b\b\b\b\b\b\b\b\b\b\b\b\b\b\b\b\b\b\b\b\b\b\b\b\b\b\b\b\b\b\b\b\b\b\b\b\b\b\b\b\b\b\b\b\b\b\b\b\b\b\b\b\b\b\b\b\b\b\b\b\b\b\b\b\b\b\b\b\b\b\b\b\b\b\b\b\b\b\b\b\b\b\b\b\b\b\b\b\b\b\b\b\b\b\b\b\b\b\b\b\b\b\b\b\b\b\b\b\b\b\b\b\b\b\b\b\b\b\b\b\b\b\b\b\b\b\b\b\b\b\b\b\b\b\b\b\b\b\b\b\b\b\b\b\b\b\b\b\b\b\b\b\b\b\b\b\b\b\b\b\b\b\b\b\b\b\b\b\b\b\b\b\b\b\b\b\b\b\b\b\b\b\b\b\b\b\b\b\b\b\b\b\b\b\b\b\b\b\b\b\b\b\b\b\b\b\b\b\b\b\b\b\b\b\b\b\b\b\b\b\b\b\b\b\b\b\b\b\b\b\b\b\b\b\b\b\b\b\b\b\b\b\b\b\b\b\b\b\b\b\b\b\b\b\b\b\b\b\b\b\b\b\b\b\b\b\b\b\b\b\b\b\b\b\b\b\b\b\b\b\b\b\b\b\b\b\b\b\b\b\b\b\b\b\b\b\b\b\b\b\b\b\b\b\b\b\b\b\b\b\b\b\b\b\b\b\b\b\b\b\b\b\b\b\b\b\b\b\b\b\b\b\b\b\b\b\b\b\b\b\b\b\b\b\b\b\b\b\b\b\b\b\b\b\b\b\b\b\b\b\b\b\b\b\b\b\b\b\b\b\b\b\b\b\b\b\b\b\b\b\b\b\b\b\b\b\b\b\b\b\b\b\b\b\b\b\b\b\b\b\b\b\b\b\b\b\b\b\b\b\b\b\b\b\b\b\b\b\b\b\b\b\b\b\b\b\b\b\b\b\b\b\b\b\b\b\b\b\b\b\b\b\b\b\b\b\b\b\b\b\b\b\b\b\b\b\b\b\b\b\b\b\b\b\b\b\b\b\b\b\b\b\b\b\b\b\b\b\b\b\b\b\b\b\b\b\b\b\b\b\b\b\b\b\b\b\b\b\b\b\b\b\b\b\b\b\b\b\b\b\b\b\b\b\b\b\b\b\b\b\b\b\b\b\b\b\b\b\b\b\b\b\b\b\b\b\b\b\b\b\b\b\b\b\b\b\b\b\b\b\b\b\b\b\b\b\b\b\b\b\b\b\b\b\b\b\b\b\b\b\b\b\b\b\b\b\b\b\b\b\b\b\b\b\b\b\b\b\b\b\b\b\b\b\b\b\b\b\b\b\b\b\b\b\b\b\b\b\b\b\b\b\b\b\b\b\b\b\b\b\b\b\b\b\b\b\b\b\b\b\b\b\b\b\b\b\b\b\b\b\b\b\b\b\b\b\b\b\b\b\b\b\b\b\b\b\b\b\b\b\b\b\b\b\b\b\b\b\b\b\b\b\b\b\b\b\b\b\b\b\b\b\b\b\b\b\b\b\b\b\b\b\b\b\b\b\b\b\b\b\b\b\b\b\b\b\b\b\b\b\b\b\b\b\b\b\b\b\b\b\b\b\b\b\b\b\b\b\b\b\b\b\b\b\b\b\b\b\b\b\b\b\b\b\b\b\b\b\b\b\b\b\b\b\b\b\b\b\b\b\b\b\b\b\b\b\b\b\b\b\b\b\b\b\b\b\b\b\b\b\b\b\b\b\b\b\b\b\b\b\b\b\b\b\b\b\b\b\b\b\b\b\b\b\b\b\b\b\b\b\b\b\b\b\b\b\b\b\b\b\b\b\b\b\b\b\b\b\b\b\b\b\b\b\b\b\b\b\b\b\b\b\b\b\b\b\b\b\b\b\b\b\b\b\b\b\b\b\b\b\b\b\b\b\b\b\b\b\b\b\b\b\b\b\b\b\b\b\b\b\b\b\b\b\b\b\b\b\b\b\b\b\b\b\b\b\b\b\b\b\b\b\b\b\b\b\b\b\b\b\b\b\b\b\b\b\b\b\b\b\b\b\b\b\b\b\b\b\b\b\b\b\b\b\b\b\b\b\b\b\b\b\b\b\b\b\b\b\b\b\b\b\b\b\b\b\b\b\b\b\b\b\b\b\b\b\b\b\b\b\b\b\b\b\b\b\b\b\b\b\b\b\b\b\b\b\b\b\b\b\b\b\b\b\b\b\b\b\b\b\b\b\b\b\b\b\b\b\b\b\b\b\b\b\b\b\b\b\b\b\b\b\b\b\b\b\b\b\b\b\b\b\b\b\b\b\b\b\b\b\b\b\b\b\b\b\b\b\b\b\b\b\b\b\b\b\b\b\b\b\b\b\b\b\b\b\b\b\b\b\b\b\b\b\b\b\b\b\b\b\b\b\b\b\b\b\b\b\b\b\b\b\b\b\b\b\b\b\b\b\b\b\b\b\b\b\b\b\b\b\b\b\b\b\b\b\b\b\b\b\b\b\b\b\b\b\b\b\b\b\b\b\b\b\b\b\b\b\b\b\b\b\b\b\b\b\b\b\b\b\b\b\b\b\b\b\b\b\b\b\b\b\b\b\b\b\b\b\b\b\b\b\b\b\b\b\b\b\b\b\b\b\b\b\b\b\b\b\b\b\b\b\b\b\b\b\b\b\b\b\b\b\b\b\b\b\b\b\b\b\b\b\b\b\b\b\b\b\b\b\b\b\b\b\b\b\b\b\b\b\b\b\b\b\b\b\b\b\b\b\b\b\b\b\b\b\b\b\b\b\b\b\b\b\b\b\b\b\b\b\b\b\b\b\b\b\b\b\b\b\b\b\b\b\b\b\b\b\b\b\b\b\b\b\b\b\b\b\b\b\b\b\b\b\b\b\b\b\b\b\b\b\b\b\b\b\b\b\b\b\b\b\b\b\b\b\b\b\b\b\b\b\b\b\b\b\b\b\b\b\b\b\b\b\b\b\b\b\b\b\b\b\b\b\b\b\b\b\b\b\b\b\b\b\b\b\b\b\b\b\b\b\b\b\b\b\b\b\b\b\b\b\b\b\b\b\b\b\b\b\b\b\b\b\b\b\b\b\b\b\b\b\b\b\b\b\b\b\b\b\b\b\b\b\b\b\b\b\b\b\b\b\b\b\b\b\b\b\b\b\b\b\b\b\b\b\b\b\b\b\b\b\b\b\b\b\b\b\b\b\b\b\b\b\b\b\b\b\b\b\b\b\b\b\b\b\b\b\b\b\b\b\b\b\b\b\b\b\b\b\b\b\b\b\b\b\b\b\b\b\b\b\b\b\b\b\b\b\b\b\b\b\b\b\b\b\b\b\b\b\b\b\b\b\b\b\b\b\b\b\b\b\b\b\b\b\b\b\b\b\b\b\b\b\b\b\b\b\b\b\b\b\b\b\b\b\b\b\b\b\b\b\b\b\b\b\b\b\b\b\b\b\b\b\b\b\b\b\b\b\b\b\b\b\b\b\b\b\b\b\b\b\b\b\b\b\b\b\b\b\b\b\b\b\b\b\b\b\b\b\b\b\b\b\b\b\b\b\b\b\b\b\b\b\b\b\b\b\b\b\b\b\b\b\b\b\b\b\b\b\b\b\b\b\b\b\b\b\b\b\b\b\b\b\b\b\b\b\b\b\b\b\b\b\b\b\b\b\b\b\b\b\b\b\b\b\b\b\b\b\b\b\b\b\b\b\b\b\b\b\b\b\b\b\b\b\b\b\b\b\b\b\b\b\b\b\b\b\b\b\b\b\b\b\b\b\b\b\b\b\b\b\b\b\b\b\b\b\b\b\b\b\b\b\b\b\b\b\b\b\b\b\b\b\b\b\b\b\b\b\b\b\b\b\b\b\b\b\b\b\b\b\b\b\b\b\b\b\b\b\b\b\b\b\b\b\b\b\b\b\b\b\b\b\b\b\b\b\b\b\b\b\b\b\b\b\b\b\b\b\b\b\b\b\b\b\b\b\b\b\b\b\b\b\b\b\b\b\b\b\b\b\b\b\b\b\b\b\b\b\b\b\b\b\b\b\b\b\b\b\b\b\b\b\b\b\b\b\b\b\b\b\b\b\b\b\b\b\b\b\b\b\b\b\b\b\b\b\b\b\b\b\b\b\b\b\b\b\b\b\b\b\b\b\b\b\b\b\b\b\b\b\b\b\b\b\b\b\b\b\b\b\b\b\b\b\b\b\b\b\b\b\b\b\b\b\b\b\b\b\b\b\b\b\b\b\b\b\b\b\b\b\b\b\b\b\b\b\b\b\b\b\b\b\b\b\b\b\b\b\b\b\b\b\b\b\b\b\b\b\b\b\b\b\b\b\b\b\b\b\b\b\b\b\b\b\b\b\b\b\b\b\b\b\b\b\b\b\b\b\b\b\b\b\b\b\b\b\b\b\b\b\b\b\b\b\b\b\b\b\b\b\b\b\b\b\b\b\b\b\b\b\b\b\b\b\b\b\b\b\b\b\b\b\b\b\b\b\b\b\b\b\b\b\b\b\b\b\b\b\b\b\b\b\b\b\b\b\b\b\b\b\b\b\b\b\b\b\b\b\b\b\b\b\b\b\b\b\b\b\b\b\b\b\b\b\b\b\b\b\b\b\b\b\b\b\b\b\b\b\b\b\b\b\b\b\b\b\b\b\b\b\b\b\b\b\b\b\b\b\b\b\b\b\b\b\b\b\b\b\b\b\b\b\b\b\b\b\b\b\b\b\b\b\b\b\b\b\b\b\b\b\b\b\b\b\b\b\b\b\b\b\b\b\b\b\b\b\b\b\b\b\b\b\b\b\b\b\b\b\b\b\b\b\b\b\b\b\b\b\b\b\b\b\b\b\b\b\b\b\b\b\b\b\b\b\b\b\b\b\b\b\b\b\b\b\b\b\b\b\b\b\b\b\b\b\b\b\b\b\b\b\b\b\b\b\b\b\b\b\b\b\b\b\b\b\b\b\b\b\b\b\b\b\b\b\b\b\b\b\b\b\b\b\b\b\b\b\b\b\b\b\b\b\b\b\b\b\b\b\b\b\b\b\b\b\b\b\b\b\b\b\b\b\b\b\b\b\b\b\b\b\b\b\b\b\b\b\b\b\b\b\b\b\b\b\b\b\b\b\b\b\n",
      "Epoch 3/4\n",
      "3397/3397 [==============================] - 3s - loss: 0.3638 - acc: 0.8717 - val_loss: 0.2590 - val_acc: 0.9263\b\b\b\b\b\b\b\b\b\b\b\b\b\b\b\b\b\b\b\b\b\b\b\b\b\b\b\b\b\b\b\b\b\b\b\b\b\b\b\b\b\b\b\b\b\b\b\b\b\b\b\b\b\b\b\b\b\b\b\b\b\b\b\b\b\b\b\b\b\b\b\b\b\b\b\b\b\b\b\b\b\b\b\b\b\b\b\b\b\b\b\b\b\b\b\b\b\b\b\b\b\b\b\b\b\b\b\b\b\b\b\b\b\b\b\b\b\b\b\b\b\b\b\b\b\b\b\b\b\b\b\b\b\b\b\b\b\b\b\b\b\b\b\b\b\b\b\b\b\b\b\b\b\b\b\b\b\b\b\b\b\b\b\b\b\b\b\b\b\b\b\b\b\b\b\b\b\b\b\b\b\b\b\b\b\b\b\b\b\b\b\b\b\b\b\b\b\b\b\b\b\b\b\b\b\b\b\b\b\b\b\b\b\b\b\b\b\b\b\b\b\b\b\b\b\b\b\b\b\b\b\b\b\b\b\b\b\b\b\b\b\b\b\b\b\b\b\b\b\b\b\b\b\b\b\b\b\b\b\b\b\b\b\b\b\b\b\b\b\b\b\b\b\b\b\b\b\b\b\b\b\b\b\b\b\b\b\b\b\b\b\b\b\b\b\b\b\b\b\b\b\b\b\b\b\b\b\b\b\b\b\b\b\b\b\b\b\b\b\b\b\b\b\b\b\b\b\b\b\b\b\b\b\b\b\b\b\b\b\b\b\b\b\b\b\b\b\b\b\b\b\b\b\b\b\b\b\b\b\b\b\b\b\b\b\b\b\b\b\b\b\b\b\b\b\b\b\b\b\b\b\b\b\b\b\b\b\b\b\b\b\b\b\b\b\b\b\b\b\b\b\b\b\b\b\b\b\b\b\b\b\b\b\b\b\b\b\b\b\b\b\b\b\b\b\b\b\b\b\b\b\b\b\b\b\b\b\b\b\b\b\b\b\b\b\b\b\b\b\b\b\b\b\b\b\b\b\b\b\b\b\b\b\b\b\b\b\b\b\b\b\b\b\b\b\b\b\b\b\b\b\b\b\b\b\b\b\b\b\b\b\b\b\b\b\b\b\b\b\b\b\b\b\b\b\b\b\b\b\b\b\b\b\b\b\b\b\b\b\b\b\b\b\b\b\b\b\b\b\b\b\b\b\b\b\b\b\b\b\b\b\b\b\b\b\b\b\b\b\b\b\b\b\b\b\b\b\b\b\b\b\b\b\b\b\b\b\b\b\b\b\b\b\b\b\b\b\b\b\b\b\b\b\b\b\b\b\b\b\b\b\b\b\b\b\b\b\b\b\b\b\b\b\b\b\b\b\b\b\b\b\b\b\b\b\b\b\b\b\b\b\b\b\b\b\b\b\b\b\b\b\b\b\b\b\b\b\b\b\b\b\b\b\b\b\b\b\b\b\b\b\b\b\b\b\b\b\b\b\b\b\b\b\b\b\b\b\b\b\b\b\b\b\b\b\b\b\b\b\b\b\b\b\b\b\b\b\b\b\b\b\b\b\b\b\b\b\b\b\b\b\b\b\b\b\b\b\b\b\b\b\b\b\b\b\b\b\b\b\b\b\b\b\b\b\b\b\b\b\b\b\b\b\b\b\b\b\b\b\b\b\b\b\b\b\b\b\b\b\b\b\b\b\b\b\b\b\b\b\b\b\b\b\b\b\b\b\b\b\b\b\b\b\b\b\b\b\b\b\b\b\b\b\b\b\b\b\b\b\b\b\b\b\b\b\b\b\b\b\b\b\b\b\b\b\b\b\b\b\b\b\b\b\b\b\b\b\b\b\b\b\b\b\b\b\b\b\b\b\b\b\b\b\b\b\b\b\b\b\b\b\b\b\b\b\b\b\b\b\b\b\b\b\b\b\b\b\b\b\b\b\b\b\b\b\b\b\b\b\b\b\b\b\b\b\b\b\b\b\b\b\b\b\b\b\b\b\b\b\b\b\b\b\b\b\b\b\b\b\b\b\b\b\b\b\b\b\b\b\b\b\b\b\b\b\b\b\b\b\b\b\b\b\b\b\b\b\b\b\b\b\b\b\b\b\b\b\b\b\b\b\b\b\b\b\b\b\b\b\b\b\b\b\b\b\b\b\b\b\b\b\b\b\b\b\b\b\b\b\b\b\b\b\b\b\b\b\b\b\b\b\b\b\b\b\b\b\b\b\b\b\b\b\b\b\b\b\b\b\b\b\b\b\b\b\b\b\b\b\b\b\b\b\b\b\b\b\b\b\b\b\b\b\b\b\b\b\b\b\b\b\b\b\b\b\b\b\b\b\b\b\b\b\b\b\b\b\b\b\b\b\b\b\b\b\b\b\b\b\b\b\b\b\b\b\b\b\b\b\b\b\b\b\b\b\b\b\b\b\b\b\b\b\b\b\b\b\b\b\b\b\b\b\b\b\b\b\b\b\b\b\b\b\b\b\b\b\b\b\b\b\b\b\b\b\b\b\b\b\b\b\b\b\b\b\b\b\b\b\b\b\b\b\b\b\b\b\b\b\b\b\b\b\b\b\b\b\b\b\b\b\b\b\b\b\b\b\b\b\b\b\b\b\b\b\b\b\b\b\b\b\b\b\b\b\b\b\b\b\b\b\b\b\b\b\b\b\b\b\b\b\b\b\b\b\b\b\b\b\b\b\b\b\b\b\b\b\b\b\b\b\b\b\b\b\b\b\b\b\b\b\b\b\b\b\b\b\b\b\b\b\b\b\b\b\b\b\b\b\b\b\b\b\b\b\b\b\b\b\b\b\b\b\b\b\b\b\b\b\b\b\b\b\b\b\b\b\b\b\b\b\b\b\b\b\b\b\b\b\b\b\b\b\b\b\b\b\b\b\b\b\b\b\b\b\b\b\b\b\b\b\b\b\b\b\b\b\b\b\b\b\b\b\b\b\b\b\b\b\b\b\b\b\b\b\b\b\b\b\b\b\b\b\b\b\b\b\b\b\b\b\b\b\b\b\b\b\b\b\b\b\b\b\b\b\b\b\b\b\b\b\b\b\b\b\b\b\b\b\b\b\b\b\b\b\b\b\b\b\b\b\b\b\b\b\b\b\b\b\b\b\b\b\b\b\b\b\b\b\b\b\b\b\b\b\b\b\b\b\b\b\b\b\b\b\b\b\b\b\b\b\b\b\b\b\b\b\b\b\b\b\b\b\b\b\b\b\b\b\b\b\b\b\b\b\b\b\b\b\b\b\b\b\b\b\b\b\b\b\b\b\b\b\b\b\b\b\b\b\b\b\b\b\b\b\b\b\b\b\b\b\b\b\b\b\b\b\b\b\b\b\b\b\b\b\b\b\b\b\b\b\b\b\b\b\b\b\b\b\b\b\b\b\b\b\b\b\b\b\b\b\b\b\b\b\b\b\b\b\b\b\b\b\b\b\b\b\b\b\b\b\b\b\b\b\b\b\b\b\b\b\b\b\b\b\b\b\b\b\b\b\b\b\b\b\b\b\b\b\b\b\b\b\b\b\b\b\b\b\b\b\b\b\b\b\b\b\b\b\b\b\b\b\b\b\b\b\b\b\b\b\b\b\b\b\b\b\b\b\b\b\b\b\b\b\b\b\b\b\b\b\b\b\b\b\b\b\b\b\b\b\b\b\b\b\b\b\b\b\b\b\b\b\b\b\b\b\b\b\b\b\b\b\b\b\b\b\b\b\b\b\b\b\b\b\b\b\b\b\b\b\b\b\b\b\b\b\b\b\b\b\b\b\b\b\b\b\b\b\b\b\b\b\b\b\b\b\b\b\b\b\b\b\b\b\b\b\b\b\b\b\b\b\b\b\b\b\b\b\b\b\b\b\b\b\b\b\b\b\b\b\b\b\b\b\b\b\b\b\b\b\b\b\b\b\b\b\b\b\b\b\b\b\b\b\b\b\b\b\b\b\b\b\b\b\b\b\b\b\b\b\b\b\b\b\b\b\b\b\b\b\b\b\b\b\b\b\b\b\b\b\b\b\b\b\b\b\b\b\b\b\b\b\b\b\b\b\b\b\b\b\b\b\b\b\b\b\b\b\b\b\b\b\b\b\b\b\b\b\b\b\b\b\b\b\b\b\b\b\b\b\b\b\b\b\b\b\b\b\b\b\b\b\b\b\b\b\b\b\b\b\b\b\b\b\b\b\b\b\b\b\b\b\b\b\b\b\b\b\b\b\b\b\b\b\b\b\b\b\b\b\b\b\b\b\b\b\b\b\b\b\b\b\b\b\b\b\b\b\b\b\b\b\b\b\b\b\b\b\b\b\b\b\b\b\b\b\b\b\b\b\b\b\b\b\b\b\b\b\b\b\b\b\b\b\b\b\b\b\b\b\b\b\b\b\b\b\b\b\b\b\b\b\b\b\b\b\b\b\b\b\b\b\b\b\b\b\b\b\b\b\b\b\b\b\b\b\b\b\b\b\b\b\b\b\b\b\b\b\b\b\b\b\b\b\b\b\b\b\b\b\b\b\b\b\b\b\b\b\b\b\b\b\b\b\b\b\b\b\b\b\b\b\b\b\b\b\b\b\b\b\b\b\b\b\b\b\b\b\b\b\b\b\b\b\b\b\b\b\b\b\b\b\b\b\b\b\b\b\b\b\b\b\b\b\b\b\b\b\b\b\b\b\b\b\b\b\b\b\b\b\b\b\b\b\b\b\b\b\b\b\b\b\b\b\b\b\b\b\b\b\b\b\b\b\b\b\b\b\b\b\b\b\b\b\b\b\b\b\b\b\b\b\b\b\b\b\b\b\b\b\b\b\b\b\b\b\b\b\b\b\b\b\b\b\b\b\b\b\b\b\b\b\b\b\b\b\b\b\b\b\b\b\b\b\b\b\b\b\b\b\b\b\b\b\b\b\b\b\b\b\b\b\b\b\b\b\b\b\b\b\b\b\b\b\b\b\b\b\b\b\b\b\b\b\b\b\b\b\b\b\b\b\b\b\b\b\b\b\b\b\b\b\b\b\b\b\b\b\b\b\b\b\b\b\b\b\b\b\b\b\b\b\b\b\b\b\b\b\b\b\b\b\b\b\b\b\b\b\b\b\b\b\b\b\b\b\b\b\b\b\b\b\b\b\b\b\b\b\b\b\b\b\b\b\b\b\b\b\b\b\b\b\b\b\b\b\b\b\b\b\b\b\b\b\b\b\b\b\b\b\b\b\b\b\b\b\b\b\b\b\b\b\b\b\b\b\b\b\b\b\b\b\b\b\b\b\b\b\b\b\b\b\b\b\b\b\b\b\b\b\b\b\b\b\b\b\b\b\b\b\b\b\b\b\b\b\b\b\b\b\b\b\b\b\b\b\b\b\b\b\b\b\b\b\b\b\b\b\b\b\b\b\b\b\b\b\b\b\b\b\b\b\b\b\b\b\b\b\b\b\b\b\b\b\b\b\b\b\b\b\b\b\b\b\b\b\b\b\b\b\b\b\b\b\b\b\b\b\b\b\b\b\b\b\b\b\b\b\b\b\b\b\b\b\b\b\b\b\b\b\b\b\b\b\b\b\b\b\b\b\b\b\b\b\b\b\b\b\b\b\b\b\b\b\b\b\b\b\b\b\b\b\b\b\b\b\b\b\b\b\b\b\b\b\b\b\b\b\b\b\b\b\b\b\b\b\b\b\b\b\b\b\b\b\b\b\b\b\b\b\b\b\b\b\b\b\b\b\b\b\b\b\b\b\b\b\b\b\b\b\b\b\b\b\b\b\b\b\b\b\b\b\b\b\b\b\b\b\b\b\b\b\b\b\b\b\b\b\b\b\b\b\b\b\b\b\b\b\b\b\b\b\b\b\b\b\b\b\b\b\b\b\b\b\b\b\b\b\b\b\b\b\b\b\b\b\b\b\b\b\b\b\b\b\b\b\b\b\b\b\b\b\b\b\b\b\b\b\b\b\b\b\b\b\b\b\b\b\b\b\b\b\b\b\b\b\b\b\b\b\b\b\b\b\b\b\b\b\b\b\b\b\b\b\b\b\b\b\b\b\b\b\b\b\b\b\b\b\b\b\b\b\b\b\b\b\b\b\b\b\b\b\b\b\b\b\b\b\b\b\b\b\b\b\b\b\b\b\b\b\b\b\b\b\b\b\b\b\b\b\b\b\b\b\b\b\b\b\b\b\b\b\b\b\b\b\b\b\b\b\b\b\b\b\b\b\b\b\b\b\b\b\b\b\b\b\b\b\b\b\b\b\b\b\b\b\b\b\b\b\b\b\b\b\b\b\b\b\b\b\b\b\b\b\b\b\b\b\b\b\b\b\b\b\b\b\b\b\b\b\b\b\b\b\b\b\b\b\b\b\b\b\b\b\b\b\b\b\b\b\b\b\b\b\b\b\b\b\b\b\b\b\b\b\b\b\b\b\b\b\b\b\b\b\b\b\b\b\b\b\b\b\b\b\b\b\b\b\b\b\b\b\b\b\b\b\b\b\b\b\b\b\b\b\b\b\b\b\b\b\b\b\b\b\b\b\b\b\b\b\b\b\b\b\b\b\b\b\b\b\b\b\b\b\b\b\b\b\b\b\b\b\b\b\b\b\b\b\b\b\b\b\b\b\b\b\b\b\b\b\b\b\b\b\b\b\b\b\b\b\b\b\b\b\b\b\b\b\b\b\b\b\b\b\b\b\b\b\b\b\b\b\b\b\b\b\b\b\b\b\b\b\b\b\b\b\b\b\b\b\b\b\b\b\b\b\b\b\b\b\b\b\b\b\b\b\b\b\b\b\b\b\b\b\b\b\b\b\b\b\b\b\b\b\b\b\b\b\b\b\b\b\b\b\b\b\b\b\b\b\b\b\b\b\b\b\b\b\b\b\b\b\b\b\b\b\b\b\b\b\b\b\b\b\b\b\b\b\b\b\b\b\b\b\b\b\b\b\b\b\b\b\b\b\b\b\b\b\b\b\b\b\b\b\b\b\b\b\b\b\b\b\b\b\b\b\b\b\b\b\b\b\b\b\b\b\b\b\b\b\b\b\b\b\b\b\b\b\b\b\b\b\b\b\b\b\b\b\b\b\b\b\b\b\b\b\b\b\b\b\b\b\b\b\b\b\b\b\b\b\b\b\b\b\b\b\b\b\b\b\b\b\b\b\b\b\b\b\b\b\b\b\b\b\b\b\b\b\b\b\b\b\b\b\b\b\b\b\b\b\b\b\b\b\b\b\b\b\b\b\b\b\b\b\b\b\b\b\b\b\b\b\b\b\b\b\b\b\b\b\b\b\b\b\b\b\b\b\b\b\b\b\b\b\b\b\b\b\b\b\b\b\b\b\b\b\b\b\b\b\b\b\b\b\b\b\b\b\b\b\b\b\b\b\b\b\b\b\b\b\b\b\b\b\b\b\b\b\b\b\b\b\b\b\b\b\b\b\b\b\b\b\b\b\b\b\b\b\b\b\b\b\b\b\b\b\b\b\b\b\b\b\b\b\b\b\b\b\b\b\b\b\b\b\b\b\b\b\b\b\b\b\b\b\b\b\b\b\b\b\b\b\b\b\b\b\b\b\b\b\b\b\b\b\b\b\b\b\b\b\b\b\b\b\b\b\b\b\b\b\b\b\b\b\b\b\b\b\b\b\b\b\b\b\b\b\b\b\b\b\b\b\b\b\b\b\b\b\b\b\b\b\b\b\b\b\b\b\b\b\b\b\b\b\b\b\b\b\b\b\b\b\b\b\b\b\b\b\b\b\b\b\b\b\b\b\b\b\b\b\b\b\b\b\b\b\b\b\b\b\b\b\b\b\b\b\b\b\b\b\b\b\b\b\b\b\b\b\b\b\b\b\b\b\b\b\b\b\b\b\b\b\b\b\b\b\b\b\b\b\b\b\b\b\b\b\b\b\b\b\b\b\b\b\b\b\b\b\b\b\b\b\b\b\b\b\b\b\b\b\b\b\b\b\b\b\b\b\b\b\b\b\b\b\b\b\b\b\b\b\b\b\b\b\b\b\b\b\b\b\b\b\b\b\b\b\b\b\b\b\b\b\b\b\b\b\b\b\b\b\b\b\b\b\b\b\b\b\b\b\b\b\b\b\b\b\b\b\b\b\b\b\b\b\b\b\b\b\b\b\b\b\b\b\b\b\b\b\b\b\b\b\b\b\b\b\b\b\b\b\b\b\b\b\b\b\b\b\b\b\b\b\b\b\b\b\b\b\b\b\b\b\b\b\b\b\b\b\b\b\b\b\b\b\b\b\b\b\b\b\b\b\b\b\b\b\b\b\b\b\b\b\b\b\b\b\b\b\b\b\b\b\b\b\b\b\b\b\b\b\b\b\b\b\b\b\b\b\b\b\b\b\b\b\b\b\b\b\b\b\b\b\b\b\b\b\b\b\b\b\b\b\b\b\b\b\b\b\b\b\b\b\b\b\b\b\b\b\b\b\b\b\b\b\b\b\b\b\b\b\b\b\b\b\b\b\b\b\b\b\b\b\b\b\b\b\b\b\b\b\b\b\b\b\b\b\b\b\b\b\b\b\b\b\b\b\b\b\b\b\b\b\b\b\b\b\b\b\b\b\b\b\b\b\b\b\b\b\b\b\b\b\b\b\b\b\b\b\b\b\b\b\b\b\b\b\b\b\b\b\b\b\b\b\b\b\b\b\b\b\b\b\b\b\b\b\b\b\b\b\b\b\b\b\b\b\b\b\b\b\b\b\b\b\b\b\b\b\b\b\b\b\b\b\b\b\b\b\b\b\b\b\b\b\b\b\b\b\b\b\b\b\b\b\b\b\b\b\b\b\b\b\b\b\b\b\b\b\b\b\b\b\b\b\b\b\b\b\b\b\b\b\b\b\b\b\b\b\b\b\b\b\b\b\b\b\b\b\b\b\b\b\b\b\b\b\b\b\b\b\b\b\b\b\b\b\b\b\b\b\b\b\b\b\b\b\b\b\b\b\b\b\b\b\b\b\b\b\b\b\b\b\b\b\b\b\b\b\b\b\b\b\b\b\b\b\b\b\b\b\b\b\b\b\b\b\b\b\b\b\b\b\b\b\b\b\b\b\b\b\b\b\b\b\b\b\b\b\b\b\b\b\b\b\b\b\b\b\b\b\b\b\b\b\b\b\b\b\b\b\b\b\b\b\b\b\b\b\b\b\b\b\b\b\b\b\b\b\b\b\b\b\b\b\b\b\b\b\b\b\b\b\b\b\b\b\b\b\b\b\b\b\b\b\b\b\b\b\b\b\b\b\b\b\b\b\b\b\b\b\b\b\b\b\b\b\b\b\b\b\b\b\b\b\b\b\b\b\b\b\b\b\b\b\b\b\b\b\b\b\b\b\b\b\b\b\b\b\b\b\b\b\b\b\b\b\b\b\b\b\b\b\b\b\b\b\b\b\b\b\b\b\b\b\b\b\b\b\b\b\b\b\b\b\b\b\b\b\b\b\b\b\b\b\b\b\b\b\b\b\b\b\b\b\b\b\b\b\b\b\b\b\b\b\b\b\b\b\b\b\b\b\b\b\b\b\b\b\b\b\b\b\b\b\b\b\b\b\b\b\n",
      "Epoch 4/4\n",
      "3397/3397 [==============================] - 3s - loss: 0.3246 - acc: 0.8864 - val_loss: 0.2694 - val_acc: 0.9105\b\b\b\b\b\b\b\b\b\b\b\b\b\b\b\b\b\b\b\b\b\b\b\b\b\b\b\b\b\b\b\b\b\b\b\b\b\b\b\b\b\b\b\b\b\b\b\b\b\b\b\b\b\b\b\b\b\b\b\b\b\b\b\b\b\b\b\b\b\b\b\b\b\b\b\b\b\b\b\b\b\b\b\b\b\b\b\b\b\b\b\b\b\b\b\b\b\b\b\b\b\b\b\b\b\b\b\b\b\b\b\b\b\b\b\b\b\b\b\b\b\b\b\b\b\b\b\b\b\b\b\b\b\b\b\b\b\b\b\b\b\b\b\b\b\b\b\b\b\b\b\b\b\b\b\b\b\b\b\b\b\b\b\b\b\b\b\b\b\b\b\b\b\b\b\b\b\b\b\b\b\b\b\b\b\b\b\b\b\b\b\b\b\b\b\b\b\b\b\b\b\b\b\b\b\b\b\b\b\b\b\b\b\b\b\b\b\b\b\b\b\b\b\b\b\b\b\b\b\b\b\b\b\b\b\b\b\b\b\b\b\b\b\b\b\b\b\b\b\b\b\b\b\b\b\b\b\b\b\b\b\b\b\b\b\b\b\b\b\b\b\b\b\b\b\b\b\b\b\b\b\b\b\b\b\b\b\b\b\b\b\b\b\b\b\b\b\b\b\b\b\b\b\b\b\b\b\b\b\b\b\b\b\b\b\b\b\b\b\b\b\b\b\b\b\b\b\b\b\b\b\b\b\b\b\b\b\b\b\b\b\b\b\b\b\b\b\b\b\b\b\b\b\b\b\b\b\b\b\b\b\b\b\b\b\b\b\b\b\b\b\b\b\b\b\b\b\b\b\b\b\b\b\b\b\b\b\b\b\b\b\b\b\b\b\b\b\b\b\b\b\b\b\b\b\b\b\b\b\b\b\b\b\b\b\b\b\b\b\b\b\b\b\b\b\b\b\b\b\b\b\b\b\b\b\b\b\b\b\b\b\b\b\b\b\b\b\b\b\b\b\b\b\b\b\b\b\b\b\b\b\b\b\b\b\b\b\b\b\b\b\b\b\b\b\b\b\b\b\b\b\b\b\b\b\b\b\b\b\b\b\b\b\b\b\b\b\b\b\b\b\b\b\b\b\b\b\b\b\b\b\b\b\b\b\b\b\b\b\b\b\b\b\b\b\b\b\b\b\b\b\b\b\b\b\b\b\b\b\b\b\b\b\b\b\b\b\b\b\b\b\b\b\b\b\b\b\b\b\b\b\b\b\b\b\b\b\b\b\b\b\b\b\b\b\b\b\b\b\b\b\b\b\b\b\b\b\b\b\b\b\b\b\b\b\b\b\b\b\b\b\b\b\b\b\b\b\b\b\b\b\b\b\b\b\b\b\b\b\b\b\b\b\b\b\b\b\b\b\b\b\b\b\b\b\b\b\b\b\b\b\b\b\b\b\b\b\b\b\b\b\b\b\b\b\b\b\b\b\b\b\b\b\b\b\b\b\b\b\b\b\b\b\b\b\b\b\b\b\b\b\b\b\b\b\b\b\b\b\b\b\b\b\b\b\b\b\b\b\b\b\b\b\b\b\b\b\b\b\b\b\b\b\b\b\b\b\b\b\b\b\b\b\b\b\b\b\b\b\b\b\b\b\b\b\b\b\b\b\b\b\b\b\b\b\b\b\b\b\b\b\b\b\b\b\b\b\b\b\b\b\b\b\b\b\b\b\b\b\b\b\b\b\b\b\b\b\b\b\b\b\b\b\b\b\b\b\b\b\b\b\b\b\b\b\b\b\b\b\b\b\b\b\b\b\b\b\b\b\b\b\b\b\b\b\b\b\b\b\b\b\b\b\b\b\b\b\b\b\b\b\b\b\b\b\b\b\b\b\b\b\b\b\b\b\b\b\b\b\b\b\b\b\b\b\b\b\b\b\b\b\b\b\b\b\b\b\b\b\b\b\b\b\b\b\b\b\b\b\b\b\b\b\b\b\b\b\b\b\b\b\b\b\b\b\b\b\b\b\b\b\b\b\b\b\b\b\b\b\b\b\b\b\b\b\b\b\b\b\b\b\b\b\b\b\b\b\b\b\b\b\b\b\b\b\b\b\b\b\b\b\b\b\b\b\b\b\b\b\b\b\b\b\b\b\b\b\b\b\b\b\b\b\b\b\b\b\b\b\b\b\b\b\b\b\b\b\b\b\b\b\b\b\b\b\b\b\b\b\b\b\b\b\b\b\b\b\b\b\b\b\b\b\b\b\b\b\b\b\b\b\b\b\b\b\b\b\b\b\b\b\b\b\b\b\b\b\b\b\b\b\b\b\b\b\b\b\b\b\b\b\b\b\b\b\b\b\b\b\b\b\b\b\b\b\b\b\b\b\b\b\b\b\b\b\b\b\b\b\b\b\b\b\b\b\b\b\b\b\b\b\b\b\b\b\b\b\b\b\b\b\b\b\b\b\b\b\b\b\b\b\b\b\b\b\b\b\b\b\b\b\b\b\b\b\b\b\b\b\b\b\b\b\b\b\b\b\b\b\b\b\b\b\b\b\b\b\b\b\b\b\b\b\b\b\b\b\b\b\b\b\b\b\b\b\b\b\b\b\b\b\b\b\b\b\b\b\b\b\b\b\b\b\b\b\b\b\b\b\b\b\b\b\b\b\b\b\b\b\b\b\b\b\b\b\b\b\b\b\b\b\b\b\b\b\b\b\b\b\b\b\b\b\b\b\b\b\b\b\b\b\b\b\b\b\b\b\b\b\b\b\b\b\b\b\b\b\b\b\b\b\b\b\b\b\b\b\b\b\b\b\b\b\b\b\b\b\b\b\b\b\b\b\b\b\b\b\b\b\b\b\b\b\b\b\b\b\b\b\b\b\b\b\b\b\b\b\b\b\b\b\b\b\b\b\b\b\b\b\b\b\b\b\b\b\b\b\b\b\b\b\b\b\b\b\b\b\b\b\b\b\b\b\b\b\b\b\b\b\b\b\b\b\b\b\b\b\b\b\b\b\b\b\b\b\b\b\b\b\b\b\b\b\b\b\b\b\b\b\b\b\b\b\b\b\b\b\b\b\b\b\b\b\b\b\b\b\b\b\b\b\b\b\b\b\b\b\b\b\b\b\b\b\b\b\b\b\b\b\b\b\b\b\b\b\b\b\b\b\b\b\b\b\b\b\b\b\b\b\b\b\b\b\b\b\b\b\b\b\b\b\b\b\b\b\b\b\b\b\b\b\b\b\b\b\b\b\b\b\b\b\b\b\b\b\b\b\b\b\b\b\b\b\b\b\b\b\b\b\b\b\b\b\b\b\b\b\b\b\b\b\b\b\b\b\b\b\b\b\b\b\b\b\b\b\b\b\b\b\b\b\b\b\b\b\b\b\b\b\b\b\b\b\b\b\b\b\b\b\b\b\b\b\b\b\b\b\b\b\b\b\b\b\b\b\b\b\b\b\b\b\b\b\b\b\b\b\b\b\b\b\b\b\b\b\b\b\b\b\b\b\b\b\b\b\b\b\b\b\b\b\b\b\b\b\b\b\b\b\b\b\b\b\b\b\b\b\b\b\b\b\b\b\b\b\b\b\b\b\b\b\b\b\b\b\b\b\b\b\b\b\b\b\b\b\b\b\b\b\b\b\b\b\b\b\b\b\b\b\b\b\b\b\b\b\b\b\b\b\b\b\b\b\b\b\b\b\b\b\b\b\b\b\b\b\b\b\b\b\b\b\b\b\b\b\b\b\b\b\b\b\b\b\b\b\b\b\b\b\b\b\b\b\b\b\b\b\b\b\b\b\b\b\b\b\b\b\b\b\b\b\b\b\b\b\b\b\b\b\b\b\b\b\b\b\b\b\b\b\b\b\b\b\b\b\b\b\b\b\b\b\b\b\b\b\b\b\b\b\b\b\b\b\b\b\b\b\b\b\b\b\b\b\b\b\b\b\b\b\b\b\b\b\b\b\b\b\b\b\b\b\b\b\b\b\b\b\b\b\b\b\b\b\b\b\b\b\b\b\b\b\b\b\b\b\b\b\b\b\b\b\b\b\b\b\b\b\b\b\b\b\b\b\b\b\b\b\b\b\b\b\b\b\b\b\b\b\b\b\b\b\b\b\b\b\b\b\b\b\b\b\b\b\b\b\b\b\b\b\b\b\b\b\b\b\b\b\b\b\b\b\b\b\b\b\b\b\b\b\b\b\b\b\b\b\b\b\b\b\b\b\b\b\b\b\b\b\b\b\b\b\b\b\b\b\b\b\b\b\b\b\b\b\b\b\b\b\b\b\b\b\b\b\b\b\b\b\b\b\b\b\b\b\b\b\b\b\b\b\b\b\b\b\b\b\b\b\b\b\b\b\b\b\b\b\b\b\b\b\b\b\b\b\b\b\b\b\b\b\b\b\b\b\b\b\b\b\b\b\b\b\b\b\b\b\b\b\b\b\b\b\b\b\b\b\b\b\b\b\b\b\b\b\b\b\b\b\b\b\b\b\b\b\b\b\b\b\b\b\b\b\b\b\b\b\b\b\b\b\b\b\b\b\b\b\b\b\b\b\b\b\b\b\b\b\b\b\b\b\b\b\b\b\b\b\b\b\b\b\b\b\b\b\b\b\b\b\b\b\b\b\b\b\b\b\b\b\b\b\b\b\b\b\b\b\b\b\b\b\b\b\b\b\b\b\b\b\b\b\b\b\b\b\b\b\b\b\b\b\b\b\b\b\b\b\b\b\b\b\b\b\b\b\b\b\b\b\b\b\b\b\b\b\b\b\b\b\b\b\b\b\b\b\b\b\b\b\b\b\b\b\b\b\b\b\b\b\b\b\b\b\b\b\b\b\b\b\b\b\b\b\b\b\b\b\b\b\b\b\b\b\b\b\b\b\b\b\b\b\b\b\b\b\b\b\b\b\b\b\b\b\b\b\b\b\b\b\b\b\b\b\b\b\b\b\b\b\b\b\b\b\b\b\b\b\b\b\b\b\b\b\b\b\b\b\b\b\b\b\b\b\b\b\b\b\b\b\b\b\b\b\b\b\b\b\b\b\b\b\b\b\b\b\b\b\b\b\b\b\b\b\b\b\b\b\b\b\b\b\b\b\b\b\b\b\b\b\b\b\b\b\b\b\b\b\b\b\b\b\b\b\b\b\b\b\b\b\b\b\b\b\b\b\b\b\b\b\b\b\b\b\b\b\b\b\b\b\b\b\b\b\b\b\b\b\b\b\b\b\b\b\b\b\b\b\b\b\b\b\b\b\b\b\b\b\b\b\b\b\b\b\b\b\b\b\b\b\b\b\b\b\b\b\b\b\b\b\b\b\b\b\b\b\b\b\b\b\b\b\b\b\b\b\b\b\b\b\b\b\b\b\b\b\b\b\b\b\b\b\b\b\b\b\b\b\b\b\b\b\b\b\b\b\b\b\b\b\b\b\b\b\b\b\b\b\b\b\b\b\b\b\b\b\b\b\b\b\b\b\b\b\b\b\b\b\b\b\b\b\b\b\b\b\b\b\b\b\b\b\b\b\b\b\b\b\b\b\b\b\b\b\b\b\b\b\b\b\b\b\b\b\b\b\b\b\b\b\b\b\b\b\b\b\b\b\b\b\b\b\b\b\b\b\b\b\b\b\b\b\b\b\b\b\b\b\b\b\b\b\b\b\b\b\b\b\b\b\b\b\b\b\b\b\b\b\b\b\b\b\b\b\b\b\b\b\b\b\b\b\b\b\b\b\b\b\b\b\b\b\b\b\b\b\b\b\b\b\b\b\b\b\b\b\b\b\b\b\b\b\b\b\b\b\b\b\b\b\b\b\b\b\b\b\b\b\b\b\b\b\b\b\b\b\b\b\b\b\b\b\b\b\b\b\b\b\b\b\b\b\b\b\b\b\b\b\b\b\b\b\b\b\b\b\b\b\b\b\b\b\b\b\b\b\b\b\b\b\b\b\b\b\b\b\b\b\b\b\b\b\b\b\b\b\b\b\b\b\b\b\b\b\b\b\b\b\b\b\b\b\b\b\b\b\b\b\b\b\b\b\b\b\b\b\b\b\b\b\b\b\b\b\b\b\b\b\b\b\b\b\b\b\b\b\b\b\b\b\b\b\b\b\b\b\b\b\b\b\b\b\b\b\b\b\b\b\b\b\b\b\b\b\b\b\b\b\b\b\b\b\b\b\b\b\b\b\b\b\b\b\b\b\b\b\b\b\b\b\b\b\b\b\b\b\b\b\b\b\b\b\b\b\b\b\b\b\b\b\b\b\b\b\b\b\b\b\b\b\b\b\b\b\b\b\b\b\b\b\b\b\b\b\b\b\b\b\b\b\b\b\b\b\b\b\b\b\b\b\b\b\b\b\b\b\b\b\b\b\b\b\b\b\b\b\b\b\b\b\b\b\b\b\b\b\b\b\b\b\b\b\b\b\b\b\b\b\b\b\b\b\b\b\b\b\b\b\b\b\b\b\b\b\b\b\b\b\b\b\b\b\b\b\b\b\b\b\b\b\b\b\b\b\b\b\b\b\b\b\b\b\b\b\b\b\b\b\b\b\b\b\b\b\b\b\b\b\b\b\b\b\b\b\b\b\b\b\b\b\b\b\b\b\b\b\b\b\b\b\b\b\b\b\b\b\b\b\b\b\b\b\b\b\b\b\b\b\b\b\b\b\b\b\b\b\b\b\b\b\b\b\b\b\b\b\b\b\b\b\b\b\b\b\b\b\b\b\b\b\b\b\b\b\b\b\b\b\b\b\b\b\b\b\b\b\b\b\b\b\b\b\b\b\b\b\b\b\b\b\b\b\b\b\b\b\b\b\b\b\b\b\b\b\b\b\b\b\b\b\b\b\b\b\b\b\b\b\b\b\b\b\b\b\b\b\b\b\b\b\b\b\b\b\b\b\b\b\b\b\b\b\b\b\b\b\b\b\b\b\b\b\b\b\b\b\b\b\b\b\b\b\b\b\b\b\b\b\b\b\b\b\b\b\b\b\b\b\b\b\b\b\b\b\b\b\b\b\b\b\b\b\b\b\b\b\b\b\b\b\b\b\b\b\b\b\b\b\b\b\b\b\b\b\b\b\b\b\b\b\b\b\b\b\b\b\b\b\b\b\b\b\b\b\b\b\b\b\b\b\b\b\b\b\b\b\b\b\b\b\b\b\b\b\b\b\b\b\b\b\b\b\b\b\b\b\b\b\b\b\b\b\b\b\b\b\b\b\b\b\b\b\b\b\b\b\b\b\b\b\b\b\b\b\b\b\b\b\b\b\b\b\b\b\b\b\b\b\b\b\b\b\b\b\b\b\b\b\b\b\b\b\b\b\b\b\b\b\b\b\b\b\b\b\b\b\b\b\b\b\b\b\b\b\b\b\b\b\b\b\b\b\b\b\b\b\b\b\b\b\b\b\b\b\b\b\b\b\b\b\b\b\b\b\b\b\b\b\b\b\b\b\b\b\b\b\b\b\b\b\b\b\b\b\b\b\b\b\b\b\b\b\b\b\b\b\b\b\b\b\b\b\b\b\b\b\b\b\b\b\b\b\b\b\b\b\b\b\b\b\b\b\b\b\b\b\b\b\b\b\b\b\b\b\b\b\b\b\b\b\b\b\b\b\b\b\b\b\b\b\b\b\b\b\b\b\b\b\b\b\b\b\b\b\b\b\b\b\b\b\b\b\b\b\b\b\b\b\b\b\b\b\b\b\b\b\b\b\b\b\b\b\b\b\b\b\b\b\b\b\b\b\b\b\b\b\b\b\b\b\b\b\b\b\b\b\b\b\b\b\b\b\b\b\b\b\b\b\b\b\b\b\b\b\b\b\b\b\b\b\b\b\b\b\b\b\b\b\b\b\b\b\b\b\b\b\b\b\b\b\b\b\b\b\b\b\b\b\b\b\b\b\b\b\b\b\b\b\b\b\b\b\b\b\b\b\b\b\b\b\b\b\b\b\b\b\b\b\b\b\b\b\b\b\b\b\b\b\b\b\b\b\b\b\b\b\b\b\b\b\b\b\b\b\b\b\b\b\b\b\b\b\b\b\b\b\b\b\b\b\b\b\b\b\b\b\b\b\b\b\b\b\b\b\b\b\b\b\b\b\b\b\b\b\b\b\b\b\b\b\b\b\b\b\b\b\b\b\b\b\b\b\b\b\b\b\b\b\b\b\b\b\b\b\b\b\b\b\b\b\b\b\b\b\b\b\b\b\b\b\b\b\b\b\b\b\b\b\b\b\b\b\b\b\b\b\b\b\b\b\b\b\b\b\b\b\b\b\b\b\b\b\b\b\b\b\b\b\b\b\b\b\b\b\b\b\b\b\b\b\b\b\b\b\b\b\b\b\b\b\b\b\b\b\b\b\b\b\b\b\b\b\b\b\b\b\b\b\b\b\b\b\b\b\b\b\b\b\b\b\b\b\b\b\b\b\b\b\b\b\b\b\b\b\b\b\b\b\b\b\b\b\b\b\b\b\b\b\b\b\b\b\b\b\b\b\b\b\b\b\b\b\b\b\b\b\b\b\b\b\b\b\b\b\b\b\b\b\b\b\b\b\b\b\b\b\b\b\b\b\b\b\b\b\b\b\b\b\b\b\b\b\b\b\b\b\b\b\b\b\b\b\b\b\b\b\b\b\b\b\b\b\b\b\b\b\b\b\b\b\b\b\b\b\b\b\b\b\b\b\b\b\b\b\b\b\b\b\b\b\b\b\b\b\b\b\b\b\b\b\b\b\b\b\b\b\b\b\b\b\b\b\b\b\b\b\b\b\b\b\b\b\b\b\b\b\b\b\b\b\b\b\b\b\b\b\b\b\b\b\b\b\b\b\b\b\b\b\b\b\b\b\b\b\b\b\b\b\b\b\b\b\b\b\b\b\b\b\b\b\b\b\b\b\b\b\b\b\b\b\b\b\b\b\b\b\b\b\b\b\b\b\b\b\b\b\b\b\b\b\b\b\b\b\b\b\b\b\b\b\b\b\b\b\b\b\b\b\b\b\b\b\b\b\b\b\b\b\b\b\b\b\b\b\b\b\b\b\b\b\b\b\b\b\b\b\b\b\b\b\b\b\b\b\b\b\b\b\b\b\b\b\b\b\b\b\b\b\b\b\b\b\b\b\b\b\b\b\b\b\b\b\b\b\b\b\b\b\b\b\b\b\b\b\b\b\b\b\b\b\b\b\b\b\b\b\b\b\b\b\b\b\b\b\b\b\b\b\b\b\b\b\b\b\b\b\b\b\b\b\b\b\b\b\b\b\b\b\b\b\b\b\b\b\b\b\b\b\b\b\b\b\b\b\b\b\b\b\b\b\b\b\b\b\b\b\b\b\b\b\b\b\b\b\b\b\b\b\b\b\b\b\b\b\b\b\b\b\b\b\b\b\b\b\b\b\b\b\b\b\b\b\b\b\b\b\b\b\b\b\b\b\b\b\b\b\b\b\b\b\b\b\b\b\b\b\b\b\b\b\b\b\b\b\b\b\b\b\b\b\b\b\b\b\b\b\b\b\b\b\b\b\b\b\b\b\b\b\b\b\b\b\b\b\b\b\b\b\b\b\b\b\b\b\n"
     ]
    }
   ],
   "source": [
    "classifier_model_v2 = fit_precomputed_helper(classifier_model_v2, \"classifier_model_v2\", lr=0.01, nb_epoch=4)\n",
    "# Ran n times"
   ]
  },
  {
   "cell_type": "code",
   "execution_count": 60,
   "metadata": {
    "collapsed": false,
    "deletable": true,
    "editable": true
   },
   "outputs": [
    {
     "name": "stdout",
     "output_type": "stream",
     "text": [
      "Train on 3397 samples, validate on 380 samples\n",
      "Epoch 1/4\n",
      " 160/3397 [>.............................] - ETA: 3s - loss: 0.2683 - acc: 0.9125\b\b\b\b\b\b\b\b\b\b\b\b\b\b\b\b\b\b\b\b\b\b\b\b\b\b\b\b\b\b\b\b\b\b\b\b\b\b\b\b\b\b\b\b\b\b\b\b\b\b\b\b\b\b\b\b\b\b\b\b\b\b\b\b\b\b\b\b\b\b\b\b\b\b\b\b\b\b\b\b\b\b\b\b\b\b\b\b\b\b\b\b\b\b\b\b\b\b\b\b\b\b\b\b\b\b\b\b\b\b\b\b\b\b\b\b\b\b\b\b\b\b\b\b\b\b\b\b\b\b\b\b\b\b\b\b\b\b\b\b\b\b\b\b\b\b\b\b\b\b\b\b\b\b\b\b\b\b\b\b\b\b"
     ]
    },
    {
     "name": "stderr",
     "output_type": "stream",
     "text": [
      "/usr/local/lib/python3.4/dist-packages/ipykernel/__main__.py:29: UserWarning:\n",
      "\n",
      "The `nb_epoch` argument in `fit` has been renamed `epochs`.\n",
      "\n"
     ]
    },
    {
     "name": "stdout",
     "output_type": "stream",
     "text": [
      "3397/3397 [==============================] - 3s - loss: 0.3087 - acc: 0.8890 - val_loss: 0.2562 - val_acc: 0.9184\b\b\b\b\b\b\b\b\b\b\b\b\b\b\b\b\b\b\b\b\b\b\b\b\b\b\b\b\b\b\b\b\b\b\b\b\b\b\b\b\b\b\b\b\b\b\b\b\b\b\b\b\b\b\b\b\b\b\b\b\b\b\b\b\b\b\b\b\b\b\b\b\b\b\b\b\b\b\b\b\b\b\b\b\b\b\b\b\b\b\b\b\b\b\b\b\b\b\b\b\b\b\b\b\b\b\b\b\b\b\b\b\b\b\b\b\b\b\b\b\b\b\b\b\b\b\b\b\b\b\b\b\b\b\b\b\b\b\b\b\b\b\b\b\b\b\b\b\b\b\b\b\b\b\b\b\b\b\b\b\b\b\b\b\b\b\b\b\b\b\b\b\b\b\b\b\b\b\b\b\b\b\b\b\b\b\b\b\b\b\b\b\b\b\b\b\b\b\b\b\b\b\b\b\b\b\b\b\b\b\b\b\b\b\b\b\b\b\b\b\b\b\b\b\b\b\b\b\b\b\b\b\b\b\b\b\b\b\b\b\b\b\b\b\b\b\b\b\b\b\b\b\b\b\b\b\b\b\b\b\b\b\b\b\b\b\b\b\b\b\b\b\b\b\b\b\b\b\b\b\b\b\b\b\b\b\b\b\b\b\b\b\b\b\b\b\b\b\b\b\b\b\b\b\b\b\b\b\b\b\b\b\b\b\b\b\b\b\b\b\b\b\b\b\b\b\b\b\b\b\b\b\b\b\b\b\b\b\b\b\b\b\b\b\b\b\b\b\b\b\b\b\b\b\b\b\b\b\b\b\b\b\b\b\b\b\b\b\b\b\b\b\b\b\b\b\b\b\b\b\b\b\b\b\b\b\b\b\b\b\b\b\b\b\b\b\b\b\b\b\b\b\b\b\b\b\b\b\b\b\b\b\b\b\b\b\b\b\b\b\b\b\b\b\b\b\b\b\b\b\b\b\b\b\b\b\b\b\b\b\b\b\b\b\b\b\b\b\b\b\b\b\b\b\b\b\b\b\b\b\b\b\b\b\b\b\b\b\b\b\b\b\b\b\b\b\b\b\b\b\b\b\b\b\b\b\b\b\b\b\b\b\b\b\b\b\b\b\b\b\b\b\b\b\b\b\b\b\b\b\b\b\b\b\b\b\b\b\b\b\b\b\b\b\b\b\b\b\b\b\b\b\b\b\b\b\b\b\b\b\b\b\b\b\b\b\b\b\b\b\b\b\b\b\b\b\b\b\b\b\b\b\b\b\b\b\b\b\b\b\b\b\b\b\b\b\b\b\b\b\b\b\b\b\b\b\b\b\b\b\b\b\b\b\b\b\b\b\b\b\b\b\b\b\b\b\b\b\b\b\b\b\b\b\b\b\b\b\b\b\b\b\b\b\b\b\b\b\b\b\b\b\b\b\b\b\b\b\b\b\b\b\b\b\b\b\b\b\b\b\b\b\b\b\b\b\b\b\b\b\b\b\b\b\b\b\b\b\b\b\b\b\b\b\b\b\b\b\b\b\b\b\b\b\b\b\b\b\b\b\b\b\b\b\b\b\b\b\b\b\b\b\b\b\b\b\b\b\b\b\b\b\b\b\b\b\b\b\b\b\b\b\b\b\b\b\b\b\b\b\b\b\b\b\b\b\b\b\b\b\b\b\b\b\b\b\b\b\b\b\b\b\b\b\b\b\b\b\b\b\b\b\b\b\b\b\b\b\b\b\b\b\b\b\b\b\b\b\b\b\b\b\b\b\b\b\b\b\b\b\b\b\b\b\b\b\b\b\b\b\b\b\b\b\b\b\b\b\b\b\b\b\b\b\b\b\b\b\b\b\b\b\b\b\b\b\b\b\b\b\b\b\b\b\b\b\b\b\b\b\b\b\b\b\b\b\b\b\b\b\b\b\b\b\b\b\b\b\b\b\b\b\b\b\b\b\b\b\b\b\b\b\b\b\b\b\b\b\b\b\b\b\b\b\b\b\b\b\b\b\b\b\b\b\b\b\b\b\b\b\b\b\b\b\b\b\b\b\b\b\b\b\b\b\b\b\b\b\b\b\b\b\b\b\b\b\b\b\b\b\b\b\b\b\b\b\b\b\b\b\b\b\b\b\b\b\b\b\b\b\b\b\b\b\b\b\b\b\b\b\b\b\b\b\b\b\b\b\b\b\b\b\b\b\b\b\b\b\b\b\b\b\b\b\b\b\b\b\b\b\b\b\b\b\b\b\b\b\b\b\b\b\b\b\b\b\b\b\b\b\b\b\b\b\b\b\b\b\b\b\b\b\b\b\b\b\b\b\b\b\b\b\b\b\b\b\b\b\b\b\b\b\b\b\b\b\b\b\b\b\b\b\b\b\b\b\b\b\b\b\b\b\b\b\b\b\b\b\b\b\b\b\b\b\b\b\b\b\b\b\b\b\b\b\b\b\b\b\b\b\b\b\b\b\b\b\b\b\b\b\b\b\b\b\b\b\b\b\b\b\b\b\b\b\b\b\b\b\b\b\b\b\b\b\b\b\b\b\b\b\b\b\b\b\b\b\b\b\b\b\b\b\b\b\b\b\b\b\b\b\b\b\b\b\b\b\b\b\b\b\b\b\b\b\b\b\b\b\b\b\b\b\b\b\b\b\b\b\b\b\b\b\b\b\b\b\b\b\b\b\b\b\b\b\b\b\b\b\b\b\b\b\b\b\b\b\b\b\b\b\b\b\b\b\b\b\b\b\b\b\b\b\b\b\b\b\b\b\b\b\b\b\b\b\b\b\b\b\b\b\b\b\b\b\b\b\b\b\b\b\b\b\b\b\b\b\b\b\b\b\b\b\b\b\b\b\b\b\b\b\b\b\b\b\b\b\b\b\b\b\b\b\b\b\b\b\b\b\b\b\b\b\b\b\b\b\b\b\b\b\b\b\b\b\b\b\b\b\b\b\b\b\b\b\b\b\b\b\b\b\b\b\b\b\b\b\b\b\b\b\b\b\b\b\b\b\b\b\b\b\b\b\b\b\b\b\b\b\b\b\b\b\b\b\b\b\b\b\b\b\b\b\b\b\b\b\b\b\b\b\b\b\b\b\b\b\b\b\b\b\b\b\b\b\b\b\b\b\b\b\b\b\b\b\b\b\b\b\b\b\b\b\b\b\b\b\b\b\b\b\b\b\b\b\b\b\b\b\b\b\b\b\b\b\b\b\b\b\b\b\b\b\b\b\b\b\b\b\b\b\b\b\b\b\b\b\b\b\b\b\b\b\b\b\b\b\b\b\b\b\b\b\b\b\b\b\b\b\b\b\b\b\b\b\b\b\b\b\b\b\b\b\b\b\b\b\b\b\b\b\b\b\b\b\b\b\b\b\b\b\b\b\b\b\b\b\b\b\b\b\b\b\b\b\b\b\b\b\b\b\b\b\b\b\b\b\b\b\b\b\b\b\b\b\b\b\b\b\b\b\b\b\b\b\b\b\b\b\b\b\b\b\b\b\b\b\b\b\b\b\b\b\b\b\b\b\b\b\b\b\b\b\b\b\b\b\b\b\b\b\b\b\b\b\b\b\b\b\b\b\b\b\b\b\b\b\b\b\b\b\b\b\b\b\b\b\b\b\b\b\b\b\b\b\b\b\b\b\b\b\b\b\b\b\b\b\b\b\b\b\b\b\b\b\b\b\b\b\b\b\b\b\b\b\b\b\b\b\b\b\b\b\b\b\b\b\b\b\b\b\b\b\b\b\b\b\b\b\b\b\b\b\b\b\b\b\b\b\b\b\b\b\b\b\b\b\b\b\b\b\b\b\b\b\b\b\b\b\b\b\b\b\b\b\b\b\b\b\b\b\b\b\b\b\b\b\b\b\b\b\b\b\b\b\b\b\b\b\b\b\b\b\b\b\b\b\b\b\b\b\b\b\b\b\b\b\b\b\b\b\b\b\b\b\b\b\b\b\b\b\b\b\b\b\b\b\b\b\b\b\b\b\b\b\b\b\b\b\b\b\b\b\b\b\b\b\b\b\b\b\b\b\b\b\b\b\b\b\b\b\b\b\b\b\b\b\b\b\b\b\b\b\b\b\b\b\b\b\b\b\b\b\b\b\b\b\b\b\b\b\b\b\b\b\b\b\b\b\b\b\b\b\b\b\b\b\b\b\b\b\b\b\b\b\b\b\b\b\b\b\b\b\b\b\b\b\b\b\b\b\b\b\b\b\b\b\b\b\b\b\b\b\b\b\b\b\b\b\b\b\b\b\b\b\b\b\b\b\b\b\b\b\b\b\b\b\b\b\b\b\b\b\b\b\b\b\b\b\b\b\b\b\b\b\b\b\b\b\b\b\b\b\b\b\b\b\b\b\b\b\b\b\b\b\b\b\b\b\b\b\b\b\b\b\b\b\b\b\b\b\b\b\b\b\b\b\b\b\b\b\b\b\b\b\b\b\b\b\b\b\b\b\b\b\b\b\b\b\b\b\b\b\b\b\b\b\b\b\b\b\b\b\b\b\b\b\b\b\b\b\b\b\b\b\b\b\b\b\b\b\b\b\b\b\b\b\b\b\b\b\b\b\b\b\b\b\b\b\b\b\b\b\b\b\b\b\b\b\b\b\b\b\b\b\b\b\b\b\b\b\b\b\b\b\b\b\b\b\b\b\b\b\b\b\b\b\b\b\b\b\b\b\b\b\b\b\b\b\b\b\b\b\b\b\b\b\b\b\b\b\b\b\b\b\b\b\b\b\b\b\b\b\b\b\b\b\b\b\b\b\b\b\b\b\b\b\b\b\b\b\b\b\b\b\b\b\b\b\b\b\b\b\b\b\b\b\b\b\b\b\b\b\b\b\b\b\b\b\b\b\b\b\b\b\b\b\b\b\b\b\b\b\b\b\b\b\b\b\b\b\b\b\b\b\b\b\b\b\b\b\b\b\b\b\b\b\b\b\b\b\b\b\b\b\b\b\b\b\b\b\b\b\b\b\b\b\b\b\b\b\b\b\b\b\b\b\b\b\b\b\b\b\b\b\b\b\b\b\b\b\b\b\b\b\b\b\b\b\b\b\b\b\b\b\b\b\b\b\b\b\b\b\b\b\b\b\b\b\b\b\b\b\b\b\b\b\b\b\b\b\b\b\b\b\b\b\b\b\b\b\b\b\b\b\b\b\b\b\b\b\b\b\b\b\b\b\b\b\b\b\b\b\b\b\b\b\b\b\b\b\b\b\b\b\b\b\b\b\b\b\b\b\b\b\b\b\b\b\b\b\b\b\b\b\b\b\b\b\b\b\b\b\b\b\b\b\b\b\b\b\b\b\b\b\b\b\b\b\b\b\b\b\b\b\b\b\b\b\b\b\b\b\b\b\b\b\b\b\b\b\b\b\b\b\b\b\b\b\b\b\b\b\b\b\b\b\b\b\b\b\b\b\b\b\b\b\b\b\b\b\b\b\b\b\b\b\b\b\b\b\b\b\b\b\b\b\b\b\b\b\b\b\b\b\b\b\b\b\b\b\b\b\b\b\b\b\b\b\b\b\b\b\b\b\b\b\b\b\b\b\b\b\b\b\b\b\b\b\b\b\b\b\b\b\b\b\b\b\b\b\b\b\b\b\b\b\b\b\b\b\b\b\b\b\b\b\b\b\b\b\b\b\b\b\b\b\b\b\b\b\b\b\b\b\b\b\b\b\b\b\b\b\b\b\b\b\b\b\b\b\b\b\b\b\b\b\b\b\b\b\b\b\b\b\b\b\b\b\b\b\b\b\b\b\b\b\b\b\b\b\b\b\b\b\b\b\b\b\b\b\b\b\b\b\b\b\b\b\b\b\b\b\b\b\b\b\b\b\b\b\b\b\b\b\b\b\b\b\b\b\b\b\b\b\b\b\b\b\b\b\b\b\b\b\b\b\b\b\b\b\b\b\b\b\b\b\b\b\b\b\b\b\b\b\b\b\b\b\b\b\b\b\b\b\b\b\b\b\b\b\b\b\b\b\b\b\b\b\b\b\b\b\b\b\b\b\b\b\b\b\b\b\b\b\b\b\b\b\b\b\b\b\b\b\b\b\b\b\b\b\b\b\b\b\b\b\b\b\b\b\b\b\b\b\b\b\b\b\b\b\b\b\b\b\b\b\b\b\b\b\b\b\b\b\b\b\b\b\b\b\b\b\b\b\b\b\b\b\b\b\b\b\b\b\b\b\b\b\b\b\b\b\b\b\b\b\b\b\b\b\b\b\b\b\b\b\b\b\b\b\b\b\b\b\b\b\b\b\b\b\b\b\b\b\b\b\b\b\b\b\b\b\b\b\b\b\b\b\b\b\b\b\b\b\b\b\b\b\b\b\b\b\b\b\b\b\b\b\b\b\b\b\b\b\b\b\b\b\b\b\b\b\b\b\b\b\b\b\b\b\b\b\b\b\b\b\b\b\b\b\b\b\b\b\b\b\b\b\b\b\b\b\b\b\b\b\b\b\b\b\b\b\b\b\b\b\b\b\b\b\b\b\b\b\b\b\b\b\b\b\b\b\b\b\b\b\b\b\b\b\b\b\b\b\b\b\b\b\b\b\b\b\b\b\b\b\b\b\b\b\b\b\b\b\b\b\b\b\b\b\b\b\b\b\b\b\b\b\b\b\b\b\b\b\b\b\b\b\b\b\b\b\b\b\b\b\b\b\b\b\b\b\b\b\b\b\b\b\b\b\b\b\b\b\b\b\b\b\b\b\b\b\b\b\b\b\b\b\b\b\b\b\b\b\b\b\b\b\b\b\b\b\b\b\b\b\b\b\b\b\b\b\b\b\b\b\b\b\b\b\b\b\b\b\b\b\b\b\b\b\b\b\b\b\b\b\b\b\b\b\b\b\b\b\b\b\b\b\b\b\b\b\b\b\b\b\b\b\b\b\b\b\b\b\b\b\b\b\b\b\b\b\b\b\b\b\b\b\b\b\b\b\b\b\b\b\b\b\b\b\b\b\b\b\b\b\b\b\b\b\b\b\b\b\b\b\b\b\b\b\b\b\b\b\b\b\b\b\b\b\b\b\b\b\b\b\b\b\b\b\b\b\b\b\b\b\b\b\b\b\b\b\b\b\b\b\b\b\b\b\b\b\b\b\b\b\b\b\b\b\b\b\b\b\b\b\b\b\b\b\b\b\b\b\b\b\b\b\b\b\b\b\b\b\b\b\b\b\b\b\b\b\b\b\b\b\b\b\b\b\b\b\b\b\b\b\b\b\b\b\b\b\b\b\b\b\b\b\b\b\b\b\b\b\b\b\b\b\b\b\b\b\b\b\b\b\b\b\b\b\b\b\b\b\b\b\b\b\b\b\b\b\b\b\b\b\b\b\b\b\b\b\b\b\b\b\b\b\b\b\b\b\b\b\b\b\b\b\b\b\b\b\b\b\b\b\b\b\b\b\b\b\b\b\b\b\b\b\b\b\b\b\b\b\b\b\b\b\b\b\b\b\b\b\b\b\b\b\b\b\b\b\b\b\b\b\b\b\b\b\b\b\b\b\b\b\b\b\b\b\b\b\b\b\b\b\b\b\b\b\b\b\b\b\b\b\b\b\b\b\b\b\b\b\b\b\b\b\b\b\b\b\b\b\b\b\b\b\b\b\b\b\b\b\b\b\b\b\b\b\b\b\b\b\b\b\b\b\b\b\b\b\b\b\b\b\b\b\b\b\b\b\b\b\b\b\b\b\b\b\b\b\b\b\b\b\b\b\b\b\b\b\b\b\b\b\b\b\b\b\b\b\b\b\b\b\b\b\b\b\b\b\b\b\b\b\b\b\b\b\b\b\b\b\b\b\b\b\b\b\b\b\b\b\b\b\b\b\b\b\b\b\b\b\b\b\b\b\b\b\b\b\b\b\b\b\b\b\b\b\b\b\b\b\b\b\b\b\b\b\b\b\b\b\b\b\b\b\b\b\b\b\b\b\b\b\b\b\b\b\b\b\b\b\b\b\b\b\b\b\b\b\b\b\b\b\b\b\b\b\b\b\b\b\b\b\b\b\b\b\b\b\b\b\b\b\b\b\b\b\b\b\b\b\b\b\b\b\b\b\b\b\b\b\b\b\b\b\b\b\b\b\b\b\b\b\b\b\b\b\b\b\b\b\b\b\b\b\b\b\b\b\b\b\b\b\b\b\b\b\b\b\b\b\b\b\b\b\b\b\b\b\b\b\b\b\b\b\b\b\b\b\b\b\b\b\b\b\b\b\b\b\b\b\b\b\b\b\b\b\b\b\b\b\b\b\b\b\b\b\b\b\b\b\b\b\b\b\b\b\b\b\b\b\b\b\b\b\b\b\b\b\b\b\b\b\b\b\b\b\b\b\b\b\b\b\b\b\b\b\b\b\b\b\b\b\b\b\b\b\b\b\b\b\b\b\b\b\b\b\b\b\b\b\b\b\b\b\b\b\b\b\b\b\b\b\b\b\b\b\b\b\b\b\b\b\b\b\b\b\b\b\b\b\b\b\b\b\b\b\b\b\b\b\b\b\b\b\b\b\b\b\b\b\b\b\b\b\b\b\b\b\b\b\b\b\b\b\b\b\b\b\b\b\b\b\b\b\b\b\b\b\b\b\b\b\b\b\b\b\b\b\b\b\b\b\b\b\b\b\b\b\b\b\b\b\b\b\b\b\b\b\b\b\b\b\b\b\b\b\b\b\b\b\b\b\b\b\b\b\b\b\b\b\b\b\b\b\b\b\b\b\b\b\b\b\b\b\b\b\b\b\b\b\b\b\b\b\b\b\b\b\b\b\b\b\b\b\b\b\b\b\b\b\b\b\b\b\b\b\b\b\b\b\b\b\b\b\b\b\b\b\b\b\b\b\b\b\b\b\b\b\b\b\b\b\b\b\b\b\b\b\b\b\b\b\b\b\b\b\b\b\b\b\b\b\b\b\b\b\b\b\b\b\b\b\b\b\b\b\b\b\b\b\b\b\b\b\b\b\b\b\b\b\b\b\b\b\b\b\b\b\b\b\b\b\b\b\b\b\b\b\b\b\b\b\b\b\n",
      "Epoch 2/4\n",
      "3397/3397 [==============================] - 3s - loss: 0.2857 - acc: 0.9026 - val_loss: 0.2509 - val_acc: 0.9211\b\b\b\b\b\b\b\b\b\b\b\b\b\b\b\b\b\b\b\b\b\b\b\b\b\b\b\b\b\b\b\b\b\b\b\b\b\b\b\b\b\b\b\b\b\b\b\b\b\b\b\b\b\b\b\b\b\b\b\b\b\b\b\b\b\b\b\b\b\b\b\b\b\b\b\b\b\b\b\b\b\b\b\b\b\b\b\b\b\b\b\b\b\b\b\b\b\b\b\b\b\b\b\b\b\b\b\b\b\b\b\b\b\b\b\b\b\b\b\b\b\b\b\b\b\b\b\b\b\b\b\b\b\b\b\b\b\b\b\b\b\b\b\b\b\b\b\b\b\b\b\b\b\b\b\b\b\b\b\b\b\b\b\b\b\b\b\b\b\b\b\b\b\b\b\b\b\b\b\b\b\b\b\b\b\b\b\b\b\b\b\b\b\b\b\b\b\b\b\b\b\b\b\b\b\b\b\b\b\b\b\b\b\b\b\b\b\b\b\b\b\b\b\b\b\b\b\b\b\b\b\b\b\b\b\b\b\b\b\b\b\b\b\b\b\b\b\b\b\b\b\b\b\b\b\b\b\b\b\b\b\b\b\b\b\b\b\b\b\b\b\b\b\b\b\b\b\b\b\b\b\b\b\b\b\b\b\b\b\b\b\b\b\b\b\b\b\b\b\b\b\b\b\b\b\b\b\b\b\b\b\b\b\b\b\b\b\b\b\b\b\b\b\b\b\b\b\b\b\b\b\b\b\b\b\b\b\b\b\b\b\b\b\b\b\b\b\b\b\b\b\b\b\b\b\b\b\b\b\b\b\b\b\b\b\b\b\b\b\b\b\b\b\b\b\b\b\b\b\b\b\b\b\b\b\b\b\b\b\b\b\b\b\b\b\b\b\b\b\b\b\b\b\b\b\b\b\b\b\b\b\b\b\b\b\b\b\b\b\b\b\b\b\b\b\b\b\b\b\b\b\b\b\b\b\b\b\b\b\b\b\b\b\b\b\b\b\b\b\b\b\b\b\b\b\b\b\b\b\b\b\b\b\b\b\b\b\b\b\b\b\b\b\b\b\b\b\b\b\b\b\b\b\b\b\b\b\b\b\b\b\b\b\b\b\b\b\b\b\b\b\b\b\b\b\b\b\b\b\b\b\b\b\b\b\b\b\b\b\b\b\b\b\b\b\b\b\b\b\b\b\b\b\b\b\b\b\b\b\b\b\b\b\b\b\b\b\b\b\b\b\b\b\b\b\b\b\b\b\b\b\b\b\b\b\b\b\b\b\b\b\b\b\b\b\b\b\b\b\b\b\b\b\b\b\b\b\b\b\b\b\b\b\b\b\b\b\b\b\b\b\b\b\b\b\b\b\b\b\b\b\b\b\b\b\b\b\b\b\b\b\b\b\b\b\b\b\b\b\b\b\b\b\b\b\b\b\b\b\b\b\b\b\b\b\b\b\b\b\b\b\b\b\b\b\b\b\b\b\b\b\b\b\b\b\b\b\b\b\b\b\b\b\b\b\b\b\b\b\b\b\b\b\b\b\b\b\b\b\b\b\b\b\b\b\b\b\b\b\b\b\b\b\b\b\b\b\b\b\b\b\b\b\b\b\b\b\b\b\b\b\b\b\b\b\b\b\b\b\b\b\b\b\b\b\b\b\b\b\b\b\b\b\b\b\b\b\b\b\b\b\b\b\b\b\b\b\b\b\b\b\b\b\b\b\b\b\b\b\b\b\b\b\b\b\b\b\b\b\b\b\b\b\b\b\b\b\b\b\b\b\b\b\b\b\b\b\b\b\b\b\b\b\b\b\b\b\b\b\b\b\b\b\b\b\b\b\b\b\b\b\b\b\b\b\b\b\b\b\b\b\b\b\b\b\b\b\b\b\b\b\b\b\b\b\b\b\b\b\b\b\b\b\b\b\b\b\b\b\b\b\b\b\b\b\b\b\b\b\b\b\b\b\b\b\b\b\b\b\b\b\b\b\b\b\b\b\b\b\b\b\b\b\b\b\b\b\b\b\b\b\b\b\b\b\b\b\b\b\b\b\b\b\b\b\b\b\b\b\b\b\b\b\b\b\b\b\b\b\b\b\b\b\b\b\b\b\b\b\b\b\b\b\b\b\b\b\b\b\b\b\b\b\b\b\b\b\b\b\b\b\b\b\b\b\b\b\b\b\b\b\b\b\b\b\b\b\b\b\b\b\b\b\b\b\b\b\b\b\b\b\b\b\b\b\b\b\b\b\b\b\b\b\b\b\b\b\b\b\b\b\b\b\b\b\b\b\b\b\b\b\b\b\b\b\b\b\b\b\b\b\b\b\b\b\b\b\b\b\b\b\b\b\b\b\b\b\b\b\b\b\b\b\b\b\b\b\b\b\b\b\b\b\b\b\b\b\b\b\b\b\b\b\b\b\b\b\b\b\b\b\b\b\b\b\b\b\b\b\b\b\b\b\b\b\b\b\b\b\b\b\b\b\b\b\b\b\b\b\b\b\b\b\b\b\b\b\b\b\b\b\b\b\b\b\b\b\b\b\b\b\b\b\b\b\b\b\b\b\b\b\b\b\b\b\b\b\b\b\b\b\b\b\b\b\b\b\b\b\b\b\b\b\b\b\b\b\b\b\b\b\b\b\b\b\b\b\b\b\b\b\b\b\b\b\b\b\b\b\b\b\b\b\b\b\b\b\b\b\b\b\b\b\b\b\b\b\b\b\b\b\b\b\b\b\b\b\b\b\b\b\b\b\b\b\b\b\b\b\b\b\b\b\b\b\b\b\b\b\b\b\b\b\b\b\b\b\b\b\b\b\b\b\b\b\b\b\b\b\b\b\b\b\b\b\b\b\b\b\b\b\b\b\b\b\b\b\b\b\b\b\b\b\b\b\b\b\b\b\b\b\b\b\b\b\b\b\b\b\b\b\b\b\b\b\b\b\b\b\b\b\b\b\b\b\b\b\b\b\b\b\b\b\b\b\b\b\b\b\b\b\b\b\b\b\b\b\b\b\b\b\b\b\b\b\b\b\b\b\b\b\b\b\b\b\b\b\b\b\b\b\b\b\b\b\b\b\b\b\b\b\b\b\b\b\b\b\b\b\b\b\b\b\b\b\b\b\b\b\b\b\b\b\b\b\b\b\b\b\b\b\b\b\b\b\b\b\b\b\b\b\b\b\b\b\b\b\b\b\b\b\b\b\b\b\b\b\b\b\b\b\b\b\b\b\b\b\b\b\b\b\b\b\b\b\b\b\b\b\b\b\b\b\b\b\b\b\b\b\b\b\b\b\b\b\b\b\b\b\b\b\b\b\b\b\b\b\b\b\b\b\b\b\b\b\b\b\b\b\b\b\b\b\b\b\b\b\b\b\b\b\b\b\b\b\b\b\b\b\b\b\b\b\b\b\b\b\b\b\b\b\b\b\b\b\b\b\b\b\b\b\b\b\b\b\b\b\b\b\b\b\b\b\b\b\b\b\b\b\b\b\b\b\b\b\b\b\b\b\b\b\b\b\b\b\b\b\b\b\b\b\b\b\b\b\b\b\b\b\b\b\b\b\b\b\b\b\b\b\b\b\b\b\b\b\b\b\b\b\b\b\b\b\b\b\b\b\b\b\b\b\b\b\b\b\b\b\b\b\b\b\b\b\b\b\b\b\b\b\b\b\b\b\b\b\b\b\b\b\b\b\b\b\b\b\b\b\b\b\b\b\b\b\b\b\b\b\b\b\b\b\b\b\b\b\b\b\b\b\b\b\b\b\b\b\b\b\b\b\b\b\b\b\b\b\b\b\b\b\b\b\b\b\b\b\b\b\b\b\b\b\b\b\b\b\b\b\b\b\b\b\b\b\b\b\b\b\b\b\b\b\b\b\b\b\b\b\b\b\b\b\b\b\b\b\b\b\b\b\b\b\b\b\b\b\b\b\b\b\b\b\b\b\b\b\b\b\b\b\b\b\b\b\b\b\b\b\b\b\b\b\b\b\b\b\b\b\b\b\b\b\b\b\b\b\b\b\b\b\b\b\b\b\b\b\b\b\b\b\b\b\b\b\b\b\b\b\b\b\b\b\b\b\b\b\b\b\b\b\b\b\b\b\b\b\b\b\b\b\b\b\b\b\b\b\b\b\b\b\b\b\b\b\b\b\b\b\b\b\b\b\b\b\b\b\b\b\b\b\b\b\b\b\b\b\b\b\b\b\b\b\b\b\b\b\b\b\b\b\b\b\b\b\b\b\b\b\b\b\b\b\b\b\b\b\b\b\b\b\b\b\b\b\b\b\b\b\b\b\b\b\b\b\b\b\b\b\b\b\b\b\b\b\b\b\b\b\b\b\b\b\b\b\b\b\b\b\b\b\b\b\b\b\b\b\b\b\b\b\b\b\b\b\b\b\b\b\b\b\b\b\b\b\b\b\b\b\b\b\b\b\b\b\b\b\b\b\b\b\b\b\b\b\b\b\b\b\b\b\b\b\b\b\b\b\b\b\b\b\b\b\b\b\b\b\b\b\b\b\b\b\b\b\b\b\b\b\b\b\b\b\b\b\b\b\b\b\b\b\b\b\b\b\b\b\b\b\b\b\b\b\b\b\b\b\b\b\b\b\b\b\b\b\b\b\b\b\b\b\b\b\b\b\b\b\b\b\b\b\b\b\b\b\b\b\b\b\b\b\b\b\b\b\b\b\b\b\b\b\b\b\b\b\b\b\b\b\b\b\b\b\b\b\b\b\b\b\b\b\b\b\b\b\b\b\b\b\b\b\b\b\b\b\b\b\b\b\b\b\b\b\b\b\b\b\b\b\b\b\b\b\b\b\b\b\b\b\b\b\b\b\b\b\b\b\b\b\b\b\b\b\b\b\b\b\b\b\b\b\b\b\b\b\b\b\b\b\b\b\b\b\b\b\b\b\b\b\b\b\b\b\b\b\b\b\b\b\b\b\b\b\b\b\b\b\b\b\b\b\b\b\b\b\b\b\b\b\b\b\b\b\b\b\b\b\b\b\b\b\b\b\b\b\b\b\b\b\b\b\b\b\b\b\b\b\b\b\b\b\b\b\b\b\b\b\b\b\b\b\b\b\b\b\b\b\b\b\b\b\b\b\b\b\b\b\b\b\b\b\b\b\b\b\b\b\b\b\b\b\b\b\b\b\b\b\b\b\b\b\b\b\b\b\b\b\b\b\b\b\b\b\b\b\b\b\b\b\b\b\b\b\b\b\b\b\b\b\b\b\b\b\b\b\b\b\b\b\b\b\b\b\b\b\b\b\b\b\b\b\b\b\b\b\b\b\b\b\b\b\b\b\b\b\b\b\b\b\b\b\b\b\b\b\b\b\b\b\b\b\b\b\b\b\b\b\b\b\b\b\b\b\b\b\b\b\b\b\b\b\b\b\b\b\b\b\b\b\b\b\b\b\b\b\b\b\b\b\b\b\b\b\b\b\b\b\b\b\b\b\b\b\b\b\b\b\b\b\b\b\b\b\b\b\b\b\b\b\b\b\b\b\b\b\b\b\b\b\b\b\b\b\b\b\b\b\b\b\b\b\b\b\b\b\b\b\b\b\b\b\b\b\b\b\b\b\b\b\b\b\b\b\b\b\b\b\b\b\b\b\b\b\b\b\b\b\b\b\b\b\b\b\b\b\b\b\b\b\b\b\b\b\b\b\b\b\b\b\b\b\b\b\b\b\b\b\b\b\b\b\b\b\b\b\b\b\b\b\b\b\b\b\b\b\b\b\b\b\b\b\b\b\b\b\b\b\b\b\b\b\b\b\b\b\b\b\b\b\b\b\b\b\b\b\b\b\b\b\b\b\b\b\b\b\b\b\b\b\b\b\b\b\b\b\b\b\b\b\b\b\b\b\b\b\b\b\b\b\b\b\b\b\b\b\b\b\b\b\b\b\b\b\b\b\b\b\b\b\b\b\b\b\b\b\b\b\b\b\b\b\b\b\b\b\b\b\b\b\b\b\b\b\b\b\b\b\b\b\b\b\b\b\b\b\b\b\b\b\b\b\b\b\b\b\b\b\b\b\b\b\b\b\b\b\b\b\b\b\b\b\b\b\b\b\b\b\b\b\b\b\b\b\b\b\b\b\b\b\b\b\b\b\b\b\b\b\b\b\b\b\b\b\b\b\b\b\b\b\b\b\b\b\b\b\b\b\b\b\b\b\b\b\b\b\b\b\b\b\b\b\b\b\b\b\b\b\b\b\b\b\b\b\b\b\b\b\b\b\b\b\b\b\b\b\b\b\b\b\b\b\b\b\b\b\b\b\b\b\b\b\b\b\b\b\b\b\b\b\b\b\b\b\b\b\b\b\b\b\b\b\b\b\b\b\b\b\b\b\b\b\b\b\b\b\b\b\b\b\b\b\b\b\b\b\b\b\b\b\b\b\b\b\b\b\b\b\b\b\b\b\b\b\b\b\b\b\b\b\b\b\b\b\b\b\b\b\b\b\b\b\b\b\b\b\b\b\b\b\b\b\b\b\b\b\b\b\b\b\b\b\b\b\b\b\b\b\b\b\b\b\b\b\b\b\b\b\b\b\b\b\b\b\b\b\b\b\b\b\b\b\b\b\b\b\b\b\b\b\b\b\b\b\b\b\b\b\b\b\b\b\b\b\b\b\b\b\b\b\b\b\b\b\b\b\b\b\b\b\b\b\b\b\b\b\b\b\b\b\b\b\b\b\b\b\b\b\b\b\b\b\b\b\b\b\b\b\b\b\b\b\b\b\b\b\b\b\b\b\b\b\b\b\b\b\b\b\b\b\b\b\b\b\b\b\b\b\b\b\b\b\b\b\b\b\b\b\b\b\b\b\b\b\b\b\b\b\b\b\b\b\b\b\b\b\b\b\b\b\b\b\b\b\b\b\b\b\b\b\b\b\b\b\b\b\b\b\b\b\b\b\b\b\b\b\b\b\b\b\b\b\b\b\b\b\b\b\b\b\b\b\b\b\b\b\b\b\b\b\b\b\b\b\b\b\b\b\b\b\b\b\b\b\b\b\b\b\b\b\b\b\b\b\b\b\b\b\b\b\b\b\b\b\b\b\b\b\b\b\b\b\b\b\b\b\b\b\b\b\b\b\b\b\b\b\b\b\b\b\b\b\b\b\b\b\b\b\b\b\b\b\b\b\b\b\b\b\b\b\b\b\b\b\b\b\b\b\b\b\b\b\b\b\b\b\b\b\b\b\b\b\b\b\b\b\b\b\b\b\b\b\b\b\b\b\b\b\b\b\b\b\b\b\b\b\b\b\b\b\b\b\b\b\b\b\b\b\b\b\b\b\b\b\b\b\b\b\b\b\b\b\b\b\b\b\b\b\b\b\b\b\b\b\b\b\b\b\b\b\b\b\b\b\b\b\b\b\b\b\b\b\b\b\b\b\b\b\b\b\b\b\b\b\b\b\b\b\b\b\b\b\b\b\b\b\b\b\b\b\b\b\b\b\b\b\b\b\b\b\b\b\b\b\b\b\b\b\b\b\b\b\b\b\b\b\b\b\b\b\b\b\b\b\b\b\b\b\b\b\b\b\b\b\b\b\b\b\b\b\b\b\b\b\b\b\b\b\b\b\b\b\b\b\b\b\b\b\b\b\b\b\b\b\b\b\b\b\b\b\b\b\b\b\b\b\b\b\b\b\b\b\b\b\b\b\b\b\b\b\b\b\b\b\b\b\b\b\b\b\b\b\b\b\b\b\b\b\b\b\b\b\b\b\b\b\b\b\b\b\b\b\b\b\b\b\b\b\b\b\b\b\b\b\b\b\b\b\b\b\b\b\b\b\b\b\b\b\b\b\b\b\b\b\b\b\b\b\b\b\b\b\b\b\b\b\b\b\b\b\b\b\b\b\b\b\b\b\b\b\b\b\b\b\b\b\b\b\b\b\b\b\b\b\b\b\b\b\b\b\b\b\b\b\b\b\b\b\b\b\b\b\b\b\b\b\b\b\b\b\b\b\b\b\b\b\b\b\b\b\b\b\b\b\b\b\b\b\b\b\b\b\b\b\b\b\b\b\b\b\b\b\b\b\b\b\b\b\b\b\b\b\b\b\b\b\b\b\b\b\b\b\b\b\b\b\b\b\b\b\b\b\b\b\b\b\b\b\b\b\b\b\b\b\b\b\b\b\b\b\b\b\b\b\b\b\b\b\b\b\b\b\b\b\b\b\b\b\b\b\b\b\b\b\b\b\b\b\b\b\b\b\b\b\b\b\b\b\b\b\b\b\b\b\b\b\b\b\b\b\b\b\b\b\b\b\b\b\b\b\b\b\b\b\b\b\b\b\b\b\b\b\b\b\b\b\b\b\b\b\b\b\b\b\b\b\b\b\b\b\b\b\b\b\b\b\b\b\b\b\b\b\b\b\b\b\b\b\b\b\b\b\b\b\b\b\b\b\b\b\b\b\b\b\b\b\b\b\b\b\b\b\b\b\b\b\b\b\b\b\b\b\b\b\b\b\b\b\b\b\b\b\b\b\b\b\b\b\b\b\b\b\b\b\b\b\b\b\b\b\b\b\b\b\b\b\b\b\b\b\b\b\b\b\b\b\b\b\b\b\b\b\b\b\b\b\b\b\b\b\b\b\b\b\b\b\b\b\b\b\b\b\b\b\b\b\b\b\b\b\b\b\b\b\b\b\b\b\b\b\b\b\b\b\b\b\b\b\b\b\b\b\b\b\b\b\b\b\b\b\b\b\b\b\b\b\b\b\b\b\b\b\b\b\b\b\b\b\b\b\b\b\b\b\b\b\b\b\b\b\b\b\b\b\b\b\b\b\b\b\b\b\b\b\b\b\b\b\b\b\b\b\b\b\b\b\b\b\b\b\b\b\b\b\b\b\b\b\b\b\b\b\b\b\b\b\b\b\b\b\b\b\b\b\b\b\b\b\b\b\b\b\b\b\b\b\b\b\b\b\b\b\b\b\b\b\b\b\b\b\b\b\b\b\b\b\b\b\b\b\b\b\b\b\b\b\b\b\b\b\b\b\b\b\b\b\b\b\b\b\b\b\b\b\b\b\b\b\b\b\b\b\b\b\b\b\b\b\b\b\b\b\b\b\b\b\b\b\b\b\b\b\b\b\b\b\b\b\b\b\b\b\b\b\b\b\b\b\b\b\b\b\b\b\b\b\b\b\b\b\b\b\b\b\b\b\b\b\b\b\b\b\b\b\b\b\b\b\b\b\b\b\b\b\b\b\b\b\b\b\b\b\b\b\b\b\b\b\b\b\b\b\b\b\b\b\b\b\b\b\b\b\b\b\b\b\b\b\b\b\b\b\b\b\b\b\b\b\b\b\b\b\b\b\b\b\b\b\b\b\b\b\b\b\b\b\b\b\b\b\b\b\b\b\b\b\b\b\b\b\b\b\b\b\b\b\b\b\b\b\b\b\b\b\b\b\b\b\b\b\b\b\b\b\b\b\b\b\b\b\b\b\b\b\b\b\b\b\b\b\b\b\b\b\b\b\b\b\b\b\b\b\b\b\b\b\b\b\b\b\b\b\b\b\b\b\b\b\b\b\b\b\b\b\b\b\b\b\b\b\b\b\b\b\n",
      "Epoch 3/4\n",
      "3397/3397 [==============================] - 3s - loss: 0.2833 - acc: 0.9073 - val_loss: 0.2491 - val_acc: 0.9211\b\b\b\b\b\b\b\b\b\b\b\b\b\b\b\b\b\b\b\b\b\b\b\b\b\b\b\b\b\b\b\b\b\b\b\b\b\b\b\b\b\b\b\b\b\b\b\b\b\b\b\b\b\b\b\b\b\b\b\b\b\b\b\b\b\b\b\b\b\b\b\b\b\b\b\b\b\b\b\b\b\b\b\b\b\b\b\b\b\b\b\b\b\b\b\b\b\b\b\b\b\b\b\b\b\b\b\b\b\b\b\b\b\b\b\b\b\b\b\b\b\b\b\b\b\b\b\b\b\b\b\b\b\b\b\b\b\b\b\b\b\b\b\b\b\b\b\b\b\b\b\b\b\b\b\b\b\b\b\b\b\b\b\b\b\b\b\b\b\b\b\b\b\b\b\b\b\b\b\b\b\b\b\b\b\b\b\b\b\b\b\b\b\b\b\b\b\b\b\b\b\b\b\b\b\b\b\b\b\b\b\b\b\b\b\b\b\b\b\b\b\b\b\b\b\b\b\b\b\b\b\b\b\b\b\b\b\b\b\b\b\b\b\b\b\b\b\b\b\b\b\b\b\b\b\b\b\b\b\b\b\b\b\b\b\b\b\b\b\b\b\b\b\b\b\b\b\b\b\b\b\b\b\b\b\b\b\b\b\b\b\b\b\b\b\b\b\b\b\b\b\b\b\b\b\b\b\b\b\b\b\b\b\b\b\b\b\b\b\b\b\b\b\b\b\b\b\b\b\b\b\b\b\b\b\b\b\b\b\b\b\b\b\b\b\b\b\b\b\b\b\b\b\b\b\b\b\b\b\b\b\b\b\b\b\b\b\b\b\b\b\b\b\b\b\b\b\b\b\b\b\b\b\b\b\b\b\b\b\b\b\b\b\b\b\b\b\b\b\b\b\b\b\b\b\b\b\b\b\b\b\b\b\b\b\b\b\b\b\b\b\b\b\b\b\b\b\b\b\b\b\b\b\b\b\b\b\b\b\b\b\b\b\b\b\b\b\b\b\b\b\b\b\b\b\b\b\b\b\b\b\b\b\b\b\b\b\b\b\b\b\b\b\b\b\b\b\b\b\b\b\b\b\b\b\b\b\b\b\b\b\b\b\b\b\b\b\b\b\b\b\b\b\b\b\b\b\b\b\b\b\b\b\b\b\b\b\b\b\b\b\b\b\b\b\b\b\b\b\b\b\b\b\b\b\b\b\b\b\b\b\b\b\b\b\b\b\b\b\b\b\b\b\b\b\b\b\b\b\b\b\b\b\b\b\b\b\b\b\b\b\b\b\b\b\b\b\b\b\b\b\b\b\b\b\b\b\b\b\b\b\b\b\b\b\b\b\b\b\b\b\b\b\b\b\b\b\b\b\b\b\b\b\b\b\b\b\b\b\b\b\b\b\b\b\b\b\b\b\b\b\b\b\b\b\b\b\b\b\b\b\b\b\b\b\b\b\b\b\b\b\b\b\b\b\b\b\b\b\b\b\b\b\b\b\b\b\b\b\b\b\b\b\b\b\b\b\b\b\b\b\b\b\b\b\b\b\b\b\b\b\b\b\b\b\b\b\b\b\b\b\b\b\b\b\b\b\b\b\b\b\b\b\b\b\b\b\b\b\b\b\b\b\b\b\b\b\b\b\b\b\b\b\b\b\b\b\b\b\b\b\b\b\b\b\b\b\b\b\b\b\b\b\b\b\b\b\b\b\b\b\b\b\b\b\b\b\b\b\b\b\b\b\b\b\b\b\b\b\b\b\b\b\b\b\b\b\b\b\b\b\b\b\b\b\b\b\b\b\b\b\b\b\b\b\b\b\b\b\b\b\b\b\b\b\b\b\b\b\b\b\b\b\b\b\b\b\b\b\b\b\b\b\b\b\b\b\b\b\b\b\b\b\b\b\b\b\b\b\b\b\b\b\b\b\b\b\b\b\b\b\b\b\b\b\b\b\b\b\b\b\b\b\b\b\b\b\b\b\b\b\b\b\b\b\b\b\b\b\b\b\b\b\b\b\b\b\b\b\b\b\b\b\b\b\b\b\b\b\b\b\b\b\b\b\b\b\b\b\b\b\b\b\b\b\b\b\b\b\b\b\b\b\b\b\b\b\b\b\b\b\b\b\b\b\b\b\b\b\b\b\b\b\b\b\b\b\b\b\b\b\b\b\b\b\b\b\b\b\b\b\b\b\b\b\b\b\b\b\b\b\b\b\b\b\b\b\b\b\b\b\b\b\b\b\b\b\b\b\b\b\b\b\b\b\b\b\b\b\b\b\b\b\b\b\b\b\b\b\b\b\b\b\b\b\b\b\b\b\b\b\b\b\b\b\b\b\b\b\b\b\b\b\b\b\b\b\b\b\b\b\b\b\b\b\b\b\b\b\b\b\b\b\b\b\b\b\b\b\b\b\b\b\b\b\b\b\b\b\b\b\b\b\b\b\b\b\b\b\b\b\b\b\b\b\b\b\b\b\b\b\b\b\b\b\b\b\b\b\b\b\b\b\b\b\b\b\b\b\b\b\b\b\b\b\b\b\b\b\b\b\b\b\b\b\b\b\b\b\b\b\b\b\b\b\b\b\b\b\b\b\b\b\b\b\b\b\b\b\b\b\b\b\b\b\b\b\b\b\b\b\b\b\b\b\b\b\b\b\b\b\b\b\b\b\b\b\b\b\b\b\b\b\b\b\b\b\b\b\b\b\b\b\b\b\b\b\b\b\b\b\b\b\b\b\b\b\b\b\b\b\b\b\b\b\b\b\b\b\b\b\b\b\b\b\b\b\b\b\b\b\b\b\b\b\b\b\b\b\b\b\b\b\b\b\b\b\b\b\b\b\b\b\b\b\b\b\b\b\b\b\b\b\b\b\b\b\b\b\b\b\b\b\b\b\b\b\b\b\b\b\b\b\b\b\b\b\b\b\b\b\b\b\b\b\b\b\b\b\b\b\b\b\b\b\b\b\b\b\b\b\b\b\b\b\b\b\b\b\b\b\b\b\b\b\b\b\b\b\b\b\b\b\b\b\b\b\b\b\b\b\b\b\b\b\b\b\b\b\b\b\b\b\b\b\b\b\b\b\b\b\b\b\b\b\b\b\b\b\b\b\b\b\b\b\b\b\b\b\b\b\b\b\b\b\b\b\b\b\b\b\b\b\b\b\b\b\b\b\b\b\b\b\b\b\b\b\b\b\b\b\b\b\b\b\b\b\b\b\b\b\b\b\b\b\b\b\b\b\b\b\b\b\b\b\b\b\b\b\b\b\b\b\b\b\b\b\b\b\b\b\b\b\b\b\b\b\b\b\b\b\b\b\b\b\b\b\b\b\b\b\b\b\b\b\b\b\b\b\b\b\b\b\b\b\b\b\b\b\b\b\b\b\b\b\b\b\b\b\b\b\b\b\b\b\b\b\b\b\b\b\b\b\b\b\b\b\b\b\b\b\b\b\b\b\b\b\b\b\b\b\b\b\b\b\b\b\b\b\b\b\b\b\b\b\b\b\b\b\b\b\b\b\b\b\b\b\b\b\b\b\b\b\b\b\b\b\b\b\b\b\b\b\b\b\b\b\b\b\b\b\b\b\b\b\b\b\b\b\b\b\b\b\b\b\b\b\b\b\b\b\b\b\b\b\b\b\b\b\b\b\b\b\b\b\b\b\b\b\b\b\b\b\b\b\b\b\b\b\b\b\b\b\b\b\b\b\b\b\b\b\b\b\b\b\b\b\b\b\b\b\b\b\b\b\b\b\b\b\b\b\b\b\b\b\b\b\b\b\b\b\b\b\b\b\b\b\b\b\b\b\b\b\b\b\b\b\b\b\b\b\b\b\b\b\b\b\b\b\b\b\b\b\b\b\b\b\b\b\b\b\b\b\b\b\b\b\b\b\b\b\b\b\b\b\b\b\b\b\b\b\b\b\b\b\b\b\b\b\b\b\b\b\b\b\b\b\b\b\b\b\b\b\b\b\b\b\b\b\b\b\b\b\b\b\b\b\b\b\b\b\b\b\b\b\b\b\b\b\b\b\b\b\b\b\b\b\b\b\b\b\b\b\b\b\b\b\b\b\b\b\b\b\b\b\b\b\b\b\b\b\b\b\b\b\b\b\b\b\b\b\b\b\b\b\b\b\b\b\b\b\b\b\b\b\b\b\b\b\b\b\b\b\b\b\b\b\b\b\b\b\b\b\b\b\b\b\b\b\b\b\b\b\b\b\b\b\b\b\b\b\b\b\b\b\b\b\b\b\b\b\b\b\b\b\b\b\b\b\b\b\b\b\b\b\b\b\b\b\b\b\b\b\b\b\b\b\b\b\b\b\b\b\b\b\b\b\b\b\b\b\b\b\b\b\b\b\b\b\b\b\b\b\b\b\b\b\b\b\b\b\b\b\b\b\b\b\b\b\b\b\b\b\b\b\b\b\b\b\b\b\b\b\b\b\b\b\b\b\b\b\b\b\b\b\b\b\b\b\b\b\b\b\b\b\b\b\b\b\b\b\b\b\b\b\b\b\b\b\b\b\b\b\b\b\b\b\b\b\b\b\b\b\b\b\b\b\b\b\b\b\b\b\b\b\b\b\b\b\b\b\b\b\b\b\b\b\b\b\b\b\b\b\b\b\b\b\b\b\b\b\b\b\b\b\b\b\b\b\b\b\b\b\b\b\b\b\b\b\b\b\b\b\b\b\b\b\b\b\b\b\b\b\b\b\b\b\b\b\b\b\b\b\b\b\b\b\b\b\b\b\b\b\b\b\b\b\b\b\b\b\b\b\b\b\b\b\b\b\b\b\b\b\b\b\b\b\b\b\b\b\b\b\b\b\b\b\b\b\b\b\b\b\b\b\b\b\b\b\b\b\b\b\b\b\b\b\b\b\b\b\b\b\b\b\b\b\b\b\b\b\b\b\b\b\b\b\b\b\b\b\b\b\b\b\b\b\b\b\b\b\b\b\b\b\b\b\b\b\b\b\b\b\b\b\b\b\b\b\b\b\b\b\b\b\b\b\b\b\b\b\b\b\b\b\b\b\b\b\b\b\b\b\b\b\b\b\b\b\b\b\b\b\b\b\b\b\b\b\b\b\b\b\b\b\b\b\b\b\b\b\b\b\b\b\b\b\b\b\b\b\b\b\b\b\b\b\b\b\b\b\b\b\b\b\b\b\b\b\b\b\b\b\b\b\b\b\b\b\b\b\b\b\b\b\b\b\b\b\b\b\b\b\b\b\b\b\b\b\b\b\b\b\b\b\b\b\b\b\b\b\b\b\b\b\b\b\b\b\b\b\b\b\b\b\b\b\b\b\b\b\b\b\b\b\b\b\b\b\b\b\b\b\b\b\b\b\b\b\b\b\b\b\b\b\b\b\b\b\b\b\b\b\b\b\b\b\b\b\b\b\b\b\b\b\b\b\b\b\b\b\b\b\b\b\b\b\b\b\b\b\b\b\b\b\b\b\b\b\b\b\b\b\b\b\b\b\b\b\b\b\b\b\b\b\b\b\b\b\b\b\b\b\b\b\b\b\b\b\b\b\b\b\b\b\b\b\b\b\b\b\b\b\b\b\b\b\b\b\b\b\b\b\b\b\b\b\b\b\b\b\b\b\b\b\b\b\b\b\b\b\b\b\b\b\b\b\b\b\b\b\b\b\b\b\b\b\b\b\b\b\b\b\b\b\b\b\b\b\b\b\b\b\b\b\b\b\b\b\b\b\b\b\b\b\b\b\b\b\b\b\b\b\b\b\b\b\b\b\b\b\b\b\b\b\b\b\b\b\b\b\b\b\b\b\b\b\b\b\b\b\b\b\b\b\b\b\b\b\b\b\b\b\b\b\b\b\b\b\b\b\b\b\b\b\b\b\b\b\b\b\b\b\b\b\b\b\b\b\b\b\b\b\b\b\b\b\b\b\b\b\b\b\b\b\b\b\b\b\b\b\b\b\b\b\b\b\b\b\b\b\b\b\b\b\b\b\b\b\b\b\b\b\b\b\b\b\b\b\b\b\b\b\b\b\b\b\b\b\b\b\b\b\b\b\b\b\b\b\b\b\b\b\b\b\b\b\b\b\b\b\b\b\b\b\b\b\b\b\b\b\b\b\b\b\b\b\b\b\b\b\b\b\b\b\b\b\b\b\b\b\b\b\b\b\b\b\b\b\b\b\b\b\b\b\b\b\b\b\b\b\b\b\b\b\b\b\b\b\b\b\b\b\b\b\b\b\b\b\b\b\b\b\b\b\b\b\b\b\b\b\b\b\b\b\b\b\b\b\b\b\b\b\b\b\b\b\b\b\b\b\b\b\b\b\b\b\b\b\b\b\b\b\b\b\b\b\b\b\b\b\b\b\b\b\b\b\b\b\b\b\b\b\b\b\b\b\b\b\b\b\b\b\b\b\b\b\b\b\b\b\b\b\b\b\b\b\b\b\b\b\b\b\b\b\b\b\b\b\b\b\b\b\b\b\b\b\b\b\b\b\b\b\b\b\b\b\b\b\b\b\b\b\b\b\b\b\b\b\b\b\b\b\b\b\b\b\b\b\b\b\b\b\b\b\b\b\b\b\b\b\b\b\b\b\b\b\b\b\b\b\b\b\b\b\b\b\b\b\b\b\b\b\b\b\b\b\b\b\b\b\b\b\b\b\b\b\b\b\b\b\b\b\b\b\b\b\b\b\b\b\b\b\b\b\b\b\b\b\b\b\b\b\b\b\b\b\b\b\b\b\b\b\b\b\b\b\b\b\b\b\b\b\b\b\b\b\b\b\b\b\b\b\b\b\b\b\b\b\b\b\b\b\b\b\b\b\b\b\b\b\b\b\b\b\b\b\b\b\b\b\b\b\b\b\b\b\b\b\b\b\b\b\b\b\b\b\b\b\b\b\b\b\b\b\b\b\b\b\b\b\b\b\b\b\b\b\b\b\b\b\b\b\b\b\b\b\b\b\b\b\b\b\b\b\b\b\b\b\b\b\b\b\b\b\b\b\b\b\b\b\b\b\b\b\b\b\b\b\b\b\b\b\b\b\b\b\b\b\b\b\b\b\b\b\b\b\b\b\b\b\b\b\b\b\b\b\b\b\b\b\b\b\b\b\b\b\b\b\b\b\b\b\b\b\b\b\b\b\b\b\b\b\b\b\b\b\b\b\b\b\b\b\b\b\b\b\b\b\b\b\b\b\b\b\b\b\b\b\b\b\b\b\b\b\b\b\b\b\b\b\b\b\b\b\b\b\b\b\b\b\b\b\b\b\b\b\b\b\b\b\b\b\b\b\b\b\b\b\b\b\b\b\b\b\b\b\b\b\b\b\b\b\b\b\b\b\b\b\b\b\b\b\b\b\b\b\b\b\b\b\b\b\b\b\b\b\b\b\b\b\b\b\b\b\b\b\b\b\b\b\b\b\b\b\b\b\b\b\b\b\b\b\b\b\b\b\b\b\b\b\b\b\b\b\b\b\b\b\b\b\b\b\b\b\b\b\b\b\b\b\b\b\b\b\b\b\b\b\b\b\b\b\b\b\b\b\b\b\b\b\b\b\b\b\b\b\b\b\b\b\b\b\b\b\b\b\b\b\b\b\b\b\b\b\b\b\b\b\b\b\b\b\b\b\b\b\b\b\b\b\b\b\b\b\b\b\b\b\b\b\b\b\b\b\b\b\b\b\b\b\b\b\b\b\b\b\b\b\b\b\b\b\b\b\b\b\b\b\b\b\b\b\b\b\b\b\b\b\b\b\b\b\b\b\b\b\b\b\b\b\b\b\b\b\b\b\b\b\b\b\b\b\b\b\b\b\b\b\b\b\b\b\b\b\b\b\b\b\b\b\b\b\b\b\b\b\b\b\b\b\b\b\b\b\b\b\b\b\b\b\b\b\b\b\b\b\b\b\b\b\b\b\b\b\b\b\b\b\b\b\b\b\b\b\b\b\b\b\b\b\b\b\b\b\b\b\b\b\b\b\b\b\b\b\b\b\b\b\b\b\b\b\b\b\b\b\b\b\b\b\b\b\b\b\b\b\b\b\b\b\b\b\b\b\b\b\b\b\b\b\b\b\b\b\b\b\b\b\b\b\b\b\b\b\b\b\b\b\b\b\b\b\b\b\b\b\b\b\b\b\b\b\b\b\b\b\b\b\b\b\b\b\b\b\b\b\b\b\b\b\b\b\b\b\b\b\b\b\b\b\b\b\b\b\b\b\b\b\b\b\b\b\b\b\b\b\b\b\b\b\b\b\b\b\b\b\b\b\b\b\b\b\b\b\b\b\b\b\b\b\b\b\b\b\b\b\b\b\b\b\b\b\b\b\b\b\b\b\b\b\b\b\b\b\b\b\b\b\b\b\b\b\b\b\b\b\b\b\b\b\b\b\b\b\b\b\b\b\b\b\b\b\b\b\b\b\b\b\b\b\b\b\b\b\b\b\b\b\b\b\b\b\b\b\b\b\b\b\b\b\b\b\b\b\b\b\b\b\b\b\b\b\b\b\b\b\b\b\b\b\b\b\b\b\b\b\b\b\b\b\b\b\b\b\b\b\b\b\b\b\b\b\b\b\b\b\b\b\b\b\b\b\b\b\b\b\b\b\b\b\b\b\b\b\b\b\b\b\b\b\b\b\b\b\b\b\b\b\b\b\b\b\b\b\b\b\b\b\b\b\b\b\b\b\b\b\b\b\b\b\b\b\b\b\b\b\b\b\b\b\b\b\b\b\b\b\b\b\b\b\b\b\b\b\b\b\b\b\b\b\b\b\b\b\b\b\b\b\b\b\b\b\b\b\b\b\b\b\b\b\b\b\b\b\b\b\b\b\b\b\b\b\b\b\b\b\b\b\b\b\b\b\b\b\b\b\b\b\b\b\b\b\b\b\b\b\b\b\b\b\b\b\b\b\b\b\b\b\b\b\b\b\b\b\b\b\b\b\b\b\b\b\b\b\b\b\b\b\b\b\b\b\b\b\b\b\b\b\b\b\b\b\b\b\b\b\b\b\b\b\b\b\b\b\b\b\b\b\b\b\b\b\b\b\b\b\b\b\b\b\b\b\b\b\b\b\b\b\b\b\b\b\b\b\b\b\b\b\b\b\b\b\b\b\b\b\b\b\b\b\b\b\b\b\b\b\b\b\b\b\b\b\b\b\b\b\b\b\b\b\b\b\b\b\b\b\b\b\b\b\b\b\b\b\b\b\b\b\b\b\b\b\b\b\b\b\b\b\b\b\b\b\b\b\b\b\b\b\b\b\b\b\b\b\b\b\b\b\b\b\b\b\b\b\b\b\b\b\b\b\b\b\b\b\b\b\b\b\b\b\b\b\b\b\b\b\b\b\b\b\b\b\b\b\b\b\b\b\b\b\b\b\b\b\b\b\b\b\b\b\b\b\b\b\b\b\b\b\b\b\b\b\b\b\b\b\b\b\b\b\b\b\b\b\b\b\b\b\b\b\b\b\b\b\b\b\b\b\b\b\b\b\b\b\b\b\b\b\b\b\b\b\b\b\b\b\b\b\b\b\b\b\b\b\b\b\b\b\b\b\b\b\b\b\b\b\b\b\b\b\b\b\b\b\b\b\b\b\b\b\n",
      "Epoch 4/4\n",
      "3397/3397 [==============================] - 3s - loss: 0.2771 - acc: 0.9031 - val_loss: 0.2482 - val_acc: 0.9289\b\b\b\b\b\b\b\b\b\b\b\b\b\b\b\b\b\b\b\b\b\b\b\b\b\b\b\b\b\b\b\b\b\b\b\b\b\b\b\b\b\b\b\b\b\b\b\b\b\b\b\b\b\b\b\b\b\b\b\b\b\b\b\b\b\b\b\b\b\b\b\b\b\b\b\b\b\b\b\b\b\b\b\b\b\b\b\b\b\b\b\b\b\b\b\b\b\b\b\b\b\b\b\b\b\b\b\b\b\b\b\b\b\b\b\b\b\b\b\b\b\b\b\b\b\b\b\b\b\b\b\b\b\b\b\b\b\b\b\b\b\b\b\b\b\b\b\b\b\b\b\b\b\b\b\b\b\b\b\b\b\b\b\b\b\b\b\b\b\b\b\b\b\b\b\b\b\b\b\b\b\b\b\b\b\b\b\b\b\b\b\b\b\b\b\b\b\b\b\b\b\b\b\b\b\b\b\b\b\b\b\b\b\b\b\b\b\b\b\b\b\b\b\b\b\b\b\b\b\b\b\b\b\b\b\b\b\b\b\b\b\b\b\b\b\b\b\b\b\b\b\b\b\b\b\b\b\b\b\b\b\b\b\b\b\b\b\b\b\b\b\b\b\b\b\b\b\b\b\b\b\b\b\b\b\b\b\b\b\b\b\b\b\b\b\b\b\b\b\b\b\b\b\b\b\b\b\b\b\b\b\b\b\b\b\b\b\b\b\b\b\b\b\b\b\b\b\b\b\b\b\b\b\b\b\b\b\b\b\b\b\b\b\b\b\b\b\b\b\b\b\b\b\b\b\b\b\b\b\b\b\b\b\b\b\b\b\b\b\b\b\b\b\b\b\b\b\b\b\b\b\b\b\b\b\b\b\b\b\b\b\b\b\b\b\b\b\b\b\b\b\b\b\b\b\b\b\b\b\b\b\b\b\b\b\b\b\b\b\b\b\b\b\b\b\b\b\b\b\b\b\b\b\b\b\b\b\b\b\b\b\b\b\b\b\b\b\b\b\b\b\b\b\b\b\b\b\b\b\b\b\b\b\b\b\b\b\b\b\b\b\b\b\b\b\b\b\b\b\b\b\b\b\b\b\b\b\b\b\b\b\b\b\b\b\b\b\b\b\b\b\b\b\b\b\b\b\b\b\b\b\b\b\b\b\b\b\b\b\b\b\b\b\b\b\b\b\b\b\b\b\b\b\b\b\b\b\b\b\b\b\b\b\b\b\b\b\b\b\b\b\b\b\b\b\b\b\b\b\b\b\b\b\b\b\b\b\b\b\b\b\b\b\b\b\b\b\b\b\b\b\b\b\b\b\b\b\b\b\b\b\b\b\b\b\b\b\b\b\b\b\b\b\b\b\b\b\b\b\b\b\b\b\b\b\b\b\b\b\b\b\b\b\b\b\b\b\b\b\b\b\b\b\b\b\b\b\b\b\b\b\b\b\b\b\b\b\b\b\b\b\b\b\b\b\b\b\b\b\b\b\b\b\b\b\b\b\b\b\b\b\b\b\b\b\b\b\b\b\b\b\b\b\b\b\b\b\b\b\b\b\b\b\b\b\b\b\b\b\b\b\b\b\b\b\b\b\b\b\b\b\b\b\b\b\b\b\b\b\b\b\b\b\b\b\b\b\b\b\b\b\b\b\b\b\b\b\b\b\b\b\b\b\b\b\b\b\b\b\b\b\b\b\b\b\b\b\b\b\b\b\b\b\b\b\b\b\b\b\b\b\b\b\b\b\b\b\b\b\b\b\b\b\b\b\b\b\b\b\b\b\b\b\b\b\b\b\b\b\b\b\b\b\b\b\b\b\b\b\b\b\b\b\b\b\b\b\b\b\b\b\b\b\b\b\b\b\b\b\b\b\b\b\b\b\b\b\b\b\b\b\b\b\b\b\b\b\b\b\b\b\b\b\b\b\b\b\b\b\b\b\b\b\b\b\b\b\b\b\b\b\b\b\b\b\b\b\b\b\b\b\b\b\b\b\b\b\b\b\b\b\b\b\b\b\b\b\b\b\b\b\b\b\b\b\b\b\b\b\b\b\b\b\b\b\b\b\b\b\b\b\b\b\b\b\b\b\b\b\b\b\b\b\b\b\b\b\b\b\b\b\b\b\b\b\b\b\b\b\b\b\b\b\b\b\b\b\b\b\b\b\b\b\b\b\b\b\b\b\b\b\b\b\b\b\b\b\b\b\b\b\b\b\b\b\b\b\b\b\b\b\b\b\b\b\b\b\b\b\b\b\b\b\b\b\b\b\b\b\b\b\b\b\b\b\b\b\b\b\b\b\b\b\b\b\b\b\b\b\b\b\b\b\b\b\b\b\b\b\b\b\b\b\b\b\b\b\b\b\b\b\b\b\b\b\b\b\b\b\b\b\b\b\b\b\b\b\b\b\b\b\b\b\b\b\b\b\b\b\b\b\b\b\b\b\b\b\b\b\b\b\b\b\b\b\b\b\b\b\b\b\b\b\b\b\b\b\b\b\b\b\b\b\b\b\b\b\b\b\b\b\b\b\b\b\b\b\b\b\b\b\b\b\b\b\b\b\b\b\b\b\b\b\b\b\b\b\b\b\b\b\b\b\b\b\b\b\b\b\b\b\b\b\b\b\b\b\b\b\b\b\b\b\b\b\b\b\b\b\b\b\b\b\b\b\b\b\b\b\b\b\b\b\b\b\b\b\b\b\b\b\b\b\b\b\b\b\b\b\b\b\b\b\b\b\b\b\b\b\b\b\b\b\b\b\b\b\b\b\b\b\b\b\b\b\b\b\b\b\b\b\b\b\b\b\b\b\b\b\b\b\b\b\b\b\b\b\b\b\b\b\b\b\b\b\b\b\b\b\b\b\b\b\b\b\b\b\b\b\b\b\b\b\b\b\b\b\b\b\b\b\b\b\b\b\b\b\b\b\b\b\b\b\b\b\b\b\b\b\b\b\b\b\b\b\b\b\b\b\b\b\b\b\b\b\b\b\b\b\b\b\b\b\b\b\b\b\b\b\b\b\b\b\b\b\b\b\b\b\b\b\b\b\b\b\b\b\b\b\b\b\b\b\b\b\b\b\b\b\b\b\b\b\b\b\b\b\b\b\b\b\b\b\b\b\b\b\b\b\b\b\b\b\b\b\b\b\b\b\b\b\b\b\b\b\b\b\b\b\b\b\b\b\b\b\b\b\b\b\b\b\b\b\b\b\b\b\b\b\b\b\b\b\b\b\b\b\b\b\b\b\b\b\b\b\b\b\b\b\b\b\b\b\b\b\b\b\b\b\b\b\b\b\b\b\b\b\b\b\b\b\b\b\b\b\b\b\b\b\b\b\b\b\b\b\b\b\b\b\b\b\b\b\b\b\b\b\b\b\b\b\b\b\b\b\b\b\b\b\b\b\b\b\b\b\b\b\b\b\b\b\b\b\b\b\b\b\b\b\b\b\b\b\b\b\b\b\b\b\b\b\b\b\b\b\b\b\b\b\b\b\b\b\b\b\b\b\b\b\b\b\b\b\b\b\b\b\b\b\b\b\b\b\b\b\b\b\b\b\b\b\b\b\b\b\b\b\b\b\b\b\b\b\b\b\b\b\b\b\b\b\b\b\b\b\b\b\b\b\b\b\b\b\b\b\b\b\b\b\b\b\b\b\b\b\b\b\b\b\b\b\b\b\b\b\b\b\b\b\b\b\b\b\b\b\b\b\b\b\b\b\b\b\b\b\b\b\b\b\b\b\b\b\b\b\b\b\b\b\b\b\b\b\b\b\b\b\b\b\b\b\b\b\b\b\b\b\b\b\b\b\b\b\b\b\b\b\b\b\b\b\b\b\b\b\b\b\b\b\b\b\b\b\b\b\b\b\b\b\b\b\b\b\b\b\b\b\b\b\b\b\b\b\b\b\b\b\b\b\b\b\b\b\b\b\b\b\b\b\b\b\b\b\b\b\b\b\b\b\b\b\b\b\b\b\b\b\b\b\b\b\b\b\b\b\b\b\b\b\b\b\b\b\b\b\b\b\b\b\b\b\b\b\b\b\b\b\b\b\b\b\b\b\b\b\b\b\b\b\b\b\b\b\b\b\b\b\b\b\b\b\b\b\b\b\b\b\b\b\b\b\b\b\b\b\b\b\b\b\b\b\b\b\b\b\b\b\b\b\b\b\b\b\b\b\b\b\b\b\b\b\b\b\b\b\b\b\b\b\b\b\b\b\b\b\b\b\b\b\b\b\b\b\b\b\b\b\b\b\b\b\b\b\b\b\b\b\b\b\b\b\b\b\b\b\b\b\b\b\b\b\b\b\b\b\b\b\b\b\b\b\b\b\b\b\b\b\b\b\b\b\b\b\b\b\b\b\b\b\b\b\b\b\b\b\b\b\b\b\b\b\b\b\b\b\b\b\b\b\b\b\b\b\b\b\b\b\b\b\b\b\b\b\b\b\b\b\b\b\b\b\b\b\b\b\b\b\b\b\b\b\b\b\b\b\b\b\b\b\b\b\b\b\b\b\b\b\b\b\b\b\b\b\b\b\b\b\b\b\b\b\b\b\b\b\b\b\b\b\b\b\b\b\b\b\b\b\b\b\b\b\b\b\b\b\b\b\b\b\b\b\b\b\b\b\b\b\b\b\b\b\b\b\b\b\b\b\b\b\b\b\b\b\b\b\b\b\b\b\b\b\b\b\b\b\b\b\b\b\b\b\b\b\b\b\b\b\b\b\b\b\b\b\b\b\b\b\b\b\b\b\b\b\b\b\b\b\b\b\b\b\b\b\b\b\b\b\b\b\b\b\b\b\b\b\b\b\b\b\b\b\b\b\b\b\b\b\b\b\b\b\b\b\b\b\b\b\b\b\b\b\b\b\b\b\b\b\b\b\b\b\b\b\b\b\b\b\b\b\b\b\b\b\b\b\b\b\b\b\b\b\b\b\b\b\b\b\b\b\b\b\b\b\b\b\b\b\b\b\b\b\b\b\b\b\b\b\b\b\b\b\b\b\b\b\b\b\b\b\b\b\b\b\b\b\b\b\b\b\b\b\b\b\b\b\b\b\b\b\b\b\b\b\b\b\b\b\b\b\b\b\b\b\b\b\b\b\b\b\b\b\b\b\b\b\b\b\b\b\b\b\b\b\b\b\b\b\b\b\b\b\b\b\b\b\b\b\b\b\b\b\b\b\b\b\b\b\b\b\b\b\b\b\b\b\b\b\b\b\b\b\b\b\b\b\b\b\b\b\b\b\b\b\b\b\b\b\b\b\b\b\b\b\b\b\b\b\b\b\b\b\b\b\b\b\b\b\b\b\b\b\b\b\b\b\b\b\b\b\b\b\b\b\b\b\b\b\b\b\b\b\b\b\b\b\b\b\b\b\b\b\b\b\b\b\b\b\b\b\b\b\b\b\b\b\b\b\b\b\b\b\b\b\b\b\b\b\b\b\b\b\b\b\b\b\b\b\b\b\b\b\b\b\b\b\b\b\b\b\b\b\b\b\b\b\b\b\b\b\b\b\b\b\b\b\b\b\b\b\b\b\b\b\b\b\b\b\b\b\b\b\b\b\b\b\b\b\b\b\b\b\b\b\b\b\b\b\b\b\b\b\b\b\b\b\b\b\b\b\b\b\b\b\b\b\b\b\b\b\b\b\b\b\b\b\b\b\b\b\b\b\b\b\b\b\b\b\b\b\b\b\b\b\b\b\b\b\b\b\b\b\b\b\b\b\b\b\b\b\b\b\b\b\b\b\b\b\b\b\b\b\b\b\b\b\b\b\b\b\b\b\b\b\b\b\b\b\b\b\b\b\b\b\b\b\b\b\b\b\b\b\b\b\b\b\b\b\b\b\b\b\b\b\b\b\b\b\b\b\b\b\b\b\b\b\b\b\b\b\b\b\b\b\b\b\b\b\b\b\b\b\b\b\b\b\b\b\b\b\b\b\b\b\b\b\b\b\b\b\b\b\b\b\b\b\b\b\b\b\b\b\b\b\b\b\b\b\b\b\b\b\b\b\b\b\b\b\b\b\b\b\b\b\b\b\b\b\b\b\b\b\b\b\b\b\b\b\b\b\b\b\b\b\b\b\b\b\b\b\b\b\b\b\b\b\b\b\b\b\b\b\b\b\b\b\b\b\b\b\b\b\b\b\b\b\b\b\b\b\b\b\b\b\b\b\b\b\b\b\b\b\b\b\b\b\b\b\b\b\b\b\b\b\b\b\b\b\b\b\b\b\b\b\b\b\b\b\b\b\b\b\b\b\b\b\b\b\b\b\b\b\b\b\b\b\b\b\b\b\b\b\b\b\b\b\b\b\b\b\b\b\b\b\b\b\b\b\b\b\b\b\b\b\b\b\b\b\b\b\b\b\b\b\b\b\b\b\b\b\b\b\b\b\b\b\b\b\b\b\b\b\b\b\b\b\b\b\b\b\b\b\b\b\b\b\b\b\b\b\b\b\b\b\b\b\b\b\b\b\b\b\b\b\b\b\b\b\b\b\b\b\b\b\b\b\b\b\b\b\b\b\b\b\b\b\b\b\b\b\b\b\b\b\b\b\b\b\b\b\b\b\b\b\b\b\b\b\b\b\b\b\b\b\b\b\b\b\b\b\b\b\b\b\b\b\b\b\b\b\b\b\b\b\b\b\b\b\b\b\b\b\b\b\b\b\b\b\b\b\b\b\b\b\b\b\b\b\b\b\b\b\b\b\b\b\b\b\b\b\b\b\b\b\b\b\b\b\b\b\b\b\b\b\b\b\b\b\b\b\b\b\b\b\b\b\b\b\b\b\b\b\b\b\b\b\b\b\b\b\b\b\b\b\b\b\b\b\b\b\b\b\b\b\b\b\b\b\b\b\b\b\b\b\b\b\b\b\b\b\b\b\b\b\b\b\b\b\b\b\b\b\b\b\b\b\b\b\b\b\b\b\b\b\b\b\b\b\b\b\b\b\b\b\b\b\b\b\b\b\b\b\b\b\b\b\b\b\b\b\b\b\b\b\b\b\b\b\b\b\b\b\b\b\b\b\b\b\b\b\b\b\b\b\b\b\b\b\b\b\b\b\b\b\b\b\b\b\b\b\b\b\b\b\b\b\b\b\b\b\b\b\b\b\b\b\b\b\b\b\b\b\b\b\b\b\b\b\b\b\b\b\b\b\b\b\b\b\b\b\b\b\b\b\b\b\b\b\b\b\b\b\b\b\b\b\b\b\b\b\b\b\b\b\b\b\b\b\b\b\b\b\b\b\b\b\b\b\b\b\b\b\b\b\b\b\b\b\b\b\b\b\b\b\b\b\b\b\b\b\b\b\b\b\b\b\b\b\b\b\b\b\b\b\b\b\b\b\b\b\b\b\b\b\b\b\b\b\b\b\b\b\b\b\b\b\b\b\b\b\b\b\b\b\b\b\b\b\b\b\b\b\b\b\b\b\b\b\b\b\b\b\b\b\b\b\b\b\b\b\b\b\b\b\b\b\b\b\b\b\b\b\b\b\b\b\b\b\b\b\b\b\b\b\b\b\b\b\b\b\b\b\b\b\b\b\b\b\b\b\b\b\b\b\b\b\b\b\b\b\b\b\b\b\b\b\b\b\b\b\b\b\b\b\b\b\b\b\b\b\b\b\b\b\b\b\b\b\b\b\b\b\b\b\b\b\b\b\b\b\b\b\b\b\b\b\b\b\b\b\b\b\b\b\b\b\b\b\b\b\b\b\b\b\b\b\b\b\b\b\b\b\b\b\b\b\b\b\b\b\b\b\b\b\b\b\b\b\b\b\b\b\b\b\b\b\b\b\b\b\b\b\b\b\b\b\b\b\b\b\b\b\b\b\b\b\b\b\b\b\b\b\b\b\b\b\b\b\b\b\b\b\b\b\b\b\b\b\b\b\b\b\b\b\b\b\b\b\b\b\b\b\b\b\b\b\b\b\b\b\b\b\b\b\b\b\b\b\b\b\b\b\b\b\b\b\b\b\b\b\b\b\b\b\b\b\b\b\b\b\b\b\b\b\b\b\b\b\b\b\b\b\b\b\b\b\b\b\b\b\b\b\b\b\b\b\b\b\b\b\b\b\b\b\b\b\b\b\b\b\b\b\b\b\b\b\b\b\b\b\b\b\b\b\b\b\b\b\b\b\b\b\b\b\b\b\b\b\b\b\b\b\b\b\b\b\b\b\b\b\b\b\b\b\b\b\b\b\b\b\b\b\b\b\b\b\b\b\b\b\b\b\b\b\b\b\b\b\b\b\b\b\b\b\b\b\b\b\b\b\b\b\b\b\b\b\b\b\b\b\b\b\b\b\b\b\b\b\b\b\b\b\b\b\b\b\b\b\b\b\b\b\b\b\b\b\b\b\b\b\b\b\b\b\b\b\b\b\b\b\b\b\b\b\b\b\b\b\b\b\b\b\b\b\b\b\b\b\b\b\b\b\b\b\b\b\b\b\b\b\b\b\b\b\b\b\b\b\b\b\b\b\b\b\b\b\b\b\b\b\b\b\b\b\b\b\b\b\b\b\b\b\b\b\b\b\b\b\b\b\b\b\b\b\b\b\b\b\b\b\b\b\b\b\b\b\b\b\b\b\b\b\b\b\b\b\b\b\b\b\b\b\b\b\b\b\b\b\b\b\b\b\b\b\b\b\b\b\b\b\b\b\b\b\b\b\b\b\b\b\b\b\b\b\b\b\b\b\b\b\b\b\b\b\b\b\b\b\b\b\b\b\b\b\b\b\b\b\b\b\b\b\b\b\b\b\b\b\b\b\b\b\b\b\b\b\b\b\b\b\b\b\b\b\b\b\b\b\b\b\b\b\b\b\b\b\b\b\b\b\b\b\b\b\b\b\b\b\b\b\b\b\b\b\b\b\b\b\b\b\b\b\b\b\b\b\b\b\b\b\b\b\b\b\b\b\b\b\b\b\b\b\b\b\b\b\b\b\b\b\b\b\b\b\b\b\b\b\b\b\b\b\b\b\b\b\b\b\b\b\b\b\b\b\b\b\b\b\b\b\b\b\b\b\b\b\b\b\b\b\b\b\b\b\b\b\b\b\b\b\b\b\b\b\b\b\b\b\b\b\b\b\b\b\b\b\b\b\b\b\b\b\b\b\b\b\b\b\b\b\b\b\b\b\b\b\b\b\b\b\b\b\b\b\b\b\b\b\b\b\b\b\b\b\b\b\b\b\b\b\b\b\b\b\b\b\b\b\b\b\b\b\b\b\b\b\b\b\b\b\b\b\b\b\b\b\b\b\b\b\b\b\b\b\b\b\b\b\b\b\b\b\b\b\b\b\b\b\b\b\b\b\b\b\b\b\b\b\b\b\b\b\b\b\b\b\b\b\b\b\b\b\b\b\b\b\b\b\b\b\b\b\b\b\b\b\b\b\b\b\b\b\b\b\b\b\b\b\b\b\b\b\b\b\b\b\b\b\b\b\b\b\b\b\b\b\b\b\b\b\b\b\b\b\b\b\b\b\b\b\b\b\b\b\b\b\b\b\b\b\b\b\b\b\b\b\b\b\b\b\b\b\b\b\b\b\b\b\b\b\b\b\b\b\b\b\b\b\b\b\b\b\n"
     ]
    }
   ],
   "source": [
    "classifier_model_v2 = fit_precomputed_helper(classifier_model_v2, \"classifier_model_v2\", lr=0.0001, nb_epoch=4)\n",
    "# Ran n times"
   ]
  },
  {
   "cell_type": "markdown",
   "metadata": {
    "deletable": true,
    "editable": true
   },
   "source": [
    "Visualise validation predictions with confusion matrix."
   ]
  },
  {
   "cell_type": "code",
   "execution_count": 16,
   "metadata": {
    "collapsed": false,
    "deletable": true,
    "editable": true
   },
   "outputs": [],
   "source": [
    "def create_prediction_actual_mappings(filenames, labels):\n",
    "    class_mapping = [\"ALB\",\"BET\",\"DOL\",\"LAG\",\"NoF\",\"OTHER\",\"SHARK\",\"YFT\"]\n",
    "\n",
    "    prediction_actual_mappings = {\"ALB\": {\n",
    "        \"ALB\": [], \"BET\":[], \"DOL\": [],\"LAG\": [],\"NoF\": [],\"OTHER\": [],\"SHARK\": [],\"YFT\": []\n",
    "    },\"BET\":{\n",
    "        \"ALB\": [], \"BET\":[], \"DOL\": [],\"LAG\": [],\"NoF\": [],\"OTHER\": [],\"SHARK\": [],\"YFT\": []\n",
    "    }, \"DOL\": {\n",
    "        \"ALB\": [], \"BET\":[], \"DOL\": [],\"LAG\": [],\"NoF\": [],\"OTHER\": [],\"SHARK\": [],\"YFT\": []\n",
    "    },\"LAG\": {\n",
    "        \"ALB\": [], \"BET\":[], \"DOL\": [],\"LAG\": [],\"NoF\": [],\"OTHER\": [],\"SHARK\": [],\"YFT\": []\n",
    "    },\"NoF\": {\n",
    "        \"ALB\": [], \"BET\":[], \"DOL\": [],\"LAG\": [],\"NoF\": [],\"OTHER\": [],\"SHARK\": [],\"YFT\": []\n",
    "    },\"OTHER\": {\n",
    "        \"ALB\": [], \"BET\":[], \"DOL\": [],\"LAG\": [],\"NoF\": [],\"OTHER\": [],\"SHARK\": [],\"YFT\": []\n",
    "    },\"SHARK\": {\n",
    "        \"ALB\": [], \"BET\":[], \"DOL\": [],\"LAG\": [],\"NoF\": [],\"OTHER\": [],\"SHARK\": [],\"YFT\": []    \n",
    "    },\"YFT\": {\n",
    "        \"ALB\": [], \"BET\":[], \"DOL\": [],\"LAG\": [],\"NoF\": [],\"OTHER\": [],\"SHARK\": [],\"YFT\": []\n",
    "        }}\n",
    "\n",
    "    idx = 0\n",
    "    for file in filenames:\n",
    "        actual_class = file.split(\"/\")[0]\n",
    "        filename = file.split(\"/\")[1]\n",
    "\n",
    "        #print(idx)\n",
    "        predict_idx = np.argmax(labels[idx])\n",
    "        #print(predict_idx)\n",
    "        predict_class = class_mapping[predict_idx]\n",
    "        #print(predict_class)\n",
    "\n",
    "        prediction_actual_mappings[predict_class][actual_class].append(filename)\n",
    "\n",
    "        idx += 1\n",
    "\n",
    "    return prediction_actual_mappings\n",
    "\n",
    "def prepare_prediction_actual_mappings_for_confusion(prediction_actual_mappings):\n",
    "    x_and_y_labels = []\n",
    "    counts = []\n",
    "\n",
    "    for predicted_class, actual_filenames in sorted(prediction_actual_mappings.items()):\n",
    "        x_and_y_labels.append(predicted_class)\n",
    "\n",
    "        row_counts = []\n",
    "        for actual_class, filenames in sorted(actual_filenames.items()):\n",
    "            # for filename in filenames:\n",
    "            row_counts.append(len(filenames))\n",
    "        counts.append(row_counts)\n",
    "\n",
    "    # Transpose to follow standard of \"Actual\" on side axis, \"Predicted\" on top\n",
    "    counts = np.matrix(counts).transpose().tolist()\n",
    "    return counts, x_and_y_labels"
   ]
  },
  {
   "cell_type": "code",
   "execution_count": 25,
   "metadata": {
    "collapsed": false,
    "deletable": true,
    "editable": true
   },
   "outputs": [
    {
     "data": {
      "text/html": [
       "<script>requirejs.config({paths: { 'plotly': ['https://cdn.plot.ly/plotly-latest.min']},});if(!window.Plotly) {{require(['plotly'],function(plotly) {window.Plotly=plotly;});}}</script>"
      ],
      "text/vnd.plotly.v1+html": [
       "<script>requirejs.config({paths: { 'plotly': ['https://cdn.plot.ly/plotly-latest.min']},});if(!window.Plotly) {{require(['plotly'],function(plotly) {window.Plotly=plotly;});}}</script>"
      ]
     },
     "metadata": {},
     "output_type": "display_data"
    }
   ],
   "source": [
    "# import numpy as np\n",
    "# from plotly.offline import plot\n",
    "# import plotly.graph_objs as go\n",
    "\n",
    "from plotly import __version__\n",
    "from plotly.offline import init_notebook_mode, iplot\n",
    "init_notebook_mode(connected=True) # connect to notebook\n",
    "import plotly.graph_objs as go\n",
    "\n",
    "def show_confusion_matrix(counts, x_and_y_labels, main_title=\"Confusion Matrix\"):\n",
    "\n",
    "    # Plot\n",
    "    colorscale = [[0, '#deebf7'], [1, '#3182bd']]  # custom colorscale\n",
    "    # colorscale = [[0, '#ffeda0'], [1, '#f03b20']]  # custom colorscale\n",
    "\n",
    "    trace = go.Heatmap(\n",
    "        z=counts,\n",
    "        x=x_and_y_labels,\n",
    "        y=x_and_y_labels,\n",
    "        colorscale=colorscale,\n",
    "        showscale=True\n",
    "    )\n",
    "\n",
    "    # Add text labels to each grid cell\n",
    "    annotations = []\n",
    "    z = counts\n",
    "    x = x_and_y_labels\n",
    "    y = x_and_y_labels\n",
    "    for n, row in enumerate(z):\n",
    "        for m, val in enumerate(row):\n",
    "            #var = z[n][m]\n",
    "            annotations.append(\n",
    "                dict(\n",
    "                    hovertext=\"TODO: Add list of files here (corresponding to hover box)\",\n",
    "                    text=str(val),\n",
    "                    x=x[m], y=y[n],\n",
    "                    xref='x1', yref='y1',\n",
    "                    font=dict(color='white' if val > 0.5 else 'black'),\n",
    "                    showarrow=False)\n",
    "            )\n",
    "\n",
    "    # Create firgure from text labels and heatmap\n",
    "    fig = go.Figure(data=[trace])\n",
    "    fig['layout'].update(\n",
    "        title=main_title,\n",
    "        annotations=annotations,\n",
    "        xaxis=dict(ticks='', side='bottom', title='Predicted'),\n",
    "        # ticksuffix is a workaround to add a bit of padding\n",
    "        yaxis=dict(ticks='', ticksuffix='  ', title='Actual', ),\n",
    "        width=700,\n",
    "        height=700,\n",
    "        autosize=False\n",
    "    )\n",
    "\n",
    "    iplot(fig, show_link=False)"
   ]
  },
  {
   "cell_type": "code",
   "execution_count": 33,
   "metadata": {
    "collapsed": true,
    "deletable": true,
    "editable": true
   },
   "outputs": [],
   "source": [
    "def create_confusion_matrix_helper(model):\n",
    "    predictions = model.predict(val_conv_features, batch_size=38)\n",
    "\n",
    "    prediction_actual_mappings = create_prediction_actual_mappings(val_filenames, predictions)\n",
    "    \n",
    "    counts, x_and_y_labels = prepare_prediction_actual_mappings_for_confusion(prediction_actual_mappings)\n",
    "    \n",
    "    show_confusion_matrix(counts, x_and_y_labels)\n",
    "    \n",
    "    return prediction_actual_mappings"
   ]
  },
  {
   "cell_type": "code",
   "execution_count": 35,
   "metadata": {
    "collapsed": false,
    "deletable": true,
    "editable": true
   },
   "outputs": [
    {
     "data": {
      "application/vnd.plotly.v1+json": {
       "data": [
        {
         "colorscale": [
          [
           0,
           "#deebf7"
          ],
          [
           1,
           "#3182bd"
          ]
         ],
         "showscale": true,
         "type": "heatmap",
         "x": [
          "ALB",
          "BET",
          "DOL",
          "LAG",
          "NoF",
          "OTHER",
          "SHARK",
          "YFT"
         ],
         "y": [
          "ALB",
          "BET",
          "DOL",
          "LAG",
          "NoF",
          "OTHER",
          "SHARK",
          "YFT"
         ],
         "z": [
          [
           163,
           1,
           1,
           0,
           4,
           0,
           0,
           3
          ],
          [
           2,
           18,
           0,
           0,
           0,
           0,
           0,
           0
          ],
          [
           0,
           0,
           12,
           0,
           0,
           0,
           0,
           0
          ],
          [
           0,
           0,
           0,
           7,
           0,
           0,
           0,
           0
          ],
          [
           7,
           0,
           0,
           0,
           40,
           0,
           0,
           0
          ],
          [
           2,
           0,
           0,
           0,
           0,
           28,
           0,
           0
          ],
          [
           0,
           0,
           0,
           0,
           0,
           0,
           18,
           0
          ],
          [
           1,
           0,
           0,
           0,
           0,
           0,
           0,
           73
          ]
         ]
        }
       ],
       "layout": {
        "annotations": [
         {
          "font": {
           "color": "white"
          },
          "hovertext": "TODO: Add list of files here (corresponding to hover box)",
          "showarrow": false,
          "text": "163",
          "x": "ALB",
          "xref": "x1",
          "y": "ALB",
          "yref": "y1"
         },
         {
          "font": {
           "color": "white"
          },
          "hovertext": "TODO: Add list of files here (corresponding to hover box)",
          "showarrow": false,
          "text": "1",
          "x": "BET",
          "xref": "x1",
          "y": "ALB",
          "yref": "y1"
         },
         {
          "font": {
           "color": "white"
          },
          "hovertext": "TODO: Add list of files here (corresponding to hover box)",
          "showarrow": false,
          "text": "1",
          "x": "DOL",
          "xref": "x1",
          "y": "ALB",
          "yref": "y1"
         },
         {
          "font": {
           "color": "black"
          },
          "hovertext": "TODO: Add list of files here (corresponding to hover box)",
          "showarrow": false,
          "text": "0",
          "x": "LAG",
          "xref": "x1",
          "y": "ALB",
          "yref": "y1"
         },
         {
          "font": {
           "color": "white"
          },
          "hovertext": "TODO: Add list of files here (corresponding to hover box)",
          "showarrow": false,
          "text": "4",
          "x": "NoF",
          "xref": "x1",
          "y": "ALB",
          "yref": "y1"
         },
         {
          "font": {
           "color": "black"
          },
          "hovertext": "TODO: Add list of files here (corresponding to hover box)",
          "showarrow": false,
          "text": "0",
          "x": "OTHER",
          "xref": "x1",
          "y": "ALB",
          "yref": "y1"
         },
         {
          "font": {
           "color": "black"
          },
          "hovertext": "TODO: Add list of files here (corresponding to hover box)",
          "showarrow": false,
          "text": "0",
          "x": "SHARK",
          "xref": "x1",
          "y": "ALB",
          "yref": "y1"
         },
         {
          "font": {
           "color": "white"
          },
          "hovertext": "TODO: Add list of files here (corresponding to hover box)",
          "showarrow": false,
          "text": "3",
          "x": "YFT",
          "xref": "x1",
          "y": "ALB",
          "yref": "y1"
         },
         {
          "font": {
           "color": "white"
          },
          "hovertext": "TODO: Add list of files here (corresponding to hover box)",
          "showarrow": false,
          "text": "2",
          "x": "ALB",
          "xref": "x1",
          "y": "BET",
          "yref": "y1"
         },
         {
          "font": {
           "color": "white"
          },
          "hovertext": "TODO: Add list of files here (corresponding to hover box)",
          "showarrow": false,
          "text": "18",
          "x": "BET",
          "xref": "x1",
          "y": "BET",
          "yref": "y1"
         },
         {
          "font": {
           "color": "black"
          },
          "hovertext": "TODO: Add list of files here (corresponding to hover box)",
          "showarrow": false,
          "text": "0",
          "x": "DOL",
          "xref": "x1",
          "y": "BET",
          "yref": "y1"
         },
         {
          "font": {
           "color": "black"
          },
          "hovertext": "TODO: Add list of files here (corresponding to hover box)",
          "showarrow": false,
          "text": "0",
          "x": "LAG",
          "xref": "x1",
          "y": "BET",
          "yref": "y1"
         },
         {
          "font": {
           "color": "black"
          },
          "hovertext": "TODO: Add list of files here (corresponding to hover box)",
          "showarrow": false,
          "text": "0",
          "x": "NoF",
          "xref": "x1",
          "y": "BET",
          "yref": "y1"
         },
         {
          "font": {
           "color": "black"
          },
          "hovertext": "TODO: Add list of files here (corresponding to hover box)",
          "showarrow": false,
          "text": "0",
          "x": "OTHER",
          "xref": "x1",
          "y": "BET",
          "yref": "y1"
         },
         {
          "font": {
           "color": "black"
          },
          "hovertext": "TODO: Add list of files here (corresponding to hover box)",
          "showarrow": false,
          "text": "0",
          "x": "SHARK",
          "xref": "x1",
          "y": "BET",
          "yref": "y1"
         },
         {
          "font": {
           "color": "black"
          },
          "hovertext": "TODO: Add list of files here (corresponding to hover box)",
          "showarrow": false,
          "text": "0",
          "x": "YFT",
          "xref": "x1",
          "y": "BET",
          "yref": "y1"
         },
         {
          "font": {
           "color": "black"
          },
          "hovertext": "TODO: Add list of files here (corresponding to hover box)",
          "showarrow": false,
          "text": "0",
          "x": "ALB",
          "xref": "x1",
          "y": "DOL",
          "yref": "y1"
         },
         {
          "font": {
           "color": "black"
          },
          "hovertext": "TODO: Add list of files here (corresponding to hover box)",
          "showarrow": false,
          "text": "0",
          "x": "BET",
          "xref": "x1",
          "y": "DOL",
          "yref": "y1"
         },
         {
          "font": {
           "color": "white"
          },
          "hovertext": "TODO: Add list of files here (corresponding to hover box)",
          "showarrow": false,
          "text": "12",
          "x": "DOL",
          "xref": "x1",
          "y": "DOL",
          "yref": "y1"
         },
         {
          "font": {
           "color": "black"
          },
          "hovertext": "TODO: Add list of files here (corresponding to hover box)",
          "showarrow": false,
          "text": "0",
          "x": "LAG",
          "xref": "x1",
          "y": "DOL",
          "yref": "y1"
         },
         {
          "font": {
           "color": "black"
          },
          "hovertext": "TODO: Add list of files here (corresponding to hover box)",
          "showarrow": false,
          "text": "0",
          "x": "NoF",
          "xref": "x1",
          "y": "DOL",
          "yref": "y1"
         },
         {
          "font": {
           "color": "black"
          },
          "hovertext": "TODO: Add list of files here (corresponding to hover box)",
          "showarrow": false,
          "text": "0",
          "x": "OTHER",
          "xref": "x1",
          "y": "DOL",
          "yref": "y1"
         },
         {
          "font": {
           "color": "black"
          },
          "hovertext": "TODO: Add list of files here (corresponding to hover box)",
          "showarrow": false,
          "text": "0",
          "x": "SHARK",
          "xref": "x1",
          "y": "DOL",
          "yref": "y1"
         },
         {
          "font": {
           "color": "black"
          },
          "hovertext": "TODO: Add list of files here (corresponding to hover box)",
          "showarrow": false,
          "text": "0",
          "x": "YFT",
          "xref": "x1",
          "y": "DOL",
          "yref": "y1"
         },
         {
          "font": {
           "color": "black"
          },
          "hovertext": "TODO: Add list of files here (corresponding to hover box)",
          "showarrow": false,
          "text": "0",
          "x": "ALB",
          "xref": "x1",
          "y": "LAG",
          "yref": "y1"
         },
         {
          "font": {
           "color": "black"
          },
          "hovertext": "TODO: Add list of files here (corresponding to hover box)",
          "showarrow": false,
          "text": "0",
          "x": "BET",
          "xref": "x1",
          "y": "LAG",
          "yref": "y1"
         },
         {
          "font": {
           "color": "black"
          },
          "hovertext": "TODO: Add list of files here (corresponding to hover box)",
          "showarrow": false,
          "text": "0",
          "x": "DOL",
          "xref": "x1",
          "y": "LAG",
          "yref": "y1"
         },
         {
          "font": {
           "color": "white"
          },
          "hovertext": "TODO: Add list of files here (corresponding to hover box)",
          "showarrow": false,
          "text": "7",
          "x": "LAG",
          "xref": "x1",
          "y": "LAG",
          "yref": "y1"
         },
         {
          "font": {
           "color": "black"
          },
          "hovertext": "TODO: Add list of files here (corresponding to hover box)",
          "showarrow": false,
          "text": "0",
          "x": "NoF",
          "xref": "x1",
          "y": "LAG",
          "yref": "y1"
         },
         {
          "font": {
           "color": "black"
          },
          "hovertext": "TODO: Add list of files here (corresponding to hover box)",
          "showarrow": false,
          "text": "0",
          "x": "OTHER",
          "xref": "x1",
          "y": "LAG",
          "yref": "y1"
         },
         {
          "font": {
           "color": "black"
          },
          "hovertext": "TODO: Add list of files here (corresponding to hover box)",
          "showarrow": false,
          "text": "0",
          "x": "SHARK",
          "xref": "x1",
          "y": "LAG",
          "yref": "y1"
         },
         {
          "font": {
           "color": "black"
          },
          "hovertext": "TODO: Add list of files here (corresponding to hover box)",
          "showarrow": false,
          "text": "0",
          "x": "YFT",
          "xref": "x1",
          "y": "LAG",
          "yref": "y1"
         },
         {
          "font": {
           "color": "white"
          },
          "hovertext": "TODO: Add list of files here (corresponding to hover box)",
          "showarrow": false,
          "text": "7",
          "x": "ALB",
          "xref": "x1",
          "y": "NoF",
          "yref": "y1"
         },
         {
          "font": {
           "color": "black"
          },
          "hovertext": "TODO: Add list of files here (corresponding to hover box)",
          "showarrow": false,
          "text": "0",
          "x": "BET",
          "xref": "x1",
          "y": "NoF",
          "yref": "y1"
         },
         {
          "font": {
           "color": "black"
          },
          "hovertext": "TODO: Add list of files here (corresponding to hover box)",
          "showarrow": false,
          "text": "0",
          "x": "DOL",
          "xref": "x1",
          "y": "NoF",
          "yref": "y1"
         },
         {
          "font": {
           "color": "black"
          },
          "hovertext": "TODO: Add list of files here (corresponding to hover box)",
          "showarrow": false,
          "text": "0",
          "x": "LAG",
          "xref": "x1",
          "y": "NoF",
          "yref": "y1"
         },
         {
          "font": {
           "color": "white"
          },
          "hovertext": "TODO: Add list of files here (corresponding to hover box)",
          "showarrow": false,
          "text": "40",
          "x": "NoF",
          "xref": "x1",
          "y": "NoF",
          "yref": "y1"
         },
         {
          "font": {
           "color": "black"
          },
          "hovertext": "TODO: Add list of files here (corresponding to hover box)",
          "showarrow": false,
          "text": "0",
          "x": "OTHER",
          "xref": "x1",
          "y": "NoF",
          "yref": "y1"
         },
         {
          "font": {
           "color": "black"
          },
          "hovertext": "TODO: Add list of files here (corresponding to hover box)",
          "showarrow": false,
          "text": "0",
          "x": "SHARK",
          "xref": "x1",
          "y": "NoF",
          "yref": "y1"
         },
         {
          "font": {
           "color": "black"
          },
          "hovertext": "TODO: Add list of files here (corresponding to hover box)",
          "showarrow": false,
          "text": "0",
          "x": "YFT",
          "xref": "x1",
          "y": "NoF",
          "yref": "y1"
         },
         {
          "font": {
           "color": "white"
          },
          "hovertext": "TODO: Add list of files here (corresponding to hover box)",
          "showarrow": false,
          "text": "2",
          "x": "ALB",
          "xref": "x1",
          "y": "OTHER",
          "yref": "y1"
         },
         {
          "font": {
           "color": "black"
          },
          "hovertext": "TODO: Add list of files here (corresponding to hover box)",
          "showarrow": false,
          "text": "0",
          "x": "BET",
          "xref": "x1",
          "y": "OTHER",
          "yref": "y1"
         },
         {
          "font": {
           "color": "black"
          },
          "hovertext": "TODO: Add list of files here (corresponding to hover box)",
          "showarrow": false,
          "text": "0",
          "x": "DOL",
          "xref": "x1",
          "y": "OTHER",
          "yref": "y1"
         },
         {
          "font": {
           "color": "black"
          },
          "hovertext": "TODO: Add list of files here (corresponding to hover box)",
          "showarrow": false,
          "text": "0",
          "x": "LAG",
          "xref": "x1",
          "y": "OTHER",
          "yref": "y1"
         },
         {
          "font": {
           "color": "black"
          },
          "hovertext": "TODO: Add list of files here (corresponding to hover box)",
          "showarrow": false,
          "text": "0",
          "x": "NoF",
          "xref": "x1",
          "y": "OTHER",
          "yref": "y1"
         },
         {
          "font": {
           "color": "white"
          },
          "hovertext": "TODO: Add list of files here (corresponding to hover box)",
          "showarrow": false,
          "text": "28",
          "x": "OTHER",
          "xref": "x1",
          "y": "OTHER",
          "yref": "y1"
         },
         {
          "font": {
           "color": "black"
          },
          "hovertext": "TODO: Add list of files here (corresponding to hover box)",
          "showarrow": false,
          "text": "0",
          "x": "SHARK",
          "xref": "x1",
          "y": "OTHER",
          "yref": "y1"
         },
         {
          "font": {
           "color": "black"
          },
          "hovertext": "TODO: Add list of files here (corresponding to hover box)",
          "showarrow": false,
          "text": "0",
          "x": "YFT",
          "xref": "x1",
          "y": "OTHER",
          "yref": "y1"
         },
         {
          "font": {
           "color": "black"
          },
          "hovertext": "TODO: Add list of files here (corresponding to hover box)",
          "showarrow": false,
          "text": "0",
          "x": "ALB",
          "xref": "x1",
          "y": "SHARK",
          "yref": "y1"
         },
         {
          "font": {
           "color": "black"
          },
          "hovertext": "TODO: Add list of files here (corresponding to hover box)",
          "showarrow": false,
          "text": "0",
          "x": "BET",
          "xref": "x1",
          "y": "SHARK",
          "yref": "y1"
         },
         {
          "font": {
           "color": "black"
          },
          "hovertext": "TODO: Add list of files here (corresponding to hover box)",
          "showarrow": false,
          "text": "0",
          "x": "DOL",
          "xref": "x1",
          "y": "SHARK",
          "yref": "y1"
         },
         {
          "font": {
           "color": "black"
          },
          "hovertext": "TODO: Add list of files here (corresponding to hover box)",
          "showarrow": false,
          "text": "0",
          "x": "LAG",
          "xref": "x1",
          "y": "SHARK",
          "yref": "y1"
         },
         {
          "font": {
           "color": "black"
          },
          "hovertext": "TODO: Add list of files here (corresponding to hover box)",
          "showarrow": false,
          "text": "0",
          "x": "NoF",
          "xref": "x1",
          "y": "SHARK",
          "yref": "y1"
         },
         {
          "font": {
           "color": "black"
          },
          "hovertext": "TODO: Add list of files here (corresponding to hover box)",
          "showarrow": false,
          "text": "0",
          "x": "OTHER",
          "xref": "x1",
          "y": "SHARK",
          "yref": "y1"
         },
         {
          "font": {
           "color": "white"
          },
          "hovertext": "TODO: Add list of files here (corresponding to hover box)",
          "showarrow": false,
          "text": "18",
          "x": "SHARK",
          "xref": "x1",
          "y": "SHARK",
          "yref": "y1"
         },
         {
          "font": {
           "color": "black"
          },
          "hovertext": "TODO: Add list of files here (corresponding to hover box)",
          "showarrow": false,
          "text": "0",
          "x": "YFT",
          "xref": "x1",
          "y": "SHARK",
          "yref": "y1"
         },
         {
          "font": {
           "color": "white"
          },
          "hovertext": "TODO: Add list of files here (corresponding to hover box)",
          "showarrow": false,
          "text": "1",
          "x": "ALB",
          "xref": "x1",
          "y": "YFT",
          "yref": "y1"
         },
         {
          "font": {
           "color": "black"
          },
          "hovertext": "TODO: Add list of files here (corresponding to hover box)",
          "showarrow": false,
          "text": "0",
          "x": "BET",
          "xref": "x1",
          "y": "YFT",
          "yref": "y1"
         },
         {
          "font": {
           "color": "black"
          },
          "hovertext": "TODO: Add list of files here (corresponding to hover box)",
          "showarrow": false,
          "text": "0",
          "x": "DOL",
          "xref": "x1",
          "y": "YFT",
          "yref": "y1"
         },
         {
          "font": {
           "color": "black"
          },
          "hovertext": "TODO: Add list of files here (corresponding to hover box)",
          "showarrow": false,
          "text": "0",
          "x": "LAG",
          "xref": "x1",
          "y": "YFT",
          "yref": "y1"
         },
         {
          "font": {
           "color": "black"
          },
          "hovertext": "TODO: Add list of files here (corresponding to hover box)",
          "showarrow": false,
          "text": "0",
          "x": "NoF",
          "xref": "x1",
          "y": "YFT",
          "yref": "y1"
         },
         {
          "font": {
           "color": "black"
          },
          "hovertext": "TODO: Add list of files here (corresponding to hover box)",
          "showarrow": false,
          "text": "0",
          "x": "OTHER",
          "xref": "x1",
          "y": "YFT",
          "yref": "y1"
         },
         {
          "font": {
           "color": "black"
          },
          "hovertext": "TODO: Add list of files here (corresponding to hover box)",
          "showarrow": false,
          "text": "0",
          "x": "SHARK",
          "xref": "x1",
          "y": "YFT",
          "yref": "y1"
         },
         {
          "font": {
           "color": "white"
          },
          "hovertext": "TODO: Add list of files here (corresponding to hover box)",
          "showarrow": false,
          "text": "73",
          "x": "YFT",
          "xref": "x1",
          "y": "YFT",
          "yref": "y1"
         }
        ],
        "autosize": false,
        "height": 700,
        "title": "Confusion Matrix",
        "width": 700,
        "xaxis": {
         "side": "bottom",
         "ticks": "",
         "title": "Predicted"
        },
        "yaxis": {
         "ticks": "",
         "ticksuffix": "  ",
         "title": "Actual"
        }
       }
      },
      "text/html": [
       "<div id=\"a3647d0c-6399-4969-af78-858900c31c2f\" style=\"height: 700px; width: 700px;\" class=\"plotly-graph-div\"></div><script type=\"text/javascript\">require([\"plotly\"], function(Plotly) { window.PLOTLYENV=window.PLOTLYENV || {};window.PLOTLYENV.BASE_URL=\"https://plot.ly\";Plotly.newPlot(\"a3647d0c-6399-4969-af78-858900c31c2f\", [{\"x\": [\"ALB\", \"BET\", \"DOL\", \"LAG\", \"NoF\", \"OTHER\", \"SHARK\", \"YFT\"], \"showscale\": true, \"type\": \"heatmap\", \"z\": [[163, 1, 1, 0, 4, 0, 0, 3], [2, 18, 0, 0, 0, 0, 0, 0], [0, 0, 12, 0, 0, 0, 0, 0], [0, 0, 0, 7, 0, 0, 0, 0], [7, 0, 0, 0, 40, 0, 0, 0], [2, 0, 0, 0, 0, 28, 0, 0], [0, 0, 0, 0, 0, 0, 18, 0], [1, 0, 0, 0, 0, 0, 0, 73]], \"y\": [\"ALB\", \"BET\", \"DOL\", \"LAG\", \"NoF\", \"OTHER\", \"SHARK\", \"YFT\"], \"colorscale\": [[0, \"#deebf7\"], [1, \"#3182bd\"]]}], {\"height\": 700, \"title\": \"Confusion Matrix\", \"annotations\": [{\"text\": \"163\", \"x\": \"ALB\", \"yref\": \"y1\", \"font\": {\"color\": \"white\"}, \"showarrow\": false, \"hovertext\": \"TODO: Add list of files here (corresponding to hover box)\", \"y\": \"ALB\", \"xref\": \"x1\"}, {\"text\": \"1\", \"x\": \"BET\", \"yref\": \"y1\", \"font\": {\"color\": \"white\"}, \"showarrow\": false, \"hovertext\": \"TODO: Add list of files here (corresponding to hover box)\", \"y\": \"ALB\", \"xref\": \"x1\"}, {\"text\": \"1\", \"x\": \"DOL\", \"yref\": \"y1\", \"font\": {\"color\": \"white\"}, \"showarrow\": false, \"hovertext\": \"TODO: Add list of files here (corresponding to hover box)\", \"y\": \"ALB\", \"xref\": \"x1\"}, {\"text\": \"0\", \"x\": \"LAG\", \"yref\": \"y1\", \"font\": {\"color\": \"black\"}, \"showarrow\": false, \"hovertext\": \"TODO: Add list of files here (corresponding to hover box)\", \"y\": \"ALB\", \"xref\": \"x1\"}, {\"text\": \"4\", \"x\": \"NoF\", \"yref\": \"y1\", \"font\": {\"color\": \"white\"}, \"showarrow\": false, \"hovertext\": \"TODO: Add list of files here (corresponding to hover box)\", \"y\": \"ALB\", \"xref\": \"x1\"}, {\"text\": \"0\", \"x\": \"OTHER\", \"yref\": \"y1\", \"font\": {\"color\": \"black\"}, \"showarrow\": false, \"hovertext\": \"TODO: Add list of files here (corresponding to hover box)\", \"y\": \"ALB\", \"xref\": \"x1\"}, {\"text\": \"0\", \"x\": \"SHARK\", \"yref\": \"y1\", \"font\": {\"color\": \"black\"}, \"showarrow\": false, \"hovertext\": \"TODO: Add list of files here (corresponding to hover box)\", \"y\": \"ALB\", \"xref\": \"x1\"}, {\"text\": \"3\", \"x\": \"YFT\", \"yref\": \"y1\", \"font\": {\"color\": \"white\"}, \"showarrow\": false, \"hovertext\": \"TODO: Add list of files here (corresponding to hover box)\", \"y\": \"ALB\", \"xref\": \"x1\"}, {\"text\": \"2\", \"x\": \"ALB\", \"yref\": \"y1\", \"font\": {\"color\": \"white\"}, \"showarrow\": false, \"hovertext\": \"TODO: Add list of files here (corresponding to hover box)\", \"y\": \"BET\", \"xref\": \"x1\"}, {\"text\": \"18\", \"x\": \"BET\", \"yref\": \"y1\", \"font\": {\"color\": \"white\"}, \"showarrow\": false, \"hovertext\": \"TODO: Add list of files here (corresponding to hover box)\", \"y\": \"BET\", \"xref\": \"x1\"}, {\"text\": \"0\", \"x\": \"DOL\", \"yref\": \"y1\", \"font\": {\"color\": \"black\"}, \"showarrow\": false, \"hovertext\": \"TODO: Add list of files here (corresponding to hover box)\", \"y\": \"BET\", \"xref\": \"x1\"}, {\"text\": \"0\", \"x\": \"LAG\", \"yref\": \"y1\", \"font\": {\"color\": \"black\"}, \"showarrow\": false, \"hovertext\": \"TODO: Add list of files here (corresponding to hover box)\", \"y\": \"BET\", \"xref\": \"x1\"}, {\"text\": \"0\", \"x\": \"NoF\", \"yref\": \"y1\", \"font\": {\"color\": \"black\"}, \"showarrow\": false, \"hovertext\": \"TODO: Add list of files here (corresponding to hover box)\", \"y\": \"BET\", \"xref\": \"x1\"}, {\"text\": \"0\", \"x\": \"OTHER\", \"yref\": \"y1\", \"font\": {\"color\": \"black\"}, \"showarrow\": false, \"hovertext\": \"TODO: Add list of files here (corresponding to hover box)\", \"y\": \"BET\", \"xref\": \"x1\"}, {\"text\": \"0\", \"x\": \"SHARK\", \"yref\": \"y1\", \"font\": {\"color\": \"black\"}, \"showarrow\": false, \"hovertext\": \"TODO: Add list of files here (corresponding to hover box)\", \"y\": \"BET\", \"xref\": \"x1\"}, {\"text\": \"0\", \"x\": \"YFT\", \"yref\": \"y1\", \"font\": {\"color\": \"black\"}, \"showarrow\": false, \"hovertext\": \"TODO: Add list of files here (corresponding to hover box)\", \"y\": \"BET\", \"xref\": \"x1\"}, {\"text\": \"0\", \"x\": \"ALB\", \"yref\": \"y1\", \"font\": {\"color\": \"black\"}, \"showarrow\": false, \"hovertext\": \"TODO: Add list of files here (corresponding to hover box)\", \"y\": \"DOL\", \"xref\": \"x1\"}, {\"text\": \"0\", \"x\": \"BET\", \"yref\": \"y1\", \"font\": {\"color\": \"black\"}, \"showarrow\": false, \"hovertext\": \"TODO: Add list of files here (corresponding to hover box)\", \"y\": \"DOL\", \"xref\": \"x1\"}, {\"text\": \"12\", \"x\": \"DOL\", \"yref\": \"y1\", \"font\": {\"color\": \"white\"}, \"showarrow\": false, \"hovertext\": \"TODO: Add list of files here (corresponding to hover box)\", \"y\": \"DOL\", \"xref\": \"x1\"}, {\"text\": \"0\", \"x\": \"LAG\", \"yref\": \"y1\", \"font\": {\"color\": \"black\"}, \"showarrow\": false, \"hovertext\": \"TODO: Add list of files here (corresponding to hover box)\", \"y\": \"DOL\", \"xref\": \"x1\"}, {\"text\": \"0\", \"x\": \"NoF\", \"yref\": \"y1\", \"font\": {\"color\": \"black\"}, \"showarrow\": false, \"hovertext\": \"TODO: Add list of files here (corresponding to hover box)\", \"y\": \"DOL\", \"xref\": \"x1\"}, {\"text\": \"0\", \"x\": \"OTHER\", \"yref\": \"y1\", \"font\": {\"color\": \"black\"}, \"showarrow\": false, \"hovertext\": \"TODO: Add list of files here (corresponding to hover box)\", \"y\": \"DOL\", \"xref\": \"x1\"}, {\"text\": \"0\", \"x\": \"SHARK\", \"yref\": \"y1\", \"font\": {\"color\": \"black\"}, \"showarrow\": false, \"hovertext\": \"TODO: Add list of files here (corresponding to hover box)\", \"y\": \"DOL\", \"xref\": \"x1\"}, {\"text\": \"0\", \"x\": \"YFT\", \"yref\": \"y1\", \"font\": {\"color\": \"black\"}, \"showarrow\": false, \"hovertext\": \"TODO: Add list of files here (corresponding to hover box)\", \"y\": \"DOL\", \"xref\": \"x1\"}, {\"text\": \"0\", \"x\": \"ALB\", \"yref\": \"y1\", \"font\": {\"color\": \"black\"}, \"showarrow\": false, \"hovertext\": \"TODO: Add list of files here (corresponding to hover box)\", \"y\": \"LAG\", \"xref\": \"x1\"}, {\"text\": \"0\", \"x\": \"BET\", \"yref\": \"y1\", \"font\": {\"color\": \"black\"}, \"showarrow\": false, \"hovertext\": \"TODO: Add list of files here (corresponding to hover box)\", \"y\": \"LAG\", \"xref\": \"x1\"}, {\"text\": \"0\", \"x\": \"DOL\", \"yref\": \"y1\", \"font\": {\"color\": \"black\"}, \"showarrow\": false, \"hovertext\": \"TODO: Add list of files here (corresponding to hover box)\", \"y\": \"LAG\", \"xref\": \"x1\"}, {\"text\": \"7\", \"x\": \"LAG\", \"yref\": \"y1\", \"font\": {\"color\": \"white\"}, \"showarrow\": false, \"hovertext\": \"TODO: Add list of files here (corresponding to hover box)\", \"y\": \"LAG\", \"xref\": \"x1\"}, {\"text\": \"0\", \"x\": \"NoF\", \"yref\": \"y1\", \"font\": {\"color\": \"black\"}, \"showarrow\": false, \"hovertext\": \"TODO: Add list of files here (corresponding to hover box)\", \"y\": \"LAG\", \"xref\": \"x1\"}, {\"text\": \"0\", \"x\": \"OTHER\", \"yref\": \"y1\", \"font\": {\"color\": \"black\"}, \"showarrow\": false, \"hovertext\": \"TODO: Add list of files here (corresponding to hover box)\", \"y\": \"LAG\", \"xref\": \"x1\"}, {\"text\": \"0\", \"x\": \"SHARK\", \"yref\": \"y1\", \"font\": {\"color\": \"black\"}, \"showarrow\": false, \"hovertext\": \"TODO: Add list of files here (corresponding to hover box)\", \"y\": \"LAG\", \"xref\": \"x1\"}, {\"text\": \"0\", \"x\": \"YFT\", \"yref\": \"y1\", \"font\": {\"color\": \"black\"}, \"showarrow\": false, \"hovertext\": \"TODO: Add list of files here (corresponding to hover box)\", \"y\": \"LAG\", \"xref\": \"x1\"}, {\"text\": \"7\", \"x\": \"ALB\", \"yref\": \"y1\", \"font\": {\"color\": \"white\"}, \"showarrow\": false, \"hovertext\": \"TODO: Add list of files here (corresponding to hover box)\", \"y\": \"NoF\", \"xref\": \"x1\"}, {\"text\": \"0\", \"x\": \"BET\", \"yref\": \"y1\", \"font\": {\"color\": \"black\"}, \"showarrow\": false, \"hovertext\": \"TODO: Add list of files here (corresponding to hover box)\", \"y\": \"NoF\", \"xref\": \"x1\"}, {\"text\": \"0\", \"x\": \"DOL\", \"yref\": \"y1\", \"font\": {\"color\": \"black\"}, \"showarrow\": false, \"hovertext\": \"TODO: Add list of files here (corresponding to hover box)\", \"y\": \"NoF\", \"xref\": \"x1\"}, {\"text\": \"0\", \"x\": \"LAG\", \"yref\": \"y1\", \"font\": {\"color\": \"black\"}, \"showarrow\": false, \"hovertext\": \"TODO: Add list of files here (corresponding to hover box)\", \"y\": \"NoF\", \"xref\": \"x1\"}, {\"text\": \"40\", \"x\": \"NoF\", \"yref\": \"y1\", \"font\": {\"color\": \"white\"}, \"showarrow\": false, \"hovertext\": \"TODO: Add list of files here (corresponding to hover box)\", \"y\": \"NoF\", \"xref\": \"x1\"}, {\"text\": \"0\", \"x\": \"OTHER\", \"yref\": \"y1\", \"font\": {\"color\": \"black\"}, \"showarrow\": false, \"hovertext\": \"TODO: Add list of files here (corresponding to hover box)\", \"y\": \"NoF\", \"xref\": \"x1\"}, {\"text\": \"0\", \"x\": \"SHARK\", \"yref\": \"y1\", \"font\": {\"color\": \"black\"}, \"showarrow\": false, \"hovertext\": \"TODO: Add list of files here (corresponding to hover box)\", \"y\": \"NoF\", \"xref\": \"x1\"}, {\"text\": \"0\", \"x\": \"YFT\", \"yref\": \"y1\", \"font\": {\"color\": \"black\"}, \"showarrow\": false, \"hovertext\": \"TODO: Add list of files here (corresponding to hover box)\", \"y\": \"NoF\", \"xref\": \"x1\"}, {\"text\": \"2\", \"x\": \"ALB\", \"yref\": \"y1\", \"font\": {\"color\": \"white\"}, \"showarrow\": false, \"hovertext\": \"TODO: Add list of files here (corresponding to hover box)\", \"y\": \"OTHER\", \"xref\": \"x1\"}, {\"text\": \"0\", \"x\": \"BET\", \"yref\": \"y1\", \"font\": {\"color\": \"black\"}, \"showarrow\": false, \"hovertext\": \"TODO: Add list of files here (corresponding to hover box)\", \"y\": \"OTHER\", \"xref\": \"x1\"}, {\"text\": \"0\", \"x\": \"DOL\", \"yref\": \"y1\", \"font\": {\"color\": \"black\"}, \"showarrow\": false, \"hovertext\": \"TODO: Add list of files here (corresponding to hover box)\", \"y\": \"OTHER\", \"xref\": \"x1\"}, {\"text\": \"0\", \"x\": \"LAG\", \"yref\": \"y1\", \"font\": {\"color\": \"black\"}, \"showarrow\": false, \"hovertext\": \"TODO: Add list of files here (corresponding to hover box)\", \"y\": \"OTHER\", \"xref\": \"x1\"}, {\"text\": \"0\", \"x\": \"NoF\", \"yref\": \"y1\", \"font\": {\"color\": \"black\"}, \"showarrow\": false, \"hovertext\": \"TODO: Add list of files here (corresponding to hover box)\", \"y\": \"OTHER\", \"xref\": \"x1\"}, {\"text\": \"28\", \"x\": \"OTHER\", \"yref\": \"y1\", \"font\": {\"color\": \"white\"}, \"showarrow\": false, \"hovertext\": \"TODO: Add list of files here (corresponding to hover box)\", \"y\": \"OTHER\", \"xref\": \"x1\"}, {\"text\": \"0\", \"x\": \"SHARK\", \"yref\": \"y1\", \"font\": {\"color\": \"black\"}, \"showarrow\": false, \"hovertext\": \"TODO: Add list of files here (corresponding to hover box)\", \"y\": \"OTHER\", \"xref\": \"x1\"}, {\"text\": \"0\", \"x\": \"YFT\", \"yref\": \"y1\", \"font\": {\"color\": \"black\"}, \"showarrow\": false, \"hovertext\": \"TODO: Add list of files here (corresponding to hover box)\", \"y\": \"OTHER\", \"xref\": \"x1\"}, {\"text\": \"0\", \"x\": \"ALB\", \"yref\": \"y1\", \"font\": {\"color\": \"black\"}, \"showarrow\": false, \"hovertext\": \"TODO: Add list of files here (corresponding to hover box)\", \"y\": \"SHARK\", \"xref\": \"x1\"}, {\"text\": \"0\", \"x\": \"BET\", \"yref\": \"y1\", \"font\": {\"color\": \"black\"}, \"showarrow\": false, \"hovertext\": \"TODO: Add list of files here (corresponding to hover box)\", \"y\": \"SHARK\", \"xref\": \"x1\"}, {\"text\": \"0\", \"x\": \"DOL\", \"yref\": \"y1\", \"font\": {\"color\": \"black\"}, \"showarrow\": false, \"hovertext\": \"TODO: Add list of files here (corresponding to hover box)\", \"y\": \"SHARK\", \"xref\": \"x1\"}, {\"text\": \"0\", \"x\": \"LAG\", \"yref\": \"y1\", \"font\": {\"color\": \"black\"}, \"showarrow\": false, \"hovertext\": \"TODO: Add list of files here (corresponding to hover box)\", \"y\": \"SHARK\", \"xref\": \"x1\"}, {\"text\": \"0\", \"x\": \"NoF\", \"yref\": \"y1\", \"font\": {\"color\": \"black\"}, \"showarrow\": false, \"hovertext\": \"TODO: Add list of files here (corresponding to hover box)\", \"y\": \"SHARK\", \"xref\": \"x1\"}, {\"text\": \"0\", \"x\": \"OTHER\", \"yref\": \"y1\", \"font\": {\"color\": \"black\"}, \"showarrow\": false, \"hovertext\": \"TODO: Add list of files here (corresponding to hover box)\", \"y\": \"SHARK\", \"xref\": \"x1\"}, {\"text\": \"18\", \"x\": \"SHARK\", \"yref\": \"y1\", \"font\": {\"color\": \"white\"}, \"showarrow\": false, \"hovertext\": \"TODO: Add list of files here (corresponding to hover box)\", \"y\": \"SHARK\", \"xref\": \"x1\"}, {\"text\": \"0\", \"x\": \"YFT\", \"yref\": \"y1\", \"font\": {\"color\": \"black\"}, \"showarrow\": false, \"hovertext\": \"TODO: Add list of files here (corresponding to hover box)\", \"y\": \"SHARK\", \"xref\": \"x1\"}, {\"text\": \"1\", \"x\": \"ALB\", \"yref\": \"y1\", \"font\": {\"color\": \"white\"}, \"showarrow\": false, \"hovertext\": \"TODO: Add list of files here (corresponding to hover box)\", \"y\": \"YFT\", \"xref\": \"x1\"}, {\"text\": \"0\", \"x\": \"BET\", \"yref\": \"y1\", \"font\": {\"color\": \"black\"}, \"showarrow\": false, \"hovertext\": \"TODO: Add list of files here (corresponding to hover box)\", \"y\": \"YFT\", \"xref\": \"x1\"}, {\"text\": \"0\", \"x\": \"DOL\", \"yref\": \"y1\", \"font\": {\"color\": \"black\"}, \"showarrow\": false, \"hovertext\": \"TODO: Add list of files here (corresponding to hover box)\", \"y\": \"YFT\", \"xref\": \"x1\"}, {\"text\": \"0\", \"x\": \"LAG\", \"yref\": \"y1\", \"font\": {\"color\": \"black\"}, \"showarrow\": false, \"hovertext\": \"TODO: Add list of files here (corresponding to hover box)\", \"y\": \"YFT\", \"xref\": \"x1\"}, {\"text\": \"0\", \"x\": \"NoF\", \"yref\": \"y1\", \"font\": {\"color\": \"black\"}, \"showarrow\": false, \"hovertext\": \"TODO: Add list of files here (corresponding to hover box)\", \"y\": \"YFT\", \"xref\": \"x1\"}, {\"text\": \"0\", \"x\": \"OTHER\", \"yref\": \"y1\", \"font\": {\"color\": \"black\"}, \"showarrow\": false, \"hovertext\": \"TODO: Add list of files here (corresponding to hover box)\", \"y\": \"YFT\", \"xref\": \"x1\"}, {\"text\": \"0\", \"x\": \"SHARK\", \"yref\": \"y1\", \"font\": {\"color\": \"black\"}, \"showarrow\": false, \"hovertext\": \"TODO: Add list of files here (corresponding to hover box)\", \"y\": \"YFT\", \"xref\": \"x1\"}, {\"text\": \"73\", \"x\": \"YFT\", \"yref\": \"y1\", \"font\": {\"color\": \"white\"}, \"showarrow\": false, \"hovertext\": \"TODO: Add list of files here (corresponding to hover box)\", \"y\": \"YFT\", \"xref\": \"x1\"}], \"autosize\": false, \"width\": 700, \"xaxis\": {\"ticks\": \"\", \"title\": \"Predicted\", \"side\": \"bottom\"}, \"yaxis\": {\"ticksuffix\": \"  \", \"ticks\": \"\", \"title\": \"Actual\"}}, {\"linkText\": \"Export to plot.ly\", \"showLink\": false})});</script>"
      ],
      "text/vnd.plotly.v1+html": [
       "<div id=\"a3647d0c-6399-4969-af78-858900c31c2f\" style=\"height: 700px; width: 700px;\" class=\"plotly-graph-div\"></div><script type=\"text/javascript\">require([\"plotly\"], function(Plotly) { window.PLOTLYENV=window.PLOTLYENV || {};window.PLOTLYENV.BASE_URL=\"https://plot.ly\";Plotly.newPlot(\"a3647d0c-6399-4969-af78-858900c31c2f\", [{\"x\": [\"ALB\", \"BET\", \"DOL\", \"LAG\", \"NoF\", \"OTHER\", \"SHARK\", \"YFT\"], \"showscale\": true, \"type\": \"heatmap\", \"z\": [[163, 1, 1, 0, 4, 0, 0, 3], [2, 18, 0, 0, 0, 0, 0, 0], [0, 0, 12, 0, 0, 0, 0, 0], [0, 0, 0, 7, 0, 0, 0, 0], [7, 0, 0, 0, 40, 0, 0, 0], [2, 0, 0, 0, 0, 28, 0, 0], [0, 0, 0, 0, 0, 0, 18, 0], [1, 0, 0, 0, 0, 0, 0, 73]], \"y\": [\"ALB\", \"BET\", \"DOL\", \"LAG\", \"NoF\", \"OTHER\", \"SHARK\", \"YFT\"], \"colorscale\": [[0, \"#deebf7\"], [1, \"#3182bd\"]]}], {\"height\": 700, \"title\": \"Confusion Matrix\", \"annotations\": [{\"text\": \"163\", \"x\": \"ALB\", \"yref\": \"y1\", \"font\": {\"color\": \"white\"}, \"showarrow\": false, \"hovertext\": \"TODO: Add list of files here (corresponding to hover box)\", \"y\": \"ALB\", \"xref\": \"x1\"}, {\"text\": \"1\", \"x\": \"BET\", \"yref\": \"y1\", \"font\": {\"color\": \"white\"}, \"showarrow\": false, \"hovertext\": \"TODO: Add list of files here (corresponding to hover box)\", \"y\": \"ALB\", \"xref\": \"x1\"}, {\"text\": \"1\", \"x\": \"DOL\", \"yref\": \"y1\", \"font\": {\"color\": \"white\"}, \"showarrow\": false, \"hovertext\": \"TODO: Add list of files here (corresponding to hover box)\", \"y\": \"ALB\", \"xref\": \"x1\"}, {\"text\": \"0\", \"x\": \"LAG\", \"yref\": \"y1\", \"font\": {\"color\": \"black\"}, \"showarrow\": false, \"hovertext\": \"TODO: Add list of files here (corresponding to hover box)\", \"y\": \"ALB\", \"xref\": \"x1\"}, {\"text\": \"4\", \"x\": \"NoF\", \"yref\": \"y1\", \"font\": {\"color\": \"white\"}, \"showarrow\": false, \"hovertext\": \"TODO: Add list of files here (corresponding to hover box)\", \"y\": \"ALB\", \"xref\": \"x1\"}, {\"text\": \"0\", \"x\": \"OTHER\", \"yref\": \"y1\", \"font\": {\"color\": \"black\"}, \"showarrow\": false, \"hovertext\": \"TODO: Add list of files here (corresponding to hover box)\", \"y\": \"ALB\", \"xref\": \"x1\"}, {\"text\": \"0\", \"x\": \"SHARK\", \"yref\": \"y1\", \"font\": {\"color\": \"black\"}, \"showarrow\": false, \"hovertext\": \"TODO: Add list of files here (corresponding to hover box)\", \"y\": \"ALB\", \"xref\": \"x1\"}, {\"text\": \"3\", \"x\": \"YFT\", \"yref\": \"y1\", \"font\": {\"color\": \"white\"}, \"showarrow\": false, \"hovertext\": \"TODO: Add list of files here (corresponding to hover box)\", \"y\": \"ALB\", \"xref\": \"x1\"}, {\"text\": \"2\", \"x\": \"ALB\", \"yref\": \"y1\", \"font\": {\"color\": \"white\"}, \"showarrow\": false, \"hovertext\": \"TODO: Add list of files here (corresponding to hover box)\", \"y\": \"BET\", \"xref\": \"x1\"}, {\"text\": \"18\", \"x\": \"BET\", \"yref\": \"y1\", \"font\": {\"color\": \"white\"}, \"showarrow\": false, \"hovertext\": \"TODO: Add list of files here (corresponding to hover box)\", \"y\": \"BET\", \"xref\": \"x1\"}, {\"text\": \"0\", \"x\": \"DOL\", \"yref\": \"y1\", \"font\": {\"color\": \"black\"}, \"showarrow\": false, \"hovertext\": \"TODO: Add list of files here (corresponding to hover box)\", \"y\": \"BET\", \"xref\": \"x1\"}, {\"text\": \"0\", \"x\": \"LAG\", \"yref\": \"y1\", \"font\": {\"color\": \"black\"}, \"showarrow\": false, \"hovertext\": \"TODO: Add list of files here (corresponding to hover box)\", \"y\": \"BET\", \"xref\": \"x1\"}, {\"text\": \"0\", \"x\": \"NoF\", \"yref\": \"y1\", \"font\": {\"color\": \"black\"}, \"showarrow\": false, \"hovertext\": \"TODO: Add list of files here (corresponding to hover box)\", \"y\": \"BET\", \"xref\": \"x1\"}, {\"text\": \"0\", \"x\": \"OTHER\", \"yref\": \"y1\", \"font\": {\"color\": \"black\"}, \"showarrow\": false, \"hovertext\": \"TODO: Add list of files here (corresponding to hover box)\", \"y\": \"BET\", \"xref\": \"x1\"}, {\"text\": \"0\", \"x\": \"SHARK\", \"yref\": \"y1\", \"font\": {\"color\": \"black\"}, \"showarrow\": false, \"hovertext\": \"TODO: Add list of files here (corresponding to hover box)\", \"y\": \"BET\", \"xref\": \"x1\"}, {\"text\": \"0\", \"x\": \"YFT\", \"yref\": \"y1\", \"font\": {\"color\": \"black\"}, \"showarrow\": false, \"hovertext\": \"TODO: Add list of files here (corresponding to hover box)\", \"y\": \"BET\", \"xref\": \"x1\"}, {\"text\": \"0\", \"x\": \"ALB\", \"yref\": \"y1\", \"font\": {\"color\": \"black\"}, \"showarrow\": false, \"hovertext\": \"TODO: Add list of files here (corresponding to hover box)\", \"y\": \"DOL\", \"xref\": \"x1\"}, {\"text\": \"0\", \"x\": \"BET\", \"yref\": \"y1\", \"font\": {\"color\": \"black\"}, \"showarrow\": false, \"hovertext\": \"TODO: Add list of files here (corresponding to hover box)\", \"y\": \"DOL\", \"xref\": \"x1\"}, {\"text\": \"12\", \"x\": \"DOL\", \"yref\": \"y1\", \"font\": {\"color\": \"white\"}, \"showarrow\": false, \"hovertext\": \"TODO: Add list of files here (corresponding to hover box)\", \"y\": \"DOL\", \"xref\": \"x1\"}, {\"text\": \"0\", \"x\": \"LAG\", \"yref\": \"y1\", \"font\": {\"color\": \"black\"}, \"showarrow\": false, \"hovertext\": \"TODO: Add list of files here (corresponding to hover box)\", \"y\": \"DOL\", \"xref\": \"x1\"}, {\"text\": \"0\", \"x\": \"NoF\", \"yref\": \"y1\", \"font\": {\"color\": \"black\"}, \"showarrow\": false, \"hovertext\": \"TODO: Add list of files here (corresponding to hover box)\", \"y\": \"DOL\", \"xref\": \"x1\"}, {\"text\": \"0\", \"x\": \"OTHER\", \"yref\": \"y1\", \"font\": {\"color\": \"black\"}, \"showarrow\": false, \"hovertext\": \"TODO: Add list of files here (corresponding to hover box)\", \"y\": \"DOL\", \"xref\": \"x1\"}, {\"text\": \"0\", \"x\": \"SHARK\", \"yref\": \"y1\", \"font\": {\"color\": \"black\"}, \"showarrow\": false, \"hovertext\": \"TODO: Add list of files here (corresponding to hover box)\", \"y\": \"DOL\", \"xref\": \"x1\"}, {\"text\": \"0\", \"x\": \"YFT\", \"yref\": \"y1\", \"font\": {\"color\": \"black\"}, \"showarrow\": false, \"hovertext\": \"TODO: Add list of files here (corresponding to hover box)\", \"y\": \"DOL\", \"xref\": \"x1\"}, {\"text\": \"0\", \"x\": \"ALB\", \"yref\": \"y1\", \"font\": {\"color\": \"black\"}, \"showarrow\": false, \"hovertext\": \"TODO: Add list of files here (corresponding to hover box)\", \"y\": \"LAG\", \"xref\": \"x1\"}, {\"text\": \"0\", \"x\": \"BET\", \"yref\": \"y1\", \"font\": {\"color\": \"black\"}, \"showarrow\": false, \"hovertext\": \"TODO: Add list of files here (corresponding to hover box)\", \"y\": \"LAG\", \"xref\": \"x1\"}, {\"text\": \"0\", \"x\": \"DOL\", \"yref\": \"y1\", \"font\": {\"color\": \"black\"}, \"showarrow\": false, \"hovertext\": \"TODO: Add list of files here (corresponding to hover box)\", \"y\": \"LAG\", \"xref\": \"x1\"}, {\"text\": \"7\", \"x\": \"LAG\", \"yref\": \"y1\", \"font\": {\"color\": \"white\"}, \"showarrow\": false, \"hovertext\": \"TODO: Add list of files here (corresponding to hover box)\", \"y\": \"LAG\", \"xref\": \"x1\"}, {\"text\": \"0\", \"x\": \"NoF\", \"yref\": \"y1\", \"font\": {\"color\": \"black\"}, \"showarrow\": false, \"hovertext\": \"TODO: Add list of files here (corresponding to hover box)\", \"y\": \"LAG\", \"xref\": \"x1\"}, {\"text\": \"0\", \"x\": \"OTHER\", \"yref\": \"y1\", \"font\": {\"color\": \"black\"}, \"showarrow\": false, \"hovertext\": \"TODO: Add list of files here (corresponding to hover box)\", \"y\": \"LAG\", \"xref\": \"x1\"}, {\"text\": \"0\", \"x\": \"SHARK\", \"yref\": \"y1\", \"font\": {\"color\": \"black\"}, \"showarrow\": false, \"hovertext\": \"TODO: Add list of files here (corresponding to hover box)\", \"y\": \"LAG\", \"xref\": \"x1\"}, {\"text\": \"0\", \"x\": \"YFT\", \"yref\": \"y1\", \"font\": {\"color\": \"black\"}, \"showarrow\": false, \"hovertext\": \"TODO: Add list of files here (corresponding to hover box)\", \"y\": \"LAG\", \"xref\": \"x1\"}, {\"text\": \"7\", \"x\": \"ALB\", \"yref\": \"y1\", \"font\": {\"color\": \"white\"}, \"showarrow\": false, \"hovertext\": \"TODO: Add list of files here (corresponding to hover box)\", \"y\": \"NoF\", \"xref\": \"x1\"}, {\"text\": \"0\", \"x\": \"BET\", \"yref\": \"y1\", \"font\": {\"color\": \"black\"}, \"showarrow\": false, \"hovertext\": \"TODO: Add list of files here (corresponding to hover box)\", \"y\": \"NoF\", \"xref\": \"x1\"}, {\"text\": \"0\", \"x\": \"DOL\", \"yref\": \"y1\", \"font\": {\"color\": \"black\"}, \"showarrow\": false, \"hovertext\": \"TODO: Add list of files here (corresponding to hover box)\", \"y\": \"NoF\", \"xref\": \"x1\"}, {\"text\": \"0\", \"x\": \"LAG\", \"yref\": \"y1\", \"font\": {\"color\": \"black\"}, \"showarrow\": false, \"hovertext\": \"TODO: Add list of files here (corresponding to hover box)\", \"y\": \"NoF\", \"xref\": \"x1\"}, {\"text\": \"40\", \"x\": \"NoF\", \"yref\": \"y1\", \"font\": {\"color\": \"white\"}, \"showarrow\": false, \"hovertext\": \"TODO: Add list of files here (corresponding to hover box)\", \"y\": \"NoF\", \"xref\": \"x1\"}, {\"text\": \"0\", \"x\": \"OTHER\", \"yref\": \"y1\", \"font\": {\"color\": \"black\"}, \"showarrow\": false, \"hovertext\": \"TODO: Add list of files here (corresponding to hover box)\", \"y\": \"NoF\", \"xref\": \"x1\"}, {\"text\": \"0\", \"x\": \"SHARK\", \"yref\": \"y1\", \"font\": {\"color\": \"black\"}, \"showarrow\": false, \"hovertext\": \"TODO: Add list of files here (corresponding to hover box)\", \"y\": \"NoF\", \"xref\": \"x1\"}, {\"text\": \"0\", \"x\": \"YFT\", \"yref\": \"y1\", \"font\": {\"color\": \"black\"}, \"showarrow\": false, \"hovertext\": \"TODO: Add list of files here (corresponding to hover box)\", \"y\": \"NoF\", \"xref\": \"x1\"}, {\"text\": \"2\", \"x\": \"ALB\", \"yref\": \"y1\", \"font\": {\"color\": \"white\"}, \"showarrow\": false, \"hovertext\": \"TODO: Add list of files here (corresponding to hover box)\", \"y\": \"OTHER\", \"xref\": \"x1\"}, {\"text\": \"0\", \"x\": \"BET\", \"yref\": \"y1\", \"font\": {\"color\": \"black\"}, \"showarrow\": false, \"hovertext\": \"TODO: Add list of files here (corresponding to hover box)\", \"y\": \"OTHER\", \"xref\": \"x1\"}, {\"text\": \"0\", \"x\": \"DOL\", \"yref\": \"y1\", \"font\": {\"color\": \"black\"}, \"showarrow\": false, \"hovertext\": \"TODO: Add list of files here (corresponding to hover box)\", \"y\": \"OTHER\", \"xref\": \"x1\"}, {\"text\": \"0\", \"x\": \"LAG\", \"yref\": \"y1\", \"font\": {\"color\": \"black\"}, \"showarrow\": false, \"hovertext\": \"TODO: Add list of files here (corresponding to hover box)\", \"y\": \"OTHER\", \"xref\": \"x1\"}, {\"text\": \"0\", \"x\": \"NoF\", \"yref\": \"y1\", \"font\": {\"color\": \"black\"}, \"showarrow\": false, \"hovertext\": \"TODO: Add list of files here (corresponding to hover box)\", \"y\": \"OTHER\", \"xref\": \"x1\"}, {\"text\": \"28\", \"x\": \"OTHER\", \"yref\": \"y1\", \"font\": {\"color\": \"white\"}, \"showarrow\": false, \"hovertext\": \"TODO: Add list of files here (corresponding to hover box)\", \"y\": \"OTHER\", \"xref\": \"x1\"}, {\"text\": \"0\", \"x\": \"SHARK\", \"yref\": \"y1\", \"font\": {\"color\": \"black\"}, \"showarrow\": false, \"hovertext\": \"TODO: Add list of files here (corresponding to hover box)\", \"y\": \"OTHER\", \"xref\": \"x1\"}, {\"text\": \"0\", \"x\": \"YFT\", \"yref\": \"y1\", \"font\": {\"color\": \"black\"}, \"showarrow\": false, \"hovertext\": \"TODO: Add list of files here (corresponding to hover box)\", \"y\": \"OTHER\", \"xref\": \"x1\"}, {\"text\": \"0\", \"x\": \"ALB\", \"yref\": \"y1\", \"font\": {\"color\": \"black\"}, \"showarrow\": false, \"hovertext\": \"TODO: Add list of files here (corresponding to hover box)\", \"y\": \"SHARK\", \"xref\": \"x1\"}, {\"text\": \"0\", \"x\": \"BET\", \"yref\": \"y1\", \"font\": {\"color\": \"black\"}, \"showarrow\": false, \"hovertext\": \"TODO: Add list of files here (corresponding to hover box)\", \"y\": \"SHARK\", \"xref\": \"x1\"}, {\"text\": \"0\", \"x\": \"DOL\", \"yref\": \"y1\", \"font\": {\"color\": \"black\"}, \"showarrow\": false, \"hovertext\": \"TODO: Add list of files here (corresponding to hover box)\", \"y\": \"SHARK\", \"xref\": \"x1\"}, {\"text\": \"0\", \"x\": \"LAG\", \"yref\": \"y1\", \"font\": {\"color\": \"black\"}, \"showarrow\": false, \"hovertext\": \"TODO: Add list of files here (corresponding to hover box)\", \"y\": \"SHARK\", \"xref\": \"x1\"}, {\"text\": \"0\", \"x\": \"NoF\", \"yref\": \"y1\", \"font\": {\"color\": \"black\"}, \"showarrow\": false, \"hovertext\": \"TODO: Add list of files here (corresponding to hover box)\", \"y\": \"SHARK\", \"xref\": \"x1\"}, {\"text\": \"0\", \"x\": \"OTHER\", \"yref\": \"y1\", \"font\": {\"color\": \"black\"}, \"showarrow\": false, \"hovertext\": \"TODO: Add list of files here (corresponding to hover box)\", \"y\": \"SHARK\", \"xref\": \"x1\"}, {\"text\": \"18\", \"x\": \"SHARK\", \"yref\": \"y1\", \"font\": {\"color\": \"white\"}, \"showarrow\": false, \"hovertext\": \"TODO: Add list of files here (corresponding to hover box)\", \"y\": \"SHARK\", \"xref\": \"x1\"}, {\"text\": \"0\", \"x\": \"YFT\", \"yref\": \"y1\", \"font\": {\"color\": \"black\"}, \"showarrow\": false, \"hovertext\": \"TODO: Add list of files here (corresponding to hover box)\", \"y\": \"SHARK\", \"xref\": \"x1\"}, {\"text\": \"1\", \"x\": \"ALB\", \"yref\": \"y1\", \"font\": {\"color\": \"white\"}, \"showarrow\": false, \"hovertext\": \"TODO: Add list of files here (corresponding to hover box)\", \"y\": \"YFT\", \"xref\": \"x1\"}, {\"text\": \"0\", \"x\": \"BET\", \"yref\": \"y1\", \"font\": {\"color\": \"black\"}, \"showarrow\": false, \"hovertext\": \"TODO: Add list of files here (corresponding to hover box)\", \"y\": \"YFT\", \"xref\": \"x1\"}, {\"text\": \"0\", \"x\": \"DOL\", \"yref\": \"y1\", \"font\": {\"color\": \"black\"}, \"showarrow\": false, \"hovertext\": \"TODO: Add list of files here (corresponding to hover box)\", \"y\": \"YFT\", \"xref\": \"x1\"}, {\"text\": \"0\", \"x\": \"LAG\", \"yref\": \"y1\", \"font\": {\"color\": \"black\"}, \"showarrow\": false, \"hovertext\": \"TODO: Add list of files here (corresponding to hover box)\", \"y\": \"YFT\", \"xref\": \"x1\"}, {\"text\": \"0\", \"x\": \"NoF\", \"yref\": \"y1\", \"font\": {\"color\": \"black\"}, \"showarrow\": false, \"hovertext\": \"TODO: Add list of files here (corresponding to hover box)\", \"y\": \"YFT\", \"xref\": \"x1\"}, {\"text\": \"0\", \"x\": \"OTHER\", \"yref\": \"y1\", \"font\": {\"color\": \"black\"}, \"showarrow\": false, \"hovertext\": \"TODO: Add list of files here (corresponding to hover box)\", \"y\": \"YFT\", \"xref\": \"x1\"}, {\"text\": \"0\", \"x\": \"SHARK\", \"yref\": \"y1\", \"font\": {\"color\": \"black\"}, \"showarrow\": false, \"hovertext\": \"TODO: Add list of files here (corresponding to hover box)\", \"y\": \"YFT\", \"xref\": \"x1\"}, {\"text\": \"73\", \"x\": \"YFT\", \"yref\": \"y1\", \"font\": {\"color\": \"white\"}, \"showarrow\": false, \"hovertext\": \"TODO: Add list of files here (corresponding to hover box)\", \"y\": \"YFT\", \"xref\": \"x1\"}], \"autosize\": false, \"width\": 700, \"xaxis\": {\"ticks\": \"\", \"title\": \"Predicted\", \"side\": \"bottom\"}, \"yaxis\": {\"ticksuffix\": \"  \", \"ticks\": \"\", \"title\": \"Actual\"}}, {\"linkText\": \"Export to plot.ly\", \"showLink\": false})});</script>"
      ]
     },
     "metadata": {},
     "output_type": "display_data"
    }
   ],
   "source": [
    "prediction_actual_mappings_base = create_confusion_matrix_helper(classifier_model_v2)"
   ]
  },
  {
   "cell_type": "markdown",
   "metadata": {
    "deletable": true,
    "editable": true
   },
   "source": [
    "Let's have a look at those image predicted incorectly as YFT (can do within Jupyter for the directory listing):"
   ]
  },
  {
   "cell_type": "code",
   "execution_count": 36,
   "metadata": {
    "collapsed": false,
    "deletable": true,
    "editable": true
   },
   "outputs": [
    {
     "data": {
      "text/plain": [
       "{'ALB': {'ALB': ['img_02201.jpg',\n",
       "   'img_05031.jpg',\n",
       "   'img_02002.jpg',\n",
       "   'img_04098.jpg',\n",
       "   'img_03458.jpg',\n",
       "   'img_02662.jpg',\n",
       "   'img_07170.jpg',\n",
       "   'img_02025.jpg',\n",
       "   'img_05970.jpg',\n",
       "   'img_07271.jpg',\n",
       "   'img_04121.jpg',\n",
       "   'img_02052.jpg',\n",
       "   'img_05131.jpg',\n",
       "   'img_01509.jpg',\n",
       "   'img_01186.jpg',\n",
       "   'img_03694.jpg',\n",
       "   'img_04762.jpg',\n",
       "   'img_02018.jpg',\n",
       "   'img_07168.jpg',\n",
       "   'img_03432.jpg',\n",
       "   'img_06503.jpg',\n",
       "   'img_01728.jpg',\n",
       "   'img_05053.jpg',\n",
       "   'img_07647.jpg',\n",
       "   'img_01865.jpg',\n",
       "   'img_07039.jpg',\n",
       "   'img_02719.jpg',\n",
       "   'img_01333.jpg',\n",
       "   'img_06716.jpg',\n",
       "   'img_04489.jpg',\n",
       "   'img_06979.jpg',\n",
       "   'img_06176.jpg',\n",
       "   'img_04542.jpg',\n",
       "   'img_07172.jpg',\n",
       "   'img_01763.jpg',\n",
       "   'img_03985.jpg',\n",
       "   'img_07439.jpg',\n",
       "   'img_03699.jpg',\n",
       "   'img_04014.jpg',\n",
       "   'img_02658.jpg',\n",
       "   'img_06518.jpg',\n",
       "   'img_05501.jpg',\n",
       "   'img_07018.jpg',\n",
       "   'img_02925.jpg',\n",
       "   'img_02328.jpg',\n",
       "   'img_01162.jpg',\n",
       "   'img_03089.jpg',\n",
       "   'img_01928.jpg',\n",
       "   'img_06344.jpg',\n",
       "   'img_05902.jpg',\n",
       "   'img_02205.jpg',\n",
       "   'img_07040.jpg',\n",
       "   'img_06160.jpg',\n",
       "   'img_06915.jpg',\n",
       "   'img_05215.jpg',\n",
       "   'img_07098.jpg',\n",
       "   'img_07745.jpg',\n",
       "   'img_05801.jpg',\n",
       "   'img_00744.jpg',\n",
       "   'img_05803.jpg',\n",
       "   'img_00507.jpg',\n",
       "   'img_06014.jpg',\n",
       "   'img_04578.jpg',\n",
       "   'img_04312.jpg',\n",
       "   'img_06852.jpg',\n",
       "   'img_01838.jpg',\n",
       "   'img_01917.jpg',\n",
       "   'img_03656.jpg',\n",
       "   'img_06260.jpg',\n",
       "   'img_03281.jpg',\n",
       "   'img_02950.jpg',\n",
       "   'img_03277.jpg',\n",
       "   'img_03927.jpg',\n",
       "   'img_07491.jpg',\n",
       "   'img_04154.jpg',\n",
       "   'img_03373.jpg',\n",
       "   'img_06668.jpg',\n",
       "   'img_00940.jpg',\n",
       "   'img_05109.jpg',\n",
       "   'img_04342.jpg',\n",
       "   'img_07118.jpg',\n",
       "   'img_04016.jpg',\n",
       "   'img_04823.jpg',\n",
       "   'img_05559.jpg',\n",
       "   'img_02452.jpg',\n",
       "   'img_01364.jpg',\n",
       "   'img_00248.jpg',\n",
       "   'img_07794.jpg',\n",
       "   'img_06200.jpg',\n",
       "   'img_01753.jpg',\n",
       "   'img_02686.jpg',\n",
       "   'img_06826.jpg',\n",
       "   'img_02189.jpg',\n",
       "   'img_03215.jpg',\n",
       "   'img_03090.jpg',\n",
       "   'img_00239.jpg',\n",
       "   'img_02794.jpg',\n",
       "   'img_07492.jpg',\n",
       "   'img_05350.jpg',\n",
       "   'img_07617.jpg',\n",
       "   'img_05373.jpg',\n",
       "   'img_01000.jpg',\n",
       "   'img_01607.jpg',\n",
       "   'img_04320.jpg',\n",
       "   'img_04612.jpg',\n",
       "   'img_07167.jpg',\n",
       "   'img_02776.jpg',\n",
       "   'img_05852.jpg',\n",
       "   'img_00270.jpg',\n",
       "   'img_02456.jpg',\n",
       "   'img_04259.jpg',\n",
       "   'img_00403.jpg',\n",
       "   'img_01830.jpg',\n",
       "   'img_05893.jpg',\n",
       "   'img_02448.jpg',\n",
       "   'img_03634.jpg',\n",
       "   'img_07328.jpg',\n",
       "   'img_01878.jpg',\n",
       "   'img_00466.jpg',\n",
       "   'img_00899.jpg',\n",
       "   'img_07449.jpg',\n",
       "   'img_02178.jpg',\n",
       "   'img_04147.jpg',\n",
       "   'img_00576.jpg',\n",
       "   'img_02035.jpg',\n",
       "   'img_02396.jpg',\n",
       "   'img_07566.jpg',\n",
       "   'img_07726.jpg',\n",
       "   'img_02326.jpg',\n",
       "   'img_03845.jpg',\n",
       "   'img_02340.jpg',\n",
       "   'img_05886.jpg',\n",
       "   'img_06935.jpg',\n",
       "   'img_05383.jpg',\n",
       "   'img_04875.jpg',\n",
       "   'img_02765.jpg',\n",
       "   'img_03304.jpg',\n",
       "   'img_03182.jpg',\n",
       "   'img_05713.jpg',\n",
       "   'img_07255.jpg',\n",
       "   'img_07862.jpg',\n",
       "   'img_01390.jpg',\n",
       "   'img_05227.jpg',\n",
       "   'img_03382.jpg',\n",
       "   'img_00154.jpg',\n",
       "   'img_04979.jpg',\n",
       "   'img_06991.jpg',\n",
       "   'img_07470.jpg',\n",
       "   'img_02229.jpg',\n",
       "   'img_00756.jpg',\n",
       "   'img_05465.jpg',\n",
       "   'img_02471.jpg',\n",
       "   'img_06386.jpg',\n",
       "   'img_00975.jpg',\n",
       "   'img_03213.jpg',\n",
       "   'img_03662.jpg',\n",
       "   'img_06338.jpg',\n",
       "   'img_05491.jpg',\n",
       "   'img_03904.jpg',\n",
       "   'img_03146.jpg',\n",
       "   'img_03369.jpg',\n",
       "   'img_06583.jpg',\n",
       "   'img_03586.jpg'],\n",
       "  'BET': ['img_06777.jpg', 'img_03565.jpg'],\n",
       "  'DOL': [],\n",
       "  'LAG': [],\n",
       "  'NoF': ['img_02907.jpg',\n",
       "   'img_04916.jpg',\n",
       "   'img_05594.jpg',\n",
       "   'img_07512.jpg',\n",
       "   'img_07379.jpg',\n",
       "   'img_02441.jpg',\n",
       "   'img_07115.jpg'],\n",
       "  'OTHER': ['img_04751.jpg', 'img_07779.jpg'],\n",
       "  'SHARK': [],\n",
       "  'YFT': ['img_03094.jpg']},\n",
       " 'BET': {'ALB': ['img_01936.jpg'],\n",
       "  'BET': ['img_02128.jpg',\n",
       "   'img_01350.jpg',\n",
       "   'img_07321.jpg',\n",
       "   'img_04931.jpg',\n",
       "   'img_04185.jpg',\n",
       "   'img_07734.jpg',\n",
       "   'img_02139.jpg',\n",
       "   'img_00225.jpg',\n",
       "   'img_00771.jpg',\n",
       "   'img_03371.jpg',\n",
       "   'img_02498.jpg',\n",
       "   'img_00321.jpg',\n",
       "   'img_01915.jpg',\n",
       "   'img_00491.jpg',\n",
       "   'img_04289.jpg',\n",
       "   'img_05841.jpg',\n",
       "   'img_07519.jpg',\n",
       "   'img_05314.jpg'],\n",
       "  'DOL': [],\n",
       "  'LAG': [],\n",
       "  'NoF': [],\n",
       "  'OTHER': [],\n",
       "  'SHARK': [],\n",
       "  'YFT': []},\n",
       " 'DOL': {'ALB': ['img_01654.jpg'],\n",
       "  'BET': [],\n",
       "  'DOL': ['img_05294.jpg',\n",
       "   'img_02936.jpg',\n",
       "   'img_00770.jpg',\n",
       "   'img_00918.jpg',\n",
       "   'img_07643.jpg',\n",
       "   'img_05782.jpg',\n",
       "   'img_02475.jpg',\n",
       "   'img_01153.jpg',\n",
       "   'img_01531.jpg',\n",
       "   'img_05894.jpg',\n",
       "   'img_00165.jpg',\n",
       "   'img_01360.jpg'],\n",
       "  'LAG': [],\n",
       "  'NoF': [],\n",
       "  'OTHER': [],\n",
       "  'SHARK': [],\n",
       "  'YFT': []},\n",
       " 'LAG': {'ALB': [],\n",
       "  'BET': [],\n",
       "  'DOL': [],\n",
       "  'LAG': ['img_00176.jpg',\n",
       "   'img_01512.jpg',\n",
       "   'img_07334.jpg',\n",
       "   'img_03771.jpg',\n",
       "   'img_02186.jpg',\n",
       "   'img_06129.jpg',\n",
       "   'img_06876.jpg'],\n",
       "  'NoF': [],\n",
       "  'OTHER': [],\n",
       "  'SHARK': [],\n",
       "  'YFT': []},\n",
       " 'NoF': {'ALB': ['img_07113.jpg',\n",
       "   'img_01738.jpg',\n",
       "   'img_07071.jpg',\n",
       "   'img_05107.jpg'],\n",
       "  'BET': [],\n",
       "  'DOL': [],\n",
       "  'LAG': [],\n",
       "  'NoF': ['img_00377.jpg',\n",
       "   'img_05928.jpg',\n",
       "   'img_02717.jpg',\n",
       "   'img_06264.jpg',\n",
       "   'img_03643.jpg',\n",
       "   'img_00725.jpg',\n",
       "   'img_01424.jpg',\n",
       "   'img_01499.jpg',\n",
       "   'img_04462.jpg',\n",
       "   'img_04793.jpg',\n",
       "   'img_06515.jpg',\n",
       "   'img_07673.jpg',\n",
       "   'img_02621.jpg',\n",
       "   'img_04486.jpg',\n",
       "   'img_01677.jpg',\n",
       "   'img_07711.jpg',\n",
       "   'img_00887.jpg',\n",
       "   'img_00673.jpg',\n",
       "   'img_01165.jpg',\n",
       "   'img_07758.jpg',\n",
       "   'img_06628.jpg',\n",
       "   'img_03933.jpg',\n",
       "   'img_01013.jpg',\n",
       "   'img_03555.jpg',\n",
       "   'img_05503.jpg',\n",
       "   'img_00615.jpg',\n",
       "   'img_02439.jpg',\n",
       "   'img_06398.jpg',\n",
       "   'img_06495.jpg',\n",
       "   'img_04475.jpg',\n",
       "   'img_06801.jpg',\n",
       "   'img_00146.jpg',\n",
       "   'img_00143.jpg',\n",
       "   'img_00011.jpg',\n",
       "   'img_02164.jpg',\n",
       "   'img_06953.jpg',\n",
       "   'img_01588.jpg',\n",
       "   'img_01906.jpg',\n",
       "   'img_05875.jpg',\n",
       "   'img_03009.jpg'],\n",
       "  'OTHER': [],\n",
       "  'SHARK': [],\n",
       "  'YFT': []},\n",
       " 'OTHER': {'ALB': [],\n",
       "  'BET': [],\n",
       "  'DOL': [],\n",
       "  'LAG': [],\n",
       "  'NoF': [],\n",
       "  'OTHER': ['img_02160.jpg',\n",
       "   'img_05954.jpg',\n",
       "   'img_02051.jpg',\n",
       "   'img_00183.jpg',\n",
       "   'img_02511.jpg',\n",
       "   'img_00359.jpg',\n",
       "   'img_00631.jpg',\n",
       "   'img_06984.jpg',\n",
       "   'img_02528.jpg',\n",
       "   'img_00397.jpg',\n",
       "   'img_04391.jpg',\n",
       "   'img_02715.jpg',\n",
       "   'img_05413.jpg',\n",
       "   'img_05111.jpg',\n",
       "   'img_00639.jpg',\n",
       "   'img_01639.jpg',\n",
       "   'img_03163.jpg',\n",
       "   'img_04948.jpg',\n",
       "   'img_05274.jpg',\n",
       "   'img_04717.jpg',\n",
       "   'img_05751.jpg',\n",
       "   'img_05895.jpg',\n",
       "   'img_02360.jpg',\n",
       "   'img_04396.jpg',\n",
       "   'img_05943.jpg',\n",
       "   'img_04826.jpg',\n",
       "   'img_02792.jpg',\n",
       "   'img_01428.jpg'],\n",
       "  'SHARK': [],\n",
       "  'YFT': []},\n",
       " 'SHARK': {'ALB': [],\n",
       "  'BET': [],\n",
       "  'DOL': [],\n",
       "  'LAG': [],\n",
       "  'NoF': [],\n",
       "  'OTHER': [],\n",
       "  'SHARK': ['img_06013.jpg',\n",
       "   'img_05685.jpg',\n",
       "   'img_05327.jpg',\n",
       "   'img_05464.jpg',\n",
       "   'img_07661.jpg',\n",
       "   'img_02288.jpg',\n",
       "   'img_02744.jpg',\n",
       "   'img_00703.jpg',\n",
       "   'img_07003.jpg',\n",
       "   'img_02088.jpg',\n",
       "   'img_02224.jpg',\n",
       "   'img_07221.jpg',\n",
       "   'img_00409.jpg',\n",
       "   'img_06444.jpg',\n",
       "   'img_06677.jpg',\n",
       "   'img_07473.jpg',\n",
       "   'img_03983.jpg',\n",
       "   'img_02558.jpg'],\n",
       "  'YFT': []},\n",
       " 'YFT': {'ALB': ['img_04876.jpg', 'img_06735.jpg', 'img_05663.jpg'],\n",
       "  'BET': [],\n",
       "  'DOL': [],\n",
       "  'LAG': [],\n",
       "  'NoF': [],\n",
       "  'OTHER': [],\n",
       "  'SHARK': [],\n",
       "  'YFT': ['img_04444.jpg',\n",
       "   'img_02355.jpg',\n",
       "   'img_04046.jpg',\n",
       "   'img_03046.jpg',\n",
       "   'img_00871.jpg',\n",
       "   'img_02218.jpg',\n",
       "   'img_02525.jpg',\n",
       "   'img_00680.jpg',\n",
       "   'img_06304.jpg',\n",
       "   'img_02727.jpg',\n",
       "   'img_00238.jpg',\n",
       "   'img_06228.jpg',\n",
       "   'img_02845.jpg',\n",
       "   'img_07074.jpg',\n",
       "   'img_06535.jpg',\n",
       "   'img_03460.jpg',\n",
       "   'img_00535.jpg',\n",
       "   'img_00470.jpg',\n",
       "   'img_00803.jpg',\n",
       "   'img_03824.jpg',\n",
       "   'img_04241.jpg',\n",
       "   'img_03400.jpg',\n",
       "   'img_00069.jpg',\n",
       "   'img_03668.jpg',\n",
       "   'img_02966.jpg',\n",
       "   'img_06586.jpg',\n",
       "   'img_04646.jpg',\n",
       "   'img_05172.jpg',\n",
       "   'img_04908.jpg',\n",
       "   'img_02179.jpg',\n",
       "   'img_00647.jpg',\n",
       "   'img_07609.jpg',\n",
       "   'img_05662.jpg',\n",
       "   'img_07250.jpg',\n",
       "   'img_04317.jpg',\n",
       "   'img_01606.jpg',\n",
       "   'img_01308.jpg',\n",
       "   'img_06782.jpg',\n",
       "   'img_00896.jpg',\n",
       "   'img_06763.jpg',\n",
       "   'img_03062.jpg',\n",
       "   'img_04281.jpg',\n",
       "   'img_02962.jpg',\n",
       "   'img_00900.jpg',\n",
       "   'img_07233.jpg',\n",
       "   'img_07541.jpg',\n",
       "   'img_04516.jpg',\n",
       "   'img_05478.jpg',\n",
       "   'img_01779.jpg',\n",
       "   'img_07338.jpg',\n",
       "   'img_05323.jpg',\n",
       "   'img_02806.jpg',\n",
       "   'img_00968.jpg',\n",
       "   'img_01634.jpg',\n",
       "   'img_07901.jpg',\n",
       "   'img_04373.jpg',\n",
       "   'img_04355.jpg',\n",
       "   'img_03590.jpg',\n",
       "   'img_03480.jpg',\n",
       "   'img_06509.jpg',\n",
       "   'img_07061.jpg',\n",
       "   'img_03278.jpg',\n",
       "   'img_07431.jpg',\n",
       "   'img_00872.jpg',\n",
       "   'img_04364.jpg',\n",
       "   'img_07571.jpg',\n",
       "   'img_04041.jpg',\n",
       "   'img_03898.jpg',\n",
       "   'img_07017.jpg',\n",
       "   'img_05414.jpg',\n",
       "   'img_01658.jpg',\n",
       "   'img_01842.jpg',\n",
       "   'img_05783.jpg']}}"
      ]
     },
     "execution_count": 36,
     "metadata": {},
     "output_type": "execute_result"
    }
   ],
   "source": [
    "prediction_actual_mappings_base"
   ]
  },
  {
   "cell_type": "markdown",
   "metadata": {
    "deletable": true,
    "editable": true
   },
   "source": [
    "Make submission (see last section of this notebook)..."
   ]
  },
  {
   "cell_type": "markdown",
   "metadata": {
    "deletable": true,
    "editable": true
   },
   "source": [
    "## Improve with PseudoLabelling (val only) - classifier_model_v2_val_pseudo"
   ]
  },
  {
   "cell_type": "code",
   "execution_count": 65,
   "metadata": {
    "collapsed": false,
    "deletable": true,
    "editable": true
   },
   "outputs": [],
   "source": [
    "def fit_pseudo(model, trn_conv_features, pseudo_conv_features, val_conv_features,\n",
    "               trn_labels, pseudo_labels, val_labels,\n",
    "               epochs = 1,\n",
    "               trn_batch_size = 20,\n",
    "               pseudo_batch_size = 12,\n",
    "               val_batch_size = 32):    \n",
    "    \"\"\" Based heavily on:\n",
    "    https://shaoanlu.wordpress.com/2017/04/10/a-simple-pseudo-labeling-function-implementation-in-keras/\n",
    "    https://github.com/shaoanlu/dogs-vs-cats-redux/blob/master/res50_incepV3_Xcept.ipynb\n",
    "    \"\"\"\n",
    "    \n",
    "    # determine when to re-shuffle index array (i.e. when every image has been trained on)\n",
    "    num_batch_per_epoch_trn = int(trn_conv_features.shape[0]/trn_batch_size)\n",
    "    num_batch_per_epoch_pseudo = int(pseudo_conv_features.shape[0]/pseudo_batch_size)\n",
    "    num_batch_per_epoch_val = int(val_conv_features.shape[0]/val_batch_size)\n",
    "    \n",
    "#    print(\"Reshuffling (pseudo) val indexes after num_iterations = {}\".format(num_batch_per_epoch_pseudo))\n",
    "#    print(\"Reshuffling val indexes after num_iterations = {}\".format(num_batch_per_epoch_val))\n",
    "    \n",
    "    #loss, acc = model.metrics_names\n",
    "    \n",
    "    all_comb_features = np.concatenate(\n",
    "                (trn_conv_features,\n",
    "                 val_conv_features), axis=0)\n",
    "    all_comb_labels = np.concatenate(\n",
    "            (trn_labels,\n",
    "             val_labels), axis=0)\n",
    "    \n",
    "\n",
    "    for e in range(epochs):\n",
    "        now = datetime.now().strftime(\"%Y%m%d_%H%M%S\")\n",
    "        print(\"\\nRunning epoch {}: {}\".format(e, now))\n",
    "\n",
    "        # Shuffling index array on each new epoch.\n",
    "        trn_start_batch_idxs = np.random.permutation(num_batch_per_epoch_trn)\n",
    "        pseudo_start_batch_idxs = np.random.permutation(num_batch_per_epoch_pseudo)\n",
    "        val_start_batch_idxs = np.random.permutation(num_batch_per_epoch_val)\n",
    "\n",
    "        # i.e. for each batch...\n",
    "        for idx in range(max(num_batch_per_epoch_trn, num_batch_per_epoch_pseudo, num_batch_per_epoch_val)):\n",
    "\n",
    "            # Get an index number from the shuffled index array for the current loop i\n",
    "            trn_start_batch_idx = trn_start_batch_idxs[idx%num_batch_per_epoch_trn]\n",
    "            trn_start_data_idx = trn_start_batch_idx*trn_batch_size\n",
    "            trn_start_data_idx_next = (trn_start_batch_idx+1)*trn_batch_size\n",
    "\n",
    "            pseudo_start_batch_idx = pseudo_start_batch_idxs[idx%num_batch_per_epoch_pseudo]\n",
    "            pseudo_start_data_idx = pseudo_start_batch_idx*pseudo_batch_size\n",
    "            pseudo_start_data_idx_next = (pseudo_start_batch_idx+1)*pseudo_batch_size\n",
    "\n",
    "            val_start_batch_idx = val_start_batch_idxs[idx%num_batch_per_epoch_val]\n",
    "            val_start_data_idx = val_start_batch_idx*val_batch_size\n",
    "            val_start_data_idx_next = (val_start_batch_idx+1)*val_batch_size\n",
    "\n",
    "            comb_features = np.concatenate(\n",
    "                (trn_conv_features[ trn_start_data_idx:trn_start_data_idx_next ],\n",
    "                 val_conv_features[ pseudo_start_data_idx:pseudo_start_data_idx_next ]), axis=0)\n",
    "            #print(comb_features.shape)\n",
    "\n",
    "            comb_labels = np.concatenate(\n",
    "                (trn_labels[ trn_start_data_idx:trn_start_data_idx_next ],\n",
    "                 pseudo_val_labels[ pseudo_start_data_idx:pseudo_start_data_idx_next ]), axis=0)\n",
    "            #print(comb_labels.shape)\n",
    "\n",
    "            model.train_on_batch(comb_features, comb_labels)\n",
    "\n",
    "            #print(\"Batch trn_loss = {}, trn_acc = {},\".format(trn_loss, trn_acc))\n",
    "            #print(\"Batch val_loss = {}, val_acc = {},\".format(val_loss, val_acc))    \n",
    "\n",
    "            # Reshuffle index array after model trained on the last mini-batch.\n",
    "            if (idx+1)%num_batch_per_epoch_trn == 0:\n",
    "                trn_start_batch_idxs = np.random.permutation(num_batch_per_epoch_trn)\n",
    "            if (idx+1)%num_batch_per_epoch_pseudo == 0:\n",
    "                pseudo_start_batch_idxs = np.random.permutation(num_batch_per_epoch_pseudo)\n",
    "            if (idx+1)%num_batch_per_epoch_val == 0:\n",
    "                val_start_batch_idxs = np.random.permutation(num_batch_per_epoch_val)\n",
    "\n",
    "        trn_comb_loss, trn_comb_acc = model.evaluate(all_comb_features, all_comb_labels, verbose=0)\n",
    "        val_loss, val_acc = model.evaluate(val_conv_features, val_labels, verbose=0)\n",
    "        print(\"Epoch trn_loss (inc. pseudo) = {}, trn_acc (inc. pseudo) = {},\".format(trn_comb_loss, trn_comb_acc))\n",
    "        print(\"Epoch val_loss = {}, val_acc = {},\".format(val_loss, val_acc))"
   ]
  },
  {
   "cell_type": "code",
   "execution_count": 62,
   "metadata": {
    "collapsed": false,
    "deletable": true,
    "editable": true
   },
   "outputs": [],
   "source": [
    "pseudo_val_labels = classifier_model_v2.predict(val_conv_features, batch_size=38)"
   ]
  },
  {
   "cell_type": "code",
   "execution_count": 67,
   "metadata": {
    "collapsed": false,
    "deletable": true,
    "editable": true
   },
   "outputs": [
    {
     "name": "stdout",
     "output_type": "stream",
     "text": [
      "\n",
      "Running epoch 0: 20170601_151850\n",
      "Epoch trn_loss (inc. pseudo) = 0.35689734492568326, trn_acc (inc. pseudo) = 0.8853587503309505,\n",
      "Epoch val_loss = 0.4072040419829519, val_acc = 0.8789473703033046,\n",
      "\n",
      "Running epoch 1: 20170601_151856\n",
      "Epoch trn_loss (inc. pseudo) = 0.30502619769701356, trn_acc (inc. pseudo) = 0.9433412761450887,\n",
      "Epoch val_loss = 0.34541360390813725, val_acc = 0.9342105275706241,\n"
     ]
    }
   ],
   "source": [
    "num_epochs = 2\n",
    "\n",
    "K.set_value(classifier_model_v2.optimizer.lr, 0.01)\n",
    "\n",
    "fit_pseudo(model=classifier_model_v2,\n",
    "            trn_conv_features=trn_conv_features, \n",
    "            pseudo_conv_features=val_conv_features,\n",
    "            val_conv_features=val_conv_features,\n",
    "\n",
    "            trn_labels=trn_labels,\n",
    "            pseudo_labels=pseudo_val_labels,\n",
    "            val_labels=val_labels,\n",
    "\n",
    "            epochs = num_epochs,\n",
    "\n",
    "            trn_batch_size = 20,\n",
    "            pseudo_batch_size = 12,\n",
    "            val_batch_size = 32)"
   ]
  },
  {
   "cell_type": "code",
   "execution_count": 68,
   "metadata": {
    "collapsed": false,
    "deletable": true,
    "editable": true
   },
   "outputs": [
    {
     "name": "stdout",
     "output_type": "stream",
     "text": [
      "\n",
      "Running epoch 0: 20170601_151906\n",
      "Epoch trn_loss (inc. pseudo) = 0.28482189312131434, trn_acc (inc. pseudo) = 0.9436060365369341,\n",
      "Epoch val_loss = 0.3288777831353639, val_acc = 0.9263157907285189,\n",
      "\n",
      "Running epoch 1: 20170601_151912\n",
      "Epoch trn_loss (inc. pseudo) = 0.275193781055153, trn_acc (inc. pseudo) = 0.947047921630924,\n",
      "Epoch val_loss = 0.3257320291117618, val_acc = 0.9289473696758873,\n"
     ]
    }
   ],
   "source": [
    "num_epochs = 2\n",
    "\n",
    "K.set_value(classifier_model_v2.optimizer.lr, 0.0001)\n",
    "\n",
    "fit_pseudo(model=classifier_model_v2,\n",
    "            trn_conv_features=trn_conv_features, \n",
    "            pseudo_conv_features=val_conv_features,\n",
    "            val_conv_features=val_conv_features,\n",
    "\n",
    "            trn_labels=trn_labels,\n",
    "            pseudo_labels=pseudo_val_labels,\n",
    "            val_labels=val_labels,\n",
    "\n",
    "            epochs = num_epochs,\n",
    "\n",
    "            trn_batch_size = 20,\n",
    "            pseudo_batch_size = 12,\n",
    "            val_batch_size = 32)"
   ]
  },
  {
   "cell_type": "code",
   "execution_count": null,
   "metadata": {
    "collapsed": true,
    "deletable": true,
    "editable": true
   },
   "outputs": [],
   "source": []
  },
  {
   "cell_type": "markdown",
   "metadata": {
    "deletable": true,
    "editable": true
   },
   "source": [
    "NOT WORKING CORRECTLY (based on JH MixIterator method):"
   ]
  },
  {
   "cell_type": "code",
   "execution_count": 102,
   "metadata": {
    "collapsed": false,
    "deletable": true,
    "editable": true
   },
   "outputs": [],
   "source": [
    "trn_batch_size = 20 # ensure num_trn_sample/trn_batch_size is int.\n",
    "pseudo_val_batch_size = 12 # ensure num_trn_sample/trn_batch_size is int.\n",
    "val_batch_size = 38 # ensure num_trn_sample/trn_batch_size is int.\n",
    "\n",
    "def preprocess_input(x, data_format=None):\n",
    "    # Based on function at https://github.com/fchollet/keras/blob/master/keras/applications/imagenet_utils.py\n",
    "    # Altered for 3D input, assumes data_format='channels_last'\n",
    "    \n",
    "    \"\"\"Preprocesses a tensor encoding a batch of images.\n",
    "    # Arguments\n",
    "        x: input Numpy tensor, 3D.\n",
    "        data_format: data format of the image tensor.\n",
    "    # Returns\n",
    "        Preprocessed tensor.\n",
    "    \"\"\"\n",
    "    # 'RGB'->'BGR'\n",
    "    x = x[:, :, ::-1]\n",
    "    # Zero-center by mean pixel\n",
    "    x[:, :, 0] -= 103.939\n",
    "    x[:, :, 1] -= 116.779\n",
    "    x[:, :, 2] -= 123.68\n",
    "    return x\n",
    "\n",
    "from image_custom import ImageDataGenerator_custom\n",
    "gen = ImageDataGenerator_custom(preprocessing_function=preprocess_input)\n",
    "shuffle = True\n",
    "\n",
    "trn_batches = gen.flow(trn_conv_features, trn_labels, \n",
    "                       shuffle=shuffle, \n",
    "                       batch_size=trn_batch_size)\n",
    "\n",
    "pseudo_val_batches = gen.flow(val_conv_features, pseudo_val_labels, \n",
    "                              shuffle=shuffle, \n",
    "                              batch_size=pseudo_val_batch_size)\n",
    "\n",
    "val_batches = gen.flow(val_conv_features, val_labels, \n",
    "                       shuffle=False, \n",
    "                       batch_size=val_batch_size)"
   ]
  },
  {
   "cell_type": "code",
   "execution_count": 104,
   "metadata": {
    "collapsed": false,
    "deletable": true,
    "editable": true,
    "scrolled": true
   },
   "outputs": [
    {
     "name": "stdout",
     "output_type": "stream",
     "text": [
      "Epoch 1/2\n",
      "170/170 [==============================] - 7s - loss: 0.6708 - acc: 0.7462 - val_loss: 5.5130 - val_acc: 0.4211\b\b\b\b\b\b\b\b\b\b\b\b\b\b\b\b\b\b\b\b\b\b\b\b\b\b\b\b\b\b\b\b\b\b\b\b\b\b\b\b\b\b\b\b\b\b\b\b\b\b\b\b\b\b\b\b\b\b\b\b\b\b\b\b\b\b\b\b\b\b\b\b\b\b\b\b\b\b\b\b\b\b\b\b\b\b\b\b\b\b\b\b\b\b\b\b\b\b\b\b\b\b\b\b\b\b\b\b\b\b\b\b\b\b\b\b\b\b\b\b\b\b\b\b\b\b\b\b\b\b\b\b\b\b\b\b\b\b\b\b\b\b\b\b\b\b\b\b\b\b\b\b\b\b\b\b\b\b\b\b\b\b\b\b\b\b\b\b\b\b\b\b\b\b\b\b\b\b\b\b\b\b\b\b\b\b\b\b\b\b\b\b\b\b\b\b\b\b\b\b\b\b\b\b\b\b\b\b\b\b\b\b\b\b\b\b\b\b\b\b\b\b\b\b\b\b\b\b\b\b\b\b\b\b\b\b\b\b\b\b\b\b\b\b\b\b\b\b\b\b\b\b\b\b\b\b\b\b\b\b\b\b\b\b\b\b\b\b\b\b\b\b\b\b\b\b\b\b\b\b\b\b\b\b\b\b\b\b\b\b\b\b\b\b\b\b\b\b\b\b\b\b\b\b\b\b\b\b\b\b\b\b\b\b\b\b\b\b\b\b\b\b\b\b\b\b\b\b\b\b\b\b\b\b\b\b\b\b\b\b\b\b\b\b\b\b\b\b\b\b\b\b\b\b\b\b\b\b\b\b\b\b\b\b\b\b\b\b\b\b\b\b\b\b\b\b\b\b\b\b\b\b\b\b\b\b\b\b\b\b\b\b\b\b\b\b\b\b\b\b\b\b\b\b\b\b\b\b\b\b\b\b\b\b\b\b\b\b\b\b\b\b\b\b\b\b\b\b\b\b\b\b\b\b\b\b\b\b\b\b\b\b\b\b\b\b\b\b\b\b\b\b\b\b\b\b\b\b\b\b\b\b\b\b\b\b\b\b\b\b\b\b\b\b\b\b\b\b\b\b\b\b\b\b\b\b\b\b\b\b\b\b\b\b\b\b\b\b\b\b\b\b\b\b\b\b\b\b\b\b\b\b\b\b\b\b\b\b\b\b\b\b\b\b\b\b\b\b\b\b\b\b\b\b\b\b\b\b\b\b\b\b\b\b\b\b\b\b\b\b\b\b\b\b\b\b\b\b\b\b\b\b\b\b\b\b\b\b\b\b\b\b\b\b\b\b\b\b\b\b\b\b\b\b\b\b\b\b\b\b\b\b\b\b\b\b\b\b\b\b\b\b\b\b\b\b\b\b\b\b\b\b\b\b\b\b\b\b\b\b\b\b\b\b\b\b\b\b\b\b\b\b\b\b\b\b\b\b\b\b\b\b\b\b\b\b\b\b\b\b\b\b\b\b\b\b\b\b\b\b\b\b\b\b\b\b\b\b\b\b\b\b\b\b\b\b\b\b\b\b\b\b\b\b\b\b\b\b\b\b\b\b\b\b\b\b\b\b\b\b\b\b\b\b\b\b\b\b\b\b\b\b\b\b\b\b\b\b\b\b\b\b\b\b\b\b\b\b\b\b\b\b\b\b\b\b\b\b\b\b\b\b\b\b\b\b\b\b\b\b\b\b\b\b\b\b\b\b\b\b\b\b\b\b\b\b\b\b\b\b\b\b\b\b\b\b\b\b\b\b\b\b\b\b\b\b\b\b\b\b\b\b\b\b\b\b\b\b\b\b\b\b\b\b\b\b\b\b\b\b\b\b\b\b\b\b\b\b\b\b\b\b\b\b\b\b\b\b\b\b\b\b\b\b\b\b\b\b\b\b\b\b\b\b\b\b\b\b\b\b\b\b\b\b\b\b\b\b\b\b\b\b\b\b\b\b\b\b\b\b\b\b\b\b\b\b\b\b\b\b\b\b\b\b\b\b\b\b\b\b\b\b\b\b\b\b\b\b\b\b\b\b\b\b\b\b\b\b\b\b\b\b\b\b\b\b\b\b\b\b\b\b\b\b\b\b\b\b\b\b\b\b\b\b\b\b\b\b\b\b\b\b\b\b\b\b\b\b\b\b\b\b\b\b\b\b\b\b\b\b\b\b\b\b\b\b\b\b\b\b\b\b\b\b\b\b\b\b\b\b\b\b\b\b\b\b\b\b\b\b\b\b\b\b\b\b\b\b\b\b\b\b\b\b\b\b\b\b\b\b\b\b\b\b\b\b\b\b\b\b\b\b\b\b\b\b\b\b\b\b\b\b\b\b\b\b\b\b\b\b\b\b\b\b\b\b\b\b\b\b\b\b\b\b\b\b\b\b\b\b\b\b\b\b\b\b\b\b\b\b\b\b\b\b\b\b\b\b\b\b\b\b\b\b\b\b\b\b\b\b\b\b\b\b\b\b\b\b\b\b\b\b\b\b\b\b\b\b\b\b\b\b\b\b\b\b\b\b\b\b\b\b\b\b\b\b\b\b\b\b\b\b\b\b\b\b\b\b\b\b\b\b\b\b\b\b\b\b\b\b\b\b\b\b\b\b\b\b\b\b\b\b\b\b\b\b\b\b\b\b\b\b\b\b\b\b\b\b\b\b\b\b\b\b\b\b\b\b\b\b\b\b\b\b\b\b\b\b\b\b\b\b\b\b\b\b\b\b\b\b\b\b\b\b\b\b\b\b\b\b\b\b\b\b\b\b\b\b\b\b\b\b\b\b\b\b\b\b\b\b\b\b\b\b\b\b\b\b\b\b\b\b\b\b\b\b\b\b\b\b\b\b\b\b\b\b\b\b\b\b\b\b\b\b\b\b\b\b\b\b\b\b\b\b\b\b\b\b\b\b\b\b\b\b\b\b\b\b\b\b\b\b\b\b\b\b\b\b\b\b\b\b\b\b\b\b\b\b\b\b\b\b\b\b\b\b\b\b\b\b\b\b\b\b\b\b\b\b\b\b\b\b\b\b\b\b\b\b\b\b\b\b\b\b\b\b\b\b\b\b\b\b\b\b\b\b\b\b\b\b\b\b\b\b\b\b\b\b\b\b\b\b\b\b\b\b\b\b\b\b\b\b\b\b\b\b\b\b\b\b\b\b\b\b\b\b\b\b\b\b\b\b\b\b\b\b\b\b\b\b\b\b\b\b\b\b\b\b\b\b\b\b\b\b\b\b\b\b\b\b\b\b\b\b\b\b\b\b\b\b\b\b\b\b\b\b\b\b\b\b\b\b\b\b\b\b\b\b\b\b\b\b\b\b\b\b\b\b\b\b\b\b\b\b\b\b\b\b\b\b\b\b\b\b\b\b\b\b\b\b\b\b\b\b\b\b\b\b\b\b\b\b\b\b\b\b\b\b\b\b\b\b\b\b\b\b\b\b\b\b\b\b\b\b\b\b\b\b\b\b\b\b\b\b\b\b\b\b\b\b\b\b\b\b\b\b\b\b\b\b\b\b\b\b\b\b\b\b\b\b\b\b\b\b\b\b\b\b\b\b\b\b\b\b\b\b\b\b\b\b\b\b\b\b\b\b\b\b\b\b\b\b\b\b\b\b\b\b\b\b\b\b\b\b\b\b\b\b\b\b\b\b\b\b\b\b\b\b\b\b\b\b\b\b\b\b\b\b\b\b\b\b\b\b\b\b\b\b\b\b\b\b\b\b\b\b\b\b\b\b\b\b\b\b\b\b\b\b\b\b\b\b\b\b\b\b\b\b\b\b\b\b\b\b\b\b\b\b\b\b\b\b\b\b\b\b\b\b\b\b\b\b\b\b\b\b\b\b\b\b\b\b\b\b\b\b\b\b\b\b\b\b\b\b\b\b\b\b\b\b\b\b\b\b\b\b\b\b\b\b\b\b\b\b\b\b\b\b\b\b\b\b\b\b\b\b\b\b\b\b\b\b\b\b\b\b\b\b\b\b\b\b\b\b\b\b\b\b\b\b\b\b\b\b\b\b\b\b\b\b\b\b\b\b\b\b\b\b\b\b\b\b\b\b\b\b\b\b\b\b\b\b\b\b\b\b\b\b\b\b\b\b\b\b\b\b\b\b\b\b\b\b\b\b\b\b\b\b\b\b\b\b\b\b\b\b\b\b\b\b\b\b\b\b\b\b\b\b\b\b\b\b\b\b\b\b\b\b\b\b\b\b\b\b\b\b\b\b\b\b\b\b\b\b\b\b\b\b\b\b\b\b\b\b\b\b\b\b\b\b\b\b\b\b\b\b\b\b\b\b\b\b\b\b\b\b\b\b\b\b\b\b\b\b\b\b\b\b\b\b\b\b\b\b\b\b\b\b\b\b\b\b\b\b\b\b\b\b\b\b\b\b\b\b\b\b\b\b\b\b\b\b\b\b\b\b\b\b\b\b\b\b\b\b\b\b\b\b\b\b\b\b\b\b\b\b\b\b\b\b\b\b\b\b\b\b\b\b\b\b\b\b\b\b\b\b\b\b\b\b\b\b\b\b\b\b\b\b\b\b\b\b\b\b\b\b\b\b\b\b\b\b\b\b\b\b\b\b\b\b\b\b\b\b\b\b\b\b\b\b\b\b\b\b\b\b\b\b\b\b\b\b\b\b\b\b\b\b\b\b\b\b\b\b\b\b\b\b\b\b\b\b\b\b\b\b\b\b\b\b\b\b\b\b\b\b\b\b\b\b\b\b\b\b\b\b\b\b\b\b\b\b\b\b\b\b\b\b\b\b\b\b\b\b\b\b\b\b\b\b\b\b\b\b\b\b\b\b\b\b\b\b\b\b\b\b\b\b\b\b\b\b\b\b\b\b\b\b\b\b\b\b\b\b\b\b\b\b\b\b\b\b\b\b\b\b\b\b\b\b\b\b\b\b\b\b\b\b\b\b\b\b\b\b\b\b\b\b\b\b\b\b\b\b\b\b\b\b\b\b\b\b\b\b\b\b\b\b\b\b\b\b\b\b\b\b\b\b\b\b\b\b\b\b\b\b\b\b\b\b\b\b\b\b\b\b\b\b\b\b\b\b\b\b\b\b\b\b\b\b\b\b\b\b\b\b\b\b\b\b\b\b\b\b\b\b\b\b\b\b\b\b\b\b\b\b\b\b\b\b\b\b\b\b\b\b\b\b\b\b\b\b\b\b\b\b\b\b\b\b\b\b\b\b\b\b\b\b\b\b\b\b\b\b\b\b\b\b\b\b\b\b\b\b\b\b\b\b\b\b\b\b\b\b\b\b\b\b\b\b\b\b\b\b\b\b\b\b\b\b\b\b\b\b\b\b\b\b\b\b\b\b\b\b\b\b\b\b\b\b\b\b\b\b\b\b\b\b\b\b\b\b\b\b\b\b\b\b\b\b\b\b\b\b\b\b\b\b\b\b\b\b\b\b\b\b\b\b\b\b\b\b\b\b\b\b\b\b\b\b\b\b\b\b\b\b\b\b\b\b\b\b\b\b\b\b\b\b\b\b\b\b\b\b\b\b\b\b\b\b\b\b\b\b\b\b\b\b\b\b\b\b\b\b\b\b\b\b\b\b\b\b\b\b\b\b\b\b\b\b\b\b\b\b\b\b\b\b\b\b\b\b\b\b\b\b\b\b\b\b\b\b\b\b\b\b\b\b\b\b\b\b\b\b\b\b\b\b\b\b\b\b\b\b\b\b\b\b\b\b\b\b\b\b\b\b\b\b\b\b\b\b\b\b\b\b\b\b\b\b\b\b\b\b\b\b\b\b\b\b\b\b\b\b\b\b\b\b\b\b\b\b\b\b\b\b\b\b\b\b\b\b\b\b\b\b\b\b\b\b\b\b\b\b\b\b\b\b\b\b\b\b\b\b\b\b\b\b\b\b\b\b\b\b\b\b\b\b\b\b\b\b\b\b\b\b\b\b\b\b\b\b\b\b\b\b\b\b\b\b\b\b\b\b\b\b\b\b\b\b\b\b\b\b\b\b\b\b\b\b\b\b\b\b\b\b\b\b\b\b\b\b\b\b\b\b\b\b\b\b\b\b\b\b\b\b\b\b\b\b\b\b\b\b\b\b\b\b\b\b\b\b\b\b\b\b\b\b\b\b\b\b\b\b\b\b\b\b\b\b\b\b\b\b\b\b\b\b\b\b\b\b\b\b\b\b\b\b\b\b\b\b\b\b\b\b\b\b\b\b\b\b\b\b\b\b\b\b\b\b\b\b\b\b\b\b\b\b\b\b\b\b\b\b\b\b\b\b\b\b\b\b\b\b\b\b\b\b\b\b\b\b\b\b\b\b\b\b\b\b\b\b\b\b\b\b\b\b\b\b\b\b\b\b\b\b\b\b\b\b\b\b\b\b\b\b\b\b\b\b\b\b\b\b\b\b\b\b\b\b\b\b\b\b\b\b\b\b\b\b\b\b\b\b\b\b\b\b\b\b\b\b\b\b\b\b\b\b\b\b\b\b\b\b\b\b\b\b\b\b\b\b\b\b\b\b\b\b\b\b\b\b\b\b\b\b\b\b\b\b\b\b\b\b\b\b\b\b\b\b\b\b\b\b\b\b\b\b\b\b\b\b\b\b\b\b\b\b\b\b\b\b\b\b\b\b\b\b\b\b\b\b\b\b\b\b\b\b\b\b\b\b\b\b\b\b\b\b\b\b\b\b\b\b\b\b\b\b\b\b\b\b\b\b\b\b\b\b\b\b\b\b\b\b\b\b\b\b\b\b\b\b\b\b\b\b\b\b\b\b\b\b\b\b\b\b\b\b\b\b\b\b\b\b\b\b\b\b\b\b\b\b\b\b\b\b\b\b\b\b\b\b\b\b\b\b\b\b\b\b\b\b\b\b\b\b\b\b\b\b\b\b\b\b\b\b\b\b\b\b\b\b\b\b\b\b\b\b\b\b\b\b\b\b\b\b\b\b\b\b\b\b\b\b\b\b\b\b\b\b\b\b\b\b\b\b\b\b\b\b\b\b\b\b\b\b\b\b\b\b\b\b\b\b\b\b\b\b\b\b\b\b\b\b\b\b\b\b\b\b\b\b\b\b\b\b\b\b\b\b\b\b\b\b\b\b\b\b\b\b\b\b\b\b\b\b\b\b\b\b\b\b\b\b\b\b\b\b\b\b\b\b\b\b\b\b\b\b\b\b\b\b\b\b\b\b\b\b\b\b\b\b\b\b\b\b\b\b\b\b\b\b\b\b\b\b\b\b\b\b\b\b\b\b\b\b\b\b\b\b\b\b\b\b\b\b\b\b\b\b\b\b\b\b\b\b\b\b\b\b\b\b\b\b\b\b\b\b\b\b\b\b\b\b\b\b\b\b\b\b\b\b\b\b\b\b\b\b\b\b\b\b\b\b\b\b\b\b\b\b\b\b\b\b\b\b\b\b\b\b\b\b\b\b\b\b\b\b\b\b\b\b\b\b\b\b\b\b\b\b\b\b\b\b\b\b\b\b\b\b\b\b\b\b\b\b\b\b\b\b\b\b\b\b\b\b\b\b\b\b\b\b\b\b\b\b\b\b\b\b\b\b\b\b\b\b\b\b\b\b\b\b\b\b\b\b\b\b\b\b\b\b\b\b\b\b\b\b\b\b\b\b\b\b\b\b\b\b\b\b\b\b\b\b\b\b\b\b\b\b\b\b\b\b\b\b\b\b\b\b\b\b\b\b\b\b\b\b\b\b\b\b\b\b\b\b\b\b\b\b\b\b\b\b\b\b\b\b\b\b\b\b\b\b\b\b\b\b\b\b\b\b\b\b\b\b\b\b\b\b\b\b\b\b\b\b\b\b\b\b\b\b\b\b\b\b\b\b\b\b\b\b\b\b\b\b\b\b\b\b\b\b\b\b\b\b\b\b\b\b\b\b\b\b\b\b\b\b\b\b\b\b\b\b\b\b\b\b\b\b\b\b\b\b\b\b\b\b\b\b\b\b\b\b\b\b\b\b\b\b\b\b\b\b\b\b\b\b\b\b\b\b\b\b\b\b\b\b\b\b\b\b\b\b\b\b\b\b\b\b\b\b\b\b\b\b\b\b\b\b\b\b\b\b\b\b\b\b\b\b\b\b\b\b\b\b\b\b\b\b\b\b\b\b\b\b\b\b\b\b\b\b\b\b\b\b\b\b\b\b\b\b\b\b\b\b\b\b\b\b\b\b\b\b\b\b\b\b\b\b\b\b\b\b\b\b\b\b\b\b\b\b\b\b\b\b\b\b\b\b\b\b\b\b\b\b\b\b\b\b\b\b\b\b\b\b\b\b\b\b\b\b\b\b\b\b\b\b\b\b\b\b\b\b\b\b\b\b\b\b\b\b\b\b\b\b\b\b\b\b\b\b\b\b\b\b\b\b\b\b\b\b\b\b\b\b\b\b\b\b\b\b\b\b\b\b\b\b\b\b\b\b\b\b\b\b\b\b\b\b\b\b\b\b\b\b\b\b\b\b\b\b\b\b\b\b\b\b\b\b\b\b\b\b\b\b\b\b\b\b\b\b\b\b\b\b\b\b\b\b\b\b\b\b\b\b\b\b\b\b\b\b\b\b\b\b\b\b\b\b\b\b\b\b\b\b\b\b\b\b\b\b\b\b\b\b\b\b\b\b\b\b\b\b\b\b\b\b\b\b\b\b\b\b\b\b\b\b\b\b\b\b\b\b\b\b\b\b\b\b\b\b\b\b\b\b\b\b\b\b\b\b\b\b\b\b\b\b\b\b\b\b\b\b\b\b\b\b\b\b\b\b\b\b\b\b\b\b\b\b\b\b\b\b\b\b\b\b\b\b\b\b\b\b\b\b\b\b\b\b\b\b\b\b\b\b\b\b\b\b\b\b\b\b\b\b\b\b\b\b\b\b\b\b\b\b\b\b\b\b\b\b\b\b\b\b\b\b\b\b\b\b\b\b\b\b\b\b\b\b\b\b\b\b\b\b\b\b\b\b\b\b\b\b\b\b\b\b\b\b\b\b\b\b\b\b\b\b\b\b\b\b\b\b\b\b\b\b\b\b\b\b\b\b\b\b\b\b\b\b\b\b\b\b\b\b\b\b\b\b\b\b\b\b\b\b\b\b\b\b\b\b\b\b\b\b\b\b\b\b\b\b\b\b\b\b\b\b\b\b\b\b\b\b\b\b\b\b\b\b\b\b\b\b\b\b\b\b\b\b\b\b\b\b\b\b\b\b\b\b\b\b\b\b\b\b\b\b\b\b\b\b\b\b\b\b\b\b\b\b\b\b\b\b\b\b\b\b\b\b\b\b\b\b\b\b\b\b\b\b\b\b\b\b\b\b\b\b\b\b\b\b\b\b\b\b\b\b\b\b\b\b\b\b\b\b\b\b\b\b\b\b\b\b\b\b\b\b\b\b\b\b\b\b\b\b\b\b\b\b\b\b\b\b\b\b\b\b\b\b\b\b\b\b\b\b\b\b\b\b\b\b\b\b\b\b\b\b\b\b\b\b\b\b\b\b\b\b\b\b\b\b\b\b\b\b\b\b\b\b\b\b\b\b\b\b\b\b\b\b\b\b\b\b\b\b\b\b\b\b\b\b\b\b\b\b\b\b\b\b\b\b\b\b\b\b\b\b\b\b\b\b\b\b\b\b\b\b\b\b\b\b\b\b\b\b\b\b\b\b\b\b\b\b\b\b\b\b\b\b\b\b\b\b\b\b\b\b\b\b\b\b\b\b\b\b\b\b\b\b\b\b\b\b\b\b\b\b\b\b\b\b\b\b\b\b\b\b\b\b\b\b\b\b\b\b\b\b\b\b\b\b\b\b\b\b\b\b\b\b\b\b\b\b\b\b\b\b\b\b\b\b\b\b\b\b\b\b\b\b\b\b\b\b\b\b\b\b\b\b\b\b\b\b\b\b\b\b\b\b\b\b\b\b\b\b\b\b\b\b\b\b\b\b\b\b\b\b\b\b\b\b\b\b\b\b\b\b\b\b\b\b\b\b\b\b\b\b\b\b\b\b\b\b\b\b\b\b\b\b\b\b\b\b\b\b\b\b\b\b\b\b\b\b\b\b\b\b\b\b\b\b\b\b\b\b\b\b\b\b\b\b\b\b\b\b\b\b\b\b\b\b\b\b\b\b\b\b\b\b\b\b\b\b\b\b\b\b\b\b\b\b\b\b\b\b\b\b\b\b\b\b\b\b\b\b\b\b\b\b\b\b\b\b\b\b\b\b\b\b\b\b\b\b\b\b\b\b\b\b\b\b\b\b\b\b\b\b\b\b\b\b\b\b\b\b\b\b\b\b\b\b\b\b\b\b\b\b\b\b\b\b\b\b\b\b\b\b\b\b\b\b\b\b\b\b\b\b\b\b\b\b\b\b\b\b\b\b\b\b\b\b\b\b\b\b\b\b\b\b\b\b\b\b\b\b\b\b\b\b\b\b\b\b\b\b\b\b\b\b\b\b\b\b\b\b\b\b\b\b\b\b\b\b\b\b\b\b\b\b\b\b\b\b\b\b\b\b\b\b\b\b\b\b\b\b\b\b\b\b\b\b\b\b\b\b\b\b\b\b\b\b\b\b\b\b\b\b\b\b\b\b\b\b\b\b\b\b\b\b\b\b\b\b\b\b\b\b\b\b\b\b\b\b\b\b\b\b\b\b\b\b\b\b\b\b\b\b\b\b\b\b\b\b\b\b\b\b\b\b\b\b\b\b\b\b\b\b\b\b\b\b\b\b\b\b\b\b\b\b\b\b\b\b\b\b\b\b\b\b\b\b\b\b\b\b\b\b\b\b\b\b\b\b\b\b\b\b\b\b\b\b\b\b\b\b\b\b\b\b\b\b\b\b\b\b\b\b\b\b\b\b\b\b\b\b\b\b\b\b\b\b\b\b\b\b\b\b\b\b\b\b\b\b\b\b\b\b\b\b\b\b\b\b\b\b\b\b\b\b\b\b\b\b\b\b\b\b\b\b\b\b\b\b\b\b\b\b\b\b\b\b\b\b\b\b\b\b\b\b\b\b\b\b\b\b\b\b\b\b\b\b\b\b\b\b\b\b\b\b\b\b\b\b\b\b\b\b\b\b\b\b\b\b\b\b\b\b\b\b\b\b\b\b\b\b\b\b\b\b\b\b\b\b\b\b\b\b\b\b\b\b\b\b\b\b\b\b\b\b\b\b\b\b\b\b\b\b\b\b\b\b\b\b\b\b\b\b\b\b\b\b\b\b\b\b\b\b\b\b\b\b\b\b\b\b\b\b\b\b\b\b\b\b\b\b\b\b\b\b\b\b\b\b\b\b\b\b\b\b\b\b\b\b\b\b\b\b\b\b\b\b\b\b\b\b\b\b\b\b\b\b\b\b\b\b\b\b\b\b\b\b\b\b\b\b\b\b\b\b\b\b\b\b\b\b\b\b\b\b\b\b\b\b\b\b\b\b\b\b\b\b\b\b\b\b\b\b\b\b\b\b\b\b\b\b\b\b\b\b\b\b\b\b\b\b\b\b\b\b\b\b\b\b\b\b\b\b\b\b\b\b\b\b\b\b\b\b\b\b\b\b\b\b\b\b\b\b\b\b\b\b\b\b\b\b\b\b\b\b\b\b\b\b\b\b\b\b\b\b\b\b\b\b\b\b\b\b\b\b\b\b\b\b\b\b\b\b\b\b\b\b\b\b\b\b\b\b\b\b\b\b\b\b\b\b\b\b\b\b\b\b\b\b\b\b\b\b\b\b\b\b\b\b\b\b\b\b\b\b\b\b\b\b\b\b\b\b\b\b\b\b\b\b\b\b\b\b\b\b\b\b\b\b\b\b\b\b\b\b\b\b\b\b\b\b\b\b\b\b\b\b\b\b\b\b\b\b\b\b\b\b\b\b\b\b\b\b\b\b\b\b\b\b\b\b\b\b\b\b\b\b\b\b\b\b\b\b\b\b\b\b\b\b\b\b\b\b\b\b\b\b\b\b\b\b\b\b\b\b\b\b\b\b\b\b\b\b\b\b\b\b\b\b\b\b\b\b\b\b\b\b\b\b\b\b\b\b\b\b\b\b\b\b\b\b\b\b\b\b\b\b\b\b\b\b\b\b\b\b\b\b\b\b\b\b\b\b\b\b\b\b\b\b\b\b\b\b\b\b\b\b\b\b\b\b\b\b\b\b\b\b\b\b\b\b\b\b\b\b\b\b\b\b\b\b\b\b\b\b\b\b\b\b\b\b\b\b\b\b\b\b\b\b\b\b\b\b\b\b\b\b\b\b\b\b\b\b\b\b\b\b\b\b\b\b\b\b\b\b\b\b\b\b\b\b\b\b\b\b\b\b\b\b\b\b\b\b\b\b\b\b\b\b\b\b\b\b\b\b\b\b\b\b\b\b\b\b\b\b\b\b\b\b\b\b\b\b\b\b\b\b\b\b\b\b\b\b\b\b\b\b\b\b\b\b\b\b\b\b\b\b\b\b\b\b\b\b\b\b\b\b\b\b\b\b\b\b\b\b\b\b\b\b\b\b\b\b\b\b\b\b\b\b\b\b\b\b\b\b\b\b\b\b\b\b\b\b\b\b\b\b\b\b\b\b\b\b\b\b\b\b\b\b\b\b\b\b\b\b\b\b\b\b\b\b\b\b\b\b\b\b\b\b\b\b\b\b\b\b\b\b\b\b\b\b\b\b\b\b\b\b\b\b\b\b\b\b\b\b\b\b\b\b\b\b\b\b\b\b\b\b\b\b\b\b\b\b\b\b\b\b\b\b\b\b\b\b\b\b\b\b\b\b\b\b\b\b\b\b\b\b\b\b\b\b\b\b\b\b\b\b\b\b\b\b\b\b\b\b\b\b\b\b\b\b\b\b\b\b\b\b\b\b\b\b\b\b\b\b\b\b\b\b\b\b\b\b\b\b\b\b\b\b\b\b\b\b\b\b\b\b\b\b\b\b\b\b\b\b\b\b\b\b\b\b\b\b\b\b\b\b\b\b\b\b\b\b\b\b\b\b\b\b\b\b\b\b\b\b\b\b\b\b\b\b\b\b\b\b\b\b\b\b\b\b\b\b\b\b\b\b\b\b\b\b\b\b\b\b\b\b\b\b\b\b\b\b\b\b\b\b\b\b\b\b\b\b\b\b\b\b\b\b\b\b\b\b\b\b\b\b\b\b\b\b\b\b\b\b\b\b\b\b\b\b\b\b\b\b\b\b\b\b\b\b\b\b\b\b\b\b\b\b\b\b\b\b\b\b\b\b\b\b\b\b\b\b\b\b\b\b\b\b\b\b\b\b\b\b\b\b\b\b\b\b\b\b\b\b\b\b\b\b\b\b\b\b\b\b\b\b\b\b\b\b\b\b\b\b\b\b\b\b\b\b\b\b\b\b\b\b\b\b\b\b\b\b\b\b\b\b\b\b\b\b\b\b\b\b\b\b\b\b\b\b\b\b\b\b\b\b\b\b\b\b\b\b\b\b\b\b\b\b\b\b\b\b\b\b\b\b\b\b\b\b\b\b\b\b\b\b\b\b\b\b\b\b\b\b\b\b\b\b\b\b\b\b\b\b\b\b\b\b\b\b\b\b\b\b\b\b\b\b\b\b\b\b\b\b\b\b\b\b\b\b\b\b\b\b\b\b\b\b\b\b\b\b\b\b\b\b\b\b\b\b\b\b\b\b\b\b\b\b\b\b\b\b\b\b\b\b\b\b\b\b\b\b\b\b\b\b\b\b\b\b\b\b\b\b\b\b\b\b\b\b\b\b\b\b\b\b\b\b\b\b\b\b\b\b\b\b\b\b\b\b\b\b\b\b\b\b\b\b\b\b\b\b\b\b\b\b\b\b\b\b\b\b\b\b\b\b\b\b\b\b\b\b\b\b\b\b\b\b\b\b\b\b\b\b\b\b\b\b\b\b\b\b\b\b\b\b\b\b\b\b\b\b\b\b\b\b\b\b\b\b\b\b\b\b\b\b\b\b\b\b\b\b\b\b\b\b\b\b\b\b\b\b\b\b\b\b\b\b\b\b\b\b\b\b\b\b\b\b\b\b\b\b\b\b\b\b\b\b\b\b\b\b\b\b\b\b\b\b\b\b\b\b\b\b\b\b\b\b\b\b\b\b\b\b\b\b\b\b\b\b\b\b\b\b\b\b\b\b\b\b\b\b\b\b\b\b\b\b\b\b\b\b\b\b\b\b\b\b\b\b\b\b\b\b\b\b\b\b\b\b\b\b\b\b\b\b\b\b\b\b\b\b\b\b\b\b\b\b\b\b\b\b\b\b\b\b\b\b\b\b\b\b\b\b\b\b\b\b\b\b\b\b\b\b\b\b\b\b\b\b\b\b\b\b\b\b\b\b\b\b\b\b\b\b\b\b\b\b\b\b\b\b\b\b\b\b\b\b\b\b\b\b\b\b\b\b\b\b\b\b\b\b\b\b\b\b\b\b\b\b\b\b\b\b\b\b\b\b\b\b\b\b\b\b\b\b\b\b\b\b\b\b\b\b\b\b\b\b\b\b\b\b\b\b\b\b\b\b\b\b\b\b\b\b\b\b\b\b\b\b\b\b\b\b\b\b\b\b\b\b\b\b\b\b\b\b\b\b\b\b\b\b\b\b\b\b\b\b\b\b\b\b\b\b\b\b\b\b\b\b\b\b\b\b\b\b\b\b\b\b\b\b\b\b\b\b\b\b\b\b\b\b\b\b\b\b\b\b\b\b\b\b\b\b\b\b\b\b\b\b\b\b\b\b\b\b\b\b\b\b\b\b\b\b\b\b\b\b\b\b\b\b\b\b\b\b\b\b\b\b\b\b\b\b\b\b\b\b\b\b\b\b\b\b\b\b\b\b\b\b\b\b\b\b\b\b\b\b\b\b\b\b\b\b\b\b\b\b\b\b\b\b\b\b\b\b\b\b\b\b\b\b\b\b\b\b\b\b\b\b\b\b\b\b\b\b\b\b\b\b\b\b\b\b\b\b\b\b\b\b\b\b\b\b\b\b\b\b\b\b\b\b\b\b\b\b\b\n",
      "Epoch 2/2\n",
      "170/170 [==============================] - 7s - loss: 0.2606 - acc: 0.9185 - val_loss: 14.6007 - val_acc: 0.0842\b\b\b\b\b\b\b\b\b\b\b\b\b\b\b\b\b\b\b\b\b\b\b\b\b\b\b\b\b\b\b\b\b\b\b\b\b\b\b\b\b\b\b\b\b\b\b\b\b\b\b\b\b\b\b\b\b\b\b\b\b\b\b\b\b\b\b\b\b\b\b\b\b\b\b\b\b\b\b\b\b\b\b\b\b\b\b\b\b\b\b\b\b\b\b\b\b\b\b\b\b\b\b\b\b\b\b\b\b\b\b\b\b\b\b\b\b\b\b\b\b\b\b\b\b\b\b\b\b\b\b\b\b\b\b\b\b\b\b\b\b\b\b\b\b\b\b\b\b\b\b\b\b\b\b\b\b\b\b\b\b\b\b\b\b\b\b\b\b\b\b\b\b\b\b\b\b\b\b\b\b\b\b\b\b\b\b\b\b\b\b\b\b\b\b\b\b\b\b\b\b\b\b\b\b\b\b\b\b\b\b\b\b\b\b\b\b\b\b\b\b\b\b\b\b\b\b\b\b\b\b\b\b\b\b\b\b\b\b\b\b\b\b\b\b\b\b\b\b\b\b\b\b\b\b\b\b\b\b\b\b\b\b\b\b\b\b\b\b\b\b\b\b\b\b\b\b\b\b\b\b\b\b\b\b\b\b\b\b\b\b\b\b\b\b\b\b\b\b\b\b\b\b\b\b\b\b\b\b\b\b\b\b\b\b\b\b\b\b\b\b\b\b\b\b\b\b\b\b\b\b\b\b\b\b\b\b\b\b\b\b\b\b\b\b\b\b\b\b\b\b\b\b\b\b\b\b\b\b\b\b\b\b\b\b\b\b\b\b\b\b\b\b\b\b\b\b\b\b\b\b\b\b\b\b\b\b\b\b\b\b\b\b\b\b\b\b\b\b\b\b\b\b\b\b\b\b\b\b\b\b\b\b\b\b\b\b\b\b\b\b\b\b\b\b\b\b\b\b\b\b\b\b\b\b\b\b\b\b\b\b\b\b\b\b\b\b\b\b\b\b\b\b\b\b\b\b\b\b\b\b\b\b\b\b\b\b\b\b\b\b\b\b\b\b\b\b\b\b\b\b\b\b\b\b\b\b\b\b\b\b\b\b\b\b\b\b\b\b\b\b\b\b\b\b\b\b\b\b\b\b\b\b\b\b\b\b\b\b\b\b\b\b\b\b\b\b\b\b\b\b\b\b\b\b\b\b\b\b\b\b\b\b\b\b\b\b\b\b\b\b\b\b\b\b\b\b\b\b\b\b\b\b\b\b\b\b\b\b\b\b\b\b\b\b\b\b\b\b\b\b\b\b\b\b\b\b\b\b\b\b\b\b\b\b\b\b\b\b\b\b\b\b\b\b\b\b\b\b\b\b\b\b\b\b\b\b\b\b\b\b\b\b\b\b\b\b\b\b\b\b\b\b\b\b\b\b\b\b\b\b\b\b\b\b\b\b\b\b\b\b\b\b\b\b\b\b\b\b\b\b\b\b\b\b\b\b\b\b\b\b\b\b\b\b\b\b\b\b\b\b\b\b\b\b\b\b\b\b\b\b\b\b\b\b\b\b\b\b\b\b\b\b\b\b\b\b\b\b\b\b\b\b\b\b\b\b\b\b\b\b\b\b\b\b\b\b\b\b\b\b\b\b\b\b\b\b\b\b\b\b\b\b\b\b\b\b\b\b\b\b\b\b\b\b\b\b\b\b\b\b\b\b\b\b\b\b\b\b\b\b\b\b\b\b\b\b\b\b\b\b\b\b\b\b\b\b\b\b\b\b\b\b\b\b\b\b\b\b\b\b\b\b\b\b\b\b\b\b\b\b\b\b\b\b\b\b\b\b\b\b\b\b\b\b\b\b\b\b\b\b\b\b\b\b\b\b\b\b\b\b\b\b\b\b\b\b\b\b\b\b\b\b\b\b\b\b\b\b\b\b\b\b\b\b\b\b\b\b\b\b\b\b\b\b\b\b\b\b\b\b\b\b\b\b\b\b\b\b\b\b\b\b\b\b\b\b\b\b\b\b\b\b\b\b\b\b\b\b\b\b\b\b\b\b\b\b\b\b\b\b\b\b\b\b\b\b\b\b\b\b\b\b\b\b\b\b\b\b\b\b\b\b\b\b\b\b\b\b\b\b\b\b\b\b\b\b\b\b\b\b\b\b\b\b\b\b\b\b\b\b\b\b\b\b\b\b\b\b\b\b\b\b\b\b\b\b\b\b\b\b\b\b\b\b\b\b\b\b\b\b\b\b\b\b\b\b\b\b\b\b\b\b\b\b\b\b\b\b\b\b\b\b\b\b\b\b\b\b\b\b\b\b\b\b\b\b\b\b\b\b\b\b\b\b\b\b\b\b\b\b\b\b\b\b\b\b\b\b\b\b\b\b\b\b\b\b\b\b\b\b\b\b\b\b\b\b\b\b\b\b\b\b\b\b\b\b\b\b\b\b\b\b\b\b\b\b\b\b\b\b\b\b\b\b\b\b\b\b\b\b\b\b\b\b\b\b\b\b\b\b\b\b\b\b\b\b\b\b\b\b\b\b\b\b\b\b\b\b\b\b\b\b\b\b\b\b\b\b\b\b\b\b\b\b\b\b\b\b\b\b\b\b\b\b\b\b\b\b\b\b\b\b\b\b\b\b\b\b\b\b\b\b\b\b\b\b\b\b\b\b\b\b\b\b\b\b\b\b\b\b\b\b\b\b\b\b\b\b\b\b\b\b\b\b\b\b\b\b\b\b\b\b\b\b\b\b\b\b\b\b\b\b\b\b\b\b\b\b\b\b\b\b\b\b\b\b\b\b\b\b\b\b\b\b\b\b\b\b\b\b\b\b\b\b\b\b\b\b\b\b\b\b\b\b\b\b\b\b\b\b\b\b\b\b\b\b\b\b\b\b\b\b\b\b\b\b\b\b\b\b\b\b\b\b\b\b\b\b\b\b\b\b\b\b\b\b\b\b\b\b\b\b\b\b\b\b\b\b\b\b\b\b\b\b\b\b\b\b\b\b\b\b\b\b\b\b\b\b\b\b\b\b\b\b\b\b\b\b\b\b\b\b\b\b\b\b\b\b\b\b\b\b\b\b\b\b\b\b\b\b\b\b\b\b\b\b\b\b\b\b\b\b\b\b\b\b\b\b\b\b\b\b\b\b\b\b\b\b\b\b\b\b\b\b\b\b\b\b\b\b\b\b\b\b\b\b\b\b\b\b\b\b\b\b\b\b\b\b\b\b\b\b\b\b\b\b\b\b\b\b\b\b\b\b\b\b\b\b\b\b\b\b\b\b\b\b\b\b\b\b\b\b\b\b\b\b\b\b\b\b\b\b\b\b\b\b\b\b\b\b\b\b\b\b\b\b\b\b\b\b\b\b\b\b\b\b\b\b\b\b\b\b\b\b\b\b\b\b\b\b\b\b\b\b\b\b\b\b\b\b\b\b\b\b\b\b\b\b\b\b\b\b\b\b\b\b\b\b\b\b\b\b\b\b\b\b\b\b\b\b\b\b\b\b\b\b\b\b\b\b\b\b\b\b\b\b\b\b\b\b\b\b\b\b\b\b\b\b\b\b\b\b\b\b\b\b\b\b\b\b\b\b\b\b\b\b\b\b\b\b\b\b\b\b\b\b\b\b\b\b\b\b\b\b\b\b\b\b\b\b\b\b\b\b\b\b\b\b\b\b\b\b\b\b\b\b\b\b\b\b\b\b\b\b\b\b\b\b\b\b\b\b\b\b\b\b\b\b\b\b\b\b\b\b\b\b\b\b\b\b\b\b\b\b\b\b\b\b\b\b\b\b\b\b\b\b\b\b\b\b\b\b\b\b\b\b\b\b\b\b\b\b\b\b\b\b\b\b\b\b\b\b\b\b\b\b\b\b\b\b\b\b\b\b\b\b\b\b\b\b\b\b\b\b\b\b\b\b\b\b\b\b\b\b\b\b\b\b\b\b\b\b\b\b\b\b\b\b\b\b\b\b\b\b\b\b\b\b\b\b\b\b\b\b\b\b\b\b\b\b\b\b\b\b\b\b\b\b\b\b\b\b\b\b\b\b\b\b\b\b\b\b\b\b\b\b\b\b\b\b\b\b\b\b\b\b\b\b\b\b\b\b\b\b\b\b\b\b\b\b\b\b\b\b\b\b\b\b\b\b\b\b\b\b\b\b\b\b\b\b\b\b\b\b\b\b\b\b\b\b\b\b\b\b\b\b\b\b\b\b\b\b\b\b\b\b\b\b\b\b\b\b\b\b\b\b\b\b\b\b\b\b\b\b\b\b\b\b\b\b\b\b\b\b\b\b\b\b\b\b\b\b\b\b\b\b\b\b\b\b\b\b\b\b\b\b\b\b\b\b\b\b\b\b\b\b\b\b\b\b\b\b\b\b\b\b\b\b\b\b\b\b\b\b\b\b\b\b\b\b\b\b\b\b\b\b\b\b\b\b\b\b\b\b\b\b\b\b\b\b\b\b\b\b\b\b\b\b\b\b\b\b\b\b\b\b\b\b\b\b\b\b\b\b\b\b\b\b\b\b\b\b\b\b\b\b\b\b\b\b\b\b\b\b\b\b\b\b\b\b\b\b\b\b\b\b\b\b\b\b\b\b\b\b\b\b\b\b\b\b\b\b\b\b\b\b\b\b\b\b\b\b\b\b\b\b\b\b\b\b\b\b\b\b\b\b\b\b\b\b\b\b\b\b\b\b\b\b\b\b\b\b\b\b\b\b\b\b\b\b\b\b\b\b\b\b\b\b\b\b\b\b\b\b\b\b\b\b\b\b\b\b\b\b\b\b\b\b\b\b\b\b\b\b\b\b\b\b\b\b\b\b\b\b\b\b\b\b\b\b\b\b\b\b\b\b\b\b\b\b\b\b\b\b\b\b\b\b\b\b\b\b\b\b\b\b\b\b\b\b\b\b\b\b\b\b\b\b\b\b\b\b\b\b\b\b\b\b\b\b\b\b\b\b\b\b\b\b\b\b\b\b\b\b\b\b\b\b\b\b\b\b\b\b\b\b\b\b\b\b\b\b\b\b\b\b\b\b\b\b\b\b\b\b\b\b\b\b\b\b\b\b\b\b\b\b\b\b\b\b\b\b\b\b\b\b\b\b\b\b\b\b\b\b\b\b\b\b\b\b\b\b\b\b\b\b\b\b\b\b\b\b\b\b\b\b\b\b\b\b\b\b\b\b\b\b\b\b\b\b\b\b\b\b\b\b\b\b\b\b\b\b\b\b\b\b\b\b\b\b\b\b\b\b\b\b\b\b\b\b\b\b\b\b\b\b\b\b\b\b\b\b\b\b\b\b\b\b\b\b\b\b\b\b\b\b\b\b\b\b\b\b\b\b\b\b\b\b\b\b\b\b\b\b\b\b\b\b\b\b\b\b\b\b\b\b\b\b\b\b\b\b\b\b\b\b\b\b\b\b\b\b\b\b\b\b\b\b\b\b\b\b\b\b\b\b\b\b\b\b\b\b\b\b\b\b\b\b\b\b\b\b\b\b\b\b\b\b\b\b\b\b\b\b\b\b\b\b\b\b\b\b\b\b\b\b\b\b\b\b\b\b\b\b\b\b\b\b\b\b\b\b\b\b\b\b\b\b\b\b\b\b\b\b\b\b\b\b\b\b\b\b\b\b\b\b\b\b\b\b\b\b\b\b\b\b\b\b\b\b\b\b\b\b\b\b\b\b\b\b\b\b\b\b\b\b\b\b\b\b\b\b\b\b\b\b\b\b\b\b\b\b\b\b\b\b\b\b\b\b\b\b\b\b\b\b\b\b\b\b\b\b\b\b\b\b\b\b\b\b\b\b\b\b\b\b\b\b\b\b\b\b\b\b\b\b\b\b\b\b\b\b\b\b\b\b\b\b\b\b\b\b\b\b\b\b\b\b\b\b\b\b\b\b\b\b\b\b\b\b\b\b\b\b\b\b\b\b\b\b\b\b\b\b\b\b\b\b\b\b\b\b\b\b\b\b\b\b\b\b\b\b\b\b\b\b\b\b\b\b\b\b\b\b\b\b\b\b\b\b\b\b\b\b\b\b\b\b\b\b\b\b\b\b\b\b\b\b\b\b\b\b\b\b\b\b\b\b\b\b\b\b\b\b\b\b\b\b\b\b\b\b\b\b\b\b\b\b\b\b\b\b\b\b\b\b\b\b\b\b\b\b\b\b\b\b\b\b\b\b\b\b\b\b\b\b\b\b\b\b\b\b\b\b\b\b\b\b\b\b\b\b\b\b\b\b\b\b\b\b\b\b\b\b\b\b\b\b\b\b\b\b\b\b\b\b\b\b\b\b\b\b\b\b\b\b\b\b\b\b\b\b\b\b\b\b\b\b\b\b\b\b\b\b\b\b\b\b\b\b\b\b\b\b\b\b\b\b\b\b\b\b\b\b\b\b\b\b\b\b\b\b\b\b\b\b\b\b\b\b\b\b\b\b\b\b\b\b\b\b\b\b\b\b\b\b\b\b\b\b\b\b\b\b\b\b\b\b\b\b\b\b\b\b\b\b\b\b\b\b\b\b\b\b\b\b\b\b\b\b\b\b\b\b\b\b\b\b\b\b\b\b\b\b\b\b\b\b\b\b\b\b\b\b\b\b\b\b\b\b\b\b\b\b\b\b\b\b\b\b\b\b\b\b\b\b\b\b\b\b\b\b\b\b\b\b\b\b\b\b\b\b\b\b\b\b\b\b\b\b\b\b\b\b\b\b\b\b\b\b\b\b\b\b\b\b\b\b\b\b\b\b\b\b\b\b\b\b\b\b\b\b\b\b\b\b\b\b\b\b\b\b\b\b\b\b\b\b\b\b\b\b\b\b\b\b\b\b\b\b\b\b\b\b\b\b\b\b\b\b\b\b\b\b\b\b\b\b\b\b\b\b\b\b\b\b\b\b\b\b\b\b\b\b\b\b\b\b\b\b\b\b\b\b\b\b\b\b\b\b\b\b\b\b\b\b\b\b\b\b\b\b\b\b\b\b\b\b\b\b\b\b\b\b\b\b\b\b\b\b\b\b\b\b\b\b\b\b\b\b\b\b\b\b\b\b\b\b\b\b\b\b\b\b\b\b\b\b\b\b\b\b\b\b\b\b\b\b\b\b\b\b\b\b\b\b\b\b\b\b\b\b\b\b\b\b\b\b\b\b\b\b\b\b\b\b\b\b\b\b\b\b\b\b\b\b\b\b\b\b\b\b\b\b\b\b\b\b\b\b\b\b\b\b\b\b\b\b\b\b\b\b\b\b\b\b\b\b\b\b\b\b\b\b\b\b\b\b\b\b\b\b\b\b\b\b\b\b\b\b\b\b\b\b\b\b\b\b\b\b\b\b\b\b\b\b\b\b\b\b\b\b\b\b\b\b\b\b\b\b\b\b\b\b\b\b\b\b\b\b\b\b\b\b\b\b\b\b\b\b\b\b\b\b\b\b\b\b\b\b\b\b\b\b\b\b\b\b\b\b\b\b\b\b\b\b\b\b\b\b\b\b\b\b\b\b\b\b\b\b\b\b\b\b\b\b\b\b\b\b\b\b\b\b\b\b\b\b\b\b\b\b\b\b\b\b\b\b\b\b\b\b\b\b\b\b\b\b\b\b\b\b\b\b\b\b\b\b\b\b\b\b\b\b\b\b\b\b\b\b\b\b\b\b\b\b\b\b\b\b\b\b\b\b\b\b\b\b\b\b\b\b\b\b\b\b\b\b\b\b\b\b\b\b\b\b\b\b\b\b\b\b\b\b\b\b\b\b\b\b\b\b\b\b\b\b\b\b\b\b\b\b\b\b\b\b\b\b\b\b\b\b\b\b\b\b\b\b\b\b\b\b\b\b\b\b\b\b\b\b\b\b\b\b\b\b\b\b\b\b\b\b\b\b\b\b\b\b\b\b\b\b\b\b\b\b\b\b\b\b\b\b\b\b\b\b\b\b\b\b\b\b\b\b\b\b\b\b\b\b\b\b\b\b\b\b\b\b\b\b\b\b\b\b\b\b\b\b\b\b\b\b\b\b\b\b\b\b\b\b\b\b\b\b\b\b\b\b\b\b\b\b\b\b\b\b\b\b\b\b\b\b\b\b\b\b\b\b\b\b\b\b\b\b\b\b\b\b\b\b\b\b\b\b\b\b\b\b\b\b\b\b\b\b\b\b\b\b\b\b\b\b\b\b\b\b\b\b\b\b\b\b\b\b\b\b\b\b\b\b\b\b\b\b\b\b\b\b\b\b\b\b\b\b\b\b\b\b\b\b\b\b\b\b\b\b\b\b\b\b\b\b\b\b\b\b\b\b\b\b\b\b\b\b\b\b\b\b\b\b\b\b\b\b\b\b\b\b\b\b\b\b\b\b\b\b\b\b\b\b\b\b\b\b\b\b\b\b\b\b\b\b\b\b\b\b\b\b\b\b\b\b\b\b\b\b\b\b\b\b\b\b\b\b\b\b\b\b\b\b\b\b\b\b\b\b\b\b\b\b\b\b\b\b\b\b\b\b\b\b\b\b\b\b\b\b\b\b\b\b\b\b\b\b\b\b\b\b\b\b\b\b\b\b\b\b\b\b\b\b\b\b\b\b\b\b\b\b\b\b\b\b\b\b\b\b\b\b\b\b\b\b\b\b\b\b\b\b\b\b\b\b\b\b\b\b\b\b\b\b\b\b\b\b\b\b\b\b\b\b\b\b\b\b\b\b\b\b\b\b\b\b\b\b\b\b\b\b\b\b\b\b\b\b\b\b\b\b\b\b\b\b\b\b\b\b\b\b\b\b\b\b\b\b\b\b\b\b\b\b\b\b\b\b\b\b\b\b\b\b\b\b\b\b\b\b\b\b\b\b\b\b\b\b\b\b\b\b\b\b\b\b\b\b\b\b\b\b\b\b\b\b\b\b\b\b\b\b\b\b\b\b\b\b\b\b\b\b\b\b\b\b\b\b\b\b\b\b\b\b\b\b\b\b\b\b\b\b\b\b\b\b\b\b\b\b\b\b\b\b\b\b\b\b\b\b\b\b\b\b\b\b\b\b\b\b\b\b\b\b\b\b\b\b\b\b\b\b\b\b\b\b\b\b\b\b\b\b\b\b\b\b\b\b\b\b\b\b\b\b\b\b\b\b\b\b\b\b\b\b\b\b\b\b\b\b\b\b\b\b\b\b\b\b\b\b\b\b\b\b\b\b\b\b\b\b\b\b\b\b\b\b\b\b\b\b\b\b\b\b\b\b\b\b\b\b\b\b\b\b\b\b\b\b\b\b\b\b\b\b\b\b\b\b\b\b\b\b\b\b\b\b\b\b\b\b\b\b\b\b\b\b\b\b\b\b\b\b\b\b\b\b\b\b\b\b\b\b\b\b\b\b\b\b\b\b\b\b\b\b\b\b\b\b\b\b\b\b\b\b\b\b\b\b\b\b\b\b\b\b\b\b\b\b\b\b\b\b\b\b\b\b\b\b\b\b\b\b\b\b\b\b\b\b\b\b\b\b\b\b\b\b\b\b\b\b\b\b\b\b\b\b\b\b\b\b\b\b\b\b\b\b\b\b\b\b\b\b\b\b\b\b\b\b\b\b\b\b\b\b\b\b\b\b\b\b\b\b\b\b\b\b\b\b\b\b\b\b\b\b\b\b\b\b\b\b\b\b\b\b\b\b\b\b\b\b\b\b\b\b\b\b\b\b\b\b\b\b\b\b\b\b\b\b\b\b\b\b\b\b\b\b\b\b\b\b\b\b\b\b\b\b\b\b\b\b\b\b\b\b\b\b\b\b\b\b\b\b\b\b\b\b\b\b\b\b\b\b\b\b\b\b\b\b\b\b\b\b\b\b\b\b\b\b\b\b\b\b\b\b\b\b\b\b\b\b\b\b\b\b\b\b\b\b\b\b\b\b\b\b\b\b\b\b\b\b\b\b\b\b\b\b\b\b\b\b\b\b\b\b\b\b\b\b\b\b\b\b\b\b\b\b\b\b\b\b\b\b\b\b\b\b\b\b\b\b\b\b\b\b\b\b\b\b\b\b\b\b\b\b\b\b\b\b\b\b\b\b\b\b\b\b\b\b\b\b\b\b\b\b\b\b\b\b\b\b\b\b\b\b\b\b\b\b\b\b\b\b\b\b\b\b\b\b\b\b\b\b\b\b\b\b\b\b\b\b\b\b\b\b\b\b\b\b\b\b\b\b\b\b\b\b\b\b\b\b\b\b\b\b\b\b\b\b\b\b\b\b\b\b\b\b\b\b\b\b\b\b\b\b\b\b\b\b\b\b\b\b\b\b\b\b\b\b\b\b\b\b\b\b\b\b\b\b\b\b\b\b\b\b\b\b\b\b\b\b\b\b\b\b\b\b\b\b\b\b\b\b\b\b\b\b\b\b\b\b\b\b\b\b\b\b\b\b\b\b\b\b\b\b\b\b\b\b\b\b\b\b\b\b\b\b\b\b\b\b\b\b\b\b\b\b\b\b\b\b\b\b\b\b\b\b\b\b\b\b\b\b\b\b\b\b\b\b\b\b\b\b\b\b\b\b\b\b\b\b\b\b\b\b\b\b\b\b\b\b\b\b\b\b\b\b\b\b\b\b\b\b\b\b\b\b\b\b\b\b\b\b\b\b\b\b\b\b\b\b\b\b\b\b\b\b\b\b\b\b\b\b\b\b\b\b\b\b\b\b\b\b\b\b\b\b\b\b\b\b\b\b\b\b\b\b\b\b\b\b\b\b\b\b\b\b\b\b\b\b\b\b\b\b\b\b\b\b\b\b\b\b\b\b\b\b\b\b\b\b\b\b\b\b\b\b\b\b\b\b\b\b\b\b\b\b\b\b\b\b\b\b\b\b\b\b\b\b\b\b\b\b\b\b\b\b\b\b\b\b\b\b\b\b\b\b\b\b\b\b\b\b\b\b\b\b\b\b\b\b\b\b\b\b\b\b\b\b\b\b\b\b\b\b\b\b\b\b\b\b\b\b\b\b\b\b\b\b\b\b\b\b\b\b\b\b\b\b\b\b\b\b\b\b\b\b\b\b\b\b\b\b\b\b\b\b\b\b\b\b\b\b\b\b\b\b\b\b\b\b\b\b\b\b\b\b\b\b\b\b\b\b\b\b\b\b\b\b\b\b\b\b\b\b\b\b\b\b\b\b\b\b\b\b\b\b\b\b\b\b\b\b\b\b\b\b\b\b\b\b\b\b\b\b\b\b\b\b\b\b\b\b\b\b\b\b\b\b\b\b\b\b\b\b\b\b\b\b\b\b\b\b\b\b\b\b\b\b\b\b\b\b\b\b\b\b\b\b\b\b\b\b\b\b\b\b\b\b\b\b\b\b\b\b\b\b\b\b\b\b\b\b\b\b\b\b\b\b\b\b\b\b\b\b\b\b\b\b\b\b\b\b\b\b\b\b\b\b\b\b\b\b\b\b\b\b\b\b\b\b\b\b\b\b\b\b\b\b\b\b\b\b\b\b\b\b\b\b\b\b\b\b\b\b\b\b\b\b\b\b\b\b\b\b\b\b\b\b\b\b\b\b\b\b\b\b\b\b\b\b\b\b\b\b\b\b\b\b\b\b\b\b\b\b\b\b\b\b\b\b\b\b\b\b\b\b\b\b\b\b\b\b\b\b\b\b\b\b\b\b\b\b\b\b\b\b\b\b\b\b\b\b\b\b\b\b\b\b\b\b\b\b\b\b\b\b\b\b\b\b\b\b\b\b\b\b\b\b\b\b\b\b\b\b\b\b\b\b\b\b\b\b\b\b\b\b\b\b\b\b\b\b\b\b\b\b\b\b\b\b\b\b\b\b\b\b\b\b\b\b\b\b\b\b\b\b\b\b\b\b\b\b\b\b\b\b\b\b\b\b\b\b\b\b\b\b\b\b\b\b\b\b\b\b\b\b\b\b\b\b\b\b\b\b\b\b\b\b\b\b\b\b\b\b\b\b\b\b\b\b\b\b\b\b\b\b\b\b\b\b\b\b\b\b\b\b\b\b\b\b\b\b\b\b\b\b\b\b\b\b\b\b\b\b\b\b\b\b\b\b\b\b\b\b\b\b\b\b\b\b\b\b\b\b\b\b\b\b\b\b\b\b\b\b\b\b\b\b\b\b\b\b\b\b\b\b\b\b\b\b\b\b\b\b\b\b\b\b\b\b\b\b\b\b\b\b\b\b\b\b\b\b\b\b\b\b\b\b\b\b\b\b\b\b\b\b\b\b\b\b\b\b\b\b\b\b\b\b\b\b\b\b\b\b\b\b\b\b\b\b\b\b\b\b\b\b\b\b\b\b\b\b\b\b\b\b\b\b\b\b\b\b\b\b\b\b\b\b\b\b\b\b\b\b\b\b\b\b\b\b\b\b\b\b\b\b\b\b\b\b\b\b\b\b\b\b\b\b\b\b\b\b\b\b\b\b\b\b\b\b\b\b\b\b\b\b\b\b\b\b\b\b\b\b\b\b\b\b\b\b\b\b\b\b\b\b\b\b\b\b\b\b\b\b\b\b\b\b\b\b\b\b\b\b\b\b\b\b\b\b\b\b\b\b\b\b\b\b\b\b\b\b\b\b\b\b\b\b\b\b\b\b\b\b\b\b\b\b\b\b\b\b\b\b\b\b\b\b\b\b\b\b\b\b\b\b\b\b\b\b\b\b\b\b\b\b\b\b\b\b\b\b\b\b\b\b\b\b\b\b\b\b\b\b\b\b\b\b\b\b\b\b\b\b\b\b\b\b\b\b\b\b\b\b\b\b\b\b\b\b\b\b\b\b\b\b\b\b\b\b\b\b\b\b\b\b\b\b\b\b\b\b\b\b\b\b\b\b\b\b\b\b\b\b\b\b\b\b\b\b\b\b\b\b\b\b\b\b\b\b\b\b\b\b\b\b\b\b\b\b\b\b\b\b\b\b\b\b\b\b\b\b\b\b\b\b\b\b\b\b\b\b\b\b\b\b\b\b\b\b\b\b\b\b\b\b\b\b\b\b\b\b\b\b\b\b\b\b\b\b\b\b\b\b\b\b\b\b\b\b\b\b\b\b\b\b\b\b\b\b\b\b\b\b\b\b\b\b\b\b\b\b\b\b\b\b\b\b\b\b\b\b\b\b\b\b\b\b\b\b\b\b\b\b\b\b\b\b\b\b\b\b\b\b\b\b\b\b\b\b\b\b\b\b\b\b\b\b\b\b\b\b\b\b\b\b\b\b\b\b\b\b\b\b\b\b\b\b\b\b\b\b\b\b\b\b\b\b\b\b\b\b\b\b\b\b\b\b\b\b\b\b\b\b\b\b\b\b\b\b\b\b\b\b\b\b\b\b\b\b\b\b\b\b\b\b\b\b\b\b\b\b\b\b\b\b\b\b\b\b\b\b\b\b\b\b\b\b\b\b\b\b\b\b\b\b\b\b\b\b\b\b\b\b\b\b\b\b\b\b\b\b\b\b\b\b\b\b\b\b\b\b\b\b\b\b\b\b\b\b\b\b\b\b\b\b\b\b\b\b\b\b\b\b\b\b\b\b\b\b\b\b\b\b\b\b\b\b\b\b\b\b\b\b\b\b\b\b\b\b\b\b\b\b\b\b\b\b\b\b\b\b\b\b\b\b\b\b\b\b\b\b\b\b\b\b\b\b\b\b\b\b\b\b\b\b\b\b\b\b\b\b\b\b\b\b\b\b\b\b\b\b\b\b\b\b\b\b\b\b\b\b\b\b\b\b\b\b\b\b\b\b\b\b\b\b\b\b\b\b\b\b\b\b\b\b\b\b\b\b\b\b\b\b\b\b\b\b\b\b\b\b\b\b\b\b\b\b\b\b\b\b\b\b\b\b\b\b\b\b\b\b\b\b\b\b\b\b\b\b\b\b\b\b\b\b\b\b\b\b\b\b\b\b\b\b\b\b\b\b\b\b\b\b\b\b\b\b\b\b\b\b\b\b\b\b\b\b\b\b\b\b\b\b\b\b\b\b\b\b\b\b\b\b\b\b\b\b\b\b\b\b\b\b\b\b\b\b\b\b\b\b\b\b\b\b\b\b\b\b\b\b\b\b\b\b\b\b\b\b\b\b\b\b\b\b\b\b\b\b\b\b\b\b\b\b\b\b\b\b\b\b\b\b\b\b\b\b\b\b\b\b\b\b\b\b\b\b\b\b\b\b\b\b\b\b\b\b\b\b\b\b\b\b\b\b\b\b\b\b\b\b\b\b\b\b\b\b\b\b\b\b\b\b\b\b\b\b\b\b\b\b\b\b\b\b\b\b\b\b\b\b\b\b\b\b\b\b\b\b\b\b\b\b\b\b\b\b\b\b\b\b\b\b\b\b\b\b\b\b\b\b\b\b\b\b\b\b\b\b\b\b\b\b\b\b\b\b\b\b\b\b\b\b\b\b\b\b\b\b\b\b\b\b\b\b\b\b\b\b\b\b\b\b\b\b\b\b\b\b\b\b\b\b\b\b\b\b\b\b\b\b\b\b\b\b\b\b\b\b\b\b\b\b\b\b\b\b\b\b\b\b\b\b\b\b\b\b\b\b\b\b\b\b\b\b\b\b\b\b\b\b\b\b\b\b\b\b\b\b\b\b\b\b\b\b\b\b\b\b\b\b\b\b\b\b\b\b\b\b\b\b\b\b\b\b\b\b\b\b\b\b\b\b\b\b\b\b\b\b\b\b\b\b\b\b\b\b\b\b\b\b\b\b\b\b\b\b\b\b\b\b\b\b\b\b\b\b\b\b\b\b\b\b\b\b\b\b\b\b\b\b\b\b\b\b\b\b\b\b\b\b\b\b\b\b\b\b\b\b\b\b\b\b\b\b\b\b\b\b\b\b\b\b\b\b\b\b\b\b\b\b\b\b\b\b\b\b\b\b\b\b\b\b\b\b\b\b\b\b\b\b\b\b\b\b\b\b\b\b\b\b\b\b\b\b\b\b\b\b\b\b\b\b\b\b\b\b\b\b\b\b\b\b\b\b\b\b\b\b\b\b\b\b\b\n"
     ]
    },
    {
     "data": {
      "text/plain": [
       "<keras.callbacks.History at 0x7fc3c3b14908>"
      ]
     },
     "execution_count": 104,
     "metadata": {},
     "output_type": "execute_result"
    }
   ],
   "source": [
    "#weighted_iter.reset()\n",
    "\n",
    "K.set_value(classifier_model_v2.optimizer.lr, 0.01)\n",
    "classifier_model_v2.fit_generator(generator=weighted_iter,\n",
    "                                  steps_per_epoch=170,\n",
    "                                  validation_data=(val_conv_features, val_labels),\n",
    "                                  epochs=2)\n",
    "# Ran 3 times"
   ]
  },
  {
   "cell_type": "code",
   "execution_count": 103,
   "metadata": {
    "collapsed": true,
    "deletable": true,
    "editable": true
   },
   "outputs": [],
   "source": [
    "class WeightedIterator(object):\n",
    "    # Based on JH `MixIterator` https://github.com/asmith26/courses/blob/master/deeplearning1/nbs/utils.py#L237-L262\n",
    "    def __init__(self, iters):\n",
    "        assert type(iters) is list, \"Initialising a WeightedIterator requires one *list* argument.\"\n",
    "        self.iters = iters\n",
    "        self.n = sum([it.n for it in self.iters])\n",
    "\n",
    "    def reset(self):\n",
    "        for it in self.iters: it.reset()\n",
    "\n",
    "    def __iter__(self):\n",
    "        return self\n",
    "    \n",
    "    def __next__(self, *args, **kwargs):\n",
    "        return self.next(*args, **kwargs)\n",
    "\n",
    "    def next(self, *args, **kwargs):\n",
    "        \"\"\"For python 2.x.\n",
    "\n",
    "        # Returns\n",
    "            The next batch.\n",
    "        \"\"\"\n",
    "        next_iters_batches = [it.next() for it in self.iters]\n",
    "        next_batch_X = np.concatenate([next_iter_batch[0] for next_iter_batch in next_iters_batches])\n",
    "        next_batch_Y = np.concatenate([next_iter_batch[1] for next_iter_batch in next_iters_batches])\n",
    "        return next_batch_X, next_batch_Y\n",
    "\n",
    "weighted_iter = WeightedIterator([val_batches, val_batches])"
   ]
  },
  {
   "cell_type": "code",
   "execution_count": null,
   "metadata": {
    "collapsed": true,
    "deletable": true,
    "editable": true
   },
   "outputs": [],
   "source": []
  },
  {
   "cell_type": "code",
   "execution_count": null,
   "metadata": {
    "collapsed": true,
    "deletable": true,
    "editable": true
   },
   "outputs": [],
   "source": []
  },
  {
   "cell_type": "code",
   "execution_count": 69,
   "metadata": {
    "collapsed": false,
    "deletable": true,
    "editable": true
   },
   "outputs": [
    {
     "data": {
      "application/vnd.plotly.v1+json": {
       "data": [
        {
         "colorscale": [
          [
           0,
           "#deebf7"
          ],
          [
           1,
           "#3182bd"
          ]
         ],
         "showscale": true,
         "type": "heatmap",
         "x": [
          "ALB",
          "BET",
          "DOL",
          "LAG",
          "NoF",
          "OTHER",
          "SHARK",
          "YFT"
         ],
         "y": [
          "ALB",
          "BET",
          "DOL",
          "LAG",
          "NoF",
          "OTHER",
          "SHARK",
          "YFT"
         ],
         "z": [
          [
           160,
           0,
           1,
           0,
           3,
           2,
           0,
           6
          ],
          [
           2,
           18,
           0,
           0,
           0,
           0,
           0,
           0
          ],
          [
           1,
           0,
           11,
           0,
           0,
           0,
           0,
           0
          ],
          [
           0,
           0,
           0,
           7,
           0,
           0,
           0,
           0
          ],
          [
           4,
           0,
           0,
           0,
           42,
           1,
           0,
           0
          ],
          [
           3,
           0,
           0,
           0,
           0,
           27,
           0,
           0
          ],
          [
           0,
           0,
           0,
           0,
           0,
           1,
           17,
           0
          ],
          [
           2,
           1,
           0,
           0,
           0,
           0,
           0,
           71
          ]
         ]
        }
       ],
       "layout": {
        "annotations": [
         {
          "font": {
           "color": "white"
          },
          "hovertext": "TODO: Add list of files here (corresponding to hover box)",
          "showarrow": false,
          "text": "160",
          "x": "ALB",
          "xref": "x1",
          "y": "ALB",
          "yref": "y1"
         },
         {
          "font": {
           "color": "black"
          },
          "hovertext": "TODO: Add list of files here (corresponding to hover box)",
          "showarrow": false,
          "text": "0",
          "x": "BET",
          "xref": "x1",
          "y": "ALB",
          "yref": "y1"
         },
         {
          "font": {
           "color": "white"
          },
          "hovertext": "TODO: Add list of files here (corresponding to hover box)",
          "showarrow": false,
          "text": "1",
          "x": "DOL",
          "xref": "x1",
          "y": "ALB",
          "yref": "y1"
         },
         {
          "font": {
           "color": "black"
          },
          "hovertext": "TODO: Add list of files here (corresponding to hover box)",
          "showarrow": false,
          "text": "0",
          "x": "LAG",
          "xref": "x1",
          "y": "ALB",
          "yref": "y1"
         },
         {
          "font": {
           "color": "white"
          },
          "hovertext": "TODO: Add list of files here (corresponding to hover box)",
          "showarrow": false,
          "text": "3",
          "x": "NoF",
          "xref": "x1",
          "y": "ALB",
          "yref": "y1"
         },
         {
          "font": {
           "color": "white"
          },
          "hovertext": "TODO: Add list of files here (corresponding to hover box)",
          "showarrow": false,
          "text": "2",
          "x": "OTHER",
          "xref": "x1",
          "y": "ALB",
          "yref": "y1"
         },
         {
          "font": {
           "color": "black"
          },
          "hovertext": "TODO: Add list of files here (corresponding to hover box)",
          "showarrow": false,
          "text": "0",
          "x": "SHARK",
          "xref": "x1",
          "y": "ALB",
          "yref": "y1"
         },
         {
          "font": {
           "color": "white"
          },
          "hovertext": "TODO: Add list of files here (corresponding to hover box)",
          "showarrow": false,
          "text": "6",
          "x": "YFT",
          "xref": "x1",
          "y": "ALB",
          "yref": "y1"
         },
         {
          "font": {
           "color": "white"
          },
          "hovertext": "TODO: Add list of files here (corresponding to hover box)",
          "showarrow": false,
          "text": "2",
          "x": "ALB",
          "xref": "x1",
          "y": "BET",
          "yref": "y1"
         },
         {
          "font": {
           "color": "white"
          },
          "hovertext": "TODO: Add list of files here (corresponding to hover box)",
          "showarrow": false,
          "text": "18",
          "x": "BET",
          "xref": "x1",
          "y": "BET",
          "yref": "y1"
         },
         {
          "font": {
           "color": "black"
          },
          "hovertext": "TODO: Add list of files here (corresponding to hover box)",
          "showarrow": false,
          "text": "0",
          "x": "DOL",
          "xref": "x1",
          "y": "BET",
          "yref": "y1"
         },
         {
          "font": {
           "color": "black"
          },
          "hovertext": "TODO: Add list of files here (corresponding to hover box)",
          "showarrow": false,
          "text": "0",
          "x": "LAG",
          "xref": "x1",
          "y": "BET",
          "yref": "y1"
         },
         {
          "font": {
           "color": "black"
          },
          "hovertext": "TODO: Add list of files here (corresponding to hover box)",
          "showarrow": false,
          "text": "0",
          "x": "NoF",
          "xref": "x1",
          "y": "BET",
          "yref": "y1"
         },
         {
          "font": {
           "color": "black"
          },
          "hovertext": "TODO: Add list of files here (corresponding to hover box)",
          "showarrow": false,
          "text": "0",
          "x": "OTHER",
          "xref": "x1",
          "y": "BET",
          "yref": "y1"
         },
         {
          "font": {
           "color": "black"
          },
          "hovertext": "TODO: Add list of files here (corresponding to hover box)",
          "showarrow": false,
          "text": "0",
          "x": "SHARK",
          "xref": "x1",
          "y": "BET",
          "yref": "y1"
         },
         {
          "font": {
           "color": "black"
          },
          "hovertext": "TODO: Add list of files here (corresponding to hover box)",
          "showarrow": false,
          "text": "0",
          "x": "YFT",
          "xref": "x1",
          "y": "BET",
          "yref": "y1"
         },
         {
          "font": {
           "color": "white"
          },
          "hovertext": "TODO: Add list of files here (corresponding to hover box)",
          "showarrow": false,
          "text": "1",
          "x": "ALB",
          "xref": "x1",
          "y": "DOL",
          "yref": "y1"
         },
         {
          "font": {
           "color": "black"
          },
          "hovertext": "TODO: Add list of files here (corresponding to hover box)",
          "showarrow": false,
          "text": "0",
          "x": "BET",
          "xref": "x1",
          "y": "DOL",
          "yref": "y1"
         },
         {
          "font": {
           "color": "white"
          },
          "hovertext": "TODO: Add list of files here (corresponding to hover box)",
          "showarrow": false,
          "text": "11",
          "x": "DOL",
          "xref": "x1",
          "y": "DOL",
          "yref": "y1"
         },
         {
          "font": {
           "color": "black"
          },
          "hovertext": "TODO: Add list of files here (corresponding to hover box)",
          "showarrow": false,
          "text": "0",
          "x": "LAG",
          "xref": "x1",
          "y": "DOL",
          "yref": "y1"
         },
         {
          "font": {
           "color": "black"
          },
          "hovertext": "TODO: Add list of files here (corresponding to hover box)",
          "showarrow": false,
          "text": "0",
          "x": "NoF",
          "xref": "x1",
          "y": "DOL",
          "yref": "y1"
         },
         {
          "font": {
           "color": "black"
          },
          "hovertext": "TODO: Add list of files here (corresponding to hover box)",
          "showarrow": false,
          "text": "0",
          "x": "OTHER",
          "xref": "x1",
          "y": "DOL",
          "yref": "y1"
         },
         {
          "font": {
           "color": "black"
          },
          "hovertext": "TODO: Add list of files here (corresponding to hover box)",
          "showarrow": false,
          "text": "0",
          "x": "SHARK",
          "xref": "x1",
          "y": "DOL",
          "yref": "y1"
         },
         {
          "font": {
           "color": "black"
          },
          "hovertext": "TODO: Add list of files here (corresponding to hover box)",
          "showarrow": false,
          "text": "0",
          "x": "YFT",
          "xref": "x1",
          "y": "DOL",
          "yref": "y1"
         },
         {
          "font": {
           "color": "black"
          },
          "hovertext": "TODO: Add list of files here (corresponding to hover box)",
          "showarrow": false,
          "text": "0",
          "x": "ALB",
          "xref": "x1",
          "y": "LAG",
          "yref": "y1"
         },
         {
          "font": {
           "color": "black"
          },
          "hovertext": "TODO: Add list of files here (corresponding to hover box)",
          "showarrow": false,
          "text": "0",
          "x": "BET",
          "xref": "x1",
          "y": "LAG",
          "yref": "y1"
         },
         {
          "font": {
           "color": "black"
          },
          "hovertext": "TODO: Add list of files here (corresponding to hover box)",
          "showarrow": false,
          "text": "0",
          "x": "DOL",
          "xref": "x1",
          "y": "LAG",
          "yref": "y1"
         },
         {
          "font": {
           "color": "white"
          },
          "hovertext": "TODO: Add list of files here (corresponding to hover box)",
          "showarrow": false,
          "text": "7",
          "x": "LAG",
          "xref": "x1",
          "y": "LAG",
          "yref": "y1"
         },
         {
          "font": {
           "color": "black"
          },
          "hovertext": "TODO: Add list of files here (corresponding to hover box)",
          "showarrow": false,
          "text": "0",
          "x": "NoF",
          "xref": "x1",
          "y": "LAG",
          "yref": "y1"
         },
         {
          "font": {
           "color": "black"
          },
          "hovertext": "TODO: Add list of files here (corresponding to hover box)",
          "showarrow": false,
          "text": "0",
          "x": "OTHER",
          "xref": "x1",
          "y": "LAG",
          "yref": "y1"
         },
         {
          "font": {
           "color": "black"
          },
          "hovertext": "TODO: Add list of files here (corresponding to hover box)",
          "showarrow": false,
          "text": "0",
          "x": "SHARK",
          "xref": "x1",
          "y": "LAG",
          "yref": "y1"
         },
         {
          "font": {
           "color": "black"
          },
          "hovertext": "TODO: Add list of files here (corresponding to hover box)",
          "showarrow": false,
          "text": "0",
          "x": "YFT",
          "xref": "x1",
          "y": "LAG",
          "yref": "y1"
         },
         {
          "font": {
           "color": "white"
          },
          "hovertext": "TODO: Add list of files here (corresponding to hover box)",
          "showarrow": false,
          "text": "4",
          "x": "ALB",
          "xref": "x1",
          "y": "NoF",
          "yref": "y1"
         },
         {
          "font": {
           "color": "black"
          },
          "hovertext": "TODO: Add list of files here (corresponding to hover box)",
          "showarrow": false,
          "text": "0",
          "x": "BET",
          "xref": "x1",
          "y": "NoF",
          "yref": "y1"
         },
         {
          "font": {
           "color": "black"
          },
          "hovertext": "TODO: Add list of files here (corresponding to hover box)",
          "showarrow": false,
          "text": "0",
          "x": "DOL",
          "xref": "x1",
          "y": "NoF",
          "yref": "y1"
         },
         {
          "font": {
           "color": "black"
          },
          "hovertext": "TODO: Add list of files here (corresponding to hover box)",
          "showarrow": false,
          "text": "0",
          "x": "LAG",
          "xref": "x1",
          "y": "NoF",
          "yref": "y1"
         },
         {
          "font": {
           "color": "white"
          },
          "hovertext": "TODO: Add list of files here (corresponding to hover box)",
          "showarrow": false,
          "text": "42",
          "x": "NoF",
          "xref": "x1",
          "y": "NoF",
          "yref": "y1"
         },
         {
          "font": {
           "color": "white"
          },
          "hovertext": "TODO: Add list of files here (corresponding to hover box)",
          "showarrow": false,
          "text": "1",
          "x": "OTHER",
          "xref": "x1",
          "y": "NoF",
          "yref": "y1"
         },
         {
          "font": {
           "color": "black"
          },
          "hovertext": "TODO: Add list of files here (corresponding to hover box)",
          "showarrow": false,
          "text": "0",
          "x": "SHARK",
          "xref": "x1",
          "y": "NoF",
          "yref": "y1"
         },
         {
          "font": {
           "color": "black"
          },
          "hovertext": "TODO: Add list of files here (corresponding to hover box)",
          "showarrow": false,
          "text": "0",
          "x": "YFT",
          "xref": "x1",
          "y": "NoF",
          "yref": "y1"
         },
         {
          "font": {
           "color": "white"
          },
          "hovertext": "TODO: Add list of files here (corresponding to hover box)",
          "showarrow": false,
          "text": "3",
          "x": "ALB",
          "xref": "x1",
          "y": "OTHER",
          "yref": "y1"
         },
         {
          "font": {
           "color": "black"
          },
          "hovertext": "TODO: Add list of files here (corresponding to hover box)",
          "showarrow": false,
          "text": "0",
          "x": "BET",
          "xref": "x1",
          "y": "OTHER",
          "yref": "y1"
         },
         {
          "font": {
           "color": "black"
          },
          "hovertext": "TODO: Add list of files here (corresponding to hover box)",
          "showarrow": false,
          "text": "0",
          "x": "DOL",
          "xref": "x1",
          "y": "OTHER",
          "yref": "y1"
         },
         {
          "font": {
           "color": "black"
          },
          "hovertext": "TODO: Add list of files here (corresponding to hover box)",
          "showarrow": false,
          "text": "0",
          "x": "LAG",
          "xref": "x1",
          "y": "OTHER",
          "yref": "y1"
         },
         {
          "font": {
           "color": "black"
          },
          "hovertext": "TODO: Add list of files here (corresponding to hover box)",
          "showarrow": false,
          "text": "0",
          "x": "NoF",
          "xref": "x1",
          "y": "OTHER",
          "yref": "y1"
         },
         {
          "font": {
           "color": "white"
          },
          "hovertext": "TODO: Add list of files here (corresponding to hover box)",
          "showarrow": false,
          "text": "27",
          "x": "OTHER",
          "xref": "x1",
          "y": "OTHER",
          "yref": "y1"
         },
         {
          "font": {
           "color": "black"
          },
          "hovertext": "TODO: Add list of files here (corresponding to hover box)",
          "showarrow": false,
          "text": "0",
          "x": "SHARK",
          "xref": "x1",
          "y": "OTHER",
          "yref": "y1"
         },
         {
          "font": {
           "color": "black"
          },
          "hovertext": "TODO: Add list of files here (corresponding to hover box)",
          "showarrow": false,
          "text": "0",
          "x": "YFT",
          "xref": "x1",
          "y": "OTHER",
          "yref": "y1"
         },
         {
          "font": {
           "color": "black"
          },
          "hovertext": "TODO: Add list of files here (corresponding to hover box)",
          "showarrow": false,
          "text": "0",
          "x": "ALB",
          "xref": "x1",
          "y": "SHARK",
          "yref": "y1"
         },
         {
          "font": {
           "color": "black"
          },
          "hovertext": "TODO: Add list of files here (corresponding to hover box)",
          "showarrow": false,
          "text": "0",
          "x": "BET",
          "xref": "x1",
          "y": "SHARK",
          "yref": "y1"
         },
         {
          "font": {
           "color": "black"
          },
          "hovertext": "TODO: Add list of files here (corresponding to hover box)",
          "showarrow": false,
          "text": "0",
          "x": "DOL",
          "xref": "x1",
          "y": "SHARK",
          "yref": "y1"
         },
         {
          "font": {
           "color": "black"
          },
          "hovertext": "TODO: Add list of files here (corresponding to hover box)",
          "showarrow": false,
          "text": "0",
          "x": "LAG",
          "xref": "x1",
          "y": "SHARK",
          "yref": "y1"
         },
         {
          "font": {
           "color": "black"
          },
          "hovertext": "TODO: Add list of files here (corresponding to hover box)",
          "showarrow": false,
          "text": "0",
          "x": "NoF",
          "xref": "x1",
          "y": "SHARK",
          "yref": "y1"
         },
         {
          "font": {
           "color": "white"
          },
          "hovertext": "TODO: Add list of files here (corresponding to hover box)",
          "showarrow": false,
          "text": "1",
          "x": "OTHER",
          "xref": "x1",
          "y": "SHARK",
          "yref": "y1"
         },
         {
          "font": {
           "color": "white"
          },
          "hovertext": "TODO: Add list of files here (corresponding to hover box)",
          "showarrow": false,
          "text": "17",
          "x": "SHARK",
          "xref": "x1",
          "y": "SHARK",
          "yref": "y1"
         },
         {
          "font": {
           "color": "black"
          },
          "hovertext": "TODO: Add list of files here (corresponding to hover box)",
          "showarrow": false,
          "text": "0",
          "x": "YFT",
          "xref": "x1",
          "y": "SHARK",
          "yref": "y1"
         },
         {
          "font": {
           "color": "white"
          },
          "hovertext": "TODO: Add list of files here (corresponding to hover box)",
          "showarrow": false,
          "text": "2",
          "x": "ALB",
          "xref": "x1",
          "y": "YFT",
          "yref": "y1"
         },
         {
          "font": {
           "color": "white"
          },
          "hovertext": "TODO: Add list of files here (corresponding to hover box)",
          "showarrow": false,
          "text": "1",
          "x": "BET",
          "xref": "x1",
          "y": "YFT",
          "yref": "y1"
         },
         {
          "font": {
           "color": "black"
          },
          "hovertext": "TODO: Add list of files here (corresponding to hover box)",
          "showarrow": false,
          "text": "0",
          "x": "DOL",
          "xref": "x1",
          "y": "YFT",
          "yref": "y1"
         },
         {
          "font": {
           "color": "black"
          },
          "hovertext": "TODO: Add list of files here (corresponding to hover box)",
          "showarrow": false,
          "text": "0",
          "x": "LAG",
          "xref": "x1",
          "y": "YFT",
          "yref": "y1"
         },
         {
          "font": {
           "color": "black"
          },
          "hovertext": "TODO: Add list of files here (corresponding to hover box)",
          "showarrow": false,
          "text": "0",
          "x": "NoF",
          "xref": "x1",
          "y": "YFT",
          "yref": "y1"
         },
         {
          "font": {
           "color": "black"
          },
          "hovertext": "TODO: Add list of files here (corresponding to hover box)",
          "showarrow": false,
          "text": "0",
          "x": "OTHER",
          "xref": "x1",
          "y": "YFT",
          "yref": "y1"
         },
         {
          "font": {
           "color": "black"
          },
          "hovertext": "TODO: Add list of files here (corresponding to hover box)",
          "showarrow": false,
          "text": "0",
          "x": "SHARK",
          "xref": "x1",
          "y": "YFT",
          "yref": "y1"
         },
         {
          "font": {
           "color": "white"
          },
          "hovertext": "TODO: Add list of files here (corresponding to hover box)",
          "showarrow": false,
          "text": "71",
          "x": "YFT",
          "xref": "x1",
          "y": "YFT",
          "yref": "y1"
         }
        ],
        "autosize": false,
        "height": 700,
        "title": "Confusion Matrix",
        "width": 700,
        "xaxis": {
         "side": "bottom",
         "ticks": "",
         "title": "Predicted"
        },
        "yaxis": {
         "ticks": "",
         "ticksuffix": "  ",
         "title": "Actual"
        }
       }
      },
      "text/html": [
       "<div id=\"0ac04cc0-3066-4266-a8f1-77d65c3f02c7\" style=\"height: 700px; width: 700px;\" class=\"plotly-graph-div\"></div><script type=\"text/javascript\">require([\"plotly\"], function(Plotly) { window.PLOTLYENV=window.PLOTLYENV || {};window.PLOTLYENV.BASE_URL=\"https://plot.ly\";Plotly.newPlot(\"0ac04cc0-3066-4266-a8f1-77d65c3f02c7\", [{\"x\": [\"ALB\", \"BET\", \"DOL\", \"LAG\", \"NoF\", \"OTHER\", \"SHARK\", \"YFT\"], \"showscale\": true, \"type\": \"heatmap\", \"z\": [[160, 0, 1, 0, 3, 2, 0, 6], [2, 18, 0, 0, 0, 0, 0, 0], [1, 0, 11, 0, 0, 0, 0, 0], [0, 0, 0, 7, 0, 0, 0, 0], [4, 0, 0, 0, 42, 1, 0, 0], [3, 0, 0, 0, 0, 27, 0, 0], [0, 0, 0, 0, 0, 1, 17, 0], [2, 1, 0, 0, 0, 0, 0, 71]], \"y\": [\"ALB\", \"BET\", \"DOL\", \"LAG\", \"NoF\", \"OTHER\", \"SHARK\", \"YFT\"], \"colorscale\": [[0, \"#deebf7\"], [1, \"#3182bd\"]]}], {\"height\": 700, \"title\": \"Confusion Matrix\", \"annotations\": [{\"text\": \"160\", \"x\": \"ALB\", \"yref\": \"y1\", \"font\": {\"color\": \"white\"}, \"showarrow\": false, \"hovertext\": \"TODO: Add list of files here (corresponding to hover box)\", \"y\": \"ALB\", \"xref\": \"x1\"}, {\"text\": \"0\", \"x\": \"BET\", \"yref\": \"y1\", \"font\": {\"color\": \"black\"}, \"showarrow\": false, \"hovertext\": \"TODO: Add list of files here (corresponding to hover box)\", \"y\": \"ALB\", \"xref\": \"x1\"}, {\"text\": \"1\", \"x\": \"DOL\", \"yref\": \"y1\", \"font\": {\"color\": \"white\"}, \"showarrow\": false, \"hovertext\": \"TODO: Add list of files here (corresponding to hover box)\", \"y\": \"ALB\", \"xref\": \"x1\"}, {\"text\": \"0\", \"x\": \"LAG\", \"yref\": \"y1\", \"font\": {\"color\": \"black\"}, \"showarrow\": false, \"hovertext\": \"TODO: Add list of files here (corresponding to hover box)\", \"y\": \"ALB\", \"xref\": \"x1\"}, {\"text\": \"3\", \"x\": \"NoF\", \"yref\": \"y1\", \"font\": {\"color\": \"white\"}, \"showarrow\": false, \"hovertext\": \"TODO: Add list of files here (corresponding to hover box)\", \"y\": \"ALB\", \"xref\": \"x1\"}, {\"text\": \"2\", \"x\": \"OTHER\", \"yref\": \"y1\", \"font\": {\"color\": \"white\"}, \"showarrow\": false, \"hovertext\": \"TODO: Add list of files here (corresponding to hover box)\", \"y\": \"ALB\", \"xref\": \"x1\"}, {\"text\": \"0\", \"x\": \"SHARK\", \"yref\": \"y1\", \"font\": {\"color\": \"black\"}, \"showarrow\": false, \"hovertext\": \"TODO: Add list of files here (corresponding to hover box)\", \"y\": \"ALB\", \"xref\": \"x1\"}, {\"text\": \"6\", \"x\": \"YFT\", \"yref\": \"y1\", \"font\": {\"color\": \"white\"}, \"showarrow\": false, \"hovertext\": \"TODO: Add list of files here (corresponding to hover box)\", \"y\": \"ALB\", \"xref\": \"x1\"}, {\"text\": \"2\", \"x\": \"ALB\", \"yref\": \"y1\", \"font\": {\"color\": \"white\"}, \"showarrow\": false, \"hovertext\": \"TODO: Add list of files here (corresponding to hover box)\", \"y\": \"BET\", \"xref\": \"x1\"}, {\"text\": \"18\", \"x\": \"BET\", \"yref\": \"y1\", \"font\": {\"color\": \"white\"}, \"showarrow\": false, \"hovertext\": \"TODO: Add list of files here (corresponding to hover box)\", \"y\": \"BET\", \"xref\": \"x1\"}, {\"text\": \"0\", \"x\": \"DOL\", \"yref\": \"y1\", \"font\": {\"color\": \"black\"}, \"showarrow\": false, \"hovertext\": \"TODO: Add list of files here (corresponding to hover box)\", \"y\": \"BET\", \"xref\": \"x1\"}, {\"text\": \"0\", \"x\": \"LAG\", \"yref\": \"y1\", \"font\": {\"color\": \"black\"}, \"showarrow\": false, \"hovertext\": \"TODO: Add list of files here (corresponding to hover box)\", \"y\": \"BET\", \"xref\": \"x1\"}, {\"text\": \"0\", \"x\": \"NoF\", \"yref\": \"y1\", \"font\": {\"color\": \"black\"}, \"showarrow\": false, \"hovertext\": \"TODO: Add list of files here (corresponding to hover box)\", \"y\": \"BET\", \"xref\": \"x1\"}, {\"text\": \"0\", \"x\": \"OTHER\", \"yref\": \"y1\", \"font\": {\"color\": \"black\"}, \"showarrow\": false, \"hovertext\": \"TODO: Add list of files here (corresponding to hover box)\", \"y\": \"BET\", \"xref\": \"x1\"}, {\"text\": \"0\", \"x\": \"SHARK\", \"yref\": \"y1\", \"font\": {\"color\": \"black\"}, \"showarrow\": false, \"hovertext\": \"TODO: Add list of files here (corresponding to hover box)\", \"y\": \"BET\", \"xref\": \"x1\"}, {\"text\": \"0\", \"x\": \"YFT\", \"yref\": \"y1\", \"font\": {\"color\": \"black\"}, \"showarrow\": false, \"hovertext\": \"TODO: Add list of files here (corresponding to hover box)\", \"y\": \"BET\", \"xref\": \"x1\"}, {\"text\": \"1\", \"x\": \"ALB\", \"yref\": \"y1\", \"font\": {\"color\": \"white\"}, \"showarrow\": false, \"hovertext\": \"TODO: Add list of files here (corresponding to hover box)\", \"y\": \"DOL\", \"xref\": \"x1\"}, {\"text\": \"0\", \"x\": \"BET\", \"yref\": \"y1\", \"font\": {\"color\": \"black\"}, \"showarrow\": false, \"hovertext\": \"TODO: Add list of files here (corresponding to hover box)\", \"y\": \"DOL\", \"xref\": \"x1\"}, {\"text\": \"11\", \"x\": \"DOL\", \"yref\": \"y1\", \"font\": {\"color\": \"white\"}, \"showarrow\": false, \"hovertext\": \"TODO: Add list of files here (corresponding to hover box)\", \"y\": \"DOL\", \"xref\": \"x1\"}, {\"text\": \"0\", \"x\": \"LAG\", \"yref\": \"y1\", \"font\": {\"color\": \"black\"}, \"showarrow\": false, \"hovertext\": \"TODO: Add list of files here (corresponding to hover box)\", \"y\": \"DOL\", \"xref\": \"x1\"}, {\"text\": \"0\", \"x\": \"NoF\", \"yref\": \"y1\", \"font\": {\"color\": \"black\"}, \"showarrow\": false, \"hovertext\": \"TODO: Add list of files here (corresponding to hover box)\", \"y\": \"DOL\", \"xref\": \"x1\"}, {\"text\": \"0\", \"x\": \"OTHER\", \"yref\": \"y1\", \"font\": {\"color\": \"black\"}, \"showarrow\": false, \"hovertext\": \"TODO: Add list of files here (corresponding to hover box)\", \"y\": \"DOL\", \"xref\": \"x1\"}, {\"text\": \"0\", \"x\": \"SHARK\", \"yref\": \"y1\", \"font\": {\"color\": \"black\"}, \"showarrow\": false, \"hovertext\": \"TODO: Add list of files here (corresponding to hover box)\", \"y\": \"DOL\", \"xref\": \"x1\"}, {\"text\": \"0\", \"x\": \"YFT\", \"yref\": \"y1\", \"font\": {\"color\": \"black\"}, \"showarrow\": false, \"hovertext\": \"TODO: Add list of files here (corresponding to hover box)\", \"y\": \"DOL\", \"xref\": \"x1\"}, {\"text\": \"0\", \"x\": \"ALB\", \"yref\": \"y1\", \"font\": {\"color\": \"black\"}, \"showarrow\": false, \"hovertext\": \"TODO: Add list of files here (corresponding to hover box)\", \"y\": \"LAG\", \"xref\": \"x1\"}, {\"text\": \"0\", \"x\": \"BET\", \"yref\": \"y1\", \"font\": {\"color\": \"black\"}, \"showarrow\": false, \"hovertext\": \"TODO: Add list of files here (corresponding to hover box)\", \"y\": \"LAG\", \"xref\": \"x1\"}, {\"text\": \"0\", \"x\": \"DOL\", \"yref\": \"y1\", \"font\": {\"color\": \"black\"}, \"showarrow\": false, \"hovertext\": \"TODO: Add list of files here (corresponding to hover box)\", \"y\": \"LAG\", \"xref\": \"x1\"}, {\"text\": \"7\", \"x\": \"LAG\", \"yref\": \"y1\", \"font\": {\"color\": \"white\"}, \"showarrow\": false, \"hovertext\": \"TODO: Add list of files here (corresponding to hover box)\", \"y\": \"LAG\", \"xref\": \"x1\"}, {\"text\": \"0\", \"x\": \"NoF\", \"yref\": \"y1\", \"font\": {\"color\": \"black\"}, \"showarrow\": false, \"hovertext\": \"TODO: Add list of files here (corresponding to hover box)\", \"y\": \"LAG\", \"xref\": \"x1\"}, {\"text\": \"0\", \"x\": \"OTHER\", \"yref\": \"y1\", \"font\": {\"color\": \"black\"}, \"showarrow\": false, \"hovertext\": \"TODO: Add list of files here (corresponding to hover box)\", \"y\": \"LAG\", \"xref\": \"x1\"}, {\"text\": \"0\", \"x\": \"SHARK\", \"yref\": \"y1\", \"font\": {\"color\": \"black\"}, \"showarrow\": false, \"hovertext\": \"TODO: Add list of files here (corresponding to hover box)\", \"y\": \"LAG\", \"xref\": \"x1\"}, {\"text\": \"0\", \"x\": \"YFT\", \"yref\": \"y1\", \"font\": {\"color\": \"black\"}, \"showarrow\": false, \"hovertext\": \"TODO: Add list of files here (corresponding to hover box)\", \"y\": \"LAG\", \"xref\": \"x1\"}, {\"text\": \"4\", \"x\": \"ALB\", \"yref\": \"y1\", \"font\": {\"color\": \"white\"}, \"showarrow\": false, \"hovertext\": \"TODO: Add list of files here (corresponding to hover box)\", \"y\": \"NoF\", \"xref\": \"x1\"}, {\"text\": \"0\", \"x\": \"BET\", \"yref\": \"y1\", \"font\": {\"color\": \"black\"}, \"showarrow\": false, \"hovertext\": \"TODO: Add list of files here (corresponding to hover box)\", \"y\": \"NoF\", \"xref\": \"x1\"}, {\"text\": \"0\", \"x\": \"DOL\", \"yref\": \"y1\", \"font\": {\"color\": \"black\"}, \"showarrow\": false, \"hovertext\": \"TODO: Add list of files here (corresponding to hover box)\", \"y\": \"NoF\", \"xref\": \"x1\"}, {\"text\": \"0\", \"x\": \"LAG\", \"yref\": \"y1\", \"font\": {\"color\": \"black\"}, \"showarrow\": false, \"hovertext\": \"TODO: Add list of files here (corresponding to hover box)\", \"y\": \"NoF\", \"xref\": \"x1\"}, {\"text\": \"42\", \"x\": \"NoF\", \"yref\": \"y1\", \"font\": {\"color\": \"white\"}, \"showarrow\": false, \"hovertext\": \"TODO: Add list of files here (corresponding to hover box)\", \"y\": \"NoF\", \"xref\": \"x1\"}, {\"text\": \"1\", \"x\": \"OTHER\", \"yref\": \"y1\", \"font\": {\"color\": \"white\"}, \"showarrow\": false, \"hovertext\": \"TODO: Add list of files here (corresponding to hover box)\", \"y\": \"NoF\", \"xref\": \"x1\"}, {\"text\": \"0\", \"x\": \"SHARK\", \"yref\": \"y1\", \"font\": {\"color\": \"black\"}, \"showarrow\": false, \"hovertext\": \"TODO: Add list of files here (corresponding to hover box)\", \"y\": \"NoF\", \"xref\": \"x1\"}, {\"text\": \"0\", \"x\": \"YFT\", \"yref\": \"y1\", \"font\": {\"color\": \"black\"}, \"showarrow\": false, \"hovertext\": \"TODO: Add list of files here (corresponding to hover box)\", \"y\": \"NoF\", \"xref\": \"x1\"}, {\"text\": \"3\", \"x\": \"ALB\", \"yref\": \"y1\", \"font\": {\"color\": \"white\"}, \"showarrow\": false, \"hovertext\": \"TODO: Add list of files here (corresponding to hover box)\", \"y\": \"OTHER\", \"xref\": \"x1\"}, {\"text\": \"0\", \"x\": \"BET\", \"yref\": \"y1\", \"font\": {\"color\": \"black\"}, \"showarrow\": false, \"hovertext\": \"TODO: Add list of files here (corresponding to hover box)\", \"y\": \"OTHER\", \"xref\": \"x1\"}, {\"text\": \"0\", \"x\": \"DOL\", \"yref\": \"y1\", \"font\": {\"color\": \"black\"}, \"showarrow\": false, \"hovertext\": \"TODO: Add list of files here (corresponding to hover box)\", \"y\": \"OTHER\", \"xref\": \"x1\"}, {\"text\": \"0\", \"x\": \"LAG\", \"yref\": \"y1\", \"font\": {\"color\": \"black\"}, \"showarrow\": false, \"hovertext\": \"TODO: Add list of files here (corresponding to hover box)\", \"y\": \"OTHER\", \"xref\": \"x1\"}, {\"text\": \"0\", \"x\": \"NoF\", \"yref\": \"y1\", \"font\": {\"color\": \"black\"}, \"showarrow\": false, \"hovertext\": \"TODO: Add list of files here (corresponding to hover box)\", \"y\": \"OTHER\", \"xref\": \"x1\"}, {\"text\": \"27\", \"x\": \"OTHER\", \"yref\": \"y1\", \"font\": {\"color\": \"white\"}, \"showarrow\": false, \"hovertext\": \"TODO: Add list of files here (corresponding to hover box)\", \"y\": \"OTHER\", \"xref\": \"x1\"}, {\"text\": \"0\", \"x\": \"SHARK\", \"yref\": \"y1\", \"font\": {\"color\": \"black\"}, \"showarrow\": false, \"hovertext\": \"TODO: Add list of files here (corresponding to hover box)\", \"y\": \"OTHER\", \"xref\": \"x1\"}, {\"text\": \"0\", \"x\": \"YFT\", \"yref\": \"y1\", \"font\": {\"color\": \"black\"}, \"showarrow\": false, \"hovertext\": \"TODO: Add list of files here (corresponding to hover box)\", \"y\": \"OTHER\", \"xref\": \"x1\"}, {\"text\": \"0\", \"x\": \"ALB\", \"yref\": \"y1\", \"font\": {\"color\": \"black\"}, \"showarrow\": false, \"hovertext\": \"TODO: Add list of files here (corresponding to hover box)\", \"y\": \"SHARK\", \"xref\": \"x1\"}, {\"text\": \"0\", \"x\": \"BET\", \"yref\": \"y1\", \"font\": {\"color\": \"black\"}, \"showarrow\": false, \"hovertext\": \"TODO: Add list of files here (corresponding to hover box)\", \"y\": \"SHARK\", \"xref\": \"x1\"}, {\"text\": \"0\", \"x\": \"DOL\", \"yref\": \"y1\", \"font\": {\"color\": \"black\"}, \"showarrow\": false, \"hovertext\": \"TODO: Add list of files here (corresponding to hover box)\", \"y\": \"SHARK\", \"xref\": \"x1\"}, {\"text\": \"0\", \"x\": \"LAG\", \"yref\": \"y1\", \"font\": {\"color\": \"black\"}, \"showarrow\": false, \"hovertext\": \"TODO: Add list of files here (corresponding to hover box)\", \"y\": \"SHARK\", \"xref\": \"x1\"}, {\"text\": \"0\", \"x\": \"NoF\", \"yref\": \"y1\", \"font\": {\"color\": \"black\"}, \"showarrow\": false, \"hovertext\": \"TODO: Add list of files here (corresponding to hover box)\", \"y\": \"SHARK\", \"xref\": \"x1\"}, {\"text\": \"1\", \"x\": \"OTHER\", \"yref\": \"y1\", \"font\": {\"color\": \"white\"}, \"showarrow\": false, \"hovertext\": \"TODO: Add list of files here (corresponding to hover box)\", \"y\": \"SHARK\", \"xref\": \"x1\"}, {\"text\": \"17\", \"x\": \"SHARK\", \"yref\": \"y1\", \"font\": {\"color\": \"white\"}, \"showarrow\": false, \"hovertext\": \"TODO: Add list of files here (corresponding to hover box)\", \"y\": \"SHARK\", \"xref\": \"x1\"}, {\"text\": \"0\", \"x\": \"YFT\", \"yref\": \"y1\", \"font\": {\"color\": \"black\"}, \"showarrow\": false, \"hovertext\": \"TODO: Add list of files here (corresponding to hover box)\", \"y\": \"SHARK\", \"xref\": \"x1\"}, {\"text\": \"2\", \"x\": \"ALB\", \"yref\": \"y1\", \"font\": {\"color\": \"white\"}, \"showarrow\": false, \"hovertext\": \"TODO: Add list of files here (corresponding to hover box)\", \"y\": \"YFT\", \"xref\": \"x1\"}, {\"text\": \"1\", \"x\": \"BET\", \"yref\": \"y1\", \"font\": {\"color\": \"white\"}, \"showarrow\": false, \"hovertext\": \"TODO: Add list of files here (corresponding to hover box)\", \"y\": \"YFT\", \"xref\": \"x1\"}, {\"text\": \"0\", \"x\": \"DOL\", \"yref\": \"y1\", \"font\": {\"color\": \"black\"}, \"showarrow\": false, \"hovertext\": \"TODO: Add list of files here (corresponding to hover box)\", \"y\": \"YFT\", \"xref\": \"x1\"}, {\"text\": \"0\", \"x\": \"LAG\", \"yref\": \"y1\", \"font\": {\"color\": \"black\"}, \"showarrow\": false, \"hovertext\": \"TODO: Add list of files here (corresponding to hover box)\", \"y\": \"YFT\", \"xref\": \"x1\"}, {\"text\": \"0\", \"x\": \"NoF\", \"yref\": \"y1\", \"font\": {\"color\": \"black\"}, \"showarrow\": false, \"hovertext\": \"TODO: Add list of files here (corresponding to hover box)\", \"y\": \"YFT\", \"xref\": \"x1\"}, {\"text\": \"0\", \"x\": \"OTHER\", \"yref\": \"y1\", \"font\": {\"color\": \"black\"}, \"showarrow\": false, \"hovertext\": \"TODO: Add list of files here (corresponding to hover box)\", \"y\": \"YFT\", \"xref\": \"x1\"}, {\"text\": \"0\", \"x\": \"SHARK\", \"yref\": \"y1\", \"font\": {\"color\": \"black\"}, \"showarrow\": false, \"hovertext\": \"TODO: Add list of files here (corresponding to hover box)\", \"y\": \"YFT\", \"xref\": \"x1\"}, {\"text\": \"71\", \"x\": \"YFT\", \"yref\": \"y1\", \"font\": {\"color\": \"white\"}, \"showarrow\": false, \"hovertext\": \"TODO: Add list of files here (corresponding to hover box)\", \"y\": \"YFT\", \"xref\": \"x1\"}], \"autosize\": false, \"width\": 700, \"xaxis\": {\"ticks\": \"\", \"title\": \"Predicted\", \"side\": \"bottom\"}, \"yaxis\": {\"ticksuffix\": \"  \", \"ticks\": \"\", \"title\": \"Actual\"}}, {\"linkText\": \"Export to plot.ly\", \"showLink\": false})});</script>"
      ],
      "text/vnd.plotly.v1+html": [
       "<div id=\"0ac04cc0-3066-4266-a8f1-77d65c3f02c7\" style=\"height: 700px; width: 700px;\" class=\"plotly-graph-div\"></div><script type=\"text/javascript\">require([\"plotly\"], function(Plotly) { window.PLOTLYENV=window.PLOTLYENV || {};window.PLOTLYENV.BASE_URL=\"https://plot.ly\";Plotly.newPlot(\"0ac04cc0-3066-4266-a8f1-77d65c3f02c7\", [{\"x\": [\"ALB\", \"BET\", \"DOL\", \"LAG\", \"NoF\", \"OTHER\", \"SHARK\", \"YFT\"], \"showscale\": true, \"type\": \"heatmap\", \"z\": [[160, 0, 1, 0, 3, 2, 0, 6], [2, 18, 0, 0, 0, 0, 0, 0], [1, 0, 11, 0, 0, 0, 0, 0], [0, 0, 0, 7, 0, 0, 0, 0], [4, 0, 0, 0, 42, 1, 0, 0], [3, 0, 0, 0, 0, 27, 0, 0], [0, 0, 0, 0, 0, 1, 17, 0], [2, 1, 0, 0, 0, 0, 0, 71]], \"y\": [\"ALB\", \"BET\", \"DOL\", \"LAG\", \"NoF\", \"OTHER\", \"SHARK\", \"YFT\"], \"colorscale\": [[0, \"#deebf7\"], [1, \"#3182bd\"]]}], {\"height\": 700, \"title\": \"Confusion Matrix\", \"annotations\": [{\"text\": \"160\", \"x\": \"ALB\", \"yref\": \"y1\", \"font\": {\"color\": \"white\"}, \"showarrow\": false, \"hovertext\": \"TODO: Add list of files here (corresponding to hover box)\", \"y\": \"ALB\", \"xref\": \"x1\"}, {\"text\": \"0\", \"x\": \"BET\", \"yref\": \"y1\", \"font\": {\"color\": \"black\"}, \"showarrow\": false, \"hovertext\": \"TODO: Add list of files here (corresponding to hover box)\", \"y\": \"ALB\", \"xref\": \"x1\"}, {\"text\": \"1\", \"x\": \"DOL\", \"yref\": \"y1\", \"font\": {\"color\": \"white\"}, \"showarrow\": false, \"hovertext\": \"TODO: Add list of files here (corresponding to hover box)\", \"y\": \"ALB\", \"xref\": \"x1\"}, {\"text\": \"0\", \"x\": \"LAG\", \"yref\": \"y1\", \"font\": {\"color\": \"black\"}, \"showarrow\": false, \"hovertext\": \"TODO: Add list of files here (corresponding to hover box)\", \"y\": \"ALB\", \"xref\": \"x1\"}, {\"text\": \"3\", \"x\": \"NoF\", \"yref\": \"y1\", \"font\": {\"color\": \"white\"}, \"showarrow\": false, \"hovertext\": \"TODO: Add list of files here (corresponding to hover box)\", \"y\": \"ALB\", \"xref\": \"x1\"}, {\"text\": \"2\", \"x\": \"OTHER\", \"yref\": \"y1\", \"font\": {\"color\": \"white\"}, \"showarrow\": false, \"hovertext\": \"TODO: Add list of files here (corresponding to hover box)\", \"y\": \"ALB\", \"xref\": \"x1\"}, {\"text\": \"0\", \"x\": \"SHARK\", \"yref\": \"y1\", \"font\": {\"color\": \"black\"}, \"showarrow\": false, \"hovertext\": \"TODO: Add list of files here (corresponding to hover box)\", \"y\": \"ALB\", \"xref\": \"x1\"}, {\"text\": \"6\", \"x\": \"YFT\", \"yref\": \"y1\", \"font\": {\"color\": \"white\"}, \"showarrow\": false, \"hovertext\": \"TODO: Add list of files here (corresponding to hover box)\", \"y\": \"ALB\", \"xref\": \"x1\"}, {\"text\": \"2\", \"x\": \"ALB\", \"yref\": \"y1\", \"font\": {\"color\": \"white\"}, \"showarrow\": false, \"hovertext\": \"TODO: Add list of files here (corresponding to hover box)\", \"y\": \"BET\", \"xref\": \"x1\"}, {\"text\": \"18\", \"x\": \"BET\", \"yref\": \"y1\", \"font\": {\"color\": \"white\"}, \"showarrow\": false, \"hovertext\": \"TODO: Add list of files here (corresponding to hover box)\", \"y\": \"BET\", \"xref\": \"x1\"}, {\"text\": \"0\", \"x\": \"DOL\", \"yref\": \"y1\", \"font\": {\"color\": \"black\"}, \"showarrow\": false, \"hovertext\": \"TODO: Add list of files here (corresponding to hover box)\", \"y\": \"BET\", \"xref\": \"x1\"}, {\"text\": \"0\", \"x\": \"LAG\", \"yref\": \"y1\", \"font\": {\"color\": \"black\"}, \"showarrow\": false, \"hovertext\": \"TODO: Add list of files here (corresponding to hover box)\", \"y\": \"BET\", \"xref\": \"x1\"}, {\"text\": \"0\", \"x\": \"NoF\", \"yref\": \"y1\", \"font\": {\"color\": \"black\"}, \"showarrow\": false, \"hovertext\": \"TODO: Add list of files here (corresponding to hover box)\", \"y\": \"BET\", \"xref\": \"x1\"}, {\"text\": \"0\", \"x\": \"OTHER\", \"yref\": \"y1\", \"font\": {\"color\": \"black\"}, \"showarrow\": false, \"hovertext\": \"TODO: Add list of files here (corresponding to hover box)\", \"y\": \"BET\", \"xref\": \"x1\"}, {\"text\": \"0\", \"x\": \"SHARK\", \"yref\": \"y1\", \"font\": {\"color\": \"black\"}, \"showarrow\": false, \"hovertext\": \"TODO: Add list of files here (corresponding to hover box)\", \"y\": \"BET\", \"xref\": \"x1\"}, {\"text\": \"0\", \"x\": \"YFT\", \"yref\": \"y1\", \"font\": {\"color\": \"black\"}, \"showarrow\": false, \"hovertext\": \"TODO: Add list of files here (corresponding to hover box)\", \"y\": \"BET\", \"xref\": \"x1\"}, {\"text\": \"1\", \"x\": \"ALB\", \"yref\": \"y1\", \"font\": {\"color\": \"white\"}, \"showarrow\": false, \"hovertext\": \"TODO: Add list of files here (corresponding to hover box)\", \"y\": \"DOL\", \"xref\": \"x1\"}, {\"text\": \"0\", \"x\": \"BET\", \"yref\": \"y1\", \"font\": {\"color\": \"black\"}, \"showarrow\": false, \"hovertext\": \"TODO: Add list of files here (corresponding to hover box)\", \"y\": \"DOL\", \"xref\": \"x1\"}, {\"text\": \"11\", \"x\": \"DOL\", \"yref\": \"y1\", \"font\": {\"color\": \"white\"}, \"showarrow\": false, \"hovertext\": \"TODO: Add list of files here (corresponding to hover box)\", \"y\": \"DOL\", \"xref\": \"x1\"}, {\"text\": \"0\", \"x\": \"LAG\", \"yref\": \"y1\", \"font\": {\"color\": \"black\"}, \"showarrow\": false, \"hovertext\": \"TODO: Add list of files here (corresponding to hover box)\", \"y\": \"DOL\", \"xref\": \"x1\"}, {\"text\": \"0\", \"x\": \"NoF\", \"yref\": \"y1\", \"font\": {\"color\": \"black\"}, \"showarrow\": false, \"hovertext\": \"TODO: Add list of files here (corresponding to hover box)\", \"y\": \"DOL\", \"xref\": \"x1\"}, {\"text\": \"0\", \"x\": \"OTHER\", \"yref\": \"y1\", \"font\": {\"color\": \"black\"}, \"showarrow\": false, \"hovertext\": \"TODO: Add list of files here (corresponding to hover box)\", \"y\": \"DOL\", \"xref\": \"x1\"}, {\"text\": \"0\", \"x\": \"SHARK\", \"yref\": \"y1\", \"font\": {\"color\": \"black\"}, \"showarrow\": false, \"hovertext\": \"TODO: Add list of files here (corresponding to hover box)\", \"y\": \"DOL\", \"xref\": \"x1\"}, {\"text\": \"0\", \"x\": \"YFT\", \"yref\": \"y1\", \"font\": {\"color\": \"black\"}, \"showarrow\": false, \"hovertext\": \"TODO: Add list of files here (corresponding to hover box)\", \"y\": \"DOL\", \"xref\": \"x1\"}, {\"text\": \"0\", \"x\": \"ALB\", \"yref\": \"y1\", \"font\": {\"color\": \"black\"}, \"showarrow\": false, \"hovertext\": \"TODO: Add list of files here (corresponding to hover box)\", \"y\": \"LAG\", \"xref\": \"x1\"}, {\"text\": \"0\", \"x\": \"BET\", \"yref\": \"y1\", \"font\": {\"color\": \"black\"}, \"showarrow\": false, \"hovertext\": \"TODO: Add list of files here (corresponding to hover box)\", \"y\": \"LAG\", \"xref\": \"x1\"}, {\"text\": \"0\", \"x\": \"DOL\", \"yref\": \"y1\", \"font\": {\"color\": \"black\"}, \"showarrow\": false, \"hovertext\": \"TODO: Add list of files here (corresponding to hover box)\", \"y\": \"LAG\", \"xref\": \"x1\"}, {\"text\": \"7\", \"x\": \"LAG\", \"yref\": \"y1\", \"font\": {\"color\": \"white\"}, \"showarrow\": false, \"hovertext\": \"TODO: Add list of files here (corresponding to hover box)\", \"y\": \"LAG\", \"xref\": \"x1\"}, {\"text\": \"0\", \"x\": \"NoF\", \"yref\": \"y1\", \"font\": {\"color\": \"black\"}, \"showarrow\": false, \"hovertext\": \"TODO: Add list of files here (corresponding to hover box)\", \"y\": \"LAG\", \"xref\": \"x1\"}, {\"text\": \"0\", \"x\": \"OTHER\", \"yref\": \"y1\", \"font\": {\"color\": \"black\"}, \"showarrow\": false, \"hovertext\": \"TODO: Add list of files here (corresponding to hover box)\", \"y\": \"LAG\", \"xref\": \"x1\"}, {\"text\": \"0\", \"x\": \"SHARK\", \"yref\": \"y1\", \"font\": {\"color\": \"black\"}, \"showarrow\": false, \"hovertext\": \"TODO: Add list of files here (corresponding to hover box)\", \"y\": \"LAG\", \"xref\": \"x1\"}, {\"text\": \"0\", \"x\": \"YFT\", \"yref\": \"y1\", \"font\": {\"color\": \"black\"}, \"showarrow\": false, \"hovertext\": \"TODO: Add list of files here (corresponding to hover box)\", \"y\": \"LAG\", \"xref\": \"x1\"}, {\"text\": \"4\", \"x\": \"ALB\", \"yref\": \"y1\", \"font\": {\"color\": \"white\"}, \"showarrow\": false, \"hovertext\": \"TODO: Add list of files here (corresponding to hover box)\", \"y\": \"NoF\", \"xref\": \"x1\"}, {\"text\": \"0\", \"x\": \"BET\", \"yref\": \"y1\", \"font\": {\"color\": \"black\"}, \"showarrow\": false, \"hovertext\": \"TODO: Add list of files here (corresponding to hover box)\", \"y\": \"NoF\", \"xref\": \"x1\"}, {\"text\": \"0\", \"x\": \"DOL\", \"yref\": \"y1\", \"font\": {\"color\": \"black\"}, \"showarrow\": false, \"hovertext\": \"TODO: Add list of files here (corresponding to hover box)\", \"y\": \"NoF\", \"xref\": \"x1\"}, {\"text\": \"0\", \"x\": \"LAG\", \"yref\": \"y1\", \"font\": {\"color\": \"black\"}, \"showarrow\": false, \"hovertext\": \"TODO: Add list of files here (corresponding to hover box)\", \"y\": \"NoF\", \"xref\": \"x1\"}, {\"text\": \"42\", \"x\": \"NoF\", \"yref\": \"y1\", \"font\": {\"color\": \"white\"}, \"showarrow\": false, \"hovertext\": \"TODO: Add list of files here (corresponding to hover box)\", \"y\": \"NoF\", \"xref\": \"x1\"}, {\"text\": \"1\", \"x\": \"OTHER\", \"yref\": \"y1\", \"font\": {\"color\": \"white\"}, \"showarrow\": false, \"hovertext\": \"TODO: Add list of files here (corresponding to hover box)\", \"y\": \"NoF\", \"xref\": \"x1\"}, {\"text\": \"0\", \"x\": \"SHARK\", \"yref\": \"y1\", \"font\": {\"color\": \"black\"}, \"showarrow\": false, \"hovertext\": \"TODO: Add list of files here (corresponding to hover box)\", \"y\": \"NoF\", \"xref\": \"x1\"}, {\"text\": \"0\", \"x\": \"YFT\", \"yref\": \"y1\", \"font\": {\"color\": \"black\"}, \"showarrow\": false, \"hovertext\": \"TODO: Add list of files here (corresponding to hover box)\", \"y\": \"NoF\", \"xref\": \"x1\"}, {\"text\": \"3\", \"x\": \"ALB\", \"yref\": \"y1\", \"font\": {\"color\": \"white\"}, \"showarrow\": false, \"hovertext\": \"TODO: Add list of files here (corresponding to hover box)\", \"y\": \"OTHER\", \"xref\": \"x1\"}, {\"text\": \"0\", \"x\": \"BET\", \"yref\": \"y1\", \"font\": {\"color\": \"black\"}, \"showarrow\": false, \"hovertext\": \"TODO: Add list of files here (corresponding to hover box)\", \"y\": \"OTHER\", \"xref\": \"x1\"}, {\"text\": \"0\", \"x\": \"DOL\", \"yref\": \"y1\", \"font\": {\"color\": \"black\"}, \"showarrow\": false, \"hovertext\": \"TODO: Add list of files here (corresponding to hover box)\", \"y\": \"OTHER\", \"xref\": \"x1\"}, {\"text\": \"0\", \"x\": \"LAG\", \"yref\": \"y1\", \"font\": {\"color\": \"black\"}, \"showarrow\": false, \"hovertext\": \"TODO: Add list of files here (corresponding to hover box)\", \"y\": \"OTHER\", \"xref\": \"x1\"}, {\"text\": \"0\", \"x\": \"NoF\", \"yref\": \"y1\", \"font\": {\"color\": \"black\"}, \"showarrow\": false, \"hovertext\": \"TODO: Add list of files here (corresponding to hover box)\", \"y\": \"OTHER\", \"xref\": \"x1\"}, {\"text\": \"27\", \"x\": \"OTHER\", \"yref\": \"y1\", \"font\": {\"color\": \"white\"}, \"showarrow\": false, \"hovertext\": \"TODO: Add list of files here (corresponding to hover box)\", \"y\": \"OTHER\", \"xref\": \"x1\"}, {\"text\": \"0\", \"x\": \"SHARK\", \"yref\": \"y1\", \"font\": {\"color\": \"black\"}, \"showarrow\": false, \"hovertext\": \"TODO: Add list of files here (corresponding to hover box)\", \"y\": \"OTHER\", \"xref\": \"x1\"}, {\"text\": \"0\", \"x\": \"YFT\", \"yref\": \"y1\", \"font\": {\"color\": \"black\"}, \"showarrow\": false, \"hovertext\": \"TODO: Add list of files here (corresponding to hover box)\", \"y\": \"OTHER\", \"xref\": \"x1\"}, {\"text\": \"0\", \"x\": \"ALB\", \"yref\": \"y1\", \"font\": {\"color\": \"black\"}, \"showarrow\": false, \"hovertext\": \"TODO: Add list of files here (corresponding to hover box)\", \"y\": \"SHARK\", \"xref\": \"x1\"}, {\"text\": \"0\", \"x\": \"BET\", \"yref\": \"y1\", \"font\": {\"color\": \"black\"}, \"showarrow\": false, \"hovertext\": \"TODO: Add list of files here (corresponding to hover box)\", \"y\": \"SHARK\", \"xref\": \"x1\"}, {\"text\": \"0\", \"x\": \"DOL\", \"yref\": \"y1\", \"font\": {\"color\": \"black\"}, \"showarrow\": false, \"hovertext\": \"TODO: Add list of files here (corresponding to hover box)\", \"y\": \"SHARK\", \"xref\": \"x1\"}, {\"text\": \"0\", \"x\": \"LAG\", \"yref\": \"y1\", \"font\": {\"color\": \"black\"}, \"showarrow\": false, \"hovertext\": \"TODO: Add list of files here (corresponding to hover box)\", \"y\": \"SHARK\", \"xref\": \"x1\"}, {\"text\": \"0\", \"x\": \"NoF\", \"yref\": \"y1\", \"font\": {\"color\": \"black\"}, \"showarrow\": false, \"hovertext\": \"TODO: Add list of files here (corresponding to hover box)\", \"y\": \"SHARK\", \"xref\": \"x1\"}, {\"text\": \"1\", \"x\": \"OTHER\", \"yref\": \"y1\", \"font\": {\"color\": \"white\"}, \"showarrow\": false, \"hovertext\": \"TODO: Add list of files here (corresponding to hover box)\", \"y\": \"SHARK\", \"xref\": \"x1\"}, {\"text\": \"17\", \"x\": \"SHARK\", \"yref\": \"y1\", \"font\": {\"color\": \"white\"}, \"showarrow\": false, \"hovertext\": \"TODO: Add list of files here (corresponding to hover box)\", \"y\": \"SHARK\", \"xref\": \"x1\"}, {\"text\": \"0\", \"x\": \"YFT\", \"yref\": \"y1\", \"font\": {\"color\": \"black\"}, \"showarrow\": false, \"hovertext\": \"TODO: Add list of files here (corresponding to hover box)\", \"y\": \"SHARK\", \"xref\": \"x1\"}, {\"text\": \"2\", \"x\": \"ALB\", \"yref\": \"y1\", \"font\": {\"color\": \"white\"}, \"showarrow\": false, \"hovertext\": \"TODO: Add list of files here (corresponding to hover box)\", \"y\": \"YFT\", \"xref\": \"x1\"}, {\"text\": \"1\", \"x\": \"BET\", \"yref\": \"y1\", \"font\": {\"color\": \"white\"}, \"showarrow\": false, \"hovertext\": \"TODO: Add list of files here (corresponding to hover box)\", \"y\": \"YFT\", \"xref\": \"x1\"}, {\"text\": \"0\", \"x\": \"DOL\", \"yref\": \"y1\", \"font\": {\"color\": \"black\"}, \"showarrow\": false, \"hovertext\": \"TODO: Add list of files here (corresponding to hover box)\", \"y\": \"YFT\", \"xref\": \"x1\"}, {\"text\": \"0\", \"x\": \"LAG\", \"yref\": \"y1\", \"font\": {\"color\": \"black\"}, \"showarrow\": false, \"hovertext\": \"TODO: Add list of files here (corresponding to hover box)\", \"y\": \"YFT\", \"xref\": \"x1\"}, {\"text\": \"0\", \"x\": \"NoF\", \"yref\": \"y1\", \"font\": {\"color\": \"black\"}, \"showarrow\": false, \"hovertext\": \"TODO: Add list of files here (corresponding to hover box)\", \"y\": \"YFT\", \"xref\": \"x1\"}, {\"text\": \"0\", \"x\": \"OTHER\", \"yref\": \"y1\", \"font\": {\"color\": \"black\"}, \"showarrow\": false, \"hovertext\": \"TODO: Add list of files here (corresponding to hover box)\", \"y\": \"YFT\", \"xref\": \"x1\"}, {\"text\": \"0\", \"x\": \"SHARK\", \"yref\": \"y1\", \"font\": {\"color\": \"black\"}, \"showarrow\": false, \"hovertext\": \"TODO: Add list of files here (corresponding to hover box)\", \"y\": \"YFT\", \"xref\": \"x1\"}, {\"text\": \"71\", \"x\": \"YFT\", \"yref\": \"y1\", \"font\": {\"color\": \"white\"}, \"showarrow\": false, \"hovertext\": \"TODO: Add list of files here (corresponding to hover box)\", \"y\": \"YFT\", \"xref\": \"x1\"}], \"autosize\": false, \"width\": 700, \"xaxis\": {\"ticks\": \"\", \"title\": \"Predicted\", \"side\": \"bottom\"}, \"yaxis\": {\"ticksuffix\": \"  \", \"ticks\": \"\", \"title\": \"Actual\"}}, {\"linkText\": \"Export to plot.ly\", \"showLink\": false})});</script>"
      ]
     },
     "metadata": {},
     "output_type": "display_data"
    }
   ],
   "source": [
    "prediction_actual_mappings_val_pseudo = create_confusion_matrix_helper(classifier_model_v2)"
   ]
  },
  {
   "cell_type": "markdown",
   "metadata": {
    "deletable": true,
    "editable": true
   },
   "source": [
    "Make submission (see last section of this notebook)..."
   ]
  },
  {
   "cell_type": "markdown",
   "metadata": {
    "deletable": true,
    "editable": true
   },
   "source": [
    "## Improve with PseudoLabelling (val and test) - classifier_model_v2_val_and_test_pseudo"
   ]
  },
  {
   "cell_type": "markdown",
   "metadata": {
    "deletable": true,
    "editable": true
   },
   "source": [
    "Create test_conv_features on resnet_base \n",
    "\n",
    "!!!WARNING: Don't re-run the below (takes a long time) - load save (see further below)"
   ]
  },
  {
   "cell_type": "code",
   "execution_count": null,
   "metadata": {
    "collapsed": true,
    "deletable": true,
    "editable": true
   },
   "outputs": [],
   "source": [
    "test_stg1_batches = get_batches(TEST_STG1_DIR, batch_size=20, shuffle=False)\n",
    "\n",
    "test1_conv_features = predict_generator_helper(resnet_base,\n",
    "                                               test_stg1_batches,\n",
    "                                               batch_size=20,\n",
    "                                               num_batch_samples=len(test_stg1_batches.filenames))"
   ]
  },
  {
   "cell_type": "code",
   "execution_count": 94,
   "metadata": {
    "collapsed": false,
    "deletable": true,
    "editable": true
   },
   "outputs": [
    {
     "name": "stdout",
     "output_type": "stream",
     "text": [
      "Found 1000 images belonging to 1 classes.\n",
      "Found 12153 images belonging to 1 classes.\n"
     ]
    }
   ],
   "source": [
    "test_stg2_batches = get_batches(TEST_STG2_DIR, batch_size=3, shuffle=False)\n",
    "\n",
    "test2_conv_features = predict_generator_helper(resnet_base,\n",
    "                                               test_stg2_batches,\n",
    "                                               batch_size=3,\n",
    "                                               num_batch_samples=len(test_stg2_batches.filenames))"
   ]
  },
  {
   "cell_type": "code",
   "execution_count": 101,
   "metadata": {
    "collapsed": true,
    "deletable": true,
    "editable": true
   },
   "outputs": [],
   "source": [
    "def save_precomputed_data(filenames, conv_feats, labels, features_base_name=\"ResNet50_conv_feats/test_\"):\n",
    "    save_array(RESULTS_DIR+\"/\"+features_base_name+'filenames.dat', np.array(filenames))\n",
    "    save_array(RESULTS_DIR+\"/\"+features_base_name+'conv_feats.dat', conv_feats)\n",
    "    save_array(RESULTS_DIR+\"/\"+features_base_name+'labels.dat', np.array(labels))\n",
    "    \n",
    "save_precomputed_data(test_stg1_batches.filenames,\n",
    "                      test1_conv_features,\n",
    "                      one_hot(test_stg1_batches.classes),\n",
    "                      features_base_name=\"ResNet50_conv_feats/test1_\")\n",
    "save_precomputed_data(test_stg2_batches.filenames,\n",
    "                      test2_conv_features,\n",
    "                      one_hot(test_stg2_batches.classes),\n",
    "                      features_base_name=\"ResNet50_conv_feats/test2_\")"
   ]
  },
  {
   "cell_type": "code",
   "execution_count": null,
   "metadata": {
    "collapsed": true
   },
   "outputs": [],
   "source": []
  },
  {
   "cell_type": "code",
   "execution_count": 74,
   "metadata": {
    "collapsed": false,
    "deletable": true,
    "editable": true
   },
   "outputs": [],
   "source": [
    "test1_filenames, test1_conv_features, _ = load_precomputed_data(\"ResNet50_conv_feats/test1_\")\n",
    "test2_filenames, test2_conv_features, _ = load_precomputed_data(\"ResNet50_conv_feats/test2_\")\n",
    "\n",
    "assert len(test1_filenames) == 1000, \"test1_filenames not as expected\"\n",
    "assert test1_conv_features.shape == (1000, 1, 1, 2048), \"test1_conv_features not as expected\"\n",
    "\n",
    "assert len(test2_filenames) == 12153, \"test2_filenames not as expected\"\n",
    "assert test2_conv_features.shape == (12153, 1, 1, 2048), \"test2_conv_features not as expected\"\n",
    "\n",
    "test_filenames = test1_filenames+test2_filenames\n",
    "test_conv_features = np.concatenate((test1_conv_features,\n",
    "                                   test2_conv_features), axis=0)\n",
    "\n",
    "assert len(test_filenames) == 13153, \"test1_conv_features not as expected\"\n",
    "assert test_conv_features.shape == (13153, 1, 1, 2048), \"test2_conv_features not as expected\""
   ]
  },
  {
   "cell_type": "code",
   "execution_count": 75,
   "metadata": {
    "collapsed": false,
    "deletable": true,
    "editable": true
   },
   "outputs": [],
   "source": [
    "val_and_test_conv_features = np.concatenate(\n",
    "                                (val_conv_features,\n",
    "                                 test_conv_features), axis=0)"
   ]
  },
  {
   "cell_type": "code",
   "execution_count": 76,
   "metadata": {
    "collapsed": false,
    "deletable": true,
    "editable": true
   },
   "outputs": [],
   "source": [
    "pseudo_val_and_test_predictions = classifier_model_v2.predict(val_and_test_conv_features,\n",
    "                                                              batch_size=13)"
   ]
  },
  {
   "cell_type": "code",
   "execution_count": 79,
   "metadata": {
    "collapsed": false,
    "deletable": true,
    "editable": true
   },
   "outputs": [
    {
     "name": "stdout",
     "output_type": "stream",
     "text": [
      "\n",
      "Running epoch 0: 20170601_152353\n",
      "Epoch trn_loss (inc. pseudo) = 1.4833693182086516, trn_acc (inc. pseudo) = 0.4760391845379931,\n",
      "Epoch val_loss = 1.4866855006468924, val_acc = 0.4710526315789474,\n",
      "\n",
      "Running epoch 1: 20170601_152426\n",
      "Epoch trn_loss (inc. pseudo) = 1.5362889632870667, trn_acc (inc. pseudo) = 0.4548583531903627,\n",
      "Epoch val_loss = 1.530465276617753, val_acc = 0.45263157894736844,\n"
     ]
    }
   ],
   "source": [
    "num_epochs = 2\n",
    "\n",
    "K.set_value(classifier_model_v2.optimizer.lr, 0.01)\n",
    "\n",
    "fit_pseudo(model=classifier_model_v2,\n",
    "            trn_conv_features=trn_conv_features, \n",
    "            pseudo_conv_features=val_and_test_conv_features,\n",
    "            val_conv_features=val_conv_features,\n",
    "\n",
    "            trn_labels=trn_labels,\n",
    "            pseudo_labels=pseudo_val_and_test_predictions,\n",
    "            val_labels=val_labels,\n",
    "\n",
    "            epochs = num_epochs,\n",
    "\n",
    "            trn_batch_size = 20,\n",
    "            pseudo_batch_size = 13,\n",
    "            val_batch_size = 32)"
   ]
  },
  {
   "cell_type": "code",
   "execution_count": null,
   "metadata": {
    "collapsed": false,
    "deletable": true,
    "editable": true
   },
   "outputs": [],
   "source": [
    "num_epochs = 2\n",
    "\n",
    "K.set_value(classifier_model_v2.optimizer.lr, 0.01)\n",
    "\n",
    "fit_pseudo(model=classifier_model_v2,\n",
    "            trn_conv_features=trn_conv_features, \n",
    "            pseudo_conv_features=val_and_test_conv_features,\n",
    "            val_conv_features=val_conv_features,\n",
    "\n",
    "            trn_labels=trn_labels,\n",
    "            pseudo_labels=pseudo_val_and_test_predictions,\n",
    "            val_labels=val_labels,\n",
    "\n",
    "            epochs = num_epochs,\n",
    "\n",
    "            trn_batch_size = 20,\n",
    "            pseudo_batch_size = 13,\n",
    "            val_batch_size = 32)"
   ]
  },
  {
   "cell_type": "code",
   "execution_count": 80,
   "metadata": {
    "collapsed": false,
    "deletable": true,
    "editable": true
   },
   "outputs": [
    {
     "data": {
      "application/vnd.plotly.v1+json": {
       "data": [
        {
         "colorscale": [
          [
           0,
           "#deebf7"
          ],
          [
           1,
           "#3182bd"
          ]
         ],
         "showscale": true,
         "type": "heatmap",
         "x": [
          "ALB",
          "BET",
          "DOL",
          "LAG",
          "NoF",
          "OTHER",
          "SHARK",
          "YFT"
         ],
         "y": [
          "ALB",
          "BET",
          "DOL",
          "LAG",
          "NoF",
          "OTHER",
          "SHARK",
          "YFT"
         ],
         "z": [
          [
           172,
           0,
           0,
           0,
           0,
           0,
           0,
           0
          ],
          [
           20,
           0,
           0,
           0,
           0,
           0,
           0,
           0
          ],
          [
           12,
           0,
           0,
           0,
           0,
           0,
           0,
           0
          ],
          [
           7,
           0,
           0,
           0,
           0,
           0,
           0,
           0
          ],
          [
           47,
           0,
           0,
           0,
           0,
           0,
           0,
           0
          ],
          [
           30,
           0,
           0,
           0,
           0,
           0,
           0,
           0
          ],
          [
           18,
           0,
           0,
           0,
           0,
           0,
           0,
           0
          ],
          [
           74,
           0,
           0,
           0,
           0,
           0,
           0,
           0
          ]
         ]
        }
       ],
       "layout": {
        "annotations": [
         {
          "font": {
           "color": "white"
          },
          "hovertext": "TODO: Add list of files here (corresponding to hover box)",
          "showarrow": false,
          "text": "172",
          "x": "ALB",
          "xref": "x1",
          "y": "ALB",
          "yref": "y1"
         },
         {
          "font": {
           "color": "black"
          },
          "hovertext": "TODO: Add list of files here (corresponding to hover box)",
          "showarrow": false,
          "text": "0",
          "x": "BET",
          "xref": "x1",
          "y": "ALB",
          "yref": "y1"
         },
         {
          "font": {
           "color": "black"
          },
          "hovertext": "TODO: Add list of files here (corresponding to hover box)",
          "showarrow": false,
          "text": "0",
          "x": "DOL",
          "xref": "x1",
          "y": "ALB",
          "yref": "y1"
         },
         {
          "font": {
           "color": "black"
          },
          "hovertext": "TODO: Add list of files here (corresponding to hover box)",
          "showarrow": false,
          "text": "0",
          "x": "LAG",
          "xref": "x1",
          "y": "ALB",
          "yref": "y1"
         },
         {
          "font": {
           "color": "black"
          },
          "hovertext": "TODO: Add list of files here (corresponding to hover box)",
          "showarrow": false,
          "text": "0",
          "x": "NoF",
          "xref": "x1",
          "y": "ALB",
          "yref": "y1"
         },
         {
          "font": {
           "color": "black"
          },
          "hovertext": "TODO: Add list of files here (corresponding to hover box)",
          "showarrow": false,
          "text": "0",
          "x": "OTHER",
          "xref": "x1",
          "y": "ALB",
          "yref": "y1"
         },
         {
          "font": {
           "color": "black"
          },
          "hovertext": "TODO: Add list of files here (corresponding to hover box)",
          "showarrow": false,
          "text": "0",
          "x": "SHARK",
          "xref": "x1",
          "y": "ALB",
          "yref": "y1"
         },
         {
          "font": {
           "color": "black"
          },
          "hovertext": "TODO: Add list of files here (corresponding to hover box)",
          "showarrow": false,
          "text": "0",
          "x": "YFT",
          "xref": "x1",
          "y": "ALB",
          "yref": "y1"
         },
         {
          "font": {
           "color": "white"
          },
          "hovertext": "TODO: Add list of files here (corresponding to hover box)",
          "showarrow": false,
          "text": "20",
          "x": "ALB",
          "xref": "x1",
          "y": "BET",
          "yref": "y1"
         },
         {
          "font": {
           "color": "black"
          },
          "hovertext": "TODO: Add list of files here (corresponding to hover box)",
          "showarrow": false,
          "text": "0",
          "x": "BET",
          "xref": "x1",
          "y": "BET",
          "yref": "y1"
         },
         {
          "font": {
           "color": "black"
          },
          "hovertext": "TODO: Add list of files here (corresponding to hover box)",
          "showarrow": false,
          "text": "0",
          "x": "DOL",
          "xref": "x1",
          "y": "BET",
          "yref": "y1"
         },
         {
          "font": {
           "color": "black"
          },
          "hovertext": "TODO: Add list of files here (corresponding to hover box)",
          "showarrow": false,
          "text": "0",
          "x": "LAG",
          "xref": "x1",
          "y": "BET",
          "yref": "y1"
         },
         {
          "font": {
           "color": "black"
          },
          "hovertext": "TODO: Add list of files here (corresponding to hover box)",
          "showarrow": false,
          "text": "0",
          "x": "NoF",
          "xref": "x1",
          "y": "BET",
          "yref": "y1"
         },
         {
          "font": {
           "color": "black"
          },
          "hovertext": "TODO: Add list of files here (corresponding to hover box)",
          "showarrow": false,
          "text": "0",
          "x": "OTHER",
          "xref": "x1",
          "y": "BET",
          "yref": "y1"
         },
         {
          "font": {
           "color": "black"
          },
          "hovertext": "TODO: Add list of files here (corresponding to hover box)",
          "showarrow": false,
          "text": "0",
          "x": "SHARK",
          "xref": "x1",
          "y": "BET",
          "yref": "y1"
         },
         {
          "font": {
           "color": "black"
          },
          "hovertext": "TODO: Add list of files here (corresponding to hover box)",
          "showarrow": false,
          "text": "0",
          "x": "YFT",
          "xref": "x1",
          "y": "BET",
          "yref": "y1"
         },
         {
          "font": {
           "color": "white"
          },
          "hovertext": "TODO: Add list of files here (corresponding to hover box)",
          "showarrow": false,
          "text": "12",
          "x": "ALB",
          "xref": "x1",
          "y": "DOL",
          "yref": "y1"
         },
         {
          "font": {
           "color": "black"
          },
          "hovertext": "TODO: Add list of files here (corresponding to hover box)",
          "showarrow": false,
          "text": "0",
          "x": "BET",
          "xref": "x1",
          "y": "DOL",
          "yref": "y1"
         },
         {
          "font": {
           "color": "black"
          },
          "hovertext": "TODO: Add list of files here (corresponding to hover box)",
          "showarrow": false,
          "text": "0",
          "x": "DOL",
          "xref": "x1",
          "y": "DOL",
          "yref": "y1"
         },
         {
          "font": {
           "color": "black"
          },
          "hovertext": "TODO: Add list of files here (corresponding to hover box)",
          "showarrow": false,
          "text": "0",
          "x": "LAG",
          "xref": "x1",
          "y": "DOL",
          "yref": "y1"
         },
         {
          "font": {
           "color": "black"
          },
          "hovertext": "TODO: Add list of files here (corresponding to hover box)",
          "showarrow": false,
          "text": "0",
          "x": "NoF",
          "xref": "x1",
          "y": "DOL",
          "yref": "y1"
         },
         {
          "font": {
           "color": "black"
          },
          "hovertext": "TODO: Add list of files here (corresponding to hover box)",
          "showarrow": false,
          "text": "0",
          "x": "OTHER",
          "xref": "x1",
          "y": "DOL",
          "yref": "y1"
         },
         {
          "font": {
           "color": "black"
          },
          "hovertext": "TODO: Add list of files here (corresponding to hover box)",
          "showarrow": false,
          "text": "0",
          "x": "SHARK",
          "xref": "x1",
          "y": "DOL",
          "yref": "y1"
         },
         {
          "font": {
           "color": "black"
          },
          "hovertext": "TODO: Add list of files here (corresponding to hover box)",
          "showarrow": false,
          "text": "0",
          "x": "YFT",
          "xref": "x1",
          "y": "DOL",
          "yref": "y1"
         },
         {
          "font": {
           "color": "white"
          },
          "hovertext": "TODO: Add list of files here (corresponding to hover box)",
          "showarrow": false,
          "text": "7",
          "x": "ALB",
          "xref": "x1",
          "y": "LAG",
          "yref": "y1"
         },
         {
          "font": {
           "color": "black"
          },
          "hovertext": "TODO: Add list of files here (corresponding to hover box)",
          "showarrow": false,
          "text": "0",
          "x": "BET",
          "xref": "x1",
          "y": "LAG",
          "yref": "y1"
         },
         {
          "font": {
           "color": "black"
          },
          "hovertext": "TODO: Add list of files here (corresponding to hover box)",
          "showarrow": false,
          "text": "0",
          "x": "DOL",
          "xref": "x1",
          "y": "LAG",
          "yref": "y1"
         },
         {
          "font": {
           "color": "black"
          },
          "hovertext": "TODO: Add list of files here (corresponding to hover box)",
          "showarrow": false,
          "text": "0",
          "x": "LAG",
          "xref": "x1",
          "y": "LAG",
          "yref": "y1"
         },
         {
          "font": {
           "color": "black"
          },
          "hovertext": "TODO: Add list of files here (corresponding to hover box)",
          "showarrow": false,
          "text": "0",
          "x": "NoF",
          "xref": "x1",
          "y": "LAG",
          "yref": "y1"
         },
         {
          "font": {
           "color": "black"
          },
          "hovertext": "TODO: Add list of files here (corresponding to hover box)",
          "showarrow": false,
          "text": "0",
          "x": "OTHER",
          "xref": "x1",
          "y": "LAG",
          "yref": "y1"
         },
         {
          "font": {
           "color": "black"
          },
          "hovertext": "TODO: Add list of files here (corresponding to hover box)",
          "showarrow": false,
          "text": "0",
          "x": "SHARK",
          "xref": "x1",
          "y": "LAG",
          "yref": "y1"
         },
         {
          "font": {
           "color": "black"
          },
          "hovertext": "TODO: Add list of files here (corresponding to hover box)",
          "showarrow": false,
          "text": "0",
          "x": "YFT",
          "xref": "x1",
          "y": "LAG",
          "yref": "y1"
         },
         {
          "font": {
           "color": "white"
          },
          "hovertext": "TODO: Add list of files here (corresponding to hover box)",
          "showarrow": false,
          "text": "47",
          "x": "ALB",
          "xref": "x1",
          "y": "NoF",
          "yref": "y1"
         },
         {
          "font": {
           "color": "black"
          },
          "hovertext": "TODO: Add list of files here (corresponding to hover box)",
          "showarrow": false,
          "text": "0",
          "x": "BET",
          "xref": "x1",
          "y": "NoF",
          "yref": "y1"
         },
         {
          "font": {
           "color": "black"
          },
          "hovertext": "TODO: Add list of files here (corresponding to hover box)",
          "showarrow": false,
          "text": "0",
          "x": "DOL",
          "xref": "x1",
          "y": "NoF",
          "yref": "y1"
         },
         {
          "font": {
           "color": "black"
          },
          "hovertext": "TODO: Add list of files here (corresponding to hover box)",
          "showarrow": false,
          "text": "0",
          "x": "LAG",
          "xref": "x1",
          "y": "NoF",
          "yref": "y1"
         },
         {
          "font": {
           "color": "black"
          },
          "hovertext": "TODO: Add list of files here (corresponding to hover box)",
          "showarrow": false,
          "text": "0",
          "x": "NoF",
          "xref": "x1",
          "y": "NoF",
          "yref": "y1"
         },
         {
          "font": {
           "color": "black"
          },
          "hovertext": "TODO: Add list of files here (corresponding to hover box)",
          "showarrow": false,
          "text": "0",
          "x": "OTHER",
          "xref": "x1",
          "y": "NoF",
          "yref": "y1"
         },
         {
          "font": {
           "color": "black"
          },
          "hovertext": "TODO: Add list of files here (corresponding to hover box)",
          "showarrow": false,
          "text": "0",
          "x": "SHARK",
          "xref": "x1",
          "y": "NoF",
          "yref": "y1"
         },
         {
          "font": {
           "color": "black"
          },
          "hovertext": "TODO: Add list of files here (corresponding to hover box)",
          "showarrow": false,
          "text": "0",
          "x": "YFT",
          "xref": "x1",
          "y": "NoF",
          "yref": "y1"
         },
         {
          "font": {
           "color": "white"
          },
          "hovertext": "TODO: Add list of files here (corresponding to hover box)",
          "showarrow": false,
          "text": "30",
          "x": "ALB",
          "xref": "x1",
          "y": "OTHER",
          "yref": "y1"
         },
         {
          "font": {
           "color": "black"
          },
          "hovertext": "TODO: Add list of files here (corresponding to hover box)",
          "showarrow": false,
          "text": "0",
          "x": "BET",
          "xref": "x1",
          "y": "OTHER",
          "yref": "y1"
         },
         {
          "font": {
           "color": "black"
          },
          "hovertext": "TODO: Add list of files here (corresponding to hover box)",
          "showarrow": false,
          "text": "0",
          "x": "DOL",
          "xref": "x1",
          "y": "OTHER",
          "yref": "y1"
         },
         {
          "font": {
           "color": "black"
          },
          "hovertext": "TODO: Add list of files here (corresponding to hover box)",
          "showarrow": false,
          "text": "0",
          "x": "LAG",
          "xref": "x1",
          "y": "OTHER",
          "yref": "y1"
         },
         {
          "font": {
           "color": "black"
          },
          "hovertext": "TODO: Add list of files here (corresponding to hover box)",
          "showarrow": false,
          "text": "0",
          "x": "NoF",
          "xref": "x1",
          "y": "OTHER",
          "yref": "y1"
         },
         {
          "font": {
           "color": "black"
          },
          "hovertext": "TODO: Add list of files here (corresponding to hover box)",
          "showarrow": false,
          "text": "0",
          "x": "OTHER",
          "xref": "x1",
          "y": "OTHER",
          "yref": "y1"
         },
         {
          "font": {
           "color": "black"
          },
          "hovertext": "TODO: Add list of files here (corresponding to hover box)",
          "showarrow": false,
          "text": "0",
          "x": "SHARK",
          "xref": "x1",
          "y": "OTHER",
          "yref": "y1"
         },
         {
          "font": {
           "color": "black"
          },
          "hovertext": "TODO: Add list of files here (corresponding to hover box)",
          "showarrow": false,
          "text": "0",
          "x": "YFT",
          "xref": "x1",
          "y": "OTHER",
          "yref": "y1"
         },
         {
          "font": {
           "color": "white"
          },
          "hovertext": "TODO: Add list of files here (corresponding to hover box)",
          "showarrow": false,
          "text": "18",
          "x": "ALB",
          "xref": "x1",
          "y": "SHARK",
          "yref": "y1"
         },
         {
          "font": {
           "color": "black"
          },
          "hovertext": "TODO: Add list of files here (corresponding to hover box)",
          "showarrow": false,
          "text": "0",
          "x": "BET",
          "xref": "x1",
          "y": "SHARK",
          "yref": "y1"
         },
         {
          "font": {
           "color": "black"
          },
          "hovertext": "TODO: Add list of files here (corresponding to hover box)",
          "showarrow": false,
          "text": "0",
          "x": "DOL",
          "xref": "x1",
          "y": "SHARK",
          "yref": "y1"
         },
         {
          "font": {
           "color": "black"
          },
          "hovertext": "TODO: Add list of files here (corresponding to hover box)",
          "showarrow": false,
          "text": "0",
          "x": "LAG",
          "xref": "x1",
          "y": "SHARK",
          "yref": "y1"
         },
         {
          "font": {
           "color": "black"
          },
          "hovertext": "TODO: Add list of files here (corresponding to hover box)",
          "showarrow": false,
          "text": "0",
          "x": "NoF",
          "xref": "x1",
          "y": "SHARK",
          "yref": "y1"
         },
         {
          "font": {
           "color": "black"
          },
          "hovertext": "TODO: Add list of files here (corresponding to hover box)",
          "showarrow": false,
          "text": "0",
          "x": "OTHER",
          "xref": "x1",
          "y": "SHARK",
          "yref": "y1"
         },
         {
          "font": {
           "color": "black"
          },
          "hovertext": "TODO: Add list of files here (corresponding to hover box)",
          "showarrow": false,
          "text": "0",
          "x": "SHARK",
          "xref": "x1",
          "y": "SHARK",
          "yref": "y1"
         },
         {
          "font": {
           "color": "black"
          },
          "hovertext": "TODO: Add list of files here (corresponding to hover box)",
          "showarrow": false,
          "text": "0",
          "x": "YFT",
          "xref": "x1",
          "y": "SHARK",
          "yref": "y1"
         },
         {
          "font": {
           "color": "white"
          },
          "hovertext": "TODO: Add list of files here (corresponding to hover box)",
          "showarrow": false,
          "text": "74",
          "x": "ALB",
          "xref": "x1",
          "y": "YFT",
          "yref": "y1"
         },
         {
          "font": {
           "color": "black"
          },
          "hovertext": "TODO: Add list of files here (corresponding to hover box)",
          "showarrow": false,
          "text": "0",
          "x": "BET",
          "xref": "x1",
          "y": "YFT",
          "yref": "y1"
         },
         {
          "font": {
           "color": "black"
          },
          "hovertext": "TODO: Add list of files here (corresponding to hover box)",
          "showarrow": false,
          "text": "0",
          "x": "DOL",
          "xref": "x1",
          "y": "YFT",
          "yref": "y1"
         },
         {
          "font": {
           "color": "black"
          },
          "hovertext": "TODO: Add list of files here (corresponding to hover box)",
          "showarrow": false,
          "text": "0",
          "x": "LAG",
          "xref": "x1",
          "y": "YFT",
          "yref": "y1"
         },
         {
          "font": {
           "color": "black"
          },
          "hovertext": "TODO: Add list of files here (corresponding to hover box)",
          "showarrow": false,
          "text": "0",
          "x": "NoF",
          "xref": "x1",
          "y": "YFT",
          "yref": "y1"
         },
         {
          "font": {
           "color": "black"
          },
          "hovertext": "TODO: Add list of files here (corresponding to hover box)",
          "showarrow": false,
          "text": "0",
          "x": "OTHER",
          "xref": "x1",
          "y": "YFT",
          "yref": "y1"
         },
         {
          "font": {
           "color": "black"
          },
          "hovertext": "TODO: Add list of files here (corresponding to hover box)",
          "showarrow": false,
          "text": "0",
          "x": "SHARK",
          "xref": "x1",
          "y": "YFT",
          "yref": "y1"
         },
         {
          "font": {
           "color": "black"
          },
          "hovertext": "TODO: Add list of files here (corresponding to hover box)",
          "showarrow": false,
          "text": "0",
          "x": "YFT",
          "xref": "x1",
          "y": "YFT",
          "yref": "y1"
         }
        ],
        "autosize": false,
        "height": 700,
        "title": "Confusion Matrix",
        "width": 700,
        "xaxis": {
         "side": "bottom",
         "ticks": "",
         "title": "Predicted"
        },
        "yaxis": {
         "ticks": "",
         "ticksuffix": "  ",
         "title": "Actual"
        }
       }
      },
      "text/html": [
       "<div id=\"48aaf6d5-8eed-4f36-9d62-34cca7ac74e5\" style=\"height: 700px; width: 700px;\" class=\"plotly-graph-div\"></div><script type=\"text/javascript\">require([\"plotly\"], function(Plotly) { window.PLOTLYENV=window.PLOTLYENV || {};window.PLOTLYENV.BASE_URL=\"https://plot.ly\";Plotly.newPlot(\"48aaf6d5-8eed-4f36-9d62-34cca7ac74e5\", [{\"x\": [\"ALB\", \"BET\", \"DOL\", \"LAG\", \"NoF\", \"OTHER\", \"SHARK\", \"YFT\"], \"showscale\": true, \"type\": \"heatmap\", \"z\": [[172, 0, 0, 0, 0, 0, 0, 0], [20, 0, 0, 0, 0, 0, 0, 0], [12, 0, 0, 0, 0, 0, 0, 0], [7, 0, 0, 0, 0, 0, 0, 0], [47, 0, 0, 0, 0, 0, 0, 0], [30, 0, 0, 0, 0, 0, 0, 0], [18, 0, 0, 0, 0, 0, 0, 0], [74, 0, 0, 0, 0, 0, 0, 0]], \"y\": [\"ALB\", \"BET\", \"DOL\", \"LAG\", \"NoF\", \"OTHER\", \"SHARK\", \"YFT\"], \"colorscale\": [[0, \"#deebf7\"], [1, \"#3182bd\"]]}], {\"height\": 700, \"title\": \"Confusion Matrix\", \"annotations\": [{\"text\": \"172\", \"x\": \"ALB\", \"yref\": \"y1\", \"font\": {\"color\": \"white\"}, \"showarrow\": false, \"hovertext\": \"TODO: Add list of files here (corresponding to hover box)\", \"y\": \"ALB\", \"xref\": \"x1\"}, {\"text\": \"0\", \"x\": \"BET\", \"yref\": \"y1\", \"font\": {\"color\": \"black\"}, \"showarrow\": false, \"hovertext\": \"TODO: Add list of files here (corresponding to hover box)\", \"y\": \"ALB\", \"xref\": \"x1\"}, {\"text\": \"0\", \"x\": \"DOL\", \"yref\": \"y1\", \"font\": {\"color\": \"black\"}, \"showarrow\": false, \"hovertext\": \"TODO: Add list of files here (corresponding to hover box)\", \"y\": \"ALB\", \"xref\": \"x1\"}, {\"text\": \"0\", \"x\": \"LAG\", \"yref\": \"y1\", \"font\": {\"color\": \"black\"}, \"showarrow\": false, \"hovertext\": \"TODO: Add list of files here (corresponding to hover box)\", \"y\": \"ALB\", \"xref\": \"x1\"}, {\"text\": \"0\", \"x\": \"NoF\", \"yref\": \"y1\", \"font\": {\"color\": \"black\"}, \"showarrow\": false, \"hovertext\": \"TODO: Add list of files here (corresponding to hover box)\", \"y\": \"ALB\", \"xref\": \"x1\"}, {\"text\": \"0\", \"x\": \"OTHER\", \"yref\": \"y1\", \"font\": {\"color\": \"black\"}, \"showarrow\": false, \"hovertext\": \"TODO: Add list of files here (corresponding to hover box)\", \"y\": \"ALB\", \"xref\": \"x1\"}, {\"text\": \"0\", \"x\": \"SHARK\", \"yref\": \"y1\", \"font\": {\"color\": \"black\"}, \"showarrow\": false, \"hovertext\": \"TODO: Add list of files here (corresponding to hover box)\", \"y\": \"ALB\", \"xref\": \"x1\"}, {\"text\": \"0\", \"x\": \"YFT\", \"yref\": \"y1\", \"font\": {\"color\": \"black\"}, \"showarrow\": false, \"hovertext\": \"TODO: Add list of files here (corresponding to hover box)\", \"y\": \"ALB\", \"xref\": \"x1\"}, {\"text\": \"20\", \"x\": \"ALB\", \"yref\": \"y1\", \"font\": {\"color\": \"white\"}, \"showarrow\": false, \"hovertext\": \"TODO: Add list of files here (corresponding to hover box)\", \"y\": \"BET\", \"xref\": \"x1\"}, {\"text\": \"0\", \"x\": \"BET\", \"yref\": \"y1\", \"font\": {\"color\": \"black\"}, \"showarrow\": false, \"hovertext\": \"TODO: Add list of files here (corresponding to hover box)\", \"y\": \"BET\", \"xref\": \"x1\"}, {\"text\": \"0\", \"x\": \"DOL\", \"yref\": \"y1\", \"font\": {\"color\": \"black\"}, \"showarrow\": false, \"hovertext\": \"TODO: Add list of files here (corresponding to hover box)\", \"y\": \"BET\", \"xref\": \"x1\"}, {\"text\": \"0\", \"x\": \"LAG\", \"yref\": \"y1\", \"font\": {\"color\": \"black\"}, \"showarrow\": false, \"hovertext\": \"TODO: Add list of files here (corresponding to hover box)\", \"y\": \"BET\", \"xref\": \"x1\"}, {\"text\": \"0\", \"x\": \"NoF\", \"yref\": \"y1\", \"font\": {\"color\": \"black\"}, \"showarrow\": false, \"hovertext\": \"TODO: Add list of files here (corresponding to hover box)\", \"y\": \"BET\", \"xref\": \"x1\"}, {\"text\": \"0\", \"x\": \"OTHER\", \"yref\": \"y1\", \"font\": {\"color\": \"black\"}, \"showarrow\": false, \"hovertext\": \"TODO: Add list of files here (corresponding to hover box)\", \"y\": \"BET\", \"xref\": \"x1\"}, {\"text\": \"0\", \"x\": \"SHARK\", \"yref\": \"y1\", \"font\": {\"color\": \"black\"}, \"showarrow\": false, \"hovertext\": \"TODO: Add list of files here (corresponding to hover box)\", \"y\": \"BET\", \"xref\": \"x1\"}, {\"text\": \"0\", \"x\": \"YFT\", \"yref\": \"y1\", \"font\": {\"color\": \"black\"}, \"showarrow\": false, \"hovertext\": \"TODO: Add list of files here (corresponding to hover box)\", \"y\": \"BET\", \"xref\": \"x1\"}, {\"text\": \"12\", \"x\": \"ALB\", \"yref\": \"y1\", \"font\": {\"color\": \"white\"}, \"showarrow\": false, \"hovertext\": \"TODO: Add list of files here (corresponding to hover box)\", \"y\": \"DOL\", \"xref\": \"x1\"}, {\"text\": \"0\", \"x\": \"BET\", \"yref\": \"y1\", \"font\": {\"color\": \"black\"}, \"showarrow\": false, \"hovertext\": \"TODO: Add list of files here (corresponding to hover box)\", \"y\": \"DOL\", \"xref\": \"x1\"}, {\"text\": \"0\", \"x\": \"DOL\", \"yref\": \"y1\", \"font\": {\"color\": \"black\"}, \"showarrow\": false, \"hovertext\": \"TODO: Add list of files here (corresponding to hover box)\", \"y\": \"DOL\", \"xref\": \"x1\"}, {\"text\": \"0\", \"x\": \"LAG\", \"yref\": \"y1\", \"font\": {\"color\": \"black\"}, \"showarrow\": false, \"hovertext\": \"TODO: Add list of files here (corresponding to hover box)\", \"y\": \"DOL\", \"xref\": \"x1\"}, {\"text\": \"0\", \"x\": \"NoF\", \"yref\": \"y1\", \"font\": {\"color\": \"black\"}, \"showarrow\": false, \"hovertext\": \"TODO: Add list of files here (corresponding to hover box)\", \"y\": \"DOL\", \"xref\": \"x1\"}, {\"text\": \"0\", \"x\": \"OTHER\", \"yref\": \"y1\", \"font\": {\"color\": \"black\"}, \"showarrow\": false, \"hovertext\": \"TODO: Add list of files here (corresponding to hover box)\", \"y\": \"DOL\", \"xref\": \"x1\"}, {\"text\": \"0\", \"x\": \"SHARK\", \"yref\": \"y1\", \"font\": {\"color\": \"black\"}, \"showarrow\": false, \"hovertext\": \"TODO: Add list of files here (corresponding to hover box)\", \"y\": \"DOL\", \"xref\": \"x1\"}, {\"text\": \"0\", \"x\": \"YFT\", \"yref\": \"y1\", \"font\": {\"color\": \"black\"}, \"showarrow\": false, \"hovertext\": \"TODO: Add list of files here (corresponding to hover box)\", \"y\": \"DOL\", \"xref\": \"x1\"}, {\"text\": \"7\", \"x\": \"ALB\", \"yref\": \"y1\", \"font\": {\"color\": \"white\"}, \"showarrow\": false, \"hovertext\": \"TODO: Add list of files here (corresponding to hover box)\", \"y\": \"LAG\", \"xref\": \"x1\"}, {\"text\": \"0\", \"x\": \"BET\", \"yref\": \"y1\", \"font\": {\"color\": \"black\"}, \"showarrow\": false, \"hovertext\": \"TODO: Add list of files here (corresponding to hover box)\", \"y\": \"LAG\", \"xref\": \"x1\"}, {\"text\": \"0\", \"x\": \"DOL\", \"yref\": \"y1\", \"font\": {\"color\": \"black\"}, \"showarrow\": false, \"hovertext\": \"TODO: Add list of files here (corresponding to hover box)\", \"y\": \"LAG\", \"xref\": \"x1\"}, {\"text\": \"0\", \"x\": \"LAG\", \"yref\": \"y1\", \"font\": {\"color\": \"black\"}, \"showarrow\": false, \"hovertext\": \"TODO: Add list of files here (corresponding to hover box)\", \"y\": \"LAG\", \"xref\": \"x1\"}, {\"text\": \"0\", \"x\": \"NoF\", \"yref\": \"y1\", \"font\": {\"color\": \"black\"}, \"showarrow\": false, \"hovertext\": \"TODO: Add list of files here (corresponding to hover box)\", \"y\": \"LAG\", \"xref\": \"x1\"}, {\"text\": \"0\", \"x\": \"OTHER\", \"yref\": \"y1\", \"font\": {\"color\": \"black\"}, \"showarrow\": false, \"hovertext\": \"TODO: Add list of files here (corresponding to hover box)\", \"y\": \"LAG\", \"xref\": \"x1\"}, {\"text\": \"0\", \"x\": \"SHARK\", \"yref\": \"y1\", \"font\": {\"color\": \"black\"}, \"showarrow\": false, \"hovertext\": \"TODO: Add list of files here (corresponding to hover box)\", \"y\": \"LAG\", \"xref\": \"x1\"}, {\"text\": \"0\", \"x\": \"YFT\", \"yref\": \"y1\", \"font\": {\"color\": \"black\"}, \"showarrow\": false, \"hovertext\": \"TODO: Add list of files here (corresponding to hover box)\", \"y\": \"LAG\", \"xref\": \"x1\"}, {\"text\": \"47\", \"x\": \"ALB\", \"yref\": \"y1\", \"font\": {\"color\": \"white\"}, \"showarrow\": false, \"hovertext\": \"TODO: Add list of files here (corresponding to hover box)\", \"y\": \"NoF\", \"xref\": \"x1\"}, {\"text\": \"0\", \"x\": \"BET\", \"yref\": \"y1\", \"font\": {\"color\": \"black\"}, \"showarrow\": false, \"hovertext\": \"TODO: Add list of files here (corresponding to hover box)\", \"y\": \"NoF\", \"xref\": \"x1\"}, {\"text\": \"0\", \"x\": \"DOL\", \"yref\": \"y1\", \"font\": {\"color\": \"black\"}, \"showarrow\": false, \"hovertext\": \"TODO: Add list of files here (corresponding to hover box)\", \"y\": \"NoF\", \"xref\": \"x1\"}, {\"text\": \"0\", \"x\": \"LAG\", \"yref\": \"y1\", \"font\": {\"color\": \"black\"}, \"showarrow\": false, \"hovertext\": \"TODO: Add list of files here (corresponding to hover box)\", \"y\": \"NoF\", \"xref\": \"x1\"}, {\"text\": \"0\", \"x\": \"NoF\", \"yref\": \"y1\", \"font\": {\"color\": \"black\"}, \"showarrow\": false, \"hovertext\": \"TODO: Add list of files here (corresponding to hover box)\", \"y\": \"NoF\", \"xref\": \"x1\"}, {\"text\": \"0\", \"x\": \"OTHER\", \"yref\": \"y1\", \"font\": {\"color\": \"black\"}, \"showarrow\": false, \"hovertext\": \"TODO: Add list of files here (corresponding to hover box)\", \"y\": \"NoF\", \"xref\": \"x1\"}, {\"text\": \"0\", \"x\": \"SHARK\", \"yref\": \"y1\", \"font\": {\"color\": \"black\"}, \"showarrow\": false, \"hovertext\": \"TODO: Add list of files here (corresponding to hover box)\", \"y\": \"NoF\", \"xref\": \"x1\"}, {\"text\": \"0\", \"x\": \"YFT\", \"yref\": \"y1\", \"font\": {\"color\": \"black\"}, \"showarrow\": false, \"hovertext\": \"TODO: Add list of files here (corresponding to hover box)\", \"y\": \"NoF\", \"xref\": \"x1\"}, {\"text\": \"30\", \"x\": \"ALB\", \"yref\": \"y1\", \"font\": {\"color\": \"white\"}, \"showarrow\": false, \"hovertext\": \"TODO: Add list of files here (corresponding to hover box)\", \"y\": \"OTHER\", \"xref\": \"x1\"}, {\"text\": \"0\", \"x\": \"BET\", \"yref\": \"y1\", \"font\": {\"color\": \"black\"}, \"showarrow\": false, \"hovertext\": \"TODO: Add list of files here (corresponding to hover box)\", \"y\": \"OTHER\", \"xref\": \"x1\"}, {\"text\": \"0\", \"x\": \"DOL\", \"yref\": \"y1\", \"font\": {\"color\": \"black\"}, \"showarrow\": false, \"hovertext\": \"TODO: Add list of files here (corresponding to hover box)\", \"y\": \"OTHER\", \"xref\": \"x1\"}, {\"text\": \"0\", \"x\": \"LAG\", \"yref\": \"y1\", \"font\": {\"color\": \"black\"}, \"showarrow\": false, \"hovertext\": \"TODO: Add list of files here (corresponding to hover box)\", \"y\": \"OTHER\", \"xref\": \"x1\"}, {\"text\": \"0\", \"x\": \"NoF\", \"yref\": \"y1\", \"font\": {\"color\": \"black\"}, \"showarrow\": false, \"hovertext\": \"TODO: Add list of files here (corresponding to hover box)\", \"y\": \"OTHER\", \"xref\": \"x1\"}, {\"text\": \"0\", \"x\": \"OTHER\", \"yref\": \"y1\", \"font\": {\"color\": \"black\"}, \"showarrow\": false, \"hovertext\": \"TODO: Add list of files here (corresponding to hover box)\", \"y\": \"OTHER\", \"xref\": \"x1\"}, {\"text\": \"0\", \"x\": \"SHARK\", \"yref\": \"y1\", \"font\": {\"color\": \"black\"}, \"showarrow\": false, \"hovertext\": \"TODO: Add list of files here (corresponding to hover box)\", \"y\": \"OTHER\", \"xref\": \"x1\"}, {\"text\": \"0\", \"x\": \"YFT\", \"yref\": \"y1\", \"font\": {\"color\": \"black\"}, \"showarrow\": false, \"hovertext\": \"TODO: Add list of files here (corresponding to hover box)\", \"y\": \"OTHER\", \"xref\": \"x1\"}, {\"text\": \"18\", \"x\": \"ALB\", \"yref\": \"y1\", \"font\": {\"color\": \"white\"}, \"showarrow\": false, \"hovertext\": \"TODO: Add list of files here (corresponding to hover box)\", \"y\": \"SHARK\", \"xref\": \"x1\"}, {\"text\": \"0\", \"x\": \"BET\", \"yref\": \"y1\", \"font\": {\"color\": \"black\"}, \"showarrow\": false, \"hovertext\": \"TODO: Add list of files here (corresponding to hover box)\", \"y\": \"SHARK\", \"xref\": \"x1\"}, {\"text\": \"0\", \"x\": \"DOL\", \"yref\": \"y1\", \"font\": {\"color\": \"black\"}, \"showarrow\": false, \"hovertext\": \"TODO: Add list of files here (corresponding to hover box)\", \"y\": \"SHARK\", \"xref\": \"x1\"}, {\"text\": \"0\", \"x\": \"LAG\", \"yref\": \"y1\", \"font\": {\"color\": \"black\"}, \"showarrow\": false, \"hovertext\": \"TODO: Add list of files here (corresponding to hover box)\", \"y\": \"SHARK\", \"xref\": \"x1\"}, {\"text\": \"0\", \"x\": \"NoF\", \"yref\": \"y1\", \"font\": {\"color\": \"black\"}, \"showarrow\": false, \"hovertext\": \"TODO: Add list of files here (corresponding to hover box)\", \"y\": \"SHARK\", \"xref\": \"x1\"}, {\"text\": \"0\", \"x\": \"OTHER\", \"yref\": \"y1\", \"font\": {\"color\": \"black\"}, \"showarrow\": false, \"hovertext\": \"TODO: Add list of files here (corresponding to hover box)\", \"y\": \"SHARK\", \"xref\": \"x1\"}, {\"text\": \"0\", \"x\": \"SHARK\", \"yref\": \"y1\", \"font\": {\"color\": \"black\"}, \"showarrow\": false, \"hovertext\": \"TODO: Add list of files here (corresponding to hover box)\", \"y\": \"SHARK\", \"xref\": \"x1\"}, {\"text\": \"0\", \"x\": \"YFT\", \"yref\": \"y1\", \"font\": {\"color\": \"black\"}, \"showarrow\": false, \"hovertext\": \"TODO: Add list of files here (corresponding to hover box)\", \"y\": \"SHARK\", \"xref\": \"x1\"}, {\"text\": \"74\", \"x\": \"ALB\", \"yref\": \"y1\", \"font\": {\"color\": \"white\"}, \"showarrow\": false, \"hovertext\": \"TODO: Add list of files here (corresponding to hover box)\", \"y\": \"YFT\", \"xref\": \"x1\"}, {\"text\": \"0\", \"x\": \"BET\", \"yref\": \"y1\", \"font\": {\"color\": \"black\"}, \"showarrow\": false, \"hovertext\": \"TODO: Add list of files here (corresponding to hover box)\", \"y\": \"YFT\", \"xref\": \"x1\"}, {\"text\": \"0\", \"x\": \"DOL\", \"yref\": \"y1\", \"font\": {\"color\": \"black\"}, \"showarrow\": false, \"hovertext\": \"TODO: Add list of files here (corresponding to hover box)\", \"y\": \"YFT\", \"xref\": \"x1\"}, {\"text\": \"0\", \"x\": \"LAG\", \"yref\": \"y1\", \"font\": {\"color\": \"black\"}, \"showarrow\": false, \"hovertext\": \"TODO: Add list of files here (corresponding to hover box)\", \"y\": \"YFT\", \"xref\": \"x1\"}, {\"text\": \"0\", \"x\": \"NoF\", \"yref\": \"y1\", \"font\": {\"color\": \"black\"}, \"showarrow\": false, \"hovertext\": \"TODO: Add list of files here (corresponding to hover box)\", \"y\": \"YFT\", \"xref\": \"x1\"}, {\"text\": \"0\", \"x\": \"OTHER\", \"yref\": \"y1\", \"font\": {\"color\": \"black\"}, \"showarrow\": false, \"hovertext\": \"TODO: Add list of files here (corresponding to hover box)\", \"y\": \"YFT\", \"xref\": \"x1\"}, {\"text\": \"0\", \"x\": \"SHARK\", \"yref\": \"y1\", \"font\": {\"color\": \"black\"}, \"showarrow\": false, \"hovertext\": \"TODO: Add list of files here (corresponding to hover box)\", \"y\": \"YFT\", \"xref\": \"x1\"}, {\"text\": \"0\", \"x\": \"YFT\", \"yref\": \"y1\", \"font\": {\"color\": \"black\"}, \"showarrow\": false, \"hovertext\": \"TODO: Add list of files here (corresponding to hover box)\", \"y\": \"YFT\", \"xref\": \"x1\"}], \"autosize\": false, \"width\": 700, \"xaxis\": {\"ticks\": \"\", \"title\": \"Predicted\", \"side\": \"bottom\"}, \"yaxis\": {\"ticksuffix\": \"  \", \"ticks\": \"\", \"title\": \"Actual\"}}, {\"linkText\": \"Export to plot.ly\", \"showLink\": false})});</script>"
      ],
      "text/vnd.plotly.v1+html": [
       "<div id=\"48aaf6d5-8eed-4f36-9d62-34cca7ac74e5\" style=\"height: 700px; width: 700px;\" class=\"plotly-graph-div\"></div><script type=\"text/javascript\">require([\"plotly\"], function(Plotly) { window.PLOTLYENV=window.PLOTLYENV || {};window.PLOTLYENV.BASE_URL=\"https://plot.ly\";Plotly.newPlot(\"48aaf6d5-8eed-4f36-9d62-34cca7ac74e5\", [{\"x\": [\"ALB\", \"BET\", \"DOL\", \"LAG\", \"NoF\", \"OTHER\", \"SHARK\", \"YFT\"], \"showscale\": true, \"type\": \"heatmap\", \"z\": [[172, 0, 0, 0, 0, 0, 0, 0], [20, 0, 0, 0, 0, 0, 0, 0], [12, 0, 0, 0, 0, 0, 0, 0], [7, 0, 0, 0, 0, 0, 0, 0], [47, 0, 0, 0, 0, 0, 0, 0], [30, 0, 0, 0, 0, 0, 0, 0], [18, 0, 0, 0, 0, 0, 0, 0], [74, 0, 0, 0, 0, 0, 0, 0]], \"y\": [\"ALB\", \"BET\", \"DOL\", \"LAG\", \"NoF\", \"OTHER\", \"SHARK\", \"YFT\"], \"colorscale\": [[0, \"#deebf7\"], [1, \"#3182bd\"]]}], {\"height\": 700, \"title\": \"Confusion Matrix\", \"annotations\": [{\"text\": \"172\", \"x\": \"ALB\", \"yref\": \"y1\", \"font\": {\"color\": \"white\"}, \"showarrow\": false, \"hovertext\": \"TODO: Add list of files here (corresponding to hover box)\", \"y\": \"ALB\", \"xref\": \"x1\"}, {\"text\": \"0\", \"x\": \"BET\", \"yref\": \"y1\", \"font\": {\"color\": \"black\"}, \"showarrow\": false, \"hovertext\": \"TODO: Add list of files here (corresponding to hover box)\", \"y\": \"ALB\", \"xref\": \"x1\"}, {\"text\": \"0\", \"x\": \"DOL\", \"yref\": \"y1\", \"font\": {\"color\": \"black\"}, \"showarrow\": false, \"hovertext\": \"TODO: Add list of files here (corresponding to hover box)\", \"y\": \"ALB\", \"xref\": \"x1\"}, {\"text\": \"0\", \"x\": \"LAG\", \"yref\": \"y1\", \"font\": {\"color\": \"black\"}, \"showarrow\": false, \"hovertext\": \"TODO: Add list of files here (corresponding to hover box)\", \"y\": \"ALB\", \"xref\": \"x1\"}, {\"text\": \"0\", \"x\": \"NoF\", \"yref\": \"y1\", \"font\": {\"color\": \"black\"}, \"showarrow\": false, \"hovertext\": \"TODO: Add list of files here (corresponding to hover box)\", \"y\": \"ALB\", \"xref\": \"x1\"}, {\"text\": \"0\", \"x\": \"OTHER\", \"yref\": \"y1\", \"font\": {\"color\": \"black\"}, \"showarrow\": false, \"hovertext\": \"TODO: Add list of files here (corresponding to hover box)\", \"y\": \"ALB\", \"xref\": \"x1\"}, {\"text\": \"0\", \"x\": \"SHARK\", \"yref\": \"y1\", \"font\": {\"color\": \"black\"}, \"showarrow\": false, \"hovertext\": \"TODO: Add list of files here (corresponding to hover box)\", \"y\": \"ALB\", \"xref\": \"x1\"}, {\"text\": \"0\", \"x\": \"YFT\", \"yref\": \"y1\", \"font\": {\"color\": \"black\"}, \"showarrow\": false, \"hovertext\": \"TODO: Add list of files here (corresponding to hover box)\", \"y\": \"ALB\", \"xref\": \"x1\"}, {\"text\": \"20\", \"x\": \"ALB\", \"yref\": \"y1\", \"font\": {\"color\": \"white\"}, \"showarrow\": false, \"hovertext\": \"TODO: Add list of files here (corresponding to hover box)\", \"y\": \"BET\", \"xref\": \"x1\"}, {\"text\": \"0\", \"x\": \"BET\", \"yref\": \"y1\", \"font\": {\"color\": \"black\"}, \"showarrow\": false, \"hovertext\": \"TODO: Add list of files here (corresponding to hover box)\", \"y\": \"BET\", \"xref\": \"x1\"}, {\"text\": \"0\", \"x\": \"DOL\", \"yref\": \"y1\", \"font\": {\"color\": \"black\"}, \"showarrow\": false, \"hovertext\": \"TODO: Add list of files here (corresponding to hover box)\", \"y\": \"BET\", \"xref\": \"x1\"}, {\"text\": \"0\", \"x\": \"LAG\", \"yref\": \"y1\", \"font\": {\"color\": \"black\"}, \"showarrow\": false, \"hovertext\": \"TODO: Add list of files here (corresponding to hover box)\", \"y\": \"BET\", \"xref\": \"x1\"}, {\"text\": \"0\", \"x\": \"NoF\", \"yref\": \"y1\", \"font\": {\"color\": \"black\"}, \"showarrow\": false, \"hovertext\": \"TODO: Add list of files here (corresponding to hover box)\", \"y\": \"BET\", \"xref\": \"x1\"}, {\"text\": \"0\", \"x\": \"OTHER\", \"yref\": \"y1\", \"font\": {\"color\": \"black\"}, \"showarrow\": false, \"hovertext\": \"TODO: Add list of files here (corresponding to hover box)\", \"y\": \"BET\", \"xref\": \"x1\"}, {\"text\": \"0\", \"x\": \"SHARK\", \"yref\": \"y1\", \"font\": {\"color\": \"black\"}, \"showarrow\": false, \"hovertext\": \"TODO: Add list of files here (corresponding to hover box)\", \"y\": \"BET\", \"xref\": \"x1\"}, {\"text\": \"0\", \"x\": \"YFT\", \"yref\": \"y1\", \"font\": {\"color\": \"black\"}, \"showarrow\": false, \"hovertext\": \"TODO: Add list of files here (corresponding to hover box)\", \"y\": \"BET\", \"xref\": \"x1\"}, {\"text\": \"12\", \"x\": \"ALB\", \"yref\": \"y1\", \"font\": {\"color\": \"white\"}, \"showarrow\": false, \"hovertext\": \"TODO: Add list of files here (corresponding to hover box)\", \"y\": \"DOL\", \"xref\": \"x1\"}, {\"text\": \"0\", \"x\": \"BET\", \"yref\": \"y1\", \"font\": {\"color\": \"black\"}, \"showarrow\": false, \"hovertext\": \"TODO: Add list of files here (corresponding to hover box)\", \"y\": \"DOL\", \"xref\": \"x1\"}, {\"text\": \"0\", \"x\": \"DOL\", \"yref\": \"y1\", \"font\": {\"color\": \"black\"}, \"showarrow\": false, \"hovertext\": \"TODO: Add list of files here (corresponding to hover box)\", \"y\": \"DOL\", \"xref\": \"x1\"}, {\"text\": \"0\", \"x\": \"LAG\", \"yref\": \"y1\", \"font\": {\"color\": \"black\"}, \"showarrow\": false, \"hovertext\": \"TODO: Add list of files here (corresponding to hover box)\", \"y\": \"DOL\", \"xref\": \"x1\"}, {\"text\": \"0\", \"x\": \"NoF\", \"yref\": \"y1\", \"font\": {\"color\": \"black\"}, \"showarrow\": false, \"hovertext\": \"TODO: Add list of files here (corresponding to hover box)\", \"y\": \"DOL\", \"xref\": \"x1\"}, {\"text\": \"0\", \"x\": \"OTHER\", \"yref\": \"y1\", \"font\": {\"color\": \"black\"}, \"showarrow\": false, \"hovertext\": \"TODO: Add list of files here (corresponding to hover box)\", \"y\": \"DOL\", \"xref\": \"x1\"}, {\"text\": \"0\", \"x\": \"SHARK\", \"yref\": \"y1\", \"font\": {\"color\": \"black\"}, \"showarrow\": false, \"hovertext\": \"TODO: Add list of files here (corresponding to hover box)\", \"y\": \"DOL\", \"xref\": \"x1\"}, {\"text\": \"0\", \"x\": \"YFT\", \"yref\": \"y1\", \"font\": {\"color\": \"black\"}, \"showarrow\": false, \"hovertext\": \"TODO: Add list of files here (corresponding to hover box)\", \"y\": \"DOL\", \"xref\": \"x1\"}, {\"text\": \"7\", \"x\": \"ALB\", \"yref\": \"y1\", \"font\": {\"color\": \"white\"}, \"showarrow\": false, \"hovertext\": \"TODO: Add list of files here (corresponding to hover box)\", \"y\": \"LAG\", \"xref\": \"x1\"}, {\"text\": \"0\", \"x\": \"BET\", \"yref\": \"y1\", \"font\": {\"color\": \"black\"}, \"showarrow\": false, \"hovertext\": \"TODO: Add list of files here (corresponding to hover box)\", \"y\": \"LAG\", \"xref\": \"x1\"}, {\"text\": \"0\", \"x\": \"DOL\", \"yref\": \"y1\", \"font\": {\"color\": \"black\"}, \"showarrow\": false, \"hovertext\": \"TODO: Add list of files here (corresponding to hover box)\", \"y\": \"LAG\", \"xref\": \"x1\"}, {\"text\": \"0\", \"x\": \"LAG\", \"yref\": \"y1\", \"font\": {\"color\": \"black\"}, \"showarrow\": false, \"hovertext\": \"TODO: Add list of files here (corresponding to hover box)\", \"y\": \"LAG\", \"xref\": \"x1\"}, {\"text\": \"0\", \"x\": \"NoF\", \"yref\": \"y1\", \"font\": {\"color\": \"black\"}, \"showarrow\": false, \"hovertext\": \"TODO: Add list of files here (corresponding to hover box)\", \"y\": \"LAG\", \"xref\": \"x1\"}, {\"text\": \"0\", \"x\": \"OTHER\", \"yref\": \"y1\", \"font\": {\"color\": \"black\"}, \"showarrow\": false, \"hovertext\": \"TODO: Add list of files here (corresponding to hover box)\", \"y\": \"LAG\", \"xref\": \"x1\"}, {\"text\": \"0\", \"x\": \"SHARK\", \"yref\": \"y1\", \"font\": {\"color\": \"black\"}, \"showarrow\": false, \"hovertext\": \"TODO: Add list of files here (corresponding to hover box)\", \"y\": \"LAG\", \"xref\": \"x1\"}, {\"text\": \"0\", \"x\": \"YFT\", \"yref\": \"y1\", \"font\": {\"color\": \"black\"}, \"showarrow\": false, \"hovertext\": \"TODO: Add list of files here (corresponding to hover box)\", \"y\": \"LAG\", \"xref\": \"x1\"}, {\"text\": \"47\", \"x\": \"ALB\", \"yref\": \"y1\", \"font\": {\"color\": \"white\"}, \"showarrow\": false, \"hovertext\": \"TODO: Add list of files here (corresponding to hover box)\", \"y\": \"NoF\", \"xref\": \"x1\"}, {\"text\": \"0\", \"x\": \"BET\", \"yref\": \"y1\", \"font\": {\"color\": \"black\"}, \"showarrow\": false, \"hovertext\": \"TODO: Add list of files here (corresponding to hover box)\", \"y\": \"NoF\", \"xref\": \"x1\"}, {\"text\": \"0\", \"x\": \"DOL\", \"yref\": \"y1\", \"font\": {\"color\": \"black\"}, \"showarrow\": false, \"hovertext\": \"TODO: Add list of files here (corresponding to hover box)\", \"y\": \"NoF\", \"xref\": \"x1\"}, {\"text\": \"0\", \"x\": \"LAG\", \"yref\": \"y1\", \"font\": {\"color\": \"black\"}, \"showarrow\": false, \"hovertext\": \"TODO: Add list of files here (corresponding to hover box)\", \"y\": \"NoF\", \"xref\": \"x1\"}, {\"text\": \"0\", \"x\": \"NoF\", \"yref\": \"y1\", \"font\": {\"color\": \"black\"}, \"showarrow\": false, \"hovertext\": \"TODO: Add list of files here (corresponding to hover box)\", \"y\": \"NoF\", \"xref\": \"x1\"}, {\"text\": \"0\", \"x\": \"OTHER\", \"yref\": \"y1\", \"font\": {\"color\": \"black\"}, \"showarrow\": false, \"hovertext\": \"TODO: Add list of files here (corresponding to hover box)\", \"y\": \"NoF\", \"xref\": \"x1\"}, {\"text\": \"0\", \"x\": \"SHARK\", \"yref\": \"y1\", \"font\": {\"color\": \"black\"}, \"showarrow\": false, \"hovertext\": \"TODO: Add list of files here (corresponding to hover box)\", \"y\": \"NoF\", \"xref\": \"x1\"}, {\"text\": \"0\", \"x\": \"YFT\", \"yref\": \"y1\", \"font\": {\"color\": \"black\"}, \"showarrow\": false, \"hovertext\": \"TODO: Add list of files here (corresponding to hover box)\", \"y\": \"NoF\", \"xref\": \"x1\"}, {\"text\": \"30\", \"x\": \"ALB\", \"yref\": \"y1\", \"font\": {\"color\": \"white\"}, \"showarrow\": false, \"hovertext\": \"TODO: Add list of files here (corresponding to hover box)\", \"y\": \"OTHER\", \"xref\": \"x1\"}, {\"text\": \"0\", \"x\": \"BET\", \"yref\": \"y1\", \"font\": {\"color\": \"black\"}, \"showarrow\": false, \"hovertext\": \"TODO: Add list of files here (corresponding to hover box)\", \"y\": \"OTHER\", \"xref\": \"x1\"}, {\"text\": \"0\", \"x\": \"DOL\", \"yref\": \"y1\", \"font\": {\"color\": \"black\"}, \"showarrow\": false, \"hovertext\": \"TODO: Add list of files here (corresponding to hover box)\", \"y\": \"OTHER\", \"xref\": \"x1\"}, {\"text\": \"0\", \"x\": \"LAG\", \"yref\": \"y1\", \"font\": {\"color\": \"black\"}, \"showarrow\": false, \"hovertext\": \"TODO: Add list of files here (corresponding to hover box)\", \"y\": \"OTHER\", \"xref\": \"x1\"}, {\"text\": \"0\", \"x\": \"NoF\", \"yref\": \"y1\", \"font\": {\"color\": \"black\"}, \"showarrow\": false, \"hovertext\": \"TODO: Add list of files here (corresponding to hover box)\", \"y\": \"OTHER\", \"xref\": \"x1\"}, {\"text\": \"0\", \"x\": \"OTHER\", \"yref\": \"y1\", \"font\": {\"color\": \"black\"}, \"showarrow\": false, \"hovertext\": \"TODO: Add list of files here (corresponding to hover box)\", \"y\": \"OTHER\", \"xref\": \"x1\"}, {\"text\": \"0\", \"x\": \"SHARK\", \"yref\": \"y1\", \"font\": {\"color\": \"black\"}, \"showarrow\": false, \"hovertext\": \"TODO: Add list of files here (corresponding to hover box)\", \"y\": \"OTHER\", \"xref\": \"x1\"}, {\"text\": \"0\", \"x\": \"YFT\", \"yref\": \"y1\", \"font\": {\"color\": \"black\"}, \"showarrow\": false, \"hovertext\": \"TODO: Add list of files here (corresponding to hover box)\", \"y\": \"OTHER\", \"xref\": \"x1\"}, {\"text\": \"18\", \"x\": \"ALB\", \"yref\": \"y1\", \"font\": {\"color\": \"white\"}, \"showarrow\": false, \"hovertext\": \"TODO: Add list of files here (corresponding to hover box)\", \"y\": \"SHARK\", \"xref\": \"x1\"}, {\"text\": \"0\", \"x\": \"BET\", \"yref\": \"y1\", \"font\": {\"color\": \"black\"}, \"showarrow\": false, \"hovertext\": \"TODO: Add list of files here (corresponding to hover box)\", \"y\": \"SHARK\", \"xref\": \"x1\"}, {\"text\": \"0\", \"x\": \"DOL\", \"yref\": \"y1\", \"font\": {\"color\": \"black\"}, \"showarrow\": false, \"hovertext\": \"TODO: Add list of files here (corresponding to hover box)\", \"y\": \"SHARK\", \"xref\": \"x1\"}, {\"text\": \"0\", \"x\": \"LAG\", \"yref\": \"y1\", \"font\": {\"color\": \"black\"}, \"showarrow\": false, \"hovertext\": \"TODO: Add list of files here (corresponding to hover box)\", \"y\": \"SHARK\", \"xref\": \"x1\"}, {\"text\": \"0\", \"x\": \"NoF\", \"yref\": \"y1\", \"font\": {\"color\": \"black\"}, \"showarrow\": false, \"hovertext\": \"TODO: Add list of files here (corresponding to hover box)\", \"y\": \"SHARK\", \"xref\": \"x1\"}, {\"text\": \"0\", \"x\": \"OTHER\", \"yref\": \"y1\", \"font\": {\"color\": \"black\"}, \"showarrow\": false, \"hovertext\": \"TODO: Add list of files here (corresponding to hover box)\", \"y\": \"SHARK\", \"xref\": \"x1\"}, {\"text\": \"0\", \"x\": \"SHARK\", \"yref\": \"y1\", \"font\": {\"color\": \"black\"}, \"showarrow\": false, \"hovertext\": \"TODO: Add list of files here (corresponding to hover box)\", \"y\": \"SHARK\", \"xref\": \"x1\"}, {\"text\": \"0\", \"x\": \"YFT\", \"yref\": \"y1\", \"font\": {\"color\": \"black\"}, \"showarrow\": false, \"hovertext\": \"TODO: Add list of files here (corresponding to hover box)\", \"y\": \"SHARK\", \"xref\": \"x1\"}, {\"text\": \"74\", \"x\": \"ALB\", \"yref\": \"y1\", \"font\": {\"color\": \"white\"}, \"showarrow\": false, \"hovertext\": \"TODO: Add list of files here (corresponding to hover box)\", \"y\": \"YFT\", \"xref\": \"x1\"}, {\"text\": \"0\", \"x\": \"BET\", \"yref\": \"y1\", \"font\": {\"color\": \"black\"}, \"showarrow\": false, \"hovertext\": \"TODO: Add list of files here (corresponding to hover box)\", \"y\": \"YFT\", \"xref\": \"x1\"}, {\"text\": \"0\", \"x\": \"DOL\", \"yref\": \"y1\", \"font\": {\"color\": \"black\"}, \"showarrow\": false, \"hovertext\": \"TODO: Add list of files here (corresponding to hover box)\", \"y\": \"YFT\", \"xref\": \"x1\"}, {\"text\": \"0\", \"x\": \"LAG\", \"yref\": \"y1\", \"font\": {\"color\": \"black\"}, \"showarrow\": false, \"hovertext\": \"TODO: Add list of files here (corresponding to hover box)\", \"y\": \"YFT\", \"xref\": \"x1\"}, {\"text\": \"0\", \"x\": \"NoF\", \"yref\": \"y1\", \"font\": {\"color\": \"black\"}, \"showarrow\": false, \"hovertext\": \"TODO: Add list of files here (corresponding to hover box)\", \"y\": \"YFT\", \"xref\": \"x1\"}, {\"text\": \"0\", \"x\": \"OTHER\", \"yref\": \"y1\", \"font\": {\"color\": \"black\"}, \"showarrow\": false, \"hovertext\": \"TODO: Add list of files here (corresponding to hover box)\", \"y\": \"YFT\", \"xref\": \"x1\"}, {\"text\": \"0\", \"x\": \"SHARK\", \"yref\": \"y1\", \"font\": {\"color\": \"black\"}, \"showarrow\": false, \"hovertext\": \"TODO: Add list of files here (corresponding to hover box)\", \"y\": \"YFT\", \"xref\": \"x1\"}, {\"text\": \"0\", \"x\": \"YFT\", \"yref\": \"y1\", \"font\": {\"color\": \"black\"}, \"showarrow\": false, \"hovertext\": \"TODO: Add list of files here (corresponding to hover box)\", \"y\": \"YFT\", \"xref\": \"x1\"}], \"autosize\": false, \"width\": 700, \"xaxis\": {\"ticks\": \"\", \"title\": \"Predicted\", \"side\": \"bottom\"}, \"yaxis\": {\"ticksuffix\": \"  \", \"ticks\": \"\", \"title\": \"Actual\"}}, {\"linkText\": \"Export to plot.ly\", \"showLink\": false})});</script>"
      ]
     },
     "metadata": {},
     "output_type": "display_data"
    }
   ],
   "source": [
    "prediction_actual_mappings_val_and_test_pseudo = create_confusion_matrix_helper(classifier_model_v2)"
   ]
  },
  {
   "cell_type": "markdown",
   "metadata": {
    "deletable": true,
    "editable": true
   },
   "source": [
    "Hmmm... may need to change the network to handle the new data - all train for longer(??)"
   ]
  },
  {
   "cell_type": "markdown",
   "metadata": {
    "deletable": true,
    "editable": true
   },
   "source": [
    "## Pseudo labelling on pseudo labelling - prediction_actual_mappings_val_and_test_pseudo_pseudo"
   ]
  },
  {
   "cell_type": "code",
   "execution_count": null,
   "metadata": {
    "collapsed": true,
    "deletable": true,
    "editable": true
   },
   "outputs": [],
   "source": [
    "pseudo_pseudo_val_and_test_predictions = classifier_model_v2.predict(val_and_test_conv_features, batch_size=13)"
   ]
  },
  {
   "cell_type": "code",
   "execution_count": null,
   "metadata": {
    "collapsed": true,
    "deletable": true,
    "editable": true
   },
   "outputs": [],
   "source": [
    "num_epochs = 5\n",
    "\n",
    "K.set_value(classifier_model_v2.optimizer.lr, 0.01)\n",
    "\n",
    "fit_pseudo(model=classifier_model_v2_val_and_test_pseudo,\n",
    "            trn_conv_features=trn_conv_features, \n",
    "            pseudo_conv_features=val_and_test_conv_features,\n",
    "            val_conv_features=val_conv_features,\n",
    "\n",
    "            trn_labels=trn_labels,\n",
    "            pseudo_labels=pseudo_pseudo_val_and_test_predictions,\n",
    "            val_labels=val_labels,\n",
    "\n",
    "            epochs = num_epochs,\n",
    "\n",
    "            trn_batch_size = 20,\n",
    "            pseudo_batch_size = 13,\n",
    "            val_batch_size = 32)"
   ]
  },
  {
   "cell_type": "code",
   "execution_count": null,
   "metadata": {
    "collapsed": true,
    "deletable": true,
    "editable": true
   },
   "outputs": [],
   "source": [
    "num_epochs = 2\n",
    "\n",
    "K.set_value(classifier_model_v2.optimizer.lr, 0.0001)\n",
    "\n",
    "fit_pseudo(model=classifier_model_v2,\n",
    "            trn_conv_features=trn_conv_features, \n",
    "            pseudo_conv_features=val_and_test_conv_features,\n",
    "            val_conv_features=val_conv_features,\n",
    "\n",
    "            trn_labels=trn_labels,\n",
    "            pseudo_labels=pseudo_pseudo_val_and_test_predictions,\n",
    "            val_labels=val_labels,\n",
    "\n",
    "            epochs = num_epochs,\n",
    "\n",
    "            trn_batch_size = 20,\n",
    "            pseudo_batch_size = 13,\n",
    "            val_batch_size = 32)"
   ]
  },
  {
   "cell_type": "code",
   "execution_count": null,
   "metadata": {
    "collapsed": true,
    "deletable": true,
    "editable": true
   },
   "outputs": [],
   "source": [
    "prediction_actual_mappings_val_and_test_pseudo_pseudo = create_confusion_matrix_helper(classifier_model_v2)"
   ]
  },
  {
   "cell_type": "markdown",
   "metadata": {
    "deletable": true,
    "editable": true
   },
   "source": [
    "# 3. Generate Test Predictions"
   ]
  },
  {
   "cell_type": "code",
   "execution_count": 209,
   "metadata": {
    "collapsed": true,
    "deletable": true,
    "editable": true
   },
   "outputs": [],
   "source": [
    "# EDIT MODEL_NAME AND RUN:\n",
    "MODEL_NAME = \"/classifier_model_v2_val_and_test_pseudo3/\" # \"/classifier_model_v2_base/\", \"/classifier_model_v2_val_pseudo/\", \"/classifier_model_v2_val_and_test_pseudo/\" or \"/pseudo_pseudo_val_and_test_predictions/\"\n",
    "preds = classifier_model_v2.predict(test_conv_features, batch_size=38)\n",
    "\n",
    "assert preds.shape == (13153, 8), \"The number in of predictions created is not equal to the number in test_stg2\""
   ]
  },
  {
   "cell_type": "code",
   "execution_count": 210,
   "metadata": {
    "collapsed": true,
    "deletable": true,
    "editable": true
   },
   "outputs": [],
   "source": [
    "def do_clip(arr, mx, num_classes): return np.clip(arr, (1-mx)/(num_classes-1), mx)"
   ]
  },
  {
   "cell_type": "code",
   "execution_count": 211,
   "metadata": {
    "collapsed": false,
    "deletable": true,
    "editable": true
   },
   "outputs": [],
   "source": [
    "subm = do_clip(preds, 0.82, 8)\n",
    "subm_name = RESULTS_DIR+MODEL_NAME+'/subm.csv'\n",
    "!mkdir $RESULTS_DIR$MODEL_NAME\n",
    "classes = ['ALB', 'BET', 'DOL', 'LAG', 'NoF', 'OTHER', 'SHARK', 'YFT']"
   ]
  },
  {
   "cell_type": "code",
   "execution_count": 212,
   "metadata": {
    "collapsed": false,
    "deletable": true,
    "editable": true
   },
   "outputs": [
    {
     "data": {
      "text/html": [
       "<div>\n",
       "<table border=\"1\" class=\"dataframe\">\n",
       "  <thead>\n",
       "    <tr style=\"text-align: right;\">\n",
       "      <th></th>\n",
       "      <th>image</th>\n",
       "      <th>ALB</th>\n",
       "      <th>BET</th>\n",
       "      <th>DOL</th>\n",
       "      <th>LAG</th>\n",
       "      <th>NoF</th>\n",
       "      <th>OTHER</th>\n",
       "      <th>SHARK</th>\n",
       "      <th>YFT</th>\n",
       "    </tr>\n",
       "  </thead>\n",
       "  <tbody>\n",
       "    <tr>\n",
       "      <th>0</th>\n",
       "      <td>unknown/img_06681.jpg</td>\n",
       "      <td>0.456161</td>\n",
       "      <td>0.057849</td>\n",
       "      <td>0.025714</td>\n",
       "      <td>0.025714</td>\n",
       "      <td>0.112211</td>\n",
       "      <td>0.085467</td>\n",
       "      <td>0.043986</td>\n",
       "      <td>0.210023</td>\n",
       "    </tr>\n",
       "    <tr>\n",
       "      <th>1</th>\n",
       "      <td>unknown/img_06893.jpg</td>\n",
       "      <td>0.457073</td>\n",
       "      <td>0.052053</td>\n",
       "      <td>0.025714</td>\n",
       "      <td>0.025714</td>\n",
       "      <td>0.126368</td>\n",
       "      <td>0.085146</td>\n",
       "      <td>0.045586</td>\n",
       "      <td>0.200693</td>\n",
       "    </tr>\n",
       "    <tr>\n",
       "      <th>2</th>\n",
       "      <td>unknown/img_05393.jpg</td>\n",
       "      <td>0.449439</td>\n",
       "      <td>0.074635</td>\n",
       "      <td>0.025714</td>\n",
       "      <td>0.025714</td>\n",
       "      <td>0.126501</td>\n",
       "      <td>0.074723</td>\n",
       "      <td>0.040289</td>\n",
       "      <td>0.202568</td>\n",
       "    </tr>\n",
       "    <tr>\n",
       "      <th>3</th>\n",
       "      <td>unknown/img_01918.jpg</td>\n",
       "      <td>0.471267</td>\n",
       "      <td>0.052979</td>\n",
       "      <td>0.025714</td>\n",
       "      <td>0.025714</td>\n",
       "      <td>0.110380</td>\n",
       "      <td>0.083571</td>\n",
       "      <td>0.042715</td>\n",
       "      <td>0.208714</td>\n",
       "    </tr>\n",
       "    <tr>\n",
       "      <th>4</th>\n",
       "      <td>unknown/img_05568.jpg</td>\n",
       "      <td>0.459721</td>\n",
       "      <td>0.048871</td>\n",
       "      <td>0.027527</td>\n",
       "      <td>0.025714</td>\n",
       "      <td>0.131980</td>\n",
       "      <td>0.075072</td>\n",
       "      <td>0.044985</td>\n",
       "      <td>0.204815</td>\n",
       "    </tr>\n",
       "  </tbody>\n",
       "</table>\n",
       "</div>"
      ],
      "text/plain": [
       "                   image       ALB       BET       DOL       LAG       NoF  \\\n",
       "0  unknown/img_06681.jpg  0.456161  0.057849  0.025714  0.025714  0.112211   \n",
       "1  unknown/img_06893.jpg  0.457073  0.052053  0.025714  0.025714  0.126368   \n",
       "2  unknown/img_05393.jpg  0.449439  0.074635  0.025714  0.025714  0.126501   \n",
       "3  unknown/img_01918.jpg  0.471267  0.052979  0.025714  0.025714  0.110380   \n",
       "4  unknown/img_05568.jpg  0.459721  0.048871  0.027527  0.025714  0.131980   \n",
       "\n",
       "      OTHER     SHARK       YFT  \n",
       "0  0.085467  0.043986  0.210023  \n",
       "1  0.085146  0.045586  0.200693  \n",
       "2  0.074723  0.040289  0.202568  \n",
       "3  0.083571  0.042715  0.208714  \n",
       "4  0.075072  0.044985  0.204815  "
      ]
     },
     "execution_count": 212,
     "metadata": {},
     "output_type": "execute_result"
    }
   ],
   "source": [
    "import pandas as pd\n",
    "\n",
    "submission = pd.DataFrame(np.squeeze(subm), columns=classes)\n",
    "submission.insert(0, 'image', test_stg1_batches.filenames + test_stg2_batches.filenames)\n",
    "submission.head()"
   ]
  },
  {
   "cell_type": "code",
   "execution_count": 213,
   "metadata": {
    "collapsed": false,
    "deletable": true,
    "editable": true
   },
   "outputs": [
    {
     "data": {
      "text/html": [
       "<div>\n",
       "<table border=\"1\" class=\"dataframe\">\n",
       "  <thead>\n",
       "    <tr style=\"text-align: right;\">\n",
       "      <th></th>\n",
       "      <th>image</th>\n",
       "      <th>ALB</th>\n",
       "      <th>BET</th>\n",
       "      <th>DOL</th>\n",
       "      <th>LAG</th>\n",
       "      <th>NoF</th>\n",
       "      <th>OTHER</th>\n",
       "      <th>SHARK</th>\n",
       "      <th>YFT</th>\n",
       "    </tr>\n",
       "  </thead>\n",
       "  <tbody>\n",
       "    <tr>\n",
       "      <th>13148</th>\n",
       "      <td>unknown/image_02894.jpg</td>\n",
       "      <td>0.448456</td>\n",
       "      <td>0.062886</td>\n",
       "      <td>0.025714</td>\n",
       "      <td>0.025714</td>\n",
       "      <td>0.115162</td>\n",
       "      <td>0.083881</td>\n",
       "      <td>0.044183</td>\n",
       "      <td>0.203973</td>\n",
       "    </tr>\n",
       "    <tr>\n",
       "      <th>13149</th>\n",
       "      <td>unknown/image_09323.jpg</td>\n",
       "      <td>0.456575</td>\n",
       "      <td>0.052428</td>\n",
       "      <td>0.025714</td>\n",
       "      <td>0.025714</td>\n",
       "      <td>0.130479</td>\n",
       "      <td>0.080032</td>\n",
       "      <td>0.042972</td>\n",
       "      <td>0.203950</td>\n",
       "    </tr>\n",
       "    <tr>\n",
       "      <th>13150</th>\n",
       "      <td>unknown/image_04388.jpg</td>\n",
       "      <td>0.457101</td>\n",
       "      <td>0.052510</td>\n",
       "      <td>0.026380</td>\n",
       "      <td>0.025714</td>\n",
       "      <td>0.132034</td>\n",
       "      <td>0.075152</td>\n",
       "      <td>0.043499</td>\n",
       "      <td>0.205660</td>\n",
       "    </tr>\n",
       "    <tr>\n",
       "      <th>13151</th>\n",
       "      <td>unknown/image_09519.jpg</td>\n",
       "      <td>0.459610</td>\n",
       "      <td>0.048895</td>\n",
       "      <td>0.027567</td>\n",
       "      <td>0.025714</td>\n",
       "      <td>0.133668</td>\n",
       "      <td>0.074266</td>\n",
       "      <td>0.044920</td>\n",
       "      <td>0.202179</td>\n",
       "    </tr>\n",
       "    <tr>\n",
       "      <th>13152</th>\n",
       "      <td>unknown/image_11250.jpg</td>\n",
       "      <td>0.451451</td>\n",
       "      <td>0.062804</td>\n",
       "      <td>0.025714</td>\n",
       "      <td>0.025714</td>\n",
       "      <td>0.114790</td>\n",
       "      <td>0.083147</td>\n",
       "      <td>0.042139</td>\n",
       "      <td>0.204714</td>\n",
       "    </tr>\n",
       "  </tbody>\n",
       "</table>\n",
       "</div>"
      ],
      "text/plain": [
       "                         image       ALB       BET       DOL       LAG  \\\n",
       "13148  unknown/image_02894.jpg  0.448456  0.062886  0.025714  0.025714   \n",
       "13149  unknown/image_09323.jpg  0.456575  0.052428  0.025714  0.025714   \n",
       "13150  unknown/image_04388.jpg  0.457101  0.052510  0.026380  0.025714   \n",
       "13151  unknown/image_09519.jpg  0.459610  0.048895  0.027567  0.025714   \n",
       "13152  unknown/image_11250.jpg  0.451451  0.062804  0.025714  0.025714   \n",
       "\n",
       "            NoF     OTHER     SHARK       YFT  \n",
       "13148  0.115162  0.083881  0.044183  0.203973  \n",
       "13149  0.130479  0.080032  0.042972  0.203950  \n",
       "13150  0.132034  0.075152  0.043499  0.205660  \n",
       "13151  0.133668  0.074266  0.044920  0.202179  \n",
       "13152  0.114790  0.083147  0.042139  0.204714  "
      ]
     },
     "execution_count": 213,
     "metadata": {},
     "output_type": "execute_result"
    }
   ],
   "source": [
    "submission.tail()"
   ]
  },
  {
   "cell_type": "code",
   "execution_count": 214,
   "metadata": {
    "collapsed": true,
    "deletable": true,
    "editable": true
   },
   "outputs": [],
   "source": [
    "submission.to_csv(subm_name, index=False)#, header=False)#, compression='gzip')"
   ]
  },
  {
   "cell_type": "code",
   "execution_count": 215,
   "metadata": {
    "collapsed": true,
    "deletable": true,
    "editable": true
   },
   "outputs": [],
   "source": [
    "subm_name_stg1 = RESULTS_DIR+MODEL_NAME+'/subm_test_stg1.csv'\n",
    "subm_name_stg2 = RESULTS_DIR+MODEL_NAME+'/subm_test_stg2.csv'\n",
    "subm_nameFIXED = RESULTS_DIR+MODEL_NAME+'/submFIXED.csv'\n",
    "\n",
    "# Fixed format for Kaggle submission\n",
    "!head -n +1001 $subm_name | sed \"s:^unknown/::g\" > $subm_name_stg1\n",
    "!tail -n +1002 $subm_name | sed \"s:^unknown:test_stg2:g\" > $subm_name_stg2\n",
    "!cat $subm_name_stg1 $subm_name_stg2 > $subm_nameFIXED"
   ]
  }
 ],
 "metadata": {
  "kernelspec": {
   "display_name": "Python 3",
   "language": "python",
   "name": "python3"
  },
  "language_info": {
   "codemirror_mode": {
    "name": "ipython",
    "version": 3
   },
   "file_extension": ".py",
   "mimetype": "text/x-python",
   "name": "python",
   "nbconvert_exporter": "python",
   "pygments_lexer": "ipython3",
   "version": "3.4.3"
  }
 },
 "nbformat": 4,
 "nbformat_minor": 2
}
