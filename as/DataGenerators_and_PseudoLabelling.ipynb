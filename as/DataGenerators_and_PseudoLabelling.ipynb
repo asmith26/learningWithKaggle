{
 "cells": [
  {
   "cell_type": "code",
   "execution_count": 2,
   "metadata": {
    "collapsed": true
   },
   "outputs": [],
   "source": [
    "import numpy as np\n",
    "from keras.preprocessing.image import ImageDataGenerator"
   ]
  },
  {
   "cell_type": "code",
   "execution_count": 2,
   "metadata": {},
   "outputs": [
    {
     "name": "stdout",
     "output_type": "stream",
     "text": [
      "Python version is 3.5.2 (default, Nov 17 2016, 17:05:23) \n[GCC 5.4.0 20160609]\n2.0.4\n"
     ]
    }
   ],
   "source": [
    "import sys\n",
    "print(\"Python version is \"+sys.version)\n",
    "from keras import __version__\n",
    "print(__version__)"
   ]
  },
  {
   "cell_type": "code",
   "execution_count": 3,
   "metadata": {},
   "outputs": [],
   "source": [
    "X_train = np.array([[[[1,1],\n",
    "                     [1,1]],\n",
    "                     [[1,1],\n",
    "                     [1,1]],\n",
    "                     [[1,1],\n",
    "                     [1,1]] ],\n",
    "                    [[[2,2],\n",
    "                     [2,2]],\n",
    "                     [[2,2],\n",
    "                     [2,2]],\n",
    "                     [[2,2],\n",
    "                     [2,2]] ] ]) # theano\n",
    "\n",
    "X_train = X_train.reshape(2,2,2,3)\n",
    "\n",
    "\n",
    "Y_train = np.array([1,2])"
   ]
  },
  {
   "cell_type": "code",
   "execution_count": 4,
   "metadata": {},
   "outputs": [
    {
     "name": "stdout",
     "output_type": "stream",
     "text": [
      "(2, 2, 2, 3)\n"
     ]
    },
    {
     "data": {
      "text/plain": [
       "array([[[[1, 1, 1],\n         [1, 1, 1]],\n\n        [[1, 1, 1],\n         [1, 1, 1]]],\n\n\n       [[[2, 2, 2],\n         [2, 2, 2]],\n\n        [[2, 2, 2],\n         [2, 2, 2]]]])"
      ]
     },
     "execution_count": 4,
     "metadata": {},
     "output_type": "execute_result"
    }
   ],
   "source": [
    "print(X_train.shape)\n",
    "X_train"
   ]
  },
  {
   "cell_type": "code",
   "execution_count": 5,
   "metadata": {},
   "outputs": [],
   "source": [
    "train_datagen = ImageDataGenerator()\n",
    "\n",
    "keras_example_iterator = train_datagen.flow(X_train, Y_train, batch_size=1, shuffle=False)"
   ]
  },
  {
   "cell_type": "code",
   "execution_count": 6,
   "metadata": {},
   "outputs": [
    {
     "data": {
      "text/plain": [
       "(array([[[[ 1.,  1.,  1.],\n          [ 1.,  1.,  1.]],\n \n         [[ 1.,  1.,  1.],\n          [ 1.,  1.,  1.]]]], dtype=float32), array([1]))"
      ]
     },
     "execution_count": 6,
     "metadata": {},
     "output_type": "execute_result"
    }
   ],
   "source": [
    "keras_example_iterator.next()"
   ]
  },
  {
   "cell_type": "code",
   "execution_count": 7,
   "metadata": {},
   "outputs": [
    {
     "data": {
      "text/plain": [
       "(array([[[[ 2.,  2.,  2.],\n          [ 2.,  2.,  2.]],\n \n         [[ 2.,  2.,  2.],\n          [ 2.,  2.,  2.]]]], dtype=float32), array([2]))"
      ]
     },
     "execution_count": 7,
     "metadata": {},
     "output_type": "execute_result"
    }
   ],
   "source": [
    "keras_example_iterator.next()"
   ]
  },
  {
   "cell_type": "code",
   "execution_count": 8,
   "metadata": {},
   "outputs": [
    {
     "data": {
      "text/plain": [
       "(array([[[[ 1.,  1.,  1.],\n          [ 1.,  1.,  1.]],\n \n         [[ 1.,  1.,  1.],\n          [ 1.,  1.,  1.]]]], dtype=float32), array([1]))"
      ]
     },
     "execution_count": 8,
     "metadata": {},
     "output_type": "execute_result"
    }
   ],
   "source": [
    "keras_example_iterator.next() # goes back to the start (loops over the data indefinitely - as per the doc (run a \"Find in page\" for `fit_generator` https://keras.io/models/model/"
   ]
  },
  {
   "cell_type": "markdown",
   "metadata": {},
   "source": [
    "Lets add a validation set to creating a generator for pseudo-labelling."
   ]
  },
  {
   "cell_type": "code",
   "execution_count": 4,
   "metadata": {},
   "outputs": [],
   "source": [
    "X_val = np.array([[[[3,3],\n",
    "                     [3,3]],\n",
    "                     [[3,3],\n",
    "                     [3,3]],\n",
    "                     [[3,3],\n",
    "                     [3,3]] ],\n",
    "                    [[[4,4],\n",
    "                     [4,4]],\n",
    "                     [[4,4],\n",
    "                     [4,4]],\n",
    "                     [[4,4],\n",
    "                     [4,4]] ],\n",
    "                     [[[5,5],\n",
    "                     [5,5]],\n",
    "                     [[5,5],\n",
    "                     [5,5]],\n",
    "                     [[5,5],\n",
    "                     [5,5]] ]]) # theano\n",
    "\n",
    "X_val = X_val.reshape(3,2,2,3)\n",
    "\n",
    "\n",
    "pseudo_Y_val = np.array([3,4,5])"
   ]
  },
  {
   "cell_type": "code",
   "execution_count": 5,
   "metadata": {},
   "outputs": [],
   "source": [
    "train_datagen = ImageDataGenerator()\n",
    "val_datagen = train_datagen  # \"don't forget to perform any training preprocessing on the val/test set\n",
    "                             # (not neccessarily the augmentation though).\" \n",
    "\n",
    "train_iter = train_datagen.flow(X_train, Y_train, batch_size=2, shuffle=False)\n",
    "val_iter = val_datagen.flow(X_val, pseudo_Y_val, batch_size=1, shuffle=False)"
   ]
  },
  {
   "cell_type": "code",
   "execution_count": 11,
   "metadata": {},
   "outputs": [
    {
     "name": "stdout",
     "output_type": "stream",
     "text": [
      "(array([[[[ 1.,  1.,  1.],\n         [ 1.,  1.,  1.]],\n\n        [[ 1.,  1.,  1.],\n         [ 1.,  1.,  1.]]],\n\n\n       [[[ 2.,  2.,  2.],\n         [ 2.,  2.,  2.]],\n\n        [[ 2.,  2.,  2.],\n         [ 2.,  2.,  2.]]]], dtype=float32), array([1, 2]))\n(array([[[[ 3.,  3.,  3.],\n         [ 3.,  3.,  3.]],\n\n        [[ 3.,  3.,  3.],\n         [ 3.,  3.,  3.]]]], dtype=float32), array([3]))\n"
     ]
    }
   ],
   "source": [
    "print(train_iter.next())\n",
    "print(val_iter.next())"
   ]
  },
  {
   "cell_type": "code",
   "execution_count": 12,
   "metadata": {},
   "outputs": [
    {
     "name": "stdout",
     "output_type": "stream",
     "text": [
      "(array([[[[ 1.,  1.,  1.],\n         [ 1.,  1.,  1.]],\n\n        [[ 1.,  1.,  1.],\n         [ 1.,  1.,  1.]]],\n\n\n       [[[ 2.,  2.,  2.],\n         [ 2.,  2.,  2.]],\n\n        [[ 2.,  2.,  2.],\n         [ 2.,  2.,  2.]]]], dtype=float32), array([1, 2]))\n(array([[[[ 4.,  4.,  4.],\n         [ 4.,  4.,  4.]],\n\n        [[ 4.,  4.,  4.],\n         [ 4.,  4.,  4.]]]], dtype=float32), array([4]))\n"
     ]
    }
   ],
   "source": [
    "print(train_iter.next())\n",
    "print(val_iter.next())"
   ]
  },
  {
   "cell_type": "code",
   "execution_count": 13,
   "metadata": {},
   "outputs": [
    {
     "name": "stdout",
     "output_type": "stream",
     "text": [
      "(array([[[[ 1.,  1.,  1.],\n         [ 1.,  1.,  1.]],\n\n        [[ 1.,  1.,  1.],\n         [ 1.,  1.,  1.]]],\n\n\n       [[[ 2.,  2.,  2.],\n         [ 2.,  2.,  2.]],\n\n        [[ 2.,  2.,  2.],\n         [ 2.,  2.,  2.]]]], dtype=float32), array([1, 2]))\n(array([[[[ 5.,  5.,  5.],\n         [ 5.,  5.,  5.]],\n\n        [[ 5.,  5.,  5.],\n         [ 5.,  5.,  5.]]]], dtype=float32), array([5]))\n"
     ]
    }
   ],
   "source": [
    "print(train_iter.next())\n",
    "print(val_iter.next())"
   ]
  },
  {
   "cell_type": "heading",
   "metadata": {},
   "level": 2,
   "source": [
    "WeightedIterated"
   ]
  },
  {
   "cell_type": "code",
   "execution_count": 7,
   "metadata": {},
   "outputs": [],
   "source": [
    "class WeightedIterator(object):\n",
    "    # Based on JH `MixIterator` https://github.com/asmith26/courses/blob/master/deeplearning1/nbs/utils.py#L237-L262\n",
    "    def __init__(self, iters):\n",
    "        assert type(iters) is list, \"Initialising a WeightedIterator requires one *list* argument.\"\n",
    "        self.iters = iters\n",
    "        self.n = sum([it.n for it in self.iters])\n",
    "\n",
    "    def reset(self):\n",
    "        for it in self.iters: it.reset()\n",
    "\n",
    "    def __iter__(self):\n",
    "        return self\n",
    "    \n",
    "    def __next__(self, *args, **kwargs):\n",
    "        return self.next(*args, **kwargs)\n",
    "\n",
    "    def next(self, *args, **kwargs):\n",
    "        \"\"\"For python 2.x.\n",
    "\n",
    "        # Returns\n",
    "            The next batch.\n",
    "        \"\"\"\n",
    "        next_iters_batches = [it.next() for it in self.iters]\n",
    "        next_batch_X = np.concatenate([next_iter_batch[0] for next_iter_batch in next_iters_batches])\n",
    "        next_batch_Y = np.concatenate([next_iter_batch[1] for next_iter_batch in next_iters_batches])\n",
    "        return next_batch_X, next_batch_Y"
   ]
  },
  {
   "cell_type": "code",
   "execution_count": 15,
   "metadata": {},
   "outputs": [],
   "source": [
    "weighted_iter = WeightedIterator([train_iter, val_iter])"
   ]
  },
  {
   "cell_type": "code",
   "execution_count": 31,
   "metadata": {},
   "outputs": [
    {
     "name": "stdout",
     "output_type": "stream",
     "text": [
      "(array([[[[ 1.,  1.,  1.],\n         [ 1.,  1.,  1.]],\n\n        [[ 1.,  1.,  1.],\n         [ 1.,  1.,  1.]]],\n\n\n       [[[ 2.,  2.,  2.],\n         [ 2.,  2.,  2.]],\n\n        [[ 2.,  2.,  2.],\n         [ 2.,  2.,  2.]]],\n\n\n       [[[ 3.,  3.,  3.],\n         [ 3.,  3.,  3.]],\n\n        [[ 3.,  3.,  3.],\n         [ 3.,  3.,  3.]]]], dtype=float32), array([1, 2, 3]))\n"
     ]
    }
   ],
   "source": [
    "print(weighted_iter.next())"
   ]
  },
  {
   "cell_type": "code",
   "execution_count": 32,
   "metadata": {},
   "outputs": [
    {
     "name": "stdout",
     "output_type": "stream",
     "text": [
      "(array([[[[ 1.,  1.,  1.],\n         [ 1.,  1.,  1.]],\n\n        [[ 1.,  1.,  1.],\n         [ 1.,  1.,  1.]]],\n\n\n       [[[ 2.,  2.,  2.],\n         [ 2.,  2.,  2.]],\n\n        [[ 2.,  2.,  2.],\n         [ 2.,  2.,  2.]]],\n\n\n       [[[ 4.,  4.,  4.],\n         [ 4.,  4.,  4.]],\n\n        [[ 4.,  4.,  4.],\n         [ 4.,  4.,  4.]]]], dtype=float32), array([1, 2, 4]))\n"
     ]
    }
   ],
   "source": [
    "print(weighted_iter.next())"
   ]
  },
  {
   "cell_type": "code",
   "execution_count": 33,
   "metadata": {},
   "outputs": [
    {
     "name": "stdout",
     "output_type": "stream",
     "text": [
      "(array([[[[ 1.,  1.,  1.],\n         [ 1.,  1.,  1.]],\n\n        [[ 1.,  1.,  1.],\n         [ 1.,  1.,  1.]]],\n\n\n       [[[ 2.,  2.,  2.],\n         [ 2.,  2.,  2.]],\n\n        [[ 2.,  2.,  2.],\n         [ 2.,  2.,  2.]]],\n\n\n       [[[ 5.,  5.,  5.],\n         [ 5.,  5.,  5.]],\n\n        [[ 5.,  5.,  5.],\n         [ 5.,  5.,  5.]]]], dtype=float32), array([1, 2, 5]))\n"
     ]
    }
   ],
   "source": [
    "print(weighted_iter.next())"
   ]
  },
  {
   "cell_type": "code",
   "execution_count": 34,
   "metadata": {},
   "outputs": [
    {
     "name": "stdout",
     "output_type": "stream",
     "text": [
      "(array([[[[ 1.,  1.,  1.],\n         [ 1.,  1.,  1.]],\n\n        [[ 1.,  1.,  1.],\n         [ 1.,  1.,  1.]]],\n\n\n       [[[ 2.,  2.,  2.],\n         [ 2.,  2.,  2.]],\n\n        [[ 2.,  2.,  2.],\n         [ 2.,  2.,  2.]]],\n\n\n       [[[ 3.,  3.,  3.],\n         [ 3.,  3.,  3.]],\n\n        [[ 3.,  3.,  3.],\n         [ 3.,  3.,  3.]]]], dtype=float32), array([1, 2, 3]))\n"
     ]
    }
   ],
   "source": [
    "print(weighted_iter.next())"
   ]
  },
  {
   "cell_type": "markdown",
   "metadata": {},
   "source": [
    "Example training:"
   ]
  },
  {
   "cell_type": "code",
   "execution_count": 9,
   "metadata": {},
   "outputs": [],
   "source": [
    "from keras.models import Sequential\n",
    "from keras.layers import Dense\n",
    "\n",
    "model = Sequential([\n",
    "    Dense(12, input_shape=(2,2,3)),\n",
    "    Dense(1)\n",
    "])\n",
    "model.compile(optimizer='sgd',\n",
    "              loss='mean_squared_error')"
   ]
  },
  {
   "cell_type": "code",
   "execution_count": 10,
   "metadata": {},
   "outputs": [
    {
     "name": "stdout",
     "output_type": "stream",
     "text": [
      "_________________________________________________________________\nLayer (type)                 Output Shape              Param #   \n=================================================================\ndense_1 (Dense)              (None, 2, 2, 12)          48        \n_________________________________________________________________\ndense_2 (Dense)              (None, 2, 2, 1)           13        \n=================================================================\nTotal params: 61\nTrainable params: 61\nNon-trainable params: 0\n_________________________________________________________________\n"
     ]
    }
   ],
   "source": [
    "model.summary()"
   ]
  },
  {
   "cell_type": "code",
   "execution_count": 1,
   "metadata": {},
   "outputs": [
    {
     "ename": "NameError",
     "evalue": "name 'model' is not defined",
     "traceback": [
      "\u001b[0;31m---------------------------------------------------------------------------\u001b[0m",
      "\u001b[0;31mNameError\u001b[0m                                 Traceback (most recent call last)",
      "\u001b[0;32m<ipython-input-1-8850f6832535>\u001b[0m in \u001b[0;36m<module>\u001b[0;34m()\u001b[0m\n\u001b[0;32m----> 1\u001b[0;31m model.fit_generator(generator=weighted_iter,\n\u001b[0m\u001b[1;32m      2\u001b[0m                     \u001b[0msteps_per_epoch\u001b[0m\u001b[0;34m=\u001b[0m\u001b[0;36m3\u001b[0m\u001b[0;34m,\u001b[0m\u001b[0;34m\u001b[0m\u001b[0m\n\u001b[1;32m      3\u001b[0m                     nb_epoch=8)\n",
      "\u001b[0;31mNameError\u001b[0m: name 'model' is not defined"
     ],
     "output_type": "error"
    }
   ],
   "source": [
    "model.fit_generator(generator=weighted_iter,\n",
    "                    steps_per_epoch=3,\n",
    "                    nb_epoch=8)"
   ]
  }
 ],
 "metadata": {
  "kernelspec": {
   "display_name": "Python 2",
   "language": "python",
   "name": "python2"
  },
  "language_info": {
   "codemirror_mode": {
    "name": "ipython",
    "version": 2.0
   },
   "file_extension": ".py",
   "mimetype": "text/x-python",
   "name": "python",
   "nbconvert_exporter": "python",
   "pygments_lexer": "ipython2",
   "version": "2.7.6"
  }
 },
 "nbformat": 4,
 "nbformat_minor": 0
}