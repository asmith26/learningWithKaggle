{
 "cells": [
  {
   "cell_type": "code",
   "execution_count": null,
   "metadata": {},
   "outputs": [
    {
     "name": "stderr",
     "output_type": "stream",
     "text": [
      "Using TensorFlow backend.\n"
     ]
    }
   ],
   "source": [
    "from keras.applications.vgg16 import VGG16\n",
    "from keras.preprocessing import image\n",
    "from keras.applications.vgg16 import preprocess_input\n",
    "import numpy as np\n",
    "\n",
    "model = VGG16(weights='imagenet', include_top=True)"
   ]
  },
  {
   "cell_type": "code",
   "execution_count": null,
   "metadata": {},
   "outputs": [],
   "source": [
    "model.layers.pop()\n",
    "model.summary()\n"
   ]
  },
  {
   "cell_type": "code",
   "execution_count": null,
   "metadata": {},
   "outputs": [],
   "source": [
    "for l in model.layers:\n",
    "    if l.name == 'fc21':\n",
    "        l.trainable = True\n",
    "    else:\n",
    "        l.trainable =False\n",
    "model.summary()"
   ]
  },
  {
   "cell_type": "code",
   "execution_count": null,
   "metadata": {},
   "outputs": [],
   "source": [
    "from keras.layers import Dense\n",
    "from keras.models import Model\n",
    "from keras.optimizers import Adam\n",
    "\n",
    "new_layer = Dense(2, activation='softmax', name='my_dense')\n",
    "\n",
    "inp = model.input\n",
    "out = new_layer(model.layers[-1].output)\n",
    "\n",
    "model2 = Model(inp, out)\n",
    "model2.compile(loss='categorical_crossentropy',optimizer=Adam(lr=0.001),metrics=['accuracy'])\n",
    "model2.summary()"
   ]
  },
  {
   "cell_type": "code",
   "execution_count": 13,
   "metadata": {},
   "outputs": [
    {
     "name": "stdout",
     "output_type": "stream",
     "text": [
      "Found 160 images belonging to 2 classes.\n",
      "Found 40 images belonging to 2 classes.\n",
      "Epoch 1/5\n",
      "160/160 [==============================] - 110s - loss: 0.1218 - acc: 0.9609 - val_loss: 0.2972 - val_acc: 0.9250\n",
      "Epoch 2/5\n",
      "160/160 [==============================] - 108s - loss: 0.1183 - acc: 0.9641 - val_loss: 0.2755 - val_acc: 0.9250\n",
      "Epoch 3/5\n",
      "160/160 [==============================] - 108s - loss: 0.1105 - acc: 0.9670 - val_loss: 0.2628 - val_acc: 0.9000\n",
      "Epoch 4/5\n",
      "160/160 [==============================] - 108s - loss: 0.1007 - acc: 0.9738 - val_loss: 0.2745 - val_acc: 0.9000\n",
      "Epoch 5/5\n",
      "160/160 [==============================] - 108s - loss: 0.0992 - acc: 0.9717 - val_loss: 0.2705 - val_acc: 0.9250\n"
     ]
    },
    {
     "data": {
      "text/plain": [
       "<keras.callbacks.History at 0x7fef832dfd50>"
      ]
     },
     "execution_count": 13,
     "metadata": {},
     "output_type": "execute_result"
    }
   ],
   "source": [
    "from keras.preprocessing.image import ImageDataGenerator\n",
    "\n",
    "train_datagen = ImageDataGenerator(\n",
    "        rescale=1./255,\n",
    "        shear_range=0.2,\n",
    "        zoom_range=0.2,\n",
    "        horizontal_flip=True)\n",
    "\n",
    "test_datagen = ImageDataGenerator(rescale=1./255)\n",
    "\n",
    "train_generator = train_datagen.flow_from_directory(\n",
    "        '/home/ubuntu/data/dogscats/sample/train',\n",
    "        target_size=(224, 224),\n",
    "        batch_size=32,\n",
    "        class_mode='categorical')\n",
    "\n",
    "validation_generator = test_datagen.flow_from_directory(\n",
    "        '/home/ubuntu/data/dogscats/sample/valid',\n",
    "        target_size=(224, 224),\n",
    "        batch_size=32,\n",
    "        class_mode='categorical')\n",
    "\n",
    "model2.fit_generator(\n",
    "        train_generator,\n",
    "        steps_per_epoch=160,\n",
    "        epochs=5,\n",
    "        validation_data=validation_generator,\n",
    "        validation_steps=40)"
   ]
  },
  {
   "cell_type": "code",
   "execution_count": null,
   "metadata": {
    "collapsed": true
   },
   "outputs": [],
   "source": [
    "model2.load_weights('/home/ubuntu/git/learningWithKaggle/ft2_sample.h5')\n",
    "# model2.save_weights('/home/ubuntu/git/learningWithKaggle/ft2_sample.h5')"
   ]
  },
  {
   "cell_type": "code",
   "execution_count": 15,
   "metadata": {},
   "outputs": [
    {
     "name": "stdout",
     "output_type": "stream",
     "text": [
      "_________________________________________________________________\n",
      "Layer (type)                 Output Shape              Param #   \n",
      "=================================================================\n",
      "input_1 (InputLayer)         (None, 224, 224, 3)       0         \n",
      "_________________________________________________________________\n",
      "block1_conv1 (Conv2D)        (None, 224, 224, 64)      1792      \n",
      "_________________________________________________________________\n",
      "block1_conv2 (Conv2D)        (None, 224, 224, 64)      36928     \n",
      "_________________________________________________________________\n",
      "block1_pool (MaxPooling2D)   (None, 112, 112, 64)      0         \n",
      "_________________________________________________________________\n",
      "block2_conv1 (Conv2D)        (None, 112, 112, 128)     73856     \n",
      "_________________________________________________________________\n",
      "block2_conv2 (Conv2D)        (None, 112, 112, 128)     147584    \n",
      "_________________________________________________________________\n",
      "block2_pool (MaxPooling2D)   (None, 56, 56, 128)       0         \n",
      "_________________________________________________________________\n",
      "block3_conv1 (Conv2D)        (None, 56, 56, 256)       295168    \n",
      "_________________________________________________________________\n",
      "block3_conv2 (Conv2D)        (None, 56, 56, 256)       590080    \n",
      "_________________________________________________________________\n",
      "block3_conv3 (Conv2D)        (None, 56, 56, 256)       590080    \n",
      "_________________________________________________________________\n",
      "block3_pool (MaxPooling2D)   (None, 28, 28, 256)       0         \n",
      "_________________________________________________________________\n",
      "block4_conv1 (Conv2D)        (None, 28, 28, 512)       1180160   \n",
      "_________________________________________________________________\n",
      "block4_conv2 (Conv2D)        (None, 28, 28, 512)       2359808   \n",
      "_________________________________________________________________\n",
      "block4_conv3 (Conv2D)        (None, 28, 28, 512)       2359808   \n",
      "_________________________________________________________________\n",
      "block4_pool (MaxPooling2D)   (None, 14, 14, 512)       0         \n",
      "_________________________________________________________________\n",
      "block5_conv1 (Conv2D)        (None, 14, 14, 512)       2359808   \n",
      "_________________________________________________________________\n",
      "block5_conv2 (Conv2D)        (None, 14, 14, 512)       2359808   \n",
      "_________________________________________________________________\n",
      "block5_conv3 (Conv2D)        (None, 14, 14, 512)       2359808   \n",
      "_________________________________________________________________\n",
      "block5_pool (MaxPooling2D)   (None, 7, 7, 512)         0         \n",
      "_________________________________________________________________\n",
      "flatten (Flatten)            (None, 25088)             0         \n",
      "_________________________________________________________________\n",
      "fc1 (Dense)                  (None, 4096)              102764544 \n",
      "_________________________________________________________________\n",
      "fc2 (Dense)                  (None, 4096)              16781312  \n",
      "=================================================================\n",
      "Total params: 134,260,544\n",
      "Trainable params: 16,781,312\n",
      "Non-trainable params: 117,479,232\n",
      "_________________________________________________________________\n"
     ]
    }
   ],
   "source": [
    "for l in model2.layers:\n",
    "    if l.name == 'fc2':\n",
    "        l.trainable = True\n",
    "    else:\n",
    "        l.trainable =False\n",
    "model.summary()"
   ]
  },
  {
   "cell_type": "code",
   "execution_count": 19,
   "metadata": {},
   "outputs": [
    {
     "name": "stdout",
     "output_type": "stream",
     "text": [
      "Found 160 images belonging to 2 classes.\n",
      "Found 40 images belonging to 2 classes.\n",
      "Epoch 1/5\n",
      "160/160 [==============================] - 37s - loss: 0.1179 - acc: 0.9570 - val_loss: 0.2845 - val_acc: 0.8750\n",
      "Epoch 2/5\n",
      "160/160 [==============================] - 37s - loss: 0.0885 - acc: 0.9766 - val_loss: 0.2352 - val_acc: 0.9000\n",
      "Epoch 3/5\n",
      "160/160 [==============================] - 37s - loss: 0.1193 - acc: 0.9531 - val_loss: 0.2377 - val_acc: 0.9000\n",
      "Epoch 4/5\n",
      "160/160 [==============================] - 37s - loss: 0.1097 - acc: 0.9570 - val_loss: 0.2383 - val_acc: 0.9000\n",
      "Epoch 5/5\n",
      "160/160 [==============================] - 37s - loss: 0.0912 - acc: 0.9719 - val_loss: 0.2305 - val_acc: 0.9000\n"
     ]
    },
    {
     "data": {
      "text/plain": [
       "<keras.callbacks.History at 0x7fef838720d0>"
      ]
     },
     "execution_count": 19,
     "metadata": {},
     "output_type": "execute_result"
    }
   ],
   "source": [
    "train_datagen = ImageDataGenerator(\n",
    "        rescale=1./255,\n",
    "        shear_range=0.2,\n",
    "        rotation_range=15, \n",
    "        width_shift_range=0.1,                         \n",
    "        height_shift_range=0.1, \n",
    "        zoom_range=0.1, \n",
    "        horizontal_flip=True)\n",
    "\n",
    "test_datagen = ImageDataGenerator(rescale=1./255)\n",
    "\n",
    "train_generator = train_datagen.flow_from_directory(\n",
    "        '/home/ubuntu/data/dogscats/sample/train',\n",
    "        target_size=(224, 224),\n",
    "        batch_size=8,\n",
    "        class_mode='categorical')\n",
    "\n",
    "validation_generator = test_datagen.flow_from_directory(\n",
    "        '/home/ubuntu/data/dogscats/sample/valid',\n",
    "        target_size=(224, 224),\n",
    "        batch_size=8,\n",
    "        class_mode='categorical')\n",
    "\n",
    "model2.fit_generator(\n",
    "        train_generator,\n",
    "        steps_per_epoch=160,\n",
    "        epochs=5,\n",
    "        validation_data=validation_generator,\n",
    "        validation_steps=40)"
   ]
  },
  {
   "cell_type": "code",
   "execution_count": 74,
   "metadata": {},
   "outputs": [
    {
     "name": "stdout",
     "output_type": "stream",
     "text": [
      "Found 40 images belonging to 2 classes.\n"
     ]
    }
   ],
   "source": [
    "mod\n",
    "\n"
   ]
  },
  {
   "cell_type": "code",
   "execution_count": 99,
   "metadata": {},
   "outputs": [
    {
     "data": {
      "text/plain": [
       "(40, 2)"
      ]
     },
     "execution_count": 99,
     "metadata": {},
     "output_type": "execute_result"
    }
   ],
   "source": [
    "preds = model2.predict_generator(test_generator,5)\n",
    "preds.shape"
   ]
  },
  {
   "cell_type": "code",
   "execution_count": 92,
   "metadata": {},
   "outputs": [
    {
     "data": {
      "text/plain": [
       "array([  1.00000000e+00,   6.39257158e-23,   1.00000000e+00,\n",
       "         1.00000000e+00,   1.00000000e+00,   5.32145845e-04,\n",
       "         1.00000000e+00,   1.00000000e+00,   2.01414184e-34,\n",
       "         1.24774271e-23,   1.00000000e+00,   2.55329071e-20,\n",
       "         1.71891581e-02,   1.00000000e+00,   1.47411236e-04,\n",
       "         4.34869493e-14,   4.87122406e-07,   3.53814996e-21,\n",
       "         1.00000000e+00,   1.19545005e-25,   1.00000000e+00,\n",
       "         6.89901524e-20,   1.00000000e+00,   1.00000000e+00,\n",
       "         1.13147563e-17,   1.00000000e+00,   9.99996781e-01,\n",
       "         1.00000000e+00,   1.02286741e-07,   1.00000000e+00,\n",
       "         1.14334209e-25,   1.00000000e+00,   1.00000000e+00,\n",
       "         5.32145845e-04,   4.87122406e-07,   4.34869493e-14,\n",
       "         2.55329071e-20,   1.13147563e-17,   1.00000000e+00,\n",
       "         1.00000000e+00], dtype=float32)"
      ]
     },
     "execution_count": 92,
     "metadata": {},
     "output_type": "execute_result"
    }
   ],
   "source": [
    "preds[:,1]\n"
   ]
  },
  {
   "cell_type": "code",
   "execution_count": 91,
   "metadata": {},
   "outputs": [
    {
     "data": {
      "text/plain": [
       "['cats/cat.5086.jpg',\n",
       " 'cats/cat.11392.jpg',\n",
       " 'cats/cat.11290.jpg',\n",
       " 'cats/cat.9909.jpg',\n",
       " 'cats/cat.3374.jpg',\n",
       " 'cats/cat.7710.jpg',\n",
       " 'cats/cat.6261.jpg',\n",
       " 'cats/cat.486.jpg',\n",
       " 'cats/cat.10296.jpg',\n",
       " 'cats/cat.77.jpg',\n",
       " 'cats/cat.942.jpg',\n",
       " 'cats/cat.7929.jpg',\n",
       " 'cats/cat.8051.jpg',\n",
       " 'cats/cat.11420.jpg',\n",
       " 'cats/cat.11750.jpg',\n",
       " 'cats/cat.5540.jpg',\n",
       " 'cats/cat.6215.jpg',\n",
       " 'cats/cat.9543.jpg',\n",
       " 'cats/cat.2323.jpg',\n",
       " 'cats/cat.6015.jpg',\n",
       " 'dogs/dog.8511.jpg',\n",
       " 'dogs/dog.4087.jpg',\n",
       " 'dogs/dog.3719.jpg',\n",
       " 'dogs/dog.7368.jpg',\n",
       " 'dogs/dog.9847.jpg',\n",
       " 'dogs/dog.9144.jpg',\n",
       " 'dogs/dog.6253.jpg',\n",
       " 'dogs/dog.2056.jpg',\n",
       " 'dogs/dog.6822.jpg',\n",
       " 'dogs/dog.12139.jpg',\n",
       " 'dogs/dog.5338.jpg',\n",
       " 'dogs/dog.2702.jpg',\n",
       " 'dogs/dog.11153.jpg',\n",
       " 'dogs/dog.6186.jpg',\n",
       " 'dogs/dog.10097.jpg',\n",
       " 'dogs/dog.3056.jpg',\n",
       " 'dogs/dog.11179.jpg',\n",
       " 'dogs/dog.11518.jpg',\n",
       " 'dogs/dog.4873.jpg',\n",
       " 'dogs/dog.11359.jpg']"
      ]
     },
     "execution_count": 91,
     "metadata": {},
     "output_type": "execute_result"
    }
   ],
   "source": [
    "test_generator.filenames"
   ]
  },
  {
   "cell_type": "code",
   "execution_count": 7,
   "metadata": {},
   "outputs": [
    {
     "ename": "TypeError",
     "evalue": "'builtin_function_or_method' object has no attribute '__getitem__'",
     "output_type": "error",
     "traceback": [
      "\u001b[0;31m---------------------------------------------------------------------------\u001b[0m",
      "\u001b[0;31mTypeError\u001b[0m                                 Traceback (most recent call last)",
      "\u001b[0;32m<ipython-input-7-ccbdce64e282>\u001b[0m in \u001b[0;36m<module>\u001b[0;34m()\u001b[0m\n\u001b[1;32m      4\u001b[0m \u001b[0;32mfor\u001b[0m \u001b[0mfilename\u001b[0m \u001b[0;32min\u001b[0m \u001b[0mos\u001b[0m\u001b[0;34m.\u001b[0m\u001b[0mlistdir\u001b[0m\u001b[0;34m(\u001b[0m\u001b[0mpath\u001b[0m\u001b[0;34m)\u001b[0m\u001b[0;34m:\u001b[0m\u001b[0;34m\u001b[0m\u001b[0m\n\u001b[1;32m      5\u001b[0m     \u001b[0;32mif\u001b[0m \u001b[0mfilename\u001b[0m\u001b[0;34m.\u001b[0m\u001b[0mendswith\u001b[0m\u001b[0;34m(\u001b[0m\u001b[0;34m\".jpg\"\u001b[0m\u001b[0;34m)\u001b[0m\u001b[0;34m:\u001b[0m\u001b[0;34m\u001b[0m\u001b[0m\n\u001b[0;32m----> 6\u001b[0;31m         \u001b[0mid_file\u001b[0m \u001b[0;34m=\u001b[0m \u001b[0mfilename\u001b[0m\u001b[0;34m.\u001b[0m\u001b[0msplit\u001b[0m\u001b[0;34m[\u001b[0m\u001b[0;36m0\u001b[0m\u001b[0;34m]\u001b[0m\u001b[0;34m\u001b[0m\u001b[0m\n\u001b[0m\u001b[1;32m      7\u001b[0m         \u001b[0;32mprint\u001b[0m\u001b[0;34m(\u001b[0m\u001b[0mos\u001b[0m\u001b[0;34m.\u001b[0m\u001b[0mpath\u001b[0m\u001b[0;34m.\u001b[0m\u001b[0mjoin\u001b[0m\u001b[0;34m(\u001b[0m\u001b[0mpath\u001b[0m\u001b[0;34m,\u001b[0m \u001b[0mfilename\u001b[0m\u001b[0;34m)\u001b[0m\u001b[0;34m,\u001b[0m \u001b[0mid_file\u001b[0m\u001b[0;34m)\u001b[0m\u001b[0;34m\u001b[0m\u001b[0m\n\u001b[1;32m      8\u001b[0m         \u001b[0;32mcontinue\u001b[0m\u001b[0;34m\u001b[0m\u001b[0m\n",
      "\u001b[0;31mTypeError\u001b[0m: 'builtin_function_or_method' object has no attribute '__getitem__'"
     ]
    }
   ],
   "source": [
    "path = '/home/ubuntu/data/dogscats/test1'\n",
    "import os\n",
    "\n",
    "for filename in os.listdir(path):\n",
    "    if filename.endswith(\".jpg\"): \n",
    "        id_file = filename.split\n",
    "        print(os.path.join(path, filename), id_file)\n",
    "        continue\n",
    "    else:\n",
    "        continue"
   ]
  },
  {
   "cell_type": "code",
   "execution_count": null,
   "metadata": {
    "collapsed": true
   },
   "outputs": [],
   "source": []
  }
 ],
 "metadata": {
  "kernelspec": {
   "display_name": "Python 2",
   "language": "python",
   "name": "python2"
  },
  "language_info": {
   "codemirror_mode": {
    "name": "ipython",
    "version": 2
   },
   "file_extension": ".py",
   "mimetype": "text/x-python",
   "name": "python",
   "nbconvert_exporter": "python",
   "pygments_lexer": "ipython2",
   "version": "2.7.6"
  }
 },
 "nbformat": 4,
 "nbformat_minor": 2
}
